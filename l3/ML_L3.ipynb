{
  "nbformat": 4,
  "nbformat_minor": 0,
  "metadata": {
    "colab": {
      "provenance": []
    },
    "kernelspec": {
      "name": "python3",
      "display_name": "Python 3"
    },
    "language_info": {
      "name": "python"
    }
  },
  "cells": [
    {
      "cell_type": "code",
      "execution_count": 23,
      "metadata": {
        "id": "qycV87o1YsOE"
      },
      "outputs": [],
      "source": [
        "import numpy as np\n",
        "import numba as nb\n",
        "from numba import jit\n",
        "from datetime import datetime\n",
        "from typing import Tuple, Mapping"
      ]
    },
    {
      "cell_type": "markdown",
      "source": [
        "Записываем функцию Матьяса и ее частные производные"
      ],
      "metadata": {
        "id": "VMADqOgcPs2y"
      }
    },
    {
      "cell_type": "code",
      "source": [
        "#Функция Матьяса\n",
        "def Matias_E(x,y):\n",
        "  return 0.26*(x*x + y*y) - 0.48*x*y\n",
        "#Производная по x\n",
        "def Matias_dEdx(x,y):\n",
        "  return 0.52 * x - 0.48 * y\n",
        "#Производная по y\n",
        "def Matias_dEdy(x,y):\n",
        "  return 0.52 * y - 0.48 * x"
      ],
      "metadata": {
        "id": "QHbPhbPMPtA1"
      },
      "execution_count": 24,
      "outputs": []
    },
    {
      "cell_type": "markdown",
      "source": [
        "Записываем функцию Химмельблау и ее частные производные"
      ],
      "metadata": {
        "id": "c6bN4X6-PtTN"
      }
    },
    {
      "cell_type": "code",
      "source": [
        "#Функция Химмельблау\n",
        "def H_E(x,y):\n",
        "  return (x**2+y-11)**2+(x+y**2-7)**2\n",
        "#Производная по x\n",
        "def H_dEdx(x,y):\n",
        "  return 2*(2*x*(x**2+y-11)+x+y**2-7)\n",
        "#Производная по y\n",
        "def H_dEdy(x,y):\n",
        "  return 2*(x**2+2*y*(x+y**2-7)+y-11)"
      ],
      "metadata": {
        "id": "-I-YIfmSPwce"
      },
      "execution_count": 25,
      "outputs": []
    },
    {
      "cell_type": "markdown",
      "source": [
        "Метод градиентного спуска из ЛР №1"
      ],
      "metadata": {
        "id": "7JC7MSifP1t9"
      }
    },
    {
      "cell_type": "code",
      "source": [
        "def GradientDescent(E, dEdx, dEdy, x0, y0, LearningRate, Iterations):\n",
        "  '''\n",
        "  E - функция\n",
        "  dEdx, dEdy - частные производные функции\n",
        "  x0, y0 - начальные приближения точки\n",
        "  LearningRate - скорость обучения\n",
        "  Iterations - количество итераций\n",
        "  '''\n",
        "  #Алгоритм градиентного спуска\n",
        "  x1=x0-LearningRate * dEdx(x0,y0)\n",
        "  y1=y0-LearningRate * dEdy(x0,y0)\n",
        "  for _ in range(Iterations):\n",
        "    x0=x1\n",
        "    y0=y1\n",
        "    x1=x0-LearningRate * dEdx(x0,y0)\n",
        "    y1=y0-LearningRate * dEdy(x0,y0)\n",
        "  return x1,y1, E(x1,y1)"
      ],
      "metadata": {
        "id": "oTOZ35fJP2HZ"
      },
      "execution_count": 26,
      "outputs": []
    },
    {
      "cell_type": "markdown",
      "source": [
        "Тест для функции Матьяса"
      ],
      "metadata": {
        "id": "F_HWKxxPP4KI"
      }
    },
    {
      "cell_type": "code",
      "source": [
        "start_time_without_NUMBA_GP = datetime.now()\n",
        "x, y, GPStopPoint = GradientDescent(Matias_E, Matias_dEdx, Matias_dEdy, -10, 10, 0.0001, 500000)\n",
        "time_without_NUMBA_GP = datetime.now() - start_time_without_NUMBA_GP\n",
        "print(\"Время работы без NUMBA\\n\", time_without_NUMBA_GP)\n",
        "print('x={0}, y={1}, E={2}'.format(x,y,GPStopPoint))"
      ],
      "metadata": {
        "colab": {
          "base_uri": "https://localhost:8080/"
        },
        "id": "ImjOAGppP4XB",
        "outputId": "b9d185e0-ca63-4e4f-8bbc-13298054ac94"
      },
      "execution_count": 27,
      "outputs": [
        {
          "output_type": "stream",
          "name": "stdout",
          "text": [
            "Время работы без NUMBA\n",
            " 0:00:00.227617\n",
            "x=-1.9237412816204235e-21, y=1.9237412816204235e-21, E=3.7007805186105895e-42\n"
          ]
        }
      ]
    },
    {
      "cell_type": "markdown",
      "source": [
        "Тест для функции Химмельблау"
      ],
      "metadata": {
        "id": "x4ryPgfUP4eR"
      }
    },
    {
      "cell_type": "code",
      "source": [
        "start_time_without_NUMBA_H = datetime.now()\n",
        "x,y,HStopPoint = GradientDescent(H_E, H_dEdx, H_dEdy, -5, 5, 0.001, 500000)\n",
        "time_without_NUMBA_H = datetime.now() - start_time_without_NUMBA_H\n",
        "print(\"Время работы без NUMBA\\n\", time_without_NUMBA_H)\n",
        "print('x={0}, y={1}, E={2}'.format(x,y,HStopPoint))"
      ],
      "metadata": {
        "colab": {
          "base_uri": "https://localhost:8080/"
        },
        "id": "IePd1jxIP4on",
        "outputId": "d3685e57-4a64-4237-ebd6-06aedf48ea96"
      },
      "execution_count": 28,
      "outputs": [
        {
          "output_type": "stream",
          "name": "stdout",
          "text": [
            "Время работы без NUMBA\n",
            " 0:00:00.562816\n",
            "x=-2.805118086952748, y=3.1313125182505757, E=5.837570698635487e-28\n"
          ]
        }
      ]
    },
    {
      "cell_type": "markdown",
      "source": [
        "##Часть 2\n",
        "Реализация градиентного спуска через NUMBA"
      ],
      "metadata": {
        "id": "vhkSM3luTqzJ"
      }
    },
    {
      "cell_type": "markdown",
      "source": [
        "Записываем функцию Матьяса и ее частные производные"
      ],
      "metadata": {
        "id": "WiNmSTnWUo3C"
      }
    },
    {
      "cell_type": "code",
      "source": [
        "#Функция Матьяса\n",
        "@nb.njit(fastmath=True)\n",
        "def NB_Matias_E(x: np.ndarray) -> np.float64:\n",
        "  return [0.26*(x[0]*x[0] + x[1]*x[1]) - 0.48*x[0]*x[1]]\n",
        "#Производная по x\n",
        "@nb.njit(fastmath=True)\n",
        "def NB_Matias_dEdx(x: np.ndarray) -> np.float64:\n",
        "  return 0.52 * x[0] - 0.48 * x[1]\n",
        "  #Производная по y\n",
        "@nb.njit(fastmath=True)\n",
        "def NB_Matias_dEdy(x: np.ndarray) -> np.float64:\n",
        "   return 0.52 * x[1] - 0.48 * x[0]"
      ],
      "metadata": {
        "id": "TivLctvMTuWz"
      },
      "execution_count": 29,
      "outputs": []
    },
    {
      "cell_type": "markdown",
      "source": [
        "Записываем функцию Химмельблау и ее частные производные"
      ],
      "metadata": {
        "id": "5NM-I_mEUsHZ"
      }
    },
    {
      "cell_type": "code",
      "source": [
        "#Функция Химмельблау\n",
        "@nb.njit(fastmath=True)\n",
        "def NB_H_E(x: np.ndarray):\n",
        "  return (x[0]**2+x[1]-11)**2+(x[0]+x[1]**2-7)**2\n",
        "#Производная по x\n",
        "@nb.njit(fastmath=True)\n",
        "def NB_H_dEdx(x: np.ndarray):\n",
        "  return 2*(2*x[0]*(x[0]**2+x[1]-11)+x[0]+x[1]**2-7)\n",
        "#Производная по y\n",
        "@nb.njit(fastmath=True)\n",
        "def NB_H_dEdy(x: np.ndarray):\n",
        "  return 2*(x[0]**2+2*x[1]*(x[0]+x[1]**2-7)+x[1]-11)"
      ],
      "metadata": {
        "id": "rDOaOX6XUuAc"
      },
      "execution_count": 30,
      "outputs": []
    },
    {
      "cell_type": "markdown",
      "source": [
        "Метод градиентного спуска c NUMBA"
      ],
      "metadata": {
        "id": "EhWkTDZaXCTn"
      }
    },
    {
      "cell_type": "code",
      "source": [
        "@nb.njit(fastmath=True)\n",
        "def NB_GradientDescent(E: Mapping, dEdx: Mapping, dEdy: Mapping, x:np.ndarray,LearningRate, Iterations):\n",
        "  '''\n",
        "  E - функция\n",
        "  dEdx, dEdy - частные производные функции\n",
        "  x - начальные приближения точки\n",
        "  LearningRate - скорость обучения\n",
        "  Iterations - количество итераций\n",
        "  '''\n",
        "  #Алгоритм градиентного спуска\n",
        "  x0 = x[0];\n",
        "  y0 = x[1];\n",
        "  x1=x0-LearningRate * dEdx(np.array([x0, y0]))\n",
        "  y1=y0-LearningRate * dEdy(np.array([x0, y0]))\n",
        "  for _ in range(Iterations):\n",
        "    x0=x1\n",
        "    y0=y1\n",
        "    x1=x0-LearningRate * dEdx(np.array([x0, y0]))\n",
        "    y1=y0-LearningRate * dEdy(np.array([x0, y0]))\n",
        "  return x1,y1, E(np.array([x1,y1]))"
      ],
      "metadata": {
        "id": "9hIOMPYlXEgI"
      },
      "execution_count": 31,
      "outputs": []
    },
    {
      "cell_type": "markdown",
      "source": [
        "Тест для функции Матьяса"
      ],
      "metadata": {
        "id": "rB1CuLcmY_je"
      }
    },
    {
      "cell_type": "code",
      "source": [
        "start_time_with_NUMBA_GP = datetime.now()\n",
        "x,y,NB_GPStopPoint = NB_GradientDescent(NB_Matias_E, NB_Matias_dEdx, NB_Matias_dEdy, np.array([-10, 10]), 0.01, 50000)\n",
        "time_with_NUMBA_GP = datetime.now() - start_time_with_NUMBA_GP\n",
        "print(\"Время работы с NUMBA:\\n\", time_with_NUMBA_GP)\n",
        "print('x={0}, y={1}, E={2}'.format(x,y,NB_GPStopPoint))"
      ],
      "metadata": {
        "colab": {
          "base_uri": "https://localhost:8080/"
        },
        "outputId": "445f5ba9-fbfe-4a40-bcbb-81df177ddfdf",
        "id": "xgHPc1DlY_je"
      },
      "execution_count": 35,
      "outputs": [
        {
          "output_type": "stream",
          "name": "stdout",
          "text": [
            "Время работы с NUMBA:\n",
            " 0:00:00.010708\n",
            "x=-5.693313150947087e-218, y=5.693313150947087e-218, E=[0.0]\n"
          ]
        }
      ]
    },
    {
      "cell_type": "markdown",
      "source": [
        "Тест для функции Химмельблау"
      ],
      "metadata": {
        "id": "KoaneCguY_jf"
      }
    },
    {
      "cell_type": "code",
      "source": [
        "start_time_with_NUMBA_H = datetime.now()\n",
        "x,y,NB_HStopPoint = NB_GradientDescent(NB_H_E, NB_H_dEdx, NB_H_dEdy, np.array([-5,5]), 0.01, 500000)\n",
        "time_with_NUMBA_H = datetime.now() - start_time_with_NUMBA_H\n",
        "print(\"Время работы с NUMBA:\\n\", time_with_NUMBA_H)\n",
        "print('x={0}, y={1}, E={2}'.format(x,y,NB_HStopPoint))"
      ],
      "metadata": {
        "colab": {
          "base_uri": "https://localhost:8080/"
        },
        "outputId": "84ed4f61-a0bc-49ea-9c3c-e48400075432",
        "id": "tFkXSgkAY_jf"
      },
      "execution_count": 37,
      "outputs": [
        {
          "output_type": "stream",
          "name": "stdout",
          "text": [
            "Время работы с NUMBA:\n",
            " 0:00:00.091897\n",
            "x=-2.805118086952745, y=3.131312518250573, E=1.0505702830953014e-30\n"
          ]
        }
      ]
    },
    {
      "cell_type": "markdown",
      "source": [
        "Сравнение времени работы программы без NUMBA и с NUMBA"
      ],
      "metadata": {
        "id": "aLHgVA70D9zy"
      }
    },
    {
      "cell_type": "code",
      "source": [
        "print(\"Время работы программы для функции Гольдшейна-Прайса без NUMBA больше в {0} раз, по сравнению со временем работы с NUMBA.\".format(round(time_without_NUMBA_GP/time_with_NUMBA_GP)))\n",
        "print(\"Время работы программы для функции Химмельблау без NUMBA больше в {0} раз, по сравнению со временем работы с NUMBA.\".format(round(time_without_NUMBA_H/time_with_NUMBA_H)))"
      ],
      "metadata": {
        "colab": {
          "base_uri": "https://localhost:8080/"
        },
        "id": "Ovm0N09qEEcD",
        "outputId": "bd40d0e3-dd41-4b20-eac1-98ffe8fbf443"
      },
      "execution_count": 38,
      "outputs": [
        {
          "output_type": "stream",
          "name": "stdout",
          "text": [
            "Время работы программы для функции Гольдшейна-Прайса без NUMBA больше в 21 раз, по сравнению со временем работы с NUMBA.\n",
            "Время работы программы для функции Химмельблау без NUMBA больше в 6 раз, по сравнению со временем работы с NUMBA.\n"
          ]
        }
      ]
    }
  ]
}