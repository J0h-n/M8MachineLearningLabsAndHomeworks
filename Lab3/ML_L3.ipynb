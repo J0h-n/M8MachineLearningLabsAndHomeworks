{
  "cells": [
    {
      "cell_type": "code",
      "source": [
        "import numpy as np\n",
        "from typing import Tuple, Mapping\n",
        "import random\n",
        "from numba import njit\n",
        "import timeit"
      ],
      "metadata": {
        "id": "Q0y3p0SYdwL_"
      },
      "execution_count": 5,
      "outputs": []
    },
    {
      "cell_type": "code",
      "source": [
        "@njit\n",
        "def Booth(x: np.array, y:np.array) -> np.float128:\n",
        "  return (x + 2 * y - 7) * (x + 2 * y - 7) + (2 * x + y - 5) * (2 * x + y - 5)\n",
        "@njit\n",
        "def Booth_dfdx(x: np.array, y:np.array) -> np.float128:\n",
        "  return 10 * x + 8 * y - 34\n",
        "@njit\n",
        "def Booth_dfdy(x: np.array, y:np.array) -> np.float128:\n",
        "  return 10 * y + 8 * x - 38"
      ],
      "metadata": {
        "id": "4juWVhTudwOO"
      },
      "execution_count": 6,
      "outputs": []
    },
    {
      "cell_type": "code",
      "source": [
        "@njit\n",
        "def my_GD(f: Mapping, dx:Mapping, dy:Mapping, x0: float, y0: float, lr: float = 0.01,\n",
        "          T:int = 1000) -> Tuple [np.ndarray, np.float32]:\n",
        "  \"\"\"\n",
        "  Функция принимает:\n",
        "  f - функционал для оптимизации\n",
        "  dx, dy - градиент оптимизируемого функционала\n",
        "  x0, y0 - стартовая точка алгоритма\n",
        "  lr - скорость обучения (default: 0.01)\n",
        "  T - количество итераций (default: 1000)\n",
        "\n",
        "  Функция возвращает:\n",
        "  Кортеж, включающий в себя: координаты сгенерированной случайно начальной точки,\n",
        "  координаты полученной точки глобального минимума, значение функции в найденной\n",
        "  точке глобального минимума\n",
        "  \"\"\"\n",
        "  xt = x0\n",
        "  yt = y0\n",
        "\n",
        "  for i in range(T):\n",
        "    xt = xt - lr * dx(xt, yt)\n",
        "    yt = yt - lr * dy(xt, yt)\n",
        "  return x0, y0, xt, yt, f(xt, yt)"
      ],
      "metadata": {
        "id": "TcSDIBWJdwQz"
      },
      "execution_count": 7,
      "outputs": []
    },
    {
      "cell_type": "code",
      "source": [
        "x0, y0, x, y, z = my_GD(Booth, Booth_dfdx, Booth_dfdy, 10, -10, lr = 0.1)\n",
        "print(\"Градиентный спуск\\nНачальная точка: x0 =\", x0, \", y0 =\", y0,\n",
        "      \"\\nТочка глобального минимума: xt =\", x, \", yt =\", y,\n",
        "      \"\\nЗначение функции в точке глобального минимума: f(xt, yt) =\", z)\n",
        "\n",
        "print(timeit.timeit(\"my_GD(Booth, Booth_dfdx, Booth_dfdy, 10, -10, lr = 0.1)\", globals=globals())) #with njit"
      ],
      "metadata": {
        "colab": {
          "base_uri": "https://localhost:8080/"
        },
        "id": "WPUbnMy5dwTE",
        "outputId": "abace1c9-0868-4fdf-ad99-bf3359e7d8fe"
      },
      "execution_count": 8,
      "outputs": [
        {
          "output_type": "stream",
          "name": "stdout",
          "text": [
            "Градиентный спуск\n",
            "Начальная точка: x0 = 10 , y0 = -10 \n",
            "Точка глобального минимума: xt = 1.0000000000000002 , yt = 2.9999999999999996 \n",
            "Значение функции в точке глобального минимума: f(xt, yt) = 7.888609052210118e-31\n",
            "51.351510649000005\n"
          ]
        }
      ]
    },
    {
      "cell_type": "code",
      "source": [
        "print(timeit.timeit(\"my_GD(Booth, Booth_dfdx, Booth_dfdy, 10, -10, lr = 0.1)\", globals=globals())) #without njit"
      ],
      "metadata": {
        "colab": {
          "base_uri": "https://localhost:8080/"
        },
        "id": "w4IIpRBFfH1B",
        "outputId": "0a3ec859-1fe3-4755-f70d-a09f54beb940"
      },
      "execution_count": 9,
      "outputs": [
        {
          "output_type": "stream",
          "name": "stdout",
          "text": [
            "50.68821549299999\n"
          ]
        }
      ]
    },
    {
      "cell_type": "code",
      "source": [
        "@njit\n",
        "def my_GD_Momentum(f: Mapping, dx:Mapping, dy:Mapping, x0: float, y0: float, \n",
        "        beta: float = 0.9, T:int = 1000) -> Tuple [int, int, float, float, float]:\n",
        "  \"\"\"\n",
        "  Функция принимает:\n",
        "  f - функционал для оптимизации\n",
        "  dx, dy - градиент оптимизируемого функционала\n",
        "  x0, y0 - стартовая точка алгоритма\n",
        "  beta - коэффициент обучения (default: 0.9)\n",
        "  T - количество итераций (default: 1000)\n",
        "\n",
        "  Функция возвращает:\n",
        "  Кортеж, включающий в себя: координаты сгенерированной случайно начальной точки,\n",
        "  координаты полученной точки глобального минимума, значение функции в найденной\n",
        "  точке глобального минимума\n",
        "  \"\"\"\n",
        "  xt = x0\n",
        "  yt = y0\n",
        "\n",
        "  for i in range(T):\n",
        "    xt = xt * beta - (1 - beta) * dx(xt, yt)\n",
        "    yt = yt * beta - (1 - beta) * dy(xt, yt)\n",
        "  return x0, y0, xt, yt, f(xt, yt)"
      ],
      "metadata": {
        "id": "giFH99LrfI_u"
      },
      "execution_count": 10,
      "outputs": []
    },
    {
      "cell_type": "code",
      "source": [
        "x0, y0, p_x, p_y, p_z = my_GD_Momentum(Booth, Booth_dfdx, Booth_dfdy, x0=10, y0=-10)\n",
        "print(\"Алгоритм GD Momentum\\nНачальная точка: x0 =\", x0, \", y0 =\", y0,\n",
        "      \"\\nТочка глобального минимума: xt =\", p_x, \", yt =\", p_y,\n",
        "      \"\\nГлобальный минимум: f(xt, yt) =\", p_z)"
      ],
      "metadata": {
        "colab": {
          "base_uri": "https://localhost:8080/"
        },
        "id": "VUs6tQtMfJeV",
        "outputId": "6ac5b847-162b-4bf8-b713-c09c74bda0de"
      },
      "execution_count": 11,
      "outputs": [
        {
          "output_type": "stream",
          "name": "stdout",
          "text": [
            "Алгоритм GD Momentum\n",
            "Начальная точка: x0 = 10 , y0 = -10 \n",
            "Точка глобального минимума: xt = 1.2280701754385972 , yt = 2.561403508771929 \n",
            "Глобальный минимум: f(xt, yt) = 0.4216682056017245\n"
          ]
        }
      ]
    },
    {
      "cell_type": "code",
      "source": [
        "@njit\n",
        "def my_GD_ADAM(f: Mapping, dx:Mapping, dy:Mapping, x0: float, y0: float,\n",
        "        lr: float = 0.1, beta1: float = 0.9, beta2: float = 0.99,\n",
        "        eps: float = 1e-8, T:int = 1000) -> Tuple [int, int, float, float, float]:\n",
        "  \"\"\"\n",
        "  Функция принимает:\n",
        "  f - функционал для оптимизации\n",
        "  dx, dy - градиент оптимизируемого функционала\n",
        "  x0, y0 - стартовая точка алгоритма\n",
        "  lr - коэффициент скорости обучения (default: 0.1)\n",
        "  beta1 - параметр (default: 0.9)\n",
        "  beta2 - параметр (default: 0.99)\n",
        "  eps - параметр (default: 1e-8)\n",
        "  T - количество итераций (default: 1000)\n",
        "\n",
        "  Функция возвращает:\n",
        "  Кортеж, включающий в себя: координаты сгенерированной случайно начальной точки,\n",
        "  координаты полученной точки глобального минимума, значение функции в найденной\n",
        "  точке глобального минимума\n",
        "  \"\"\"\n",
        "  xt = x0\n",
        "  yt = y0\n",
        "  vtx = 0\n",
        "  vty = 0\n",
        "  Gtx = 0\n",
        "  Gty = 0\n",
        "\n",
        "  for i in range (T):\n",
        "    grad_x = dx(xt, yt)\n",
        "    grad_y = dy(xt, yt)\n",
        "    vtx = beta1 * vtx + (1 - beta1) * grad_x\n",
        "    vty = beta1 * vty + (1 - beta1) * grad_y\n",
        "    Gtx = beta2 * Gtx + (1 - beta2) * (grad_x) ** 2\n",
        "    Gty = beta2 * Gty + (1 - beta2) * (grad_y) ** 2\n",
        "    xt = xt - lr * vtx / (Gtx + eps) ** (1 / 2)\n",
        "    yt = yt - lr * vty / (Gty + eps) ** (1 / 2)\n",
        "  return x0, y0, xt, yt, f(xt, yt)"
      ],
      "metadata": {
        "id": "zqLA0UfHfKl-"
      },
      "execution_count": 12,
      "outputs": []
    },
    {
      "cell_type": "code",
      "source": [
        "x0, y0, p_x, p_y, p_z = my_GD_ADAM(Booth, Booth_dfdx,Booth_dfdy, x0=10, y0=-10)\n",
        "print(\"Алгоритм GD ADAM\\nНачальная точка: x0 =\", x0, \", y0 =\", y0,\n",
        "      \"\\nТочка глобального минимума: xt =\", p_x, \", yt =\", p_y,\n",
        "      \"\\nГлобальный минимум: f(xt, yt) =\", p_z)"
      ],
      "metadata": {
        "colab": {
          "base_uri": "https://localhost:8080/"
        },
        "id": "1KD8ZJ9-fK2E",
        "outputId": "878dc164-1f31-480e-c182-a6763f6304c7"
      },
      "execution_count": 13,
      "outputs": [
        {
          "output_type": "stream",
          "name": "stdout",
          "text": [
            "Алгоритм GD ADAM\n",
            "Начальная точка: x0 = 10 , y0 = -10 \n",
            "Точка глобального минимума: xt = 1.0 , yt = 3.0000000000000018 \n",
            "Глобальный минимум: f(xt, yt) = 1.5777218104420236e-29\n"
          ]
        }
      ]
    }
  ],
  "metadata": {
    "colab": {
      "toc_visible": true,
      "provenance": []
    },
    "kernelspec": {
      "display_name": "Python 3",
      "name": "python3"
    }
  },
  "nbformat": 4,
  "nbformat_minor": 0
}