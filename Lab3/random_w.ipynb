{
 "cells": [
  {
   "cell_type": "code",
   "execution_count": 115,
   "id": "e0cd4977",
   "metadata": {},
   "outputs": [],
   "source": [
    "import numpy as np\n",
    "from matplotlib import pyplot as plt"
   ]
  },
  {
   "cell_type": "code",
   "execution_count": 116,
   "id": "f874e44b",
   "metadata": {},
   "outputs": [],
   "source": [
    "n_stores = 1000\n",
    "t_max = 200"
   ]
  },
  {
   "cell_type": "code",
   "execution_count": 117,
   "id": "b23eaec0",
   "metadata": {},
   "outputs": [
    {
     "data": {
      "text/plain": [
       "array([-1,  1])"
      ]
     },
     "execution_count": 117,
     "metadata": {},
     "output_type": "execute_result"
    }
   ],
   "source": [
    "t = np.arange(t_max)\n",
    "steps = 2 * np.random.randint(0, 2, (n_stores, t_max)) - 1\n",
    "np.unique(steps)"
   ]
  },
  {
   "cell_type": "code",
   "execution_count": 118,
   "id": "d433ddb0",
   "metadata": {},
   "outputs": [],
   "source": [
    "positions = np.cumsum(steps, axis = 1) #сумма предыдущих ячеек по оси\n",
    "#axis 1 - столбцы (столбец - время), 0 - строки (строка - частица)"
   ]
  },
  {
   "cell_type": "code",
   "execution_count": 119,
   "id": "bd18f5c6",
   "metadata": {},
   "outputs": [
    {
     "data": {
      "text/plain": [
       "array([[  1,   0,  -1, ...,  -8,  -7,  -8],\n",
       "       [ -1,   0,   1, ..., -10,  -9, -10],\n",
       "       [  1,   2,   3, ...,   8,   7,   6],\n",
       "       ...,\n",
       "       [  1,   0,   1, ...,  20,  19,  18],\n",
       "       [ -1,   0,   1, ...,   0,   1,   0],\n",
       "       [  1,   0,   1, ...,  -2,  -1,  -2]], dtype=int32)"
      ]
     },
     "execution_count": 119,
     "metadata": {},
     "output_type": "execute_result"
    }
   ],
   "source": [
    "positions"
   ]
  },
  {
   "cell_type": "code",
   "execution_count": 120,
   "id": "d8da6835",
   "metadata": {},
   "outputs": [
    {
     "data": {
      "text/plain": [
       "array([[  1,   0,   1, ...,  64,  49,  64],\n",
       "       [  1,   0,   1, ..., 100,  81, 100],\n",
       "       [  1,   4,   9, ...,  64,  49,  36],\n",
       "       ...,\n",
       "       [  1,   0,   1, ..., 400, 361, 324],\n",
       "       [  1,   0,   1, ...,   0,   1,   0],\n",
       "       [  1,   0,   1, ...,   4,   1,   4]], dtype=int32)"
      ]
     },
     "execution_count": 120,
     "metadata": {},
     "output_type": "execute_result"
    }
   ],
   "source": [
    "sq_distance = positions ** 2\n",
    "sq_distance"
   ]
  },
  {
   "cell_type": "code",
   "execution_count": 121,
   "id": "ca5399ea",
   "metadata": {},
   "outputs": [
    {
     "data": {
      "text/plain": [
       "array([  1.   ,   1.908,   3.016,   3.96 ,   5.008,   6.016,   6.672,\n",
       "         7.716,   8.904,   9.88 ,  11.072,  12.028,  12.744,  14.004,\n",
       "        14.808,  15.54 ,  16.32 ,  17.584,  18.584,  19.936,  21.312,\n",
       "        22.276,  23.   ,  23.744,  25.008,  25.56 ,  26.504,  27.516,\n",
       "        28.544,  29.304,  30.48 ,  31.588,  32.576,  33.956,  34.52 ,\n",
       "        34.884,  35.664,  36.592,  37.328,  39.184,  40.416,  41.028,\n",
       "        42.12 ,  43.76 ,  45.24 ,  46.596,  47.248,  48.188,  49.208,\n",
       "        49.312,  50.584,  52.264,  53.184,  53.556,  55.064,  56.94 ,\n",
       "        58.608,  59.38 ,  60.704,  61.188,  62.104,  62.968,  63.816,\n",
       "        64.6  ,  65.936,  66.236,  67.4  ,  68.524,  69.352,  70.224,\n",
       "        70.912,  71.532,  71.536,  71.6  ,  72.6  ,  74.016,  74.52 ,\n",
       "        75.096,  76.248,  77.784,  79.464,  81.368,  82.144,  84.052,\n",
       "        85.928,  86.596,  88.632,  89.396,  90.888,  92.232,  93.376,\n",
       "        92.8  ,  94.216,  95.352,  95.248,  95.068,  95.704,  94.728,\n",
       "        94.696,  96.064,  97.76 ,  97.964, 100.056, 101.72 , 102.312,\n",
       "       104.24 , 105.064, 104.688, 105.704, 106.216, 108.144, 109.132,\n",
       "       110.368, 112.216, 113.   , 113.804, 114.208, 115.432, 115.704,\n",
       "       117.676, 117.44 , 118.984, 119.4  , 120.52 , 122.84 , 124.848,\n",
       "       125.104, 126.624, 128.048, 128.784, 130.056, 131.176, 132.456,\n",
       "       134.452, 135.472, 135.552, 136.568, 138.444, 139.544, 140.676,\n",
       "       141.616, 141.828, 143.952, 145.004, 146.752, 147.412, 146.488,\n",
       "       148.432, 148.84 , 149.04 , 149.28 , 148.604, 148.696, 150.256,\n",
       "       150.112, 151.92 , 153.784, 153.864, 155.616, 156.148, 158.424,\n",
       "       159.384, 159.536, 160.096, 161.896, 162.736, 162.736, 162.9  ,\n",
       "       162.72 , 164.344, 164.88 , 166.132, 168.352, 169.668, 170.848,\n",
       "       172.28 , 174.08 , 174.928, 175.944, 176.344, 176.376, 178.232,\n",
       "       179.096, 179.692, 179.816, 181.18 , 182.472, 184.18 , 183.952,\n",
       "       185.608, 186.512, 186.136, 186.536, 188.548, 189.656, 191.792,\n",
       "       193.256, 194.568, 195.984, 197.908])"
      ]
     },
     "execution_count": 121,
     "metadata": {},
     "output_type": "execute_result"
    }
   ],
   "source": [
    "#для каждого столбца кввадрата расстояний подсчет среднего арифметического\n",
    "#то есть усреднение по частицам\n",
    "mean_sq_distance = np.mean(sq_distance, axis = 0)\n",
    "mean_sq_distance"
   ]
  },
  {
   "cell_type": "code",
   "execution_count": 122,
   "id": "53938563",
   "metadata": {},
   "outputs": [
    {
     "data": {
      "text/plain": [
       "array([ 1.        ,  1.38130373,  1.73666347,  1.98997487,  2.23785612,\n",
       "        2.45275355,  2.58302149,  2.77776889,  2.9839571 ,  3.14324673,\n",
       "        3.32746149,  3.46814071,  3.56987395,  3.74219187,  3.84811642,\n",
       "        3.94208067,  4.03980198,  4.19332803,  4.31091638,  4.4649748 ,\n",
       "        4.61649217,  4.71974576,  4.79583152,  4.87278155,  5.00079994,\n",
       "        5.05568986,  5.14820357,  5.24556956,  5.34265851,  5.41331691,\n",
       "        5.5208695 ,  5.62032028,  5.70753887,  5.8271777 ,  5.87537233,\n",
       "        5.90626786,  5.97193436,  6.04913217,  6.10966448,  6.25971245,\n",
       "        6.35735794,  6.4053103 ,  6.4899923 ,  6.61513416,  6.72606869,\n",
       "        6.82612628,  6.87371806,  6.9417577 ,  7.01484141,  7.02225035,\n",
       "        7.11224297,  7.22938448,  7.29273611,  7.3181965 ,  7.42051211,\n",
       "        7.54585979,  7.6555862 ,  7.70584194,  7.79127717,  7.82227588,\n",
       "        7.88060911,  7.93523787,  7.98849172,  8.03741252,  8.12009852,\n",
       "        8.13855024,  8.2097503 ,  8.27792244,  8.32778482,  8.37997613,\n",
       "        8.42092631,  8.45765925,  8.45789572,  8.46167832,  8.52056336,\n",
       "        8.6032552 ,  8.63249674,  8.66579483,  8.73201008,  8.8195238 ,\n",
       "        8.91425824,  9.02042128,  9.06333272,  9.16798778,  9.2697357 ,\n",
       "        9.30569718,  9.41445697,  9.4549458 ,  9.53351981,  9.60374927,\n",
       "        9.66312579,  9.63327566,  9.70649267,  9.76483487,  9.75950818,\n",
       "        9.75028205,  9.78284212,  9.73283104,  9.73118698,  9.80122441,\n",
       "        9.88736568,  9.8976765 , 10.00279961, 10.08563335, 10.11493945,\n",
       "       10.20979921, 10.25007317, 10.2317154 , 10.28124506, 10.30611469,\n",
       "       10.39923074, 10.44662625, 10.50561754, 10.59320537, 10.63014581,\n",
       "       10.66789576, 10.68681431, 10.74392852, 10.75657938, 10.84785693,\n",
       "       10.83697375, 10.90797873, 10.9270307 , 10.97816014, 11.0833208 ,\n",
       "       11.17354017, 11.18498994, 11.252733  , 11.31582962, 11.34830384,\n",
       "       11.40420975, 11.45320916, 11.50895304, 11.59534389, 11.63924396,\n",
       "       11.6426801 , 11.68623121, 11.76622284, 11.81287433, 11.86069138,\n",
       "       11.9002521 , 11.90915614, 11.99799983, 12.04176067, 12.11412399,\n",
       "       12.14133436, 12.10322271, 12.18326721, 12.2       , 12.20819397,\n",
       "       12.21801948, 12.19032403, 12.19409693, 12.25789541, 12.25202024,\n",
       "       12.32558315, 12.4009677 , 12.40419284, 12.47461422, 12.49591933,\n",
       "       12.5866596 , 12.62473762, 12.63075611, 12.6529048 , 12.7238359 ,\n",
       "       12.75680211, 12.75680211, 12.76322843, 12.75617498, 12.81967238,\n",
       "       12.84056074, 12.8892203 , 12.97505299, 13.02566697, 13.07088367,\n",
       "       13.12554761, 13.193938  , 13.22603493, 13.26438841, 13.27945782,\n",
       "       13.28066263, 13.3503558 , 13.38267537, 13.40492447, 13.40954884,\n",
       "       13.46031203, 13.50821972, 13.57129323, 13.56289055, 13.6238027 ,\n",
       "       13.65693963, 13.64316679, 13.65781827, 13.73127816, 13.77156491,\n",
       "       13.84889887, 13.90165458, 13.94876339, 13.99942856, 14.06797782])"
      ]
     },
     "execution_count": 122,
     "metadata": {},
     "output_type": "execute_result"
    }
   ],
   "source": [
    "sqrt_mean = np.sqrt(mean_sq_distance)\n",
    "sqrt_mean"
   ]
  },
  {
   "cell_type": "code",
   "execution_count": 123,
   "id": "fdcf7d04",
   "metadata": {},
   "outputs": [
    {
     "data": {
      "text/plain": [
       "[<matplotlib.lines.Line2D at 0x2596af98970>]"
      ]
     },
     "execution_count": 123,
     "metadata": {},
     "output_type": "execute_result"
    },
    {
     "data": {
      "image/png": "[encoded data removed]",
      "text/plain": [
       "<Figure size 432x288 with 1 Axes>"
      ]
     },
     "metadata": {
      "needs_background": "light"
     },
     "output_type": "display_data"
    }
   ],
   "source": [
    "plt.plot(t, sqrt_mean)"
   ]
  },
  {
   "cell_type": "code",
   "execution_count": null,
   "id": "253c1fb0",
   "metadata": {},
   "outputs": [],
   "source": []
  }
 ],
 "metadata": {
  "kernelspec": {
   "display_name": "Python 3 (ipykernel)",
   "language": "python",
   "name": "python3"
  },
  "language_info": {
   "codemirror_mode": {
    "name": "ipython",
    "version": 3
   },
   "file_extension": ".py",
   "mimetype": "text/x-python",
   "name": "python",
   "nbconvert_exporter": "python",
   "pygments_lexer": "ipython3",
   "version": "3.9.12"
  }
 },
 "nbformat": 4,
 "nbformat_minor": 5
}
