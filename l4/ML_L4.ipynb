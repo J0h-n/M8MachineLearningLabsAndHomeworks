{
  "nbformat": 4,
  "nbformat_minor": 0,
  "metadata": {
    "colab": {
      "provenance": []
    },
    "kernelspec": {
      "name": "python3",
      "display_name": "Python 3"
    },
    "language_info": {
      "name": "python"
    }
  },
  "cells": [
    {
      "cell_type": "code",
      "source": [
        "!pip install optuna"
      ],
      "metadata": {
        "colab": {
          "base_uri": "https://localhost:8080/"
        },
        "id": "n4GSHatq-mOR",
        "outputId": "435c9e7d-803c-4ebd-9c68-9780170e19f9"
      },
      "execution_count": 32,
      "outputs": [
        {
          "output_type": "stream",
          "name": "stdout",
          "text": [
            "Looking in indexes: https://pypi.org/simple, https://us-python.pkg.dev/colab-wheels/public/simple/\n",
            "Requirement already satisfied: optuna in /usr/local/lib/python3.8/dist-packages (3.0.5)\n",
            "Requirement already satisfied: packaging>=20.0 in /usr/local/lib/python3.8/dist-packages (from optuna) (21.3)\n",
            "Requirement already satisfied: importlib-metadata<5.0.0 in /usr/local/lib/python3.8/dist-packages (from optuna) (4.13.0)\n",
            "Requirement already satisfied: sqlalchemy>=1.3.0 in /usr/local/lib/python3.8/dist-packages (from optuna) (1.4.45)\n",
            "Requirement already satisfied: alembic>=1.5.0 in /usr/local/lib/python3.8/dist-packages (from optuna) (1.9.1)\n",
            "Requirement already satisfied: numpy in /usr/local/lib/python3.8/dist-packages (from optuna) (1.21.6)\n",
            "Requirement already satisfied: scipy<1.9.0,>=1.7.0 in /usr/local/lib/python3.8/dist-packages (from optuna) (1.7.3)\n",
            "Requirement already satisfied: cmaes>=0.8.2 in /usr/local/lib/python3.8/dist-packages (from optuna) (0.9.0)\n",
            "Requirement already satisfied: PyYAML in /usr/local/lib/python3.8/dist-packages (from optuna) (6.0)\n",
            "Requirement already satisfied: tqdm in /usr/local/lib/python3.8/dist-packages (from optuna) (4.64.1)\n",
            "Requirement already satisfied: cliff in /usr/local/lib/python3.8/dist-packages (from optuna) (4.1.0)\n",
            "Requirement already satisfied: colorlog in /usr/local/lib/python3.8/dist-packages (from optuna) (6.7.0)\n",
            "Requirement already satisfied: importlib-resources in /usr/local/lib/python3.8/dist-packages (from alembic>=1.5.0->optuna) (5.10.1)\n",
            "Requirement already satisfied: Mako in /usr/local/lib/python3.8/dist-packages (from alembic>=1.5.0->optuna) (1.2.4)\n",
            "Requirement already satisfied: zipp>=0.5 in /usr/local/lib/python3.8/dist-packages (from importlib-metadata<5.0.0->optuna) (3.11.0)\n",
            "Requirement already satisfied: pyparsing!=3.0.5,>=2.0.2 in /usr/local/lib/python3.8/dist-packages (from packaging>=20.0->optuna) (3.0.9)\n",
            "Requirement already satisfied: greenlet!=0.4.17 in /usr/local/lib/python3.8/dist-packages (from sqlalchemy>=1.3.0->optuna) (2.0.1)\n",
            "Requirement already satisfied: stevedore>=2.0.1 in /usr/local/lib/python3.8/dist-packages (from cliff->optuna) (4.1.1)\n",
            "Requirement already satisfied: cmd2>=1.0.0 in /usr/local/lib/python3.8/dist-packages (from cliff->optuna) (2.4.2)\n",
            "Requirement already satisfied: PrettyTable>=0.7.2 in /usr/local/lib/python3.8/dist-packages (from cliff->optuna) (3.5.0)\n",
            "Requirement already satisfied: autopage>=0.4.0 in /usr/local/lib/python3.8/dist-packages (from cliff->optuna) (0.5.1)\n",
            "Requirement already satisfied: pyperclip>=1.6 in /usr/local/lib/python3.8/dist-packages (from cmd2>=1.0.0->cliff->optuna) (1.8.2)\n",
            "Requirement already satisfied: attrs>=16.3.0 in /usr/local/lib/python3.8/dist-packages (from cmd2>=1.0.0->cliff->optuna) (22.1.0)\n",
            "Requirement already satisfied: wcwidth>=0.1.7 in /usr/local/lib/python3.8/dist-packages (from cmd2>=1.0.0->cliff->optuna) (0.2.5)\n",
            "Requirement already satisfied: pbr!=2.1.0,>=2.0.0 in /usr/local/lib/python3.8/dist-packages (from stevedore>=2.0.1->cliff->optuna) (5.11.0)\n",
            "Requirement already satisfied: MarkupSafe>=0.9.2 in /usr/local/lib/python3.8/dist-packages (from Mako->alembic>=1.5.0->optuna) (2.0.1)\n"
          ]
        }
      ]
    },
    {
      "cell_type": "code",
      "source": [
        "import numpy as np\n",
        "import optuna\n",
        "import sklearn.datasets\n",
        "import sklearn.linear_model\n",
        "import sklearn.model_selection\n",
        "import logging\n",
        "import sys\n",
        "#Графики\n",
        "from optuna.visualization import plot_contour\n",
        "from optuna.visualization import plot_edf\n",
        "from optuna.visualization import plot_intermediate_values\n",
        "from optuna.visualization import plot_optimization_history\n",
        "from optuna.visualization import plot_parallel_coordinate\n",
        "from optuna.visualization import plot_param_importances\n",
        "from optuna.visualization import plot_slice"
      ],
      "metadata": {
        "id": "nmJDzGGK-ihD"
      },
      "execution_count": 33,
      "outputs": []
    },
    {
      "cell_type": "markdown",
      "source": [
        "Записываем функцию Матьяса"
      ],
      "metadata": {
        "id": "cUBTsMeE_EG5"
      }
    },
    {
      "cell_type": "code",
      "source": [
        "#Функция Матьяса\n",
        "def Matias_E(x,y):\n",
        "    return 0.26*(x*x + y*y) - 0.48*x*y\n",
        "def objective_Matias(trial):\n",
        "    x = trial.suggest_float(\"x\", -10, 10)\n",
        "    y = trial.suggest_float(\"y\", -10, 10)\n",
        "    return Matias_E(x, y)"
      ],
      "metadata": {
        "id": "20-78wCW_EOk"
      },
      "execution_count": 34,
      "outputs": []
    },
    {
      "cell_type": "markdown",
      "source": [
        "Записываем функцию Химмельблау"
      ],
      "metadata": {
        "id": "3fFA94iK_jhq"
      }
    },
    {
      "cell_type": "code",
      "source": [
        "#Функция Химмельблау\n",
        "def H_E(x,y):\n",
        "  return (x**2+y-11)**2+(x+y**2-7)**2\n",
        "def objective_H(trial):\n",
        "    x = trial.suggest_float(\"x\", -5, 5)\n",
        "    y = trial.suggest_float(\"y\", -5, 5)\n",
        "    return H_E(x, y)"
      ],
      "metadata": {
        "id": "VIv7gYkx_jov"
      },
      "execution_count": 35,
      "outputs": []
    },
    {
      "cell_type": "code",
      "source": [
        "study_Matias = optuna.create_study()\n",
        "study_Matias.optimize(objective_Matias, n_trials=100)\n",
        "\n",
        "study_H = optuna.create_study()\n",
        "study_H.optimize(objective_H, n_trials=100)"
      ],
      "metadata": {
        "colab": {
          "base_uri": "https://localhost:8080/"
        },
        "id": "kcXRsSIl_-7b",
        "outputId": "7cc76712-ccf7-4648-865e-fda042cc27e9"
      },
      "execution_count": 36,
      "outputs": [
        {
          "output_type": "stream",
          "name": "stderr",
          "text": [
            "\u001b[32m[I 2022-12-26 15:25:41,049]\u001b[0m A new study created in memory with name: no-name-783a83e1-9721-4ea3-974f-9904dc6bb8e1\u001b[0m\n"
          ]
        },
        {
          "output_type": "stream",
          "name": "stdout",
          "text": [
            "A new study created in memory with name: no-name-783a83e1-9721-4ea3-974f-9904dc6bb8e1\n",
            "A new study created in memory with name: no-name-783a83e1-9721-4ea3-974f-9904dc6bb8e1\n",
            "A new study created in memory with name: no-name-783a83e1-9721-4ea3-974f-9904dc6bb8e1\n",
            "A new study created in memory with name: no-name-783a83e1-9721-4ea3-974f-9904dc6bb8e1\n",
            "A new study created in memory with name: no-name-783a83e1-9721-4ea3-974f-9904dc6bb8e1\n",
            "A new study created in memory with name: no-name-783a83e1-9721-4ea3-974f-9904dc6bb8e1\n",
            "A new study created in memory with name: no-name-783a83e1-9721-4ea3-974f-9904dc6bb8e1\n"
          ]
        },
        {
          "output_type": "stream",
          "name": "stderr",
          "text": [
            "\u001b[32m[I 2022-12-26 15:25:41,066]\u001b[0m Trial 0 finished with value: 7.60053309626586 and parameters: {'x': 5.313923622430128, 'y': 9.910720433270502}. Best is trial 0 with value: 7.60053309626586.\u001b[0m\n"
          ]
        },
        {
          "output_type": "stream",
          "name": "stdout",
          "text": [
            "Trial 0 finished with value: 7.60053309626586 and parameters: {'x': 5.313923622430128, 'y': 9.910720433270502}. Best is trial 0 with value: 7.60053309626586.\n",
            "Trial 0 finished with value: 7.60053309626586 and parameters: {'x': 5.313923622430128, 'y': 9.910720433270502}. Best is trial 0 with value: 7.60053309626586.\n",
            "Trial 0 finished with value: 7.60053309626586 and parameters: {'x': 5.313923622430128, 'y': 9.910720433270502}. Best is trial 0 with value: 7.60053309626586.\n",
            "Trial 0 finished with value: 7.60053309626586 and parameters: {'x': 5.313923622430128, 'y': 9.910720433270502}. Best is trial 0 with value: 7.60053309626586.\n",
            "Trial 0 finished with value: 7.60053309626586 and parameters: {'x': 5.313923622430128, 'y': 9.910720433270502}. Best is trial 0 with value: 7.60053309626586.\n",
            "Trial 0 finished with value: 7.60053309626586 and parameters: {'x': 5.313923622430128, 'y': 9.910720433270502}. Best is trial 0 with value: 7.60053309626586.\n",
            "Trial 0 finished with value: 7.60053309626586 and parameters: {'x': 5.313923622430128, 'y': 9.910720433270502}. Best is trial 0 with value: 7.60053309626586.\n"
          ]
        },
        {
          "output_type": "stream",
          "name": "stderr",
          "text": [
            "\u001b[32m[I 2022-12-26 15:25:41,077]\u001b[0m Trial 1 finished with value: 36.987411750050946 and parameters: {'x': 6.943581704111722, 'y': -5.214959392432153}. Best is trial 0 with value: 7.60053309626586.\u001b[0m\n"
          ]
        },
        {
          "output_type": "stream",
          "name": "stdout",
          "text": [
            "Trial 1 finished with value: 36.987411750050946 and parameters: {'x': 6.943581704111722, 'y': -5.214959392432153}. Best is trial 0 with value: 7.60053309626586.\n",
            "Trial 1 finished with value: 36.987411750050946 and parameters: {'x': 6.943581704111722, 'y': -5.214959392432153}. Best is trial 0 with value: 7.60053309626586.\n",
            "Trial 1 finished with value: 36.987411750050946 and parameters: {'x': 6.943581704111722, 'y': -5.214959392432153}. Best is trial 0 with value: 7.60053309626586.\n",
            "Trial 1 finished with value: 36.987411750050946 and parameters: {'x': 6.943581704111722, 'y': -5.214959392432153}. Best is trial 0 with value: 7.60053309626586.\n",
            "Trial 1 finished with value: 36.987411750050946 and parameters: {'x': 6.943581704111722, 'y': -5.214959392432153}. Best is trial 0 with value: 7.60053309626586.\n",
            "Trial 1 finished with value: 36.987411750050946 and parameters: {'x': 6.943581704111722, 'y': -5.214959392432153}. Best is trial 0 with value: 7.60053309626586.\n",
            "Trial 1 finished with value: 36.987411750050946 and parameters: {'x': 6.943581704111722, 'y': -5.214959392432153}. Best is trial 0 with value: 7.60053309626586.\n"
          ]
        },
        {
          "output_type": "stream",
          "name": "stderr",
          "text": [
            "\u001b[32m[I 2022-12-26 15:25:41,089]\u001b[0m Trial 2 finished with value: 13.306311071565327 and parameters: {'x': -1.8919846336687165, 'y': 5.370335065787948}. Best is trial 0 with value: 7.60053309626586.\u001b[0m\n"
          ]
        },
        {
          "output_type": "stream",
          "name": "stdout",
          "text": [
            "Trial 2 finished with value: 13.306311071565327 and parameters: {'x': -1.8919846336687165, 'y': 5.370335065787948}. Best is trial 0 with value: 7.60053309626586.\n",
            "Trial 2 finished with value: 13.306311071565327 and parameters: {'x': -1.8919846336687165, 'y': 5.370335065787948}. Best is trial 0 with value: 7.60053309626586.\n",
            "Trial 2 finished with value: 13.306311071565327 and parameters: {'x': -1.8919846336687165, 'y': 5.370335065787948}. Best is trial 0 with value: 7.60053309626586.\n",
            "Trial 2 finished with value: 13.306311071565327 and parameters: {'x': -1.8919846336687165, 'y': 5.370335065787948}. Best is trial 0 with value: 7.60053309626586.\n",
            "Trial 2 finished with value: 13.306311071565327 and parameters: {'x': -1.8919846336687165, 'y': 5.370335065787948}. Best is trial 0 with value: 7.60053309626586.\n",
            "Trial 2 finished with value: 13.306311071565327 and parameters: {'x': -1.8919846336687165, 'y': 5.370335065787948}. Best is trial 0 with value: 7.60053309626586.\n",
            "Trial 2 finished with value: 13.306311071565327 and parameters: {'x': -1.8919846336687165, 'y': 5.370335065787948}. Best is trial 0 with value: 7.60053309626586.\n"
          ]
        },
        {
          "output_type": "stream",
          "name": "stderr",
          "text": [
            "\u001b[32m[I 2022-12-26 15:25:41,100]\u001b[0m Trial 3 finished with value: 10.270934595562853 and parameters: {'x': -3.6269623848010006, 'y': 2.7804611071910497}. Best is trial 0 with value: 7.60053309626586.\u001b[0m\n"
          ]
        },
        {
          "output_type": "stream",
          "name": "stdout",
          "text": [
            "Trial 3 finished with value: 10.270934595562853 and parameters: {'x': -3.6269623848010006, 'y': 2.7804611071910497}. Best is trial 0 with value: 7.60053309626586.\n",
            "Trial 3 finished with value: 10.270934595562853 and parameters: {'x': -3.6269623848010006, 'y': 2.7804611071910497}. Best is trial 0 with value: 7.60053309626586.\n",
            "Trial 3 finished with value: 10.270934595562853 and parameters: {'x': -3.6269623848010006, 'y': 2.7804611071910497}. Best is trial 0 with value: 7.60053309626586.\n",
            "Trial 3 finished with value: 10.270934595562853 and parameters: {'x': -3.6269623848010006, 'y': 2.7804611071910497}. Best is trial 0 with value: 7.60053309626586.\n",
            "Trial 3 finished with value: 10.270934595562853 and parameters: {'x': -3.6269623848010006, 'y': 2.7804611071910497}. Best is trial 0 with value: 7.60053309626586.\n",
            "Trial 3 finished with value: 10.270934595562853 and parameters: {'x': -3.6269623848010006, 'y': 2.7804611071910497}. Best is trial 0 with value: 7.60053309626586.\n",
            "Trial 3 finished with value: 10.270934595562853 and parameters: {'x': -3.6269623848010006, 'y': 2.7804611071910497}. Best is trial 0 with value: 7.60053309626586.\n"
          ]
        },
        {
          "output_type": "stream",
          "name": "stderr",
          "text": [
            "\u001b[32m[I 2022-12-26 15:25:41,110]\u001b[0m Trial 4 finished with value: 8.649759885986606 and parameters: {'x': -5.289839389130149, 'y': 0.5141908293726694}. Best is trial 0 with value: 7.60053309626586.\u001b[0m\n"
          ]
        },
        {
          "output_type": "stream",
          "name": "stdout",
          "text": [
            "Trial 4 finished with value: 8.649759885986606 and parameters: {'x': -5.289839389130149, 'y': 0.5141908293726694}. Best is trial 0 with value: 7.60053309626586.\n",
            "Trial 4 finished with value: 8.649759885986606 and parameters: {'x': -5.289839389130149, 'y': 0.5141908293726694}. Best is trial 0 with value: 7.60053309626586.\n",
            "Trial 4 finished with value: 8.649759885986606 and parameters: {'x': -5.289839389130149, 'y': 0.5141908293726694}. Best is trial 0 with value: 7.60053309626586.\n",
            "Trial 4 finished with value: 8.649759885986606 and parameters: {'x': -5.289839389130149, 'y': 0.5141908293726694}. Best is trial 0 with value: 7.60053309626586.\n",
            "Trial 4 finished with value: 8.649759885986606 and parameters: {'x': -5.289839389130149, 'y': 0.5141908293726694}. Best is trial 0 with value: 7.60053309626586.\n",
            "Trial 4 finished with value: 8.649759885986606 and parameters: {'x': -5.289839389130149, 'y': 0.5141908293726694}. Best is trial 0 with value: 7.60053309626586.\n",
            "Trial 4 finished with value: 8.649759885986606 and parameters: {'x': -5.289839389130149, 'y': 0.5141908293726694}. Best is trial 0 with value: 7.60053309626586.\n"
          ]
        },
        {
          "output_type": "stream",
          "name": "stderr",
          "text": [
            "\u001b[32m[I 2022-12-26 15:25:41,121]\u001b[0m Trial 5 finished with value: 13.497908173098553 and parameters: {'x': 0.1358715510763595, 'y': -7.0795992257738805}. Best is trial 0 with value: 7.60053309626586.\u001b[0m\n"
          ]
        },
        {
          "output_type": "stream",
          "name": "stdout",
          "text": [
            "Trial 5 finished with value: 13.497908173098553 and parameters: {'x': 0.1358715510763595, 'y': -7.0795992257738805}. Best is trial 0 with value: 7.60053309626586.\n",
            "Trial 5 finished with value: 13.497908173098553 and parameters: {'x': 0.1358715510763595, 'y': -7.0795992257738805}. Best is trial 0 with value: 7.60053309626586.\n",
            "Trial 5 finished with value: 13.497908173098553 and parameters: {'x': 0.1358715510763595, 'y': -7.0795992257738805}. Best is trial 0 with value: 7.60053309626586.\n",
            "Trial 5 finished with value: 13.497908173098553 and parameters: {'x': 0.1358715510763595, 'y': -7.0795992257738805}. Best is trial 0 with value: 7.60053309626586.\n",
            "Trial 5 finished with value: 13.497908173098553 and parameters: {'x': 0.1358715510763595, 'y': -7.0795992257738805}. Best is trial 0 with value: 7.60053309626586.\n",
            "Trial 5 finished with value: 13.497908173098553 and parameters: {'x': 0.1358715510763595, 'y': -7.0795992257738805}. Best is trial 0 with value: 7.60053309626586.\n",
            "Trial 5 finished with value: 13.497908173098553 and parameters: {'x': 0.1358715510763595, 'y': -7.0795992257738805}. Best is trial 0 with value: 7.60053309626586.\n"
          ]
        },
        {
          "output_type": "stream",
          "name": "stderr",
          "text": [
            "\u001b[32m[I 2022-12-26 15:25:41,132]\u001b[0m Trial 6 finished with value: 12.806608858008683 and parameters: {'x': 7.317901592520258, 'y': 0.32580719447176065}. Best is trial 0 with value: 7.60053309626586.\u001b[0m\n"
          ]
        },
        {
          "output_type": "stream",
          "name": "stdout",
          "text": [
            "Trial 6 finished with value: 12.806608858008683 and parameters: {'x': 7.317901592520258, 'y': 0.32580719447176065}. Best is trial 0 with value: 7.60053309626586.\n",
            "Trial 6 finished with value: 12.806608858008683 and parameters: {'x': 7.317901592520258, 'y': 0.32580719447176065}. Best is trial 0 with value: 7.60053309626586.\n",
            "Trial 6 finished with value: 12.806608858008683 and parameters: {'x': 7.317901592520258, 'y': 0.32580719447176065}. Best is trial 0 with value: 7.60053309626586.\n",
            "Trial 6 finished with value: 12.806608858008683 and parameters: {'x': 7.317901592520258, 'y': 0.32580719447176065}. Best is trial 0 with value: 7.60053309626586.\n",
            "Trial 6 finished with value: 12.806608858008683 and parameters: {'x': 7.317901592520258, 'y': 0.32580719447176065}. Best is trial 0 with value: 7.60053309626586.\n",
            "Trial 6 finished with value: 12.806608858008683 and parameters: {'x': 7.317901592520258, 'y': 0.32580719447176065}. Best is trial 0 with value: 7.60053309626586.\n",
            "Trial 6 finished with value: 12.806608858008683 and parameters: {'x': 7.317901592520258, 'y': 0.32580719447176065}. Best is trial 0 with value: 7.60053309626586.\n"
          ]
        },
        {
          "output_type": "stream",
          "name": "stderr",
          "text": [
            "\u001b[32m[I 2022-12-26 15:25:41,142]\u001b[0m Trial 7 finished with value: 28.151594215753757 and parameters: {'x': 2.5178415660558926, 'y': -8.036222844661545}. Best is trial 0 with value: 7.60053309626586.\u001b[0m\n"
          ]
        },
        {
          "output_type": "stream",
          "name": "stdout",
          "text": [
            "Trial 7 finished with value: 28.151594215753757 and parameters: {'x': 2.5178415660558926, 'y': -8.036222844661545}. Best is trial 0 with value: 7.60053309626586.\n",
            "Trial 7 finished with value: 28.151594215753757 and parameters: {'x': 2.5178415660558926, 'y': -8.036222844661545}. Best is trial 0 with value: 7.60053309626586.\n",
            "Trial 7 finished with value: 28.151594215753757 and parameters: {'x': 2.5178415660558926, 'y': -8.036222844661545}. Best is trial 0 with value: 7.60053309626586.\n",
            "Trial 7 finished with value: 28.151594215753757 and parameters: {'x': 2.5178415660558926, 'y': -8.036222844661545}. Best is trial 0 with value: 7.60053309626586.\n",
            "Trial 7 finished with value: 28.151594215753757 and parameters: {'x': 2.5178415660558926, 'y': -8.036222844661545}. Best is trial 0 with value: 7.60053309626586.\n",
            "Trial 7 finished with value: 28.151594215753757 and parameters: {'x': 2.5178415660558926, 'y': -8.036222844661545}. Best is trial 0 with value: 7.60053309626586.\n",
            "Trial 7 finished with value: 28.151594215753757 and parameters: {'x': 2.5178415660558926, 'y': -8.036222844661545}. Best is trial 0 with value: 7.60053309626586.\n"
          ]
        },
        {
          "output_type": "stream",
          "name": "stderr",
          "text": [
            "\u001b[32m[I 2022-12-26 15:25:41,153]\u001b[0m Trial 8 finished with value: 11.048054512119071 and parameters: {'x': -7.523199743207418, 'y': -1.1032633388303577}. Best is trial 0 with value: 7.60053309626586.\u001b[0m\n"
          ]
        },
        {
          "output_type": "stream",
          "name": "stdout",
          "text": [
            "Trial 8 finished with value: 11.048054512119071 and parameters: {'x': -7.523199743207418, 'y': -1.1032633388303577}. Best is trial 0 with value: 7.60053309626586.\n",
            "Trial 8 finished with value: 11.048054512119071 and parameters: {'x': -7.523199743207418, 'y': -1.1032633388303577}. Best is trial 0 with value: 7.60053309626586.\n",
            "Trial 8 finished with value: 11.048054512119071 and parameters: {'x': -7.523199743207418, 'y': -1.1032633388303577}. Best is trial 0 with value: 7.60053309626586.\n",
            "Trial 8 finished with value: 11.048054512119071 and parameters: {'x': -7.523199743207418, 'y': -1.1032633388303577}. Best is trial 0 with value: 7.60053309626586.\n",
            "Trial 8 finished with value: 11.048054512119071 and parameters: {'x': -7.523199743207418, 'y': -1.1032633388303577}. Best is trial 0 with value: 7.60053309626586.\n",
            "Trial 8 finished with value: 11.048054512119071 and parameters: {'x': -7.523199743207418, 'y': -1.1032633388303577}. Best is trial 0 with value: 7.60053309626586.\n",
            "Trial 8 finished with value: 11.048054512119071 and parameters: {'x': -7.523199743207418, 'y': -1.1032633388303577}. Best is trial 0 with value: 7.60053309626586.\n"
          ]
        },
        {
          "output_type": "stream",
          "name": "stderr",
          "text": [
            "\u001b[32m[I 2022-12-26 15:25:41,163]\u001b[0m Trial 9 finished with value: 7.032190199413822 and parameters: {'x': 8.61314030246335, 'y': 3.941526627421082}. Best is trial 9 with value: 7.032190199413822.\u001b[0m\n"
          ]
        },
        {
          "output_type": "stream",
          "name": "stdout",
          "text": [
            "Trial 9 finished with value: 7.032190199413822 and parameters: {'x': 8.61314030246335, 'y': 3.941526627421082}. Best is trial 9 with value: 7.032190199413822.\n",
            "Trial 9 finished with value: 7.032190199413822 and parameters: {'x': 8.61314030246335, 'y': 3.941526627421082}. Best is trial 9 with value: 7.032190199413822.\n",
            "Trial 9 finished with value: 7.032190199413822 and parameters: {'x': 8.61314030246335, 'y': 3.941526627421082}. Best is trial 9 with value: 7.032190199413822.\n",
            "Trial 9 finished with value: 7.032190199413822 and parameters: {'x': 8.61314030246335, 'y': 3.941526627421082}. Best is trial 9 with value: 7.032190199413822.\n",
            "Trial 9 finished with value: 7.032190199413822 and parameters: {'x': 8.61314030246335, 'y': 3.941526627421082}. Best is trial 9 with value: 7.032190199413822.\n",
            "Trial 9 finished with value: 7.032190199413822 and parameters: {'x': 8.61314030246335, 'y': 3.941526627421082}. Best is trial 9 with value: 7.032190199413822.\n",
            "Trial 9 finished with value: 7.032190199413822 and parameters: {'x': 8.61314030246335, 'y': 3.941526627421082}. Best is trial 9 with value: 7.032190199413822.\n"
          ]
        },
        {
          "output_type": "stream",
          "name": "stderr",
          "text": [
            "\u001b[32m[I 2022-12-26 15:25:41,209]\u001b[0m Trial 10 finished with value: 3.822706688522466 and parameters: {'x': 9.716492961845152, 'y': 8.110754128293632}. Best is trial 10 with value: 3.822706688522466.\u001b[0m\n"
          ]
        },
        {
          "output_type": "stream",
          "name": "stdout",
          "text": [
            "Trial 10 finished with value: 3.822706688522466 and parameters: {'x': 9.716492961845152, 'y': 8.110754128293632}. Best is trial 10 with value: 3.822706688522466.\n",
            "Trial 10 finished with value: 3.822706688522466 and parameters: {'x': 9.716492961845152, 'y': 8.110754128293632}. Best is trial 10 with value: 3.822706688522466.\n",
            "Trial 10 finished with value: 3.822706688522466 and parameters: {'x': 9.716492961845152, 'y': 8.110754128293632}. Best is trial 10 with value: 3.822706688522466.\n",
            "Trial 10 finished with value: 3.822706688522466 and parameters: {'x': 9.716492961845152, 'y': 8.110754128293632}. Best is trial 10 with value: 3.822706688522466.\n",
            "Trial 10 finished with value: 3.822706688522466 and parameters: {'x': 9.716492961845152, 'y': 8.110754128293632}. Best is trial 10 with value: 3.822706688522466.\n",
            "Trial 10 finished with value: 3.822706688522466 and parameters: {'x': 9.716492961845152, 'y': 8.110754128293632}. Best is trial 10 with value: 3.822706688522466.\n",
            "Trial 10 finished with value: 3.822706688522466 and parameters: {'x': 9.716492961845152, 'y': 8.110754128293632}. Best is trial 10 with value: 3.822706688522466.\n"
          ]
        },
        {
          "output_type": "stream",
          "name": "stderr",
          "text": [
            "\u001b[32m[I 2022-12-26 15:25:41,244]\u001b[0m Trial 11 finished with value: 4.823681417127098 and parameters: {'x': 9.901002410661798, 'y': 7.126636503011864}. Best is trial 10 with value: 3.822706688522466.\u001b[0m\n"
          ]
        },
        {
          "output_type": "stream",
          "name": "stdout",
          "text": [
            "Trial 11 finished with value: 4.823681417127098 and parameters: {'x': 9.901002410661798, 'y': 7.126636503011864}. Best is trial 10 with value: 3.822706688522466.\n",
            "Trial 11 finished with value: 4.823681417127098 and parameters: {'x': 9.901002410661798, 'y': 7.126636503011864}. Best is trial 10 with value: 3.822706688522466.\n",
            "Trial 11 finished with value: 4.823681417127098 and parameters: {'x': 9.901002410661798, 'y': 7.126636503011864}. Best is trial 10 with value: 3.822706688522466.\n",
            "Trial 11 finished with value: 4.823681417127098 and parameters: {'x': 9.901002410661798, 'y': 7.126636503011864}. Best is trial 10 with value: 3.822706688522466.\n",
            "Trial 11 finished with value: 4.823681417127098 and parameters: {'x': 9.901002410661798, 'y': 7.126636503011864}. Best is trial 10 with value: 3.822706688522466.\n",
            "Trial 11 finished with value: 4.823681417127098 and parameters: {'x': 9.901002410661798, 'y': 7.126636503011864}. Best is trial 10 with value: 3.822706688522466.\n",
            "Trial 11 finished with value: 4.823681417127098 and parameters: {'x': 9.901002410661798, 'y': 7.126636503011864}. Best is trial 10 with value: 3.822706688522466.\n"
          ]
        },
        {
          "output_type": "stream",
          "name": "stderr",
          "text": [
            "\u001b[32m[I 2022-12-26 15:25:41,276]\u001b[0m Trial 12 finished with value: 3.660682205895462 and parameters: {'x': 9.414696715519588, 'y': 9.674174466587235}. Best is trial 12 with value: 3.660682205895462.\u001b[0m\n"
          ]
        },
        {
          "output_type": "stream",
          "name": "stdout",
          "text": [
            "Trial 12 finished with value: 3.660682205895462 and parameters: {'x': 9.414696715519588, 'y': 9.674174466587235}. Best is trial 12 with value: 3.660682205895462.\n",
            "Trial 12 finished with value: 3.660682205895462 and parameters: {'x': 9.414696715519588, 'y': 9.674174466587235}. Best is trial 12 with value: 3.660682205895462.\n",
            "Trial 12 finished with value: 3.660682205895462 and parameters: {'x': 9.414696715519588, 'y': 9.674174466587235}. Best is trial 12 with value: 3.660682205895462.\n",
            "Trial 12 finished with value: 3.660682205895462 and parameters: {'x': 9.414696715519588, 'y': 9.674174466587235}. Best is trial 12 with value: 3.660682205895462.\n",
            "Trial 12 finished with value: 3.660682205895462 and parameters: {'x': 9.414696715519588, 'y': 9.674174466587235}. Best is trial 12 with value: 3.660682205895462.\n",
            "Trial 12 finished with value: 3.660682205895462 and parameters: {'x': 9.414696715519588, 'y': 9.674174466587235}. Best is trial 12 with value: 3.660682205895462.\n",
            "Trial 12 finished with value: 3.660682205895462 and parameters: {'x': 9.414696715519588, 'y': 9.674174466587235}. Best is trial 12 with value: 3.660682205895462.\n"
          ]
        },
        {
          "output_type": "stream",
          "name": "stderr",
          "text": [
            "\u001b[32m[I 2022-12-26 15:25:41,297]\u001b[0m Trial 13 finished with value: 10.994133014938388 and parameters: {'x': 3.565151016079101, 'y': 9.64739388747273}. Best is trial 12 with value: 3.660682205895462.\u001b[0m\n"
          ]
        },
        {
          "output_type": "stream",
          "name": "stdout",
          "text": [
            "Trial 13 finished with value: 10.994133014938388 and parameters: {'x': 3.565151016079101, 'y': 9.64739388747273}. Best is trial 12 with value: 3.660682205895462.\n",
            "Trial 13 finished with value: 10.994133014938388 and parameters: {'x': 3.565151016079101, 'y': 9.64739388747273}. Best is trial 12 with value: 3.660682205895462.\n",
            "Trial 13 finished with value: 10.994133014938388 and parameters: {'x': 3.565151016079101, 'y': 9.64739388747273}. Best is trial 12 with value: 3.660682205895462.\n",
            "Trial 13 finished with value: 10.994133014938388 and parameters: {'x': 3.565151016079101, 'y': 9.64739388747273}. Best is trial 12 with value: 3.660682205895462.\n",
            "Trial 13 finished with value: 10.994133014938388 and parameters: {'x': 3.565151016079101, 'y': 9.64739388747273}. Best is trial 12 with value: 3.660682205895462.\n",
            "Trial 13 finished with value: 10.994133014938388 and parameters: {'x': 3.565151016079101, 'y': 9.64739388747273}. Best is trial 12 with value: 3.660682205895462.\n",
            "Trial 13 finished with value: 10.994133014938388 and parameters: {'x': 3.565151016079101, 'y': 9.64739388747273}. Best is trial 12 with value: 3.660682205895462.\n"
          ]
        },
        {
          "output_type": "stream",
          "name": "stderr",
          "text": [
            "\u001b[32m[I 2022-12-26 15:25:41,330]\u001b[0m Trial 14 finished with value: 74.52283858770053 and parameters: {'x': -9.952644509862857, 'y': 7.304552793327332}. Best is trial 12 with value: 3.660682205895462.\u001b[0m\n"
          ]
        },
        {
          "output_type": "stream",
          "name": "stdout",
          "text": [
            "Trial 14 finished with value: 74.52283858770053 and parameters: {'x': -9.952644509862857, 'y': 7.304552793327332}. Best is trial 12 with value: 3.660682205895462.\n",
            "Trial 14 finished with value: 74.52283858770053 and parameters: {'x': -9.952644509862857, 'y': 7.304552793327332}. Best is trial 12 with value: 3.660682205895462.\n",
            "Trial 14 finished with value: 74.52283858770053 and parameters: {'x': -9.952644509862857, 'y': 7.304552793327332}. Best is trial 12 with value: 3.660682205895462.\n",
            "Trial 14 finished with value: 74.52283858770053 and parameters: {'x': -9.952644509862857, 'y': 7.304552793327332}. Best is trial 12 with value: 3.660682205895462.\n",
            "Trial 14 finished with value: 74.52283858770053 and parameters: {'x': -9.952644509862857, 'y': 7.304552793327332}. Best is trial 12 with value: 3.660682205895462.\n",
            "Trial 14 finished with value: 74.52283858770053 and parameters: {'x': -9.952644509862857, 'y': 7.304552793327332}. Best is trial 12 with value: 3.660682205895462.\n",
            "Trial 14 finished with value: 74.52283858770053 and parameters: {'x': -9.952644509862857, 'y': 7.304552793327332}. Best is trial 12 with value: 3.660682205895462.\n"
          ]
        },
        {
          "output_type": "stream",
          "name": "stderr",
          "text": [
            "\u001b[32m[I 2022-12-26 15:25:41,371]\u001b[0m Trial 15 finished with value: 2.681612419991815 and parameters: {'x': 4.827157944848617, 'y': 7.07632151218006}. Best is trial 15 with value: 2.681612419991815.\u001b[0m\n"
          ]
        },
        {
          "output_type": "stream",
          "name": "stdout",
          "text": [
            "Trial 15 finished with value: 2.681612419991815 and parameters: {'x': 4.827157944848617, 'y': 7.07632151218006}. Best is trial 15 with value: 2.681612419991815.\n",
            "Trial 15 finished with value: 2.681612419991815 and parameters: {'x': 4.827157944848617, 'y': 7.07632151218006}. Best is trial 15 with value: 2.681612419991815.\n",
            "Trial 15 finished with value: 2.681612419991815 and parameters: {'x': 4.827157944848617, 'y': 7.07632151218006}. Best is trial 15 with value: 2.681612419991815.\n",
            "Trial 15 finished with value: 2.681612419991815 and parameters: {'x': 4.827157944848617, 'y': 7.07632151218006}. Best is trial 15 with value: 2.681612419991815.\n",
            "Trial 15 finished with value: 2.681612419991815 and parameters: {'x': 4.827157944848617, 'y': 7.07632151218006}. Best is trial 15 with value: 2.681612419991815.\n",
            "Trial 15 finished with value: 2.681612419991815 and parameters: {'x': 4.827157944848617, 'y': 7.07632151218006}. Best is trial 15 with value: 2.681612419991815.\n",
            "Trial 15 finished with value: 2.681612419991815 and parameters: {'x': 4.827157944848617, 'y': 7.07632151218006}. Best is trial 15 with value: 2.681612419991815.\n"
          ]
        },
        {
          "output_type": "stream",
          "name": "stderr",
          "text": [
            "\u001b[32m[I 2022-12-26 15:25:41,399]\u001b[0m Trial 16 finished with value: 9.191599459506646 and parameters: {'x': 2.420713687349505, 'y': -3.6379275345773436}. Best is trial 15 with value: 2.681612419991815.\u001b[0m\n"
          ]
        },
        {
          "output_type": "stream",
          "name": "stdout",
          "text": [
            "Trial 16 finished with value: 9.191599459506646 and parameters: {'x': 2.420713687349505, 'y': -3.6379275345773436}. Best is trial 15 with value: 2.681612419991815.\n",
            "Trial 16 finished with value: 9.191599459506646 and parameters: {'x': 2.420713687349505, 'y': -3.6379275345773436}. Best is trial 15 with value: 2.681612419991815.\n",
            "Trial 16 finished with value: 9.191599459506646 and parameters: {'x': 2.420713687349505, 'y': -3.6379275345773436}. Best is trial 15 with value: 2.681612419991815.\n",
            "Trial 16 finished with value: 9.191599459506646 and parameters: {'x': 2.420713687349505, 'y': -3.6379275345773436}. Best is trial 15 with value: 2.681612419991815.\n",
            "Trial 16 finished with value: 9.191599459506646 and parameters: {'x': 2.420713687349505, 'y': -3.6379275345773436}. Best is trial 15 with value: 2.681612419991815.\n",
            "Trial 16 finished with value: 9.191599459506646 and parameters: {'x': 2.420713687349505, 'y': -3.6379275345773436}. Best is trial 15 with value: 2.681612419991815.\n",
            "Trial 16 finished with value: 9.191599459506646 and parameters: {'x': 2.420713687349505, 'y': -3.6379275345773436}. Best is trial 15 with value: 2.681612419991815.\n"
          ]
        },
        {
          "output_type": "stream",
          "name": "stderr",
          "text": [
            "\u001b[32m[I 2022-12-26 15:25:41,432]\u001b[0m Trial 17 finished with value: 1.3700687749773692 and parameters: {'x': 5.647692776282927, 'y': 4.470901897091705}. Best is trial 17 with value: 1.3700687749773692.\u001b[0m\n"
          ]
        },
        {
          "output_type": "stream",
          "name": "stdout",
          "text": [
            "Trial 17 finished with value: 1.3700687749773692 and parameters: {'x': 5.647692776282927, 'y': 4.470901897091705}. Best is trial 17 with value: 1.3700687749773692.\n",
            "Trial 17 finished with value: 1.3700687749773692 and parameters: {'x': 5.647692776282927, 'y': 4.470901897091705}. Best is trial 17 with value: 1.3700687749773692.\n",
            "Trial 17 finished with value: 1.3700687749773692 and parameters: {'x': 5.647692776282927, 'y': 4.470901897091705}. Best is trial 17 with value: 1.3700687749773692.\n",
            "Trial 17 finished with value: 1.3700687749773692 and parameters: {'x': 5.647692776282927, 'y': 4.470901897091705}. Best is trial 17 with value: 1.3700687749773692.\n",
            "Trial 17 finished with value: 1.3700687749773692 and parameters: {'x': 5.647692776282927, 'y': 4.470901897091705}. Best is trial 17 with value: 1.3700687749773692.\n",
            "Trial 17 finished with value: 1.3700687749773692 and parameters: {'x': 5.647692776282927, 'y': 4.470901897091705}. Best is trial 17 with value: 1.3700687749773692.\n",
            "Trial 17 finished with value: 1.3700687749773692 and parameters: {'x': 5.647692776282927, 'y': 4.470901897091705}. Best is trial 17 with value: 1.3700687749773692.\n"
          ]
        },
        {
          "output_type": "stream",
          "name": "stderr",
          "text": [
            "\u001b[32m[I 2022-12-26 15:25:41,472]\u001b[0m Trial 18 finished with value: 1.2394496971880882 and parameters: {'x': 4.523270301093213, 'y': 2.856049806081818}. Best is trial 18 with value: 1.2394496971880882.\u001b[0m\n"
          ]
        },
        {
          "output_type": "stream",
          "name": "stdout",
          "text": [
            "Trial 18 finished with value: 1.2394496971880882 and parameters: {'x': 4.523270301093213, 'y': 2.856049806081818}. Best is trial 18 with value: 1.2394496971880882.\n",
            "Trial 18 finished with value: 1.2394496971880882 and parameters: {'x': 4.523270301093213, 'y': 2.856049806081818}. Best is trial 18 with value: 1.2394496971880882.\n",
            "Trial 18 finished with value: 1.2394496971880882 and parameters: {'x': 4.523270301093213, 'y': 2.856049806081818}. Best is trial 18 with value: 1.2394496971880882.\n",
            "Trial 18 finished with value: 1.2394496971880882 and parameters: {'x': 4.523270301093213, 'y': 2.856049806081818}. Best is trial 18 with value: 1.2394496971880882.\n",
            "Trial 18 finished with value: 1.2394496971880882 and parameters: {'x': 4.523270301093213, 'y': 2.856049806081818}. Best is trial 18 with value: 1.2394496971880882.\n",
            "Trial 18 finished with value: 1.2394496971880882 and parameters: {'x': 4.523270301093213, 'y': 2.856049806081818}. Best is trial 18 with value: 1.2394496971880882.\n",
            "Trial 18 finished with value: 1.2394496971880882 and parameters: {'x': 4.523270301093213, 'y': 2.856049806081818}. Best is trial 18 with value: 1.2394496971880882.\n"
          ]
        },
        {
          "output_type": "stream",
          "name": "stderr",
          "text": [
            "\u001b[32m[I 2022-12-26 15:25:41,506]\u001b[0m Trial 19 finished with value: 1.894668258233437 and parameters: {'x': 0.3948778997323794, 'y': 3.059705684650968}. Best is trial 18 with value: 1.2394496971880882.\u001b[0m\n"
          ]
        },
        {
          "output_type": "stream",
          "name": "stdout",
          "text": [
            "Trial 19 finished with value: 1.894668258233437 and parameters: {'x': 0.3948778997323794, 'y': 3.059705684650968}. Best is trial 18 with value: 1.2394496971880882.\n",
            "Trial 19 finished with value: 1.894668258233437 and parameters: {'x': 0.3948778997323794, 'y': 3.059705684650968}. Best is trial 18 with value: 1.2394496971880882.\n",
            "Trial 19 finished with value: 1.894668258233437 and parameters: {'x': 0.3948778997323794, 'y': 3.059705684650968}. Best is trial 18 with value: 1.2394496971880882.\n",
            "Trial 19 finished with value: 1.894668258233437 and parameters: {'x': 0.3948778997323794, 'y': 3.059705684650968}. Best is trial 18 with value: 1.2394496971880882.\n",
            "Trial 19 finished with value: 1.894668258233437 and parameters: {'x': 0.3948778997323794, 'y': 3.059705684650968}. Best is trial 18 with value: 1.2394496971880882.\n",
            "Trial 19 finished with value: 1.894668258233437 and parameters: {'x': 0.3948778997323794, 'y': 3.059705684650968}. Best is trial 18 with value: 1.2394496971880882.\n",
            "Trial 19 finished with value: 1.894668258233437 and parameters: {'x': 0.3948778997323794, 'y': 3.059705684650968}. Best is trial 18 with value: 1.2394496971880882.\n"
          ]
        },
        {
          "output_type": "stream",
          "name": "stderr",
          "text": [
            "\u001b[32m[I 2022-12-26 15:25:41,536]\u001b[0m Trial 20 finished with value: 17.19754729352847 and parameters: {'x': 6.048828051449062, 'y': -2.209536359638749}. Best is trial 18 with value: 1.2394496971880882.\u001b[0m\n"
          ]
        },
        {
          "output_type": "stream",
          "name": "stdout",
          "text": [
            "Trial 20 finished with value: 17.19754729352847 and parameters: {'x': 6.048828051449062, 'y': -2.209536359638749}. Best is trial 18 with value: 1.2394496971880882.\n",
            "Trial 20 finished with value: 17.19754729352847 and parameters: {'x': 6.048828051449062, 'y': -2.209536359638749}. Best is trial 18 with value: 1.2394496971880882.\n",
            "Trial 20 finished with value: 17.19754729352847 and parameters: {'x': 6.048828051449062, 'y': -2.209536359638749}. Best is trial 18 with value: 1.2394496971880882.\n",
            "Trial 20 finished with value: 17.19754729352847 and parameters: {'x': 6.048828051449062, 'y': -2.209536359638749}. Best is trial 18 with value: 1.2394496971880882.\n",
            "Trial 20 finished with value: 17.19754729352847 and parameters: {'x': 6.048828051449062, 'y': -2.209536359638749}. Best is trial 18 with value: 1.2394496971880882.\n",
            "Trial 20 finished with value: 17.19754729352847 and parameters: {'x': 6.048828051449062, 'y': -2.209536359638749}. Best is trial 18 with value: 1.2394496971880882.\n",
            "Trial 20 finished with value: 17.19754729352847 and parameters: {'x': 6.048828051449062, 'y': -2.209536359638749}. Best is trial 18 with value: 1.2394496971880882.\n"
          ]
        },
        {
          "output_type": "stream",
          "name": "stderr",
          "text": [
            "\u001b[32m[I 2022-12-26 15:25:41,564]\u001b[0m Trial 21 finished with value: 0.6776787126818621 and parameters: {'x': 0.6844617216639852, 'y': 2.2246553356614513}. Best is trial 21 with value: 0.6776787126818621.\u001b[0m\n"
          ]
        },
        {
          "output_type": "stream",
          "name": "stdout",
          "text": [
            "Trial 21 finished with value: 0.6776787126818621 and parameters: {'x': 0.6844617216639852, 'y': 2.2246553356614513}. Best is trial 21 with value: 0.6776787126818621.\n",
            "Trial 21 finished with value: 0.6776787126818621 and parameters: {'x': 0.6844617216639852, 'y': 2.2246553356614513}. Best is trial 21 with value: 0.6776787126818621.\n",
            "Trial 21 finished with value: 0.6776787126818621 and parameters: {'x': 0.6844617216639852, 'y': 2.2246553356614513}. Best is trial 21 with value: 0.6776787126818621.\n",
            "Trial 21 finished with value: 0.6776787126818621 and parameters: {'x': 0.6844617216639852, 'y': 2.2246553356614513}. Best is trial 21 with value: 0.6776787126818621.\n",
            "Trial 21 finished with value: 0.6776787126818621 and parameters: {'x': 0.6844617216639852, 'y': 2.2246553356614513}. Best is trial 21 with value: 0.6776787126818621.\n",
            "Trial 21 finished with value: 0.6776787126818621 and parameters: {'x': 0.6844617216639852, 'y': 2.2246553356614513}. Best is trial 21 with value: 0.6776787126818621.\n",
            "Trial 21 finished with value: 0.6776787126818621 and parameters: {'x': 0.6844617216639852, 'y': 2.2246553356614513}. Best is trial 21 with value: 0.6776787126818621.\n"
          ]
        },
        {
          "output_type": "stream",
          "name": "stderr",
          "text": [
            "\u001b[32m[I 2022-12-26 15:25:41,600]\u001b[0m Trial 22 finished with value: 0.2099350093224861 and parameters: {'x': 1.730955309579304, 'y': 2.201308473572532}. Best is trial 22 with value: 0.2099350093224861.\u001b[0m\n"
          ]
        },
        {
          "output_type": "stream",
          "name": "stdout",
          "text": [
            "Trial 22 finished with value: 0.2099350093224861 and parameters: {'x': 1.730955309579304, 'y': 2.201308473572532}. Best is trial 22 with value: 0.2099350093224861.\n",
            "Trial 22 finished with value: 0.2099350093224861 and parameters: {'x': 1.730955309579304, 'y': 2.201308473572532}. Best is trial 22 with value: 0.2099350093224861.\n",
            "Trial 22 finished with value: 0.2099350093224861 and parameters: {'x': 1.730955309579304, 'y': 2.201308473572532}. Best is trial 22 with value: 0.2099350093224861.\n",
            "Trial 22 finished with value: 0.2099350093224861 and parameters: {'x': 1.730955309579304, 'y': 2.201308473572532}. Best is trial 22 with value: 0.2099350093224861.\n",
            "Trial 22 finished with value: 0.2099350093224861 and parameters: {'x': 1.730955309579304, 'y': 2.201308473572532}. Best is trial 22 with value: 0.2099350093224861.\n",
            "Trial 22 finished with value: 0.2099350093224861 and parameters: {'x': 1.730955309579304, 'y': 2.201308473572532}. Best is trial 22 with value: 0.2099350093224861.\n",
            "Trial 22 finished with value: 0.2099350093224861 and parameters: {'x': 1.730955309579304, 'y': 2.201308473572532}. Best is trial 22 with value: 0.2099350093224861.\n"
          ]
        },
        {
          "output_type": "stream",
          "name": "stderr",
          "text": [
            "\u001b[32m[I 2022-12-26 15:25:41,629]\u001b[0m Trial 23 finished with value: 0.1965419477312711 and parameters: {'x': 1.3027676467933482, 'y': 1.9130932477634377}. Best is trial 23 with value: 0.1965419477312711.\u001b[0m\n"
          ]
        },
        {
          "output_type": "stream",
          "name": "stdout",
          "text": [
            "Trial 23 finished with value: 0.1965419477312711 and parameters: {'x': 1.3027676467933482, 'y': 1.9130932477634377}. Best is trial 23 with value: 0.1965419477312711.\n",
            "Trial 23 finished with value: 0.1965419477312711 and parameters: {'x': 1.3027676467933482, 'y': 1.9130932477634377}. Best is trial 23 with value: 0.1965419477312711.\n",
            "Trial 23 finished with value: 0.1965419477312711 and parameters: {'x': 1.3027676467933482, 'y': 1.9130932477634377}. Best is trial 23 with value: 0.1965419477312711.\n",
            "Trial 23 finished with value: 0.1965419477312711 and parameters: {'x': 1.3027676467933482, 'y': 1.9130932477634377}. Best is trial 23 with value: 0.1965419477312711.\n",
            "Trial 23 finished with value: 0.1965419477312711 and parameters: {'x': 1.3027676467933482, 'y': 1.9130932477634377}. Best is trial 23 with value: 0.1965419477312711.\n",
            "Trial 23 finished with value: 0.1965419477312711 and parameters: {'x': 1.3027676467933482, 'y': 1.9130932477634377}. Best is trial 23 with value: 0.1965419477312711.\n",
            "Trial 23 finished with value: 0.1965419477312711 and parameters: {'x': 1.3027676467933482, 'y': 1.9130932477634377}. Best is trial 23 with value: 0.1965419477312711.\n"
          ]
        },
        {
          "output_type": "stream",
          "name": "stderr",
          "text": [
            "\u001b[32m[I 2022-12-26 15:25:41,734]\u001b[0m Trial 24 finished with value: 1.233048782047975 and parameters: {'x': -1.1967485213600195, 'y': 1.0238368045663946}. Best is trial 23 with value: 0.1965419477312711.\u001b[0m\n"
          ]
        },
        {
          "output_type": "stream",
          "name": "stdout",
          "text": [
            "Trial 24 finished with value: 1.233048782047975 and parameters: {'x': -1.1967485213600195, 'y': 1.0238368045663946}. Best is trial 23 with value: 0.1965419477312711.\n",
            "Trial 24 finished with value: 1.233048782047975 and parameters: {'x': -1.1967485213600195, 'y': 1.0238368045663946}. Best is trial 23 with value: 0.1965419477312711.\n",
            "Trial 24 finished with value: 1.233048782047975 and parameters: {'x': -1.1967485213600195, 'y': 1.0238368045663946}. Best is trial 23 with value: 0.1965419477312711.\n",
            "Trial 24 finished with value: 1.233048782047975 and parameters: {'x': -1.1967485213600195, 'y': 1.0238368045663946}. Best is trial 23 with value: 0.1965419477312711.\n",
            "Trial 24 finished with value: 1.233048782047975 and parameters: {'x': -1.1967485213600195, 'y': 1.0238368045663946}. Best is trial 23 with value: 0.1965419477312711.\n",
            "Trial 24 finished with value: 1.233048782047975 and parameters: {'x': -1.1967485213600195, 'y': 1.0238368045663946}. Best is trial 23 with value: 0.1965419477312711.\n",
            "Trial 24 finished with value: 1.233048782047975 and parameters: {'x': -1.1967485213600195, 'y': 1.0238368045663946}. Best is trial 23 with value: 0.1965419477312711.\n"
          ]
        },
        {
          "output_type": "stream",
          "name": "stderr",
          "text": [
            "\u001b[32m[I 2022-12-26 15:25:41,847]\u001b[0m Trial 25 finished with value: 0.11324112514795137 and parameters: {'x': 1.1333077662587836, 'y': 1.54165500509645}. Best is trial 25 with value: 0.11324112514795137.\u001b[0m\n"
          ]
        },
        {
          "output_type": "stream",
          "name": "stdout",
          "text": [
            "Trial 25 finished with value: 0.11324112514795137 and parameters: {'x': 1.1333077662587836, 'y': 1.54165500509645}. Best is trial 25 with value: 0.11324112514795137.\n",
            "Trial 25 finished with value: 0.11324112514795137 and parameters: {'x': 1.1333077662587836, 'y': 1.54165500509645}. Best is trial 25 with value: 0.11324112514795137.\n",
            "Trial 25 finished with value: 0.11324112514795137 and parameters: {'x': 1.1333077662587836, 'y': 1.54165500509645}. Best is trial 25 with value: 0.11324112514795137.\n",
            "Trial 25 finished with value: 0.11324112514795137 and parameters: {'x': 1.1333077662587836, 'y': 1.54165500509645}. Best is trial 25 with value: 0.11324112514795137.\n",
            "Trial 25 finished with value: 0.11324112514795137 and parameters: {'x': 1.1333077662587836, 'y': 1.54165500509645}. Best is trial 25 with value: 0.11324112514795137.\n",
            "Trial 25 finished with value: 0.11324112514795137 and parameters: {'x': 1.1333077662587836, 'y': 1.54165500509645}. Best is trial 25 with value: 0.11324112514795137.\n",
            "Trial 25 finished with value: 0.11324112514795137 and parameters: {'x': 1.1333077662587836, 'y': 1.54165500509645}. Best is trial 25 with value: 0.11324112514795137.\n"
          ]
        },
        {
          "output_type": "stream",
          "name": "stderr",
          "text": [
            "\u001b[32m[I 2022-12-26 15:25:41,989]\u001b[0m Trial 26 finished with value: 2.9518973008717913 and parameters: {'x': 1.9834755283176733, 'y': -1.4510916789098625}. Best is trial 25 with value: 0.11324112514795137.\u001b[0m\n"
          ]
        },
        {
          "output_type": "stream",
          "name": "stdout",
          "text": [
            "Trial 26 finished with value: 2.9518973008717913 and parameters: {'x': 1.9834755283176733, 'y': -1.4510916789098625}. Best is trial 25 with value: 0.11324112514795137.\n",
            "Trial 26 finished with value: 2.9518973008717913 and parameters: {'x': 1.9834755283176733, 'y': -1.4510916789098625}. Best is trial 25 with value: 0.11324112514795137.\n",
            "Trial 26 finished with value: 2.9518973008717913 and parameters: {'x': 1.9834755283176733, 'y': -1.4510916789098625}. Best is trial 25 with value: 0.11324112514795137.\n",
            "Trial 26 finished with value: 2.9518973008717913 and parameters: {'x': 1.9834755283176733, 'y': -1.4510916789098625}. Best is trial 25 with value: 0.11324112514795137.\n",
            "Trial 26 finished with value: 2.9518973008717913 and parameters: {'x': 1.9834755283176733, 'y': -1.4510916789098625}. Best is trial 25 with value: 0.11324112514795137.\n",
            "Trial 26 finished with value: 2.9518973008717913 and parameters: {'x': 1.9834755283176733, 'y': -1.4510916789098625}. Best is trial 25 with value: 0.11324112514795137.\n",
            "Trial 26 finished with value: 2.9518973008717913 and parameters: {'x': 1.9834755283176733, 'y': -1.4510916789098625}. Best is trial 25 with value: 0.11324112514795137.\n"
          ]
        },
        {
          "output_type": "stream",
          "name": "stderr",
          "text": [
            "\u001b[32m[I 2022-12-26 15:25:42,045]\u001b[0m Trial 27 finished with value: 13.49766895169606 and parameters: {'x': -1.9355500083609167, 'y': 5.37992180981447}. Best is trial 25 with value: 0.11324112514795137.\u001b[0m\n"
          ]
        },
        {
          "output_type": "stream",
          "name": "stdout",
          "text": [
            "Trial 27 finished with value: 13.49766895169606 and parameters: {'x': -1.9355500083609167, 'y': 5.37992180981447}. Best is trial 25 with value: 0.11324112514795137.\n",
            "Trial 27 finished with value: 13.49766895169606 and parameters: {'x': -1.9355500083609167, 'y': 5.37992180981447}. Best is trial 25 with value: 0.11324112514795137.\n",
            "Trial 27 finished with value: 13.49766895169606 and parameters: {'x': -1.9355500083609167, 'y': 5.37992180981447}. Best is trial 25 with value: 0.11324112514795137.\n",
            "Trial 27 finished with value: 13.49766895169606 and parameters: {'x': -1.9355500083609167, 'y': 5.37992180981447}. Best is trial 25 with value: 0.11324112514795137.\n",
            "Trial 27 finished with value: 13.49766895169606 and parameters: {'x': -1.9355500083609167, 'y': 5.37992180981447}. Best is trial 25 with value: 0.11324112514795137.\n",
            "Trial 27 finished with value: 13.49766895169606 and parameters: {'x': -1.9355500083609167, 'y': 5.37992180981447}. Best is trial 25 with value: 0.11324112514795137.\n",
            "Trial 27 finished with value: 13.49766895169606 and parameters: {'x': -1.9355500083609167, 'y': 5.37992180981447}. Best is trial 25 with value: 0.11324112514795137.\n"
          ]
        },
        {
          "output_type": "stream",
          "name": "stderr",
          "text": [
            "\u001b[32m[I 2022-12-26 15:25:42,089]\u001b[0m Trial 28 finished with value: 12.462833033641857 and parameters: {'x': -3.425861611590393, 'y': -9.959230179512844}. Best is trial 25 with value: 0.11324112514795137.\u001b[0m\n"
          ]
        },
        {
          "output_type": "stream",
          "name": "stdout",
          "text": [
            "Trial 28 finished with value: 12.462833033641857 and parameters: {'x': -3.425861611590393, 'y': -9.959230179512844}. Best is trial 25 with value: 0.11324112514795137.\n",
            "Trial 28 finished with value: 12.462833033641857 and parameters: {'x': -3.425861611590393, 'y': -9.959230179512844}. Best is trial 25 with value: 0.11324112514795137.\n",
            "Trial 28 finished with value: 12.462833033641857 and parameters: {'x': -3.425861611590393, 'y': -9.959230179512844}. Best is trial 25 with value: 0.11324112514795137.\n",
            "Trial 28 finished with value: 12.462833033641857 and parameters: {'x': -3.425861611590393, 'y': -9.959230179512844}. Best is trial 25 with value: 0.11324112514795137.\n",
            "Trial 28 finished with value: 12.462833033641857 and parameters: {'x': -3.425861611590393, 'y': -9.959230179512844}. Best is trial 25 with value: 0.11324112514795137.\n",
            "Trial 28 finished with value: 12.462833033641857 and parameters: {'x': -3.425861611590393, 'y': -9.959230179512844}. Best is trial 25 with value: 0.11324112514795137.\n",
            "Trial 28 finished with value: 12.462833033641857 and parameters: {'x': -3.425861611590393, 'y': -9.959230179512844}. Best is trial 25 with value: 0.11324112514795137.\n"
          ]
        },
        {
          "output_type": "stream",
          "name": "stderr",
          "text": [
            "\u001b[32m[I 2022-12-26 15:25:42,136]\u001b[0m Trial 29 finished with value: 0.07837906769204095 and parameters: {'x': 1.2108993871841789, 'y': 1.4085333052341231}. Best is trial 29 with value: 0.07837906769204095.\u001b[0m\n"
          ]
        },
        {
          "output_type": "stream",
          "name": "stdout",
          "text": [
            "Trial 29 finished with value: 0.07837906769204095 and parameters: {'x': 1.2108993871841789, 'y': 1.4085333052341231}. Best is trial 29 with value: 0.07837906769204095.\n",
            "Trial 29 finished with value: 0.07837906769204095 and parameters: {'x': 1.2108993871841789, 'y': 1.4085333052341231}. Best is trial 29 with value: 0.07837906769204095.\n",
            "Trial 29 finished with value: 0.07837906769204095 and parameters: {'x': 1.2108993871841789, 'y': 1.4085333052341231}. Best is trial 29 with value: 0.07837906769204095.\n",
            "Trial 29 finished with value: 0.07837906769204095 and parameters: {'x': 1.2108993871841789, 'y': 1.4085333052341231}. Best is trial 29 with value: 0.07837906769204095.\n",
            "Trial 29 finished with value: 0.07837906769204095 and parameters: {'x': 1.2108993871841789, 'y': 1.4085333052341231}. Best is trial 29 with value: 0.07837906769204095.\n",
            "Trial 29 finished with value: 0.07837906769204095 and parameters: {'x': 1.2108993871841789, 'y': 1.4085333052341231}. Best is trial 29 with value: 0.07837906769204095.\n",
            "Trial 29 finished with value: 0.07837906769204095 and parameters: {'x': 1.2108993871841789, 'y': 1.4085333052341231}. Best is trial 29 with value: 0.07837906769204095.\n"
          ]
        },
        {
          "output_type": "stream",
          "name": "stderr",
          "text": [
            "\u001b[32m[I 2022-12-26 15:25:42,194]\u001b[0m Trial 30 finished with value: 11.16012166986981 and parameters: {'x': 3.6743547488118704, 'y': -3.0056602651668367}. Best is trial 29 with value: 0.07837906769204095.\u001b[0m\n"
          ]
        },
        {
          "output_type": "stream",
          "name": "stdout",
          "text": [
            "Trial 30 finished with value: 11.16012166986981 and parameters: {'x': 3.6743547488118704, 'y': -3.0056602651668367}. Best is trial 29 with value: 0.07837906769204095.\n",
            "Trial 30 finished with value: 11.16012166986981 and parameters: {'x': 3.6743547488118704, 'y': -3.0056602651668367}. Best is trial 29 with value: 0.07837906769204095.\n",
            "Trial 30 finished with value: 11.16012166986981 and parameters: {'x': 3.6743547488118704, 'y': -3.0056602651668367}. Best is trial 29 with value: 0.07837906769204095.\n",
            "Trial 30 finished with value: 11.16012166986981 and parameters: {'x': 3.6743547488118704, 'y': -3.0056602651668367}. Best is trial 29 with value: 0.07837906769204095.\n",
            "Trial 30 finished with value: 11.16012166986981 and parameters: {'x': 3.6743547488118704, 'y': -3.0056602651668367}. Best is trial 29 with value: 0.07837906769204095.\n",
            "Trial 30 finished with value: 11.16012166986981 and parameters: {'x': 3.6743547488118704, 'y': -3.0056602651668367}. Best is trial 29 with value: 0.07837906769204095.\n",
            "Trial 30 finished with value: 11.16012166986981 and parameters: {'x': 3.6743547488118704, 'y': -3.0056602651668367}. Best is trial 29 with value: 0.07837906769204095.\n"
          ]
        },
        {
          "output_type": "stream",
          "name": "stderr",
          "text": [
            "\u001b[32m[I 2022-12-26 15:25:42,249]\u001b[0m Trial 31 finished with value: 0.7221827312798095 and parameters: {'x': 1.5007494059798063, 'y': -0.1781675098441442}. Best is trial 29 with value: 0.07837906769204095.\u001b[0m\n"
          ]
        },
        {
          "output_type": "stream",
          "name": "stdout",
          "text": [
            "Trial 31 finished with value: 0.7221827312798095 and parameters: {'x': 1.5007494059798063, 'y': -0.1781675098441442}. Best is trial 29 with value: 0.07837906769204095.\n",
            "Trial 31 finished with value: 0.7221827312798095 and parameters: {'x': 1.5007494059798063, 'y': -0.1781675098441442}. Best is trial 29 with value: 0.07837906769204095.\n",
            "Trial 31 finished with value: 0.7221827312798095 and parameters: {'x': 1.5007494059798063, 'y': -0.1781675098441442}. Best is trial 29 with value: 0.07837906769204095.\n",
            "Trial 31 finished with value: 0.7221827312798095 and parameters: {'x': 1.5007494059798063, 'y': -0.1781675098441442}. Best is trial 29 with value: 0.07837906769204095.\n",
            "Trial 31 finished with value: 0.7221827312798095 and parameters: {'x': 1.5007494059798063, 'y': -0.1781675098441442}. Best is trial 29 with value: 0.07837906769204095.\n",
            "Trial 31 finished with value: 0.7221827312798095 and parameters: {'x': 1.5007494059798063, 'y': -0.1781675098441442}. Best is trial 29 with value: 0.07837906769204095.\n",
            "Trial 31 finished with value: 0.7221827312798095 and parameters: {'x': 1.5007494059798063, 'y': -0.1781675098441442}. Best is trial 29 with value: 0.07837906769204095.\n"
          ]
        },
        {
          "output_type": "stream",
          "name": "stderr",
          "text": [
            "\u001b[32m[I 2022-12-26 15:25:42,301]\u001b[0m Trial 32 finished with value: 1.67313826425544 and parameters: {'x': -0.8800410620114476, 'y': 1.7017308284029742}. Best is trial 29 with value: 0.07837906769204095.\u001b[0m\n"
          ]
        },
        {
          "output_type": "stream",
          "name": "stdout",
          "text": [
            "Trial 32 finished with value: 1.67313826425544 and parameters: {'x': -0.8800410620114476, 'y': 1.7017308284029742}. Best is trial 29 with value: 0.07837906769204095.\n",
            "Trial 32 finished with value: 1.67313826425544 and parameters: {'x': -0.8800410620114476, 'y': 1.7017308284029742}. Best is trial 29 with value: 0.07837906769204095.\n",
            "Trial 32 finished with value: 1.67313826425544 and parameters: {'x': -0.8800410620114476, 'y': 1.7017308284029742}. Best is trial 29 with value: 0.07837906769204095.\n",
            "Trial 32 finished with value: 1.67313826425544 and parameters: {'x': -0.8800410620114476, 'y': 1.7017308284029742}. Best is trial 29 with value: 0.07837906769204095.\n",
            "Trial 32 finished with value: 1.67313826425544 and parameters: {'x': -0.8800410620114476, 'y': 1.7017308284029742}. Best is trial 29 with value: 0.07837906769204095.\n",
            "Trial 32 finished with value: 1.67313826425544 and parameters: {'x': -0.8800410620114476, 'y': 1.7017308284029742}. Best is trial 29 with value: 0.07837906769204095.\n",
            "Trial 32 finished with value: 1.67313826425544 and parameters: {'x': -0.8800410620114476, 'y': 1.7017308284029742}. Best is trial 29 with value: 0.07837906769204095.\n"
          ]
        },
        {
          "output_type": "stream",
          "name": "stderr",
          "text": [
            "\u001b[32m[I 2022-12-26 15:25:42,350]\u001b[0m Trial 33 finished with value: 4.430891905687215 and parameters: {'x': 3.438617915790326, 'y': -0.7364877506047933}. Best is trial 29 with value: 0.07837906769204095.\u001b[0m\n"
          ]
        },
        {
          "output_type": "stream",
          "name": "stdout",
          "text": [
            "Trial 33 finished with value: 4.430891905687215 and parameters: {'x': 3.438617915790326, 'y': -0.7364877506047933}. Best is trial 29 with value: 0.07837906769204095.\n",
            "Trial 33 finished with value: 4.430891905687215 and parameters: {'x': 3.438617915790326, 'y': -0.7364877506047933}. Best is trial 29 with value: 0.07837906769204095.\n",
            "Trial 33 finished with value: 4.430891905687215 and parameters: {'x': 3.438617915790326, 'y': -0.7364877506047933}. Best is trial 29 with value: 0.07837906769204095.\n",
            "Trial 33 finished with value: 4.430891905687215 and parameters: {'x': 3.438617915790326, 'y': -0.7364877506047933}. Best is trial 29 with value: 0.07837906769204095.\n",
            "Trial 33 finished with value: 4.430891905687215 and parameters: {'x': 3.438617915790326, 'y': -0.7364877506047933}. Best is trial 29 with value: 0.07837906769204095.\n",
            "Trial 33 finished with value: 4.430891905687215 and parameters: {'x': 3.438617915790326, 'y': -0.7364877506047933}. Best is trial 29 with value: 0.07837906769204095.\n",
            "Trial 33 finished with value: 4.430891905687215 and parameters: {'x': 3.438617915790326, 'y': -0.7364877506047933}. Best is trial 29 with value: 0.07837906769204095.\n"
          ]
        },
        {
          "output_type": "stream",
          "name": "stderr",
          "text": [
            "\u001b[32m[I 2022-12-26 15:25:42,406]\u001b[0m Trial 34 finished with value: 3.993927298595763 and parameters: {'x': 1.275474698159492, 'y': 5.065883173276411}. Best is trial 29 with value: 0.07837906769204095.\u001b[0m\n"
          ]
        },
        {
          "output_type": "stream",
          "name": "stdout",
          "text": [
            "Trial 34 finished with value: 3.993927298595763 and parameters: {'x': 1.275474698159492, 'y': 5.065883173276411}. Best is trial 29 with value: 0.07837906769204095.\n",
            "Trial 34 finished with value: 3.993927298595763 and parameters: {'x': 1.275474698159492, 'y': 5.065883173276411}. Best is trial 29 with value: 0.07837906769204095.\n",
            "Trial 34 finished with value: 3.993927298595763 and parameters: {'x': 1.275474698159492, 'y': 5.065883173276411}. Best is trial 29 with value: 0.07837906769204095.\n",
            "Trial 34 finished with value: 3.993927298595763 and parameters: {'x': 1.275474698159492, 'y': 5.065883173276411}. Best is trial 29 with value: 0.07837906769204095.\n",
            "Trial 34 finished with value: 3.993927298595763 and parameters: {'x': 1.275474698159492, 'y': 5.065883173276411}. Best is trial 29 with value: 0.07837906769204095.\n",
            "Trial 34 finished with value: 3.993927298595763 and parameters: {'x': 1.275474698159492, 'y': 5.065883173276411}. Best is trial 29 with value: 0.07837906769204095.\n",
            "Trial 34 finished with value: 3.993927298595763 and parameters: {'x': 1.275474698159492, 'y': 5.065883173276411}. Best is trial 29 with value: 0.07837906769204095.\n"
          ]
        },
        {
          "output_type": "stream",
          "name": "stderr",
          "text": [
            "\u001b[32m[I 2022-12-26 15:25:42,467]\u001b[0m Trial 35 finished with value: 6.268522571781208 and parameters: {'x': -3.3258029927992316, 'y': 1.670646604701214}. Best is trial 29 with value: 0.07837906769204095.\u001b[0m\n"
          ]
        },
        {
          "output_type": "stream",
          "name": "stdout",
          "text": [
            "Trial 35 finished with value: 6.268522571781208 and parameters: {'x': -3.3258029927992316, 'y': 1.670646604701214}. Best is trial 29 with value: 0.07837906769204095.\n",
            "Trial 35 finished with value: 6.268522571781208 and parameters: {'x': -3.3258029927992316, 'y': 1.670646604701214}. Best is trial 29 with value: 0.07837906769204095.\n",
            "Trial 35 finished with value: 6.268522571781208 and parameters: {'x': -3.3258029927992316, 'y': 1.670646604701214}. Best is trial 29 with value: 0.07837906769204095.\n",
            "Trial 35 finished with value: 6.268522571781208 and parameters: {'x': -3.3258029927992316, 'y': 1.670646604701214}. Best is trial 29 with value: 0.07837906769204095.\n",
            "Trial 35 finished with value: 6.268522571781208 and parameters: {'x': -3.3258029927992316, 'y': 1.670646604701214}. Best is trial 29 with value: 0.07837906769204095.\n",
            "Trial 35 finished with value: 6.268522571781208 and parameters: {'x': -3.3258029927992316, 'y': 1.670646604701214}. Best is trial 29 with value: 0.07837906769204095.\n",
            "Trial 35 finished with value: 6.268522571781208 and parameters: {'x': -3.3258029927992316, 'y': 1.670646604701214}. Best is trial 29 with value: 0.07837906769204095.\n"
          ]
        },
        {
          "output_type": "stream",
          "name": "stderr",
          "text": [
            "\u001b[32m[I 2022-12-26 15:25:42,532]\u001b[0m Trial 36 finished with value: 4.802155784561293 and parameters: {'x': -0.44161749407598405, 'y': 3.886649292363669}. Best is trial 29 with value: 0.07837906769204095.\u001b[0m\n"
          ]
        },
        {
          "output_type": "stream",
          "name": "stdout",
          "text": [
            "Trial 36 finished with value: 4.802155784561293 and parameters: {'x': -0.44161749407598405, 'y': 3.886649292363669}. Best is trial 29 with value: 0.07837906769204095.\n",
            "Trial 36 finished with value: 4.802155784561293 and parameters: {'x': -0.44161749407598405, 'y': 3.886649292363669}. Best is trial 29 with value: 0.07837906769204095.\n",
            "Trial 36 finished with value: 4.802155784561293 and parameters: {'x': -0.44161749407598405, 'y': 3.886649292363669}. Best is trial 29 with value: 0.07837906769204095.\n",
            "Trial 36 finished with value: 4.802155784561293 and parameters: {'x': -0.44161749407598405, 'y': 3.886649292363669}. Best is trial 29 with value: 0.07837906769204095.\n",
            "Trial 36 finished with value: 4.802155784561293 and parameters: {'x': -0.44161749407598405, 'y': 3.886649292363669}. Best is trial 29 with value: 0.07837906769204095.\n",
            "Trial 36 finished with value: 4.802155784561293 and parameters: {'x': -0.44161749407598405, 'y': 3.886649292363669}. Best is trial 29 with value: 0.07837906769204095.\n",
            "Trial 36 finished with value: 4.802155784561293 and parameters: {'x': -0.44161749407598405, 'y': 3.886649292363669}. Best is trial 29 with value: 0.07837906769204095.\n"
          ]
        },
        {
          "output_type": "stream",
          "name": "stderr",
          "text": [
            "\u001b[32m[I 2022-12-26 15:25:42,575]\u001b[0m Trial 37 finished with value: 1.899684223042291 and parameters: {'x': -2.33764887917918, 'y': -4.706967758007458}. Best is trial 29 with value: 0.07837906769204095.\u001b[0m\n"
          ]
        },
        {
          "output_type": "stream",
          "name": "stdout",
          "text": [
            "Trial 37 finished with value: 1.899684223042291 and parameters: {'x': -2.33764887917918, 'y': -4.706967758007458}. Best is trial 29 with value: 0.07837906769204095.\n",
            "Trial 37 finished with value: 1.899684223042291 and parameters: {'x': -2.33764887917918, 'y': -4.706967758007458}. Best is trial 29 with value: 0.07837906769204095.\n",
            "Trial 37 finished with value: 1.899684223042291 and parameters: {'x': -2.33764887917918, 'y': -4.706967758007458}. Best is trial 29 with value: 0.07837906769204095.\n",
            "Trial 37 finished with value: 1.899684223042291 and parameters: {'x': -2.33764887917918, 'y': -4.706967758007458}. Best is trial 29 with value: 0.07837906769204095.\n",
            "Trial 37 finished with value: 1.899684223042291 and parameters: {'x': -2.33764887917918, 'y': -4.706967758007458}. Best is trial 29 with value: 0.07837906769204095.\n",
            "Trial 37 finished with value: 1.899684223042291 and parameters: {'x': -2.33764887917918, 'y': -4.706967758007458}. Best is trial 29 with value: 0.07837906769204095.\n",
            "Trial 37 finished with value: 1.899684223042291 and parameters: {'x': -2.33764887917918, 'y': -4.706967758007458}. Best is trial 29 with value: 0.07837906769204095.\n"
          ]
        },
        {
          "output_type": "stream",
          "name": "stderr",
          "text": [
            "\u001b[32m[I 2022-12-26 15:25:42,616]\u001b[0m Trial 38 finished with value: 2.7799998492123983 and parameters: {'x': 3.137134767710407, 'y': 5.934969052930036}. Best is trial 29 with value: 0.07837906769204095.\u001b[0m\n"
          ]
        },
        {
          "output_type": "stream",
          "name": "stdout",
          "text": [
            "Trial 38 finished with value: 2.7799998492123983 and parameters: {'x': 3.137134767710407, 'y': 5.934969052930036}. Best is trial 29 with value: 0.07837906769204095.\n",
            "Trial 38 finished with value: 2.7799998492123983 and parameters: {'x': 3.137134767710407, 'y': 5.934969052930036}. Best is trial 29 with value: 0.07837906769204095.\n",
            "Trial 38 finished with value: 2.7799998492123983 and parameters: {'x': 3.137134767710407, 'y': 5.934969052930036}. Best is trial 29 with value: 0.07837906769204095.\n",
            "Trial 38 finished with value: 2.7799998492123983 and parameters: {'x': 3.137134767710407, 'y': 5.934969052930036}. Best is trial 29 with value: 0.07837906769204095.\n",
            "Trial 38 finished with value: 2.7799998492123983 and parameters: {'x': 3.137134767710407, 'y': 5.934969052930036}. Best is trial 29 with value: 0.07837906769204095.\n",
            "Trial 38 finished with value: 2.7799998492123983 and parameters: {'x': 3.137134767710407, 'y': 5.934969052930036}. Best is trial 29 with value: 0.07837906769204095.\n",
            "Trial 38 finished with value: 2.7799998492123983 and parameters: {'x': 3.137134767710407, 'y': 5.934969052930036}. Best is trial 29 with value: 0.07837906769204095.\n"
          ]
        },
        {
          "output_type": "stream",
          "name": "stderr",
          "text": [
            "\u001b[32m[I 2022-12-26 15:25:42,663]\u001b[0m Trial 39 finished with value: 9.14775200938252 and parameters: {'x': -5.086051644160834, 'y': 0.904919340916694}. Best is trial 29 with value: 0.07837906769204095.\u001b[0m\n"
          ]
        },
        {
          "output_type": "stream",
          "name": "stdout",
          "text": [
            "Trial 39 finished with value: 9.14775200938252 and parameters: {'x': -5.086051644160834, 'y': 0.904919340916694}. Best is trial 29 with value: 0.07837906769204095.\n",
            "Trial 39 finished with value: 9.14775200938252 and parameters: {'x': -5.086051644160834, 'y': 0.904919340916694}. Best is trial 29 with value: 0.07837906769204095.\n",
            "Trial 39 finished with value: 9.14775200938252 and parameters: {'x': -5.086051644160834, 'y': 0.904919340916694}. Best is trial 29 with value: 0.07837906769204095.\n",
            "Trial 39 finished with value: 9.14775200938252 and parameters: {'x': -5.086051644160834, 'y': 0.904919340916694}. Best is trial 29 with value: 0.07837906769204095.\n",
            "Trial 39 finished with value: 9.14775200938252 and parameters: {'x': -5.086051644160834, 'y': 0.904919340916694}. Best is trial 29 with value: 0.07837906769204095.\n",
            "Trial 39 finished with value: 9.14775200938252 and parameters: {'x': -5.086051644160834, 'y': 0.904919340916694}. Best is trial 29 with value: 0.07837906769204095.\n",
            "Trial 39 finished with value: 9.14775200938252 and parameters: {'x': -5.086051644160834, 'y': 0.904919340916694}. Best is trial 29 with value: 0.07837906769204095.\n"
          ]
        },
        {
          "output_type": "stream",
          "name": "stderr",
          "text": [
            "\u001b[32m[I 2022-12-26 15:25:42,695]\u001b[0m Trial 40 finished with value: 1.6814559065751717 and parameters: {'x': 0.8465514281497284, 'y': 3.3035591440209986}. Best is trial 29 with value: 0.07837906769204095.\u001b[0m\n"
          ]
        },
        {
          "output_type": "stream",
          "name": "stdout",
          "text": [
            "Trial 40 finished with value: 1.6814559065751717 and parameters: {'x': 0.8465514281497284, 'y': 3.3035591440209986}. Best is trial 29 with value: 0.07837906769204095.\n",
            "Trial 40 finished with value: 1.6814559065751717 and parameters: {'x': 0.8465514281497284, 'y': 3.3035591440209986}. Best is trial 29 with value: 0.07837906769204095.\n",
            "Trial 40 finished with value: 1.6814559065751717 and parameters: {'x': 0.8465514281497284, 'y': 3.3035591440209986}. Best is trial 29 with value: 0.07837906769204095.\n",
            "Trial 40 finished with value: 1.6814559065751717 and parameters: {'x': 0.8465514281497284, 'y': 3.3035591440209986}. Best is trial 29 with value: 0.07837906769204095.\n",
            "Trial 40 finished with value: 1.6814559065751717 and parameters: {'x': 0.8465514281497284, 'y': 3.3035591440209986}. Best is trial 29 with value: 0.07837906769204095.\n",
            "Trial 40 finished with value: 1.6814559065751717 and parameters: {'x': 0.8465514281497284, 'y': 3.3035591440209986}. Best is trial 29 with value: 0.07837906769204095.\n",
            "Trial 40 finished with value: 1.6814559065751717 and parameters: {'x': 0.8465514281497284, 'y': 3.3035591440209986}. Best is trial 29 with value: 0.07837906769204095.\n"
          ]
        },
        {
          "output_type": "stream",
          "name": "stderr",
          "text": [
            "\u001b[32m[I 2022-12-26 15:25:42,738]\u001b[0m Trial 41 finished with value: 0.8922263538046773 and parameters: {'x': 0.4360914531827349, 'y': 2.247405657170477}. Best is trial 29 with value: 0.07837906769204095.\u001b[0m\n"
          ]
        },
        {
          "output_type": "stream",
          "name": "stdout",
          "text": [
            "Trial 41 finished with value: 0.8922263538046773 and parameters: {'x': 0.4360914531827349, 'y': 2.247405657170477}. Best is trial 29 with value: 0.07837906769204095.\n",
            "Trial 41 finished with value: 0.8922263538046773 and parameters: {'x': 0.4360914531827349, 'y': 2.247405657170477}. Best is trial 29 with value: 0.07837906769204095.\n",
            "Trial 41 finished with value: 0.8922263538046773 and parameters: {'x': 0.4360914531827349, 'y': 2.247405657170477}. Best is trial 29 with value: 0.07837906769204095.\n",
            "Trial 41 finished with value: 0.8922263538046773 and parameters: {'x': 0.4360914531827349, 'y': 2.247405657170477}. Best is trial 29 with value: 0.07837906769204095.\n",
            "Trial 41 finished with value: 0.8922263538046773 and parameters: {'x': 0.4360914531827349, 'y': 2.247405657170477}. Best is trial 29 with value: 0.07837906769204095.\n",
            "Trial 41 finished with value: 0.8922263538046773 and parameters: {'x': 0.4360914531827349, 'y': 2.247405657170477}. Best is trial 29 with value: 0.07837906769204095.\n",
            "Trial 41 finished with value: 0.8922263538046773 and parameters: {'x': 0.4360914531827349, 'y': 2.247405657170477}. Best is trial 29 with value: 0.07837906769204095.\n"
          ]
        },
        {
          "output_type": "stream",
          "name": "stderr",
          "text": [
            "\u001b[32m[I 2022-12-26 15:25:42,774]\u001b[0m Trial 42 finished with value: 0.4870106760763021 and parameters: {'x': 1.5885207977811875, 'y': 0.2416497046209345}. Best is trial 29 with value: 0.07837906769204095.\u001b[0m\n"
          ]
        },
        {
          "output_type": "stream",
          "name": "stdout",
          "text": [
            "Trial 42 finished with value: 0.4870106760763021 and parameters: {'x': 1.5885207977811875, 'y': 0.2416497046209345}. Best is trial 29 with value: 0.07837906769204095.\n",
            "Trial 42 finished with value: 0.4870106760763021 and parameters: {'x': 1.5885207977811875, 'y': 0.2416497046209345}. Best is trial 29 with value: 0.07837906769204095.\n",
            "Trial 42 finished with value: 0.4870106760763021 and parameters: {'x': 1.5885207977811875, 'y': 0.2416497046209345}. Best is trial 29 with value: 0.07837906769204095.\n",
            "Trial 42 finished with value: 0.4870106760763021 and parameters: {'x': 1.5885207977811875, 'y': 0.2416497046209345}. Best is trial 29 with value: 0.07837906769204095.\n",
            "Trial 42 finished with value: 0.4870106760763021 and parameters: {'x': 1.5885207977811875, 'y': 0.2416497046209345}. Best is trial 29 with value: 0.07837906769204095.\n",
            "Trial 42 finished with value: 0.4870106760763021 and parameters: {'x': 1.5885207977811875, 'y': 0.2416497046209345}. Best is trial 29 with value: 0.07837906769204095.\n",
            "Trial 42 finished with value: 0.4870106760763021 and parameters: {'x': 1.5885207977811875, 'y': 0.2416497046209345}. Best is trial 29 with value: 0.07837906769204095.\n"
          ]
        },
        {
          "output_type": "stream",
          "name": "stderr",
          "text": [
            "\u001b[32m[I 2022-12-26 15:25:42,814]\u001b[0m Trial 43 finished with value: 0.7730988825563926 and parameters: {'x': 1.8975849442358417, 'y': 0.18931399287077771}. Best is trial 29 with value: 0.07837906769204095.\u001b[0m\n"
          ]
        },
        {
          "output_type": "stream",
          "name": "stdout",
          "text": [
            "Trial 43 finished with value: 0.7730988825563926 and parameters: {'x': 1.8975849442358417, 'y': 0.18931399287077771}. Best is trial 29 with value: 0.07837906769204095.\n",
            "Trial 43 finished with value: 0.7730988825563926 and parameters: {'x': 1.8975849442358417, 'y': 0.18931399287077771}. Best is trial 29 with value: 0.07837906769204095.\n",
            "Trial 43 finished with value: 0.7730988825563926 and parameters: {'x': 1.8975849442358417, 'y': 0.18931399287077771}. Best is trial 29 with value: 0.07837906769204095.\n",
            "Trial 43 finished with value: 0.7730988825563926 and parameters: {'x': 1.8975849442358417, 'y': 0.18931399287077771}. Best is trial 29 with value: 0.07837906769204095.\n",
            "Trial 43 finished with value: 0.7730988825563926 and parameters: {'x': 1.8975849442358417, 'y': 0.18931399287077771}. Best is trial 29 with value: 0.07837906769204095.\n",
            "Trial 43 finished with value: 0.7730988825563926 and parameters: {'x': 1.8975849442358417, 'y': 0.18931399287077771}. Best is trial 29 with value: 0.07837906769204095.\n",
            "Trial 43 finished with value: 0.7730988825563926 and parameters: {'x': 1.8975849442358417, 'y': 0.18931399287077771}. Best is trial 29 with value: 0.07837906769204095.\n"
          ]
        },
        {
          "output_type": "stream",
          "name": "stderr",
          "text": [
            "\u001b[32m[I 2022-12-26 15:25:42,850]\u001b[0m Trial 44 finished with value: 0.4327910286308797 and parameters: {'x': -0.6853992219635401, 'y': -1.8956441245590354}. Best is trial 29 with value: 0.07837906769204095.\u001b[0m\n"
          ]
        },
        {
          "output_type": "stream",
          "name": "stdout",
          "text": [
            "Trial 44 finished with value: 0.4327910286308797 and parameters: {'x': -0.6853992219635401, 'y': -1.8956441245590354}. Best is trial 29 with value: 0.07837906769204095.\n",
            "Trial 44 finished with value: 0.4327910286308797 and parameters: {'x': -0.6853992219635401, 'y': -1.8956441245590354}. Best is trial 29 with value: 0.07837906769204095.\n",
            "Trial 44 finished with value: 0.4327910286308797 and parameters: {'x': -0.6853992219635401, 'y': -1.8956441245590354}. Best is trial 29 with value: 0.07837906769204095.\n",
            "Trial 44 finished with value: 0.4327910286308797 and parameters: {'x': -0.6853992219635401, 'y': -1.8956441245590354}. Best is trial 29 with value: 0.07837906769204095.\n",
            "Trial 44 finished with value: 0.4327910286308797 and parameters: {'x': -0.6853992219635401, 'y': -1.8956441245590354}. Best is trial 29 with value: 0.07837906769204095.\n",
            "Trial 44 finished with value: 0.4327910286308797 and parameters: {'x': -0.6853992219635401, 'y': -1.8956441245590354}. Best is trial 29 with value: 0.07837906769204095.\n",
            "Trial 44 finished with value: 0.4327910286308797 and parameters: {'x': -0.6853992219635401, 'y': -1.8956441245590354}. Best is trial 29 with value: 0.07837906769204095.\n"
          ]
        },
        {
          "output_type": "stream",
          "name": "stderr",
          "text": [
            "\u001b[32m[I 2022-12-26 15:25:42,892]\u001b[0m Trial 45 finished with value: 0.14972829136655413 and parameters: {'x': -0.6626767094016965, 'y': -1.3264857711807183}. Best is trial 29 with value: 0.07837906769204095.\u001b[0m\n"
          ]
        },
        {
          "output_type": "stream",
          "name": "stdout",
          "text": [
            "Trial 45 finished with value: 0.14972829136655413 and parameters: {'x': -0.6626767094016965, 'y': -1.3264857711807183}. Best is trial 29 with value: 0.07837906769204095.\n",
            "Trial 45 finished with value: 0.14972829136655413 and parameters: {'x': -0.6626767094016965, 'y': -1.3264857711807183}. Best is trial 29 with value: 0.07837906769204095.\n",
            "Trial 45 finished with value: 0.14972829136655413 and parameters: {'x': -0.6626767094016965, 'y': -1.3264857711807183}. Best is trial 29 with value: 0.07837906769204095.\n",
            "Trial 45 finished with value: 0.14972829136655413 and parameters: {'x': -0.6626767094016965, 'y': -1.3264857711807183}. Best is trial 29 with value: 0.07837906769204095.\n",
            "Trial 45 finished with value: 0.14972829136655413 and parameters: {'x': -0.6626767094016965, 'y': -1.3264857711807183}. Best is trial 29 with value: 0.07837906769204095.\n",
            "Trial 45 finished with value: 0.14972829136655413 and parameters: {'x': -0.6626767094016965, 'y': -1.3264857711807183}. Best is trial 29 with value: 0.07837906769204095.\n",
            "Trial 45 finished with value: 0.14972829136655413 and parameters: {'x': -0.6626767094016965, 'y': -1.3264857711807183}. Best is trial 29 with value: 0.07837906769204095.\n"
          ]
        },
        {
          "output_type": "stream",
          "name": "stderr",
          "text": [
            "\u001b[32m[I 2022-12-26 15:25:42,930]\u001b[0m Trial 46 finished with value: 4.425433275297127 and parameters: {'x': -4.723460804993021, 'y': -0.6560062613666804}. Best is trial 29 with value: 0.07837906769204095.\u001b[0m\n"
          ]
        },
        {
          "output_type": "stream",
          "name": "stdout",
          "text": [
            "Trial 46 finished with value: 4.425433275297127 and parameters: {'x': -4.723460804993021, 'y': -0.6560062613666804}. Best is trial 29 with value: 0.07837906769204095.\n",
            "Trial 46 finished with value: 4.425433275297127 and parameters: {'x': -4.723460804993021, 'y': -0.6560062613666804}. Best is trial 29 with value: 0.07837906769204095.\n",
            "Trial 46 finished with value: 4.425433275297127 and parameters: {'x': -4.723460804993021, 'y': -0.6560062613666804}. Best is trial 29 with value: 0.07837906769204095.\n",
            "Trial 46 finished with value: 4.425433275297127 and parameters: {'x': -4.723460804993021, 'y': -0.6560062613666804}. Best is trial 29 with value: 0.07837906769204095.\n",
            "Trial 46 finished with value: 4.425433275297127 and parameters: {'x': -4.723460804993021, 'y': -0.6560062613666804}. Best is trial 29 with value: 0.07837906769204095.\n",
            "Trial 46 finished with value: 4.425433275297127 and parameters: {'x': -4.723460804993021, 'y': -0.6560062613666804}. Best is trial 29 with value: 0.07837906769204095.\n",
            "Trial 46 finished with value: 4.425433275297127 and parameters: {'x': -4.723460804993021, 'y': -0.6560062613666804}. Best is trial 29 with value: 0.07837906769204095.\n"
          ]
        },
        {
          "output_type": "stream",
          "name": "stderr",
          "text": [
            "\u001b[32m[I 2022-12-26 15:25:42,958]\u001b[0m Trial 47 finished with value: 0.596053600934537 and parameters: {'x': 2.730387186731021, 'y': 1.4296232009461833}. Best is trial 29 with value: 0.07837906769204095.\u001b[0m\n"
          ]
        },
        {
          "output_type": "stream",
          "name": "stdout",
          "text": [
            "Trial 47 finished with value: 0.596053600934537 and parameters: {'x': 2.730387186731021, 'y': 1.4296232009461833}. Best is trial 29 with value: 0.07837906769204095.\n",
            "Trial 47 finished with value: 0.596053600934537 and parameters: {'x': 2.730387186731021, 'y': 1.4296232009461833}. Best is trial 29 with value: 0.07837906769204095.\n",
            "Trial 47 finished with value: 0.596053600934537 and parameters: {'x': 2.730387186731021, 'y': 1.4296232009461833}. Best is trial 29 with value: 0.07837906769204095.\n",
            "Trial 47 finished with value: 0.596053600934537 and parameters: {'x': 2.730387186731021, 'y': 1.4296232009461833}. Best is trial 29 with value: 0.07837906769204095.\n",
            "Trial 47 finished with value: 0.596053600934537 and parameters: {'x': 2.730387186731021, 'y': 1.4296232009461833}. Best is trial 29 with value: 0.07837906769204095.\n",
            "Trial 47 finished with value: 0.596053600934537 and parameters: {'x': 2.730387186731021, 'y': 1.4296232009461833}. Best is trial 29 with value: 0.07837906769204095.\n",
            "Trial 47 finished with value: 0.596053600934537 and parameters: {'x': 2.730387186731021, 'y': 1.4296232009461833}. Best is trial 29 with value: 0.07837906769204095.\n"
          ]
        },
        {
          "output_type": "stream",
          "name": "stderr",
          "text": [
            "\u001b[32m[I 2022-12-26 15:25:42,997]\u001b[0m Trial 48 finished with value: 0.4879121000543041 and parameters: {'x': -1.5379481078918147, 'y': -2.6552377306625226}. Best is trial 29 with value: 0.07837906769204095.\u001b[0m\n"
          ]
        },
        {
          "output_type": "stream",
          "name": "stdout",
          "text": [
            "Trial 48 finished with value: 0.4879121000543041 and parameters: {'x': -1.5379481078918147, 'y': -2.6552377306625226}. Best is trial 29 with value: 0.07837906769204095.\n",
            "Trial 48 finished with value: 0.4879121000543041 and parameters: {'x': -1.5379481078918147, 'y': -2.6552377306625226}. Best is trial 29 with value: 0.07837906769204095.\n",
            "Trial 48 finished with value: 0.4879121000543041 and parameters: {'x': -1.5379481078918147, 'y': -2.6552377306625226}. Best is trial 29 with value: 0.07837906769204095.\n",
            "Trial 48 finished with value: 0.4879121000543041 and parameters: {'x': -1.5379481078918147, 'y': -2.6552377306625226}. Best is trial 29 with value: 0.07837906769204095.\n",
            "Trial 48 finished with value: 0.4879121000543041 and parameters: {'x': -1.5379481078918147, 'y': -2.6552377306625226}. Best is trial 29 with value: 0.07837906769204095.\n",
            "Trial 48 finished with value: 0.4879121000543041 and parameters: {'x': -1.5379481078918147, 'y': -2.6552377306625226}. Best is trial 29 with value: 0.07837906769204095.\n",
            "Trial 48 finished with value: 0.4879121000543041 and parameters: {'x': -1.5379481078918147, 'y': -2.6552377306625226}. Best is trial 29 with value: 0.07837906769204095.\n"
          ]
        },
        {
          "output_type": "stream",
          "name": "stderr",
          "text": [
            "\u001b[32m[I 2022-12-26 15:25:43,028]\u001b[0m Trial 49 finished with value: 3.6966066803476263 and parameters: {'x': -0.18556468401338888, 'y': -3.941253896084696}. Best is trial 29 with value: 0.07837906769204095.\u001b[0m\n"
          ]
        },
        {
          "output_type": "stream",
          "name": "stdout",
          "text": [
            "Trial 49 finished with value: 3.6966066803476263 and parameters: {'x': -0.18556468401338888, 'y': -3.941253896084696}. Best is trial 29 with value: 0.07837906769204095.\n",
            "Trial 49 finished with value: 3.6966066803476263 and parameters: {'x': -0.18556468401338888, 'y': -3.941253896084696}. Best is trial 29 with value: 0.07837906769204095.\n",
            "Trial 49 finished with value: 3.6966066803476263 and parameters: {'x': -0.18556468401338888, 'y': -3.941253896084696}. Best is trial 29 with value: 0.07837906769204095.\n",
            "Trial 49 finished with value: 3.6966066803476263 and parameters: {'x': -0.18556468401338888, 'y': -3.941253896084696}. Best is trial 29 with value: 0.07837906769204095.\n",
            "Trial 49 finished with value: 3.6966066803476263 and parameters: {'x': -0.18556468401338888, 'y': -3.941253896084696}. Best is trial 29 with value: 0.07837906769204095.\n",
            "Trial 49 finished with value: 3.6966066803476263 and parameters: {'x': -0.18556468401338888, 'y': -3.941253896084696}. Best is trial 29 with value: 0.07837906769204095.\n",
            "Trial 49 finished with value: 3.6966066803476263 and parameters: {'x': -0.18556468401338888, 'y': -3.941253896084696}. Best is trial 29 with value: 0.07837906769204095.\n"
          ]
        },
        {
          "output_type": "stream",
          "name": "stderr",
          "text": [
            "\u001b[32m[I 2022-12-26 15:25:43,103]\u001b[0m Trial 50 finished with value: 41.73289509167965 and parameters: {'x': 6.6066953945233164, 'y': -6.313371897087539}. Best is trial 29 with value: 0.07837906769204095.\u001b[0m\n"
          ]
        },
        {
          "output_type": "stream",
          "name": "stdout",
          "text": [
            "Trial 50 finished with value: 41.73289509167965 and parameters: {'x': 6.6066953945233164, 'y': -6.313371897087539}. Best is trial 29 with value: 0.07837906769204095.\n",
            "Trial 50 finished with value: 41.73289509167965 and parameters: {'x': 6.6066953945233164, 'y': -6.313371897087539}. Best is trial 29 with value: 0.07837906769204095.\n",
            "Trial 50 finished with value: 41.73289509167965 and parameters: {'x': 6.6066953945233164, 'y': -6.313371897087539}. Best is trial 29 with value: 0.07837906769204095.\n",
            "Trial 50 finished with value: 41.73289509167965 and parameters: {'x': 6.6066953945233164, 'y': -6.313371897087539}. Best is trial 29 with value: 0.07837906769204095.\n",
            "Trial 50 finished with value: 41.73289509167965 and parameters: {'x': 6.6066953945233164, 'y': -6.313371897087539}. Best is trial 29 with value: 0.07837906769204095.\n",
            "Trial 50 finished with value: 41.73289509167965 and parameters: {'x': 6.6066953945233164, 'y': -6.313371897087539}. Best is trial 29 with value: 0.07837906769204095.\n",
            "Trial 50 finished with value: 41.73289509167965 and parameters: {'x': 6.6066953945233164, 'y': -6.313371897087539}. Best is trial 29 with value: 0.07837906769204095.\n"
          ]
        },
        {
          "output_type": "stream",
          "name": "stderr",
          "text": [
            "\u001b[32m[I 2022-12-26 15:25:43,137]\u001b[0m Trial 51 finished with value: 0.2813480136416324 and parameters: {'x': -2.3690802452676416, 'y': -1.6849965442918553}. Best is trial 29 with value: 0.07837906769204095.\u001b[0m\n"
          ]
        },
        {
          "output_type": "stream",
          "name": "stdout",
          "text": [
            "Trial 51 finished with value: 0.2813480136416324 and parameters: {'x': -2.3690802452676416, 'y': -1.6849965442918553}. Best is trial 29 with value: 0.07837906769204095.\n",
            "Trial 51 finished with value: 0.2813480136416324 and parameters: {'x': -2.3690802452676416, 'y': -1.6849965442918553}. Best is trial 29 with value: 0.07837906769204095.\n",
            "Trial 51 finished with value: 0.2813480136416324 and parameters: {'x': -2.3690802452676416, 'y': -1.6849965442918553}. Best is trial 29 with value: 0.07837906769204095.\n",
            "Trial 51 finished with value: 0.2813480136416324 and parameters: {'x': -2.3690802452676416, 'y': -1.6849965442918553}. Best is trial 29 with value: 0.07837906769204095.\n",
            "Trial 51 finished with value: 0.2813480136416324 and parameters: {'x': -2.3690802452676416, 'y': -1.6849965442918553}. Best is trial 29 with value: 0.07837906769204095.\n",
            "Trial 51 finished with value: 0.2813480136416324 and parameters: {'x': -2.3690802452676416, 'y': -1.6849965442918553}. Best is trial 29 with value: 0.07837906769204095.\n",
            "Trial 51 finished with value: 0.2813480136416324 and parameters: {'x': -2.3690802452676416, 'y': -1.6849965442918553}. Best is trial 29 with value: 0.07837906769204095.\n"
          ]
        },
        {
          "output_type": "stream",
          "name": "stderr",
          "text": [
            "\u001b[32m[I 2022-12-26 15:25:43,177]\u001b[0m Trial 52 finished with value: 9.893060680441033 and parameters: {'x': -2.537645719564362, 'y': 3.7483396076645215}. Best is trial 29 with value: 0.07837906769204095.\u001b[0m\n"
          ]
        },
        {
          "output_type": "stream",
          "name": "stdout",
          "text": [
            "Trial 52 finished with value: 9.893060680441033 and parameters: {'x': -2.537645719564362, 'y': 3.7483396076645215}. Best is trial 29 with value: 0.07837906769204095.\n",
            "Trial 52 finished with value: 9.893060680441033 and parameters: {'x': -2.537645719564362, 'y': 3.7483396076645215}. Best is trial 29 with value: 0.07837906769204095.\n",
            "Trial 52 finished with value: 9.893060680441033 and parameters: {'x': -2.537645719564362, 'y': 3.7483396076645215}. Best is trial 29 with value: 0.07837906769204095.\n",
            "Trial 52 finished with value: 9.893060680441033 and parameters: {'x': -2.537645719564362, 'y': 3.7483396076645215}. Best is trial 29 with value: 0.07837906769204095.\n",
            "Trial 52 finished with value: 9.893060680441033 and parameters: {'x': -2.537645719564362, 'y': 3.7483396076645215}. Best is trial 29 with value: 0.07837906769204095.\n",
            "Trial 52 finished with value: 9.893060680441033 and parameters: {'x': -2.537645719564362, 'y': 3.7483396076645215}. Best is trial 29 with value: 0.07837906769204095.\n",
            "Trial 52 finished with value: 9.893060680441033 and parameters: {'x': -2.537645719564362, 'y': 3.7483396076645215}. Best is trial 29 with value: 0.07837906769204095.\n"
          ]
        },
        {
          "output_type": "stream",
          "name": "stderr",
          "text": [
            "\u001b[32m[I 2022-12-26 15:25:43,235]\u001b[0m Trial 53 finished with value: 7.495796347838983 and parameters: {'x': 4.220092729738849, 'y': -1.222682919555225}. Best is trial 29 with value: 0.07837906769204095.\u001b[0m\n"
          ]
        },
        {
          "output_type": "stream",
          "name": "stdout",
          "text": [
            "Trial 53 finished with value: 7.495796347838983 and parameters: {'x': 4.220092729738849, 'y': -1.222682919555225}. Best is trial 29 with value: 0.07837906769204095.\n",
            "Trial 53 finished with value: 7.495796347838983 and parameters: {'x': 4.220092729738849, 'y': -1.222682919555225}. Best is trial 29 with value: 0.07837906769204095.\n",
            "Trial 53 finished with value: 7.495796347838983 and parameters: {'x': 4.220092729738849, 'y': -1.222682919555225}. Best is trial 29 with value: 0.07837906769204095.\n",
            "Trial 53 finished with value: 7.495796347838983 and parameters: {'x': 4.220092729738849, 'y': -1.222682919555225}. Best is trial 29 with value: 0.07837906769204095.\n",
            "Trial 53 finished with value: 7.495796347838983 and parameters: {'x': 4.220092729738849, 'y': -1.222682919555225}. Best is trial 29 with value: 0.07837906769204095.\n",
            "Trial 53 finished with value: 7.495796347838983 and parameters: {'x': 4.220092729738849, 'y': -1.222682919555225}. Best is trial 29 with value: 0.07837906769204095.\n",
            "Trial 53 finished with value: 7.495796347838983 and parameters: {'x': 4.220092729738849, 'y': -1.222682919555225}. Best is trial 29 with value: 0.07837906769204095.\n"
          ]
        },
        {
          "output_type": "stream",
          "name": "stderr",
          "text": [
            "\u001b[32m[I 2022-12-26 15:25:43,300]\u001b[0m Trial 54 finished with value: 0.02522652662807253 and parameters: {'x': -0.08305901139278382, 'y': -0.3865158990267128}. Best is trial 54 with value: 0.02522652662807253.\u001b[0m\n"
          ]
        },
        {
          "output_type": "stream",
          "name": "stdout",
          "text": [
            "Trial 54 finished with value: 0.02522652662807253 and parameters: {'x': -0.08305901139278382, 'y': -0.3865158990267128}. Best is trial 54 with value: 0.02522652662807253.\n",
            "Trial 54 finished with value: 0.02522652662807253 and parameters: {'x': -0.08305901139278382, 'y': -0.3865158990267128}. Best is trial 54 with value: 0.02522652662807253.\n",
            "Trial 54 finished with value: 0.02522652662807253 and parameters: {'x': -0.08305901139278382, 'y': -0.3865158990267128}. Best is trial 54 with value: 0.02522652662807253.\n",
            "Trial 54 finished with value: 0.02522652662807253 and parameters: {'x': -0.08305901139278382, 'y': -0.3865158990267128}. Best is trial 54 with value: 0.02522652662807253.\n",
            "Trial 54 finished with value: 0.02522652662807253 and parameters: {'x': -0.08305901139278382, 'y': -0.3865158990267128}. Best is trial 54 with value: 0.02522652662807253.\n",
            "Trial 54 finished with value: 0.02522652662807253 and parameters: {'x': -0.08305901139278382, 'y': -0.3865158990267128}. Best is trial 54 with value: 0.02522652662807253.\n",
            "Trial 54 finished with value: 0.02522652662807253 and parameters: {'x': -0.08305901139278382, 'y': -0.3865158990267128}. Best is trial 54 with value: 0.02522652662807253.\n"
          ]
        },
        {
          "output_type": "stream",
          "name": "stderr",
          "text": [
            "\u001b[32m[I 2022-12-26 15:25:43,352]\u001b[0m Trial 55 finished with value: 0.036185483447776334 and parameters: {'x': -0.06611686126565886, 'y': -0.4332248146252189}. Best is trial 54 with value: 0.02522652662807253.\u001b[0m\n"
          ]
        },
        {
          "output_type": "stream",
          "name": "stdout",
          "text": [
            "Trial 55 finished with value: 0.036185483447776334 and parameters: {'x': -0.06611686126565886, 'y': -0.4332248146252189}. Best is trial 54 with value: 0.02522652662807253.\n",
            "Trial 55 finished with value: 0.036185483447776334 and parameters: {'x': -0.06611686126565886, 'y': -0.4332248146252189}. Best is trial 54 with value: 0.02522652662807253.\n",
            "Trial 55 finished with value: 0.036185483447776334 and parameters: {'x': -0.06611686126565886, 'y': -0.4332248146252189}. Best is trial 54 with value: 0.02522652662807253.\n",
            "Trial 55 finished with value: 0.036185483447776334 and parameters: {'x': -0.06611686126565886, 'y': -0.4332248146252189}. Best is trial 54 with value: 0.02522652662807253.\n",
            "Trial 55 finished with value: 0.036185483447776334 and parameters: {'x': -0.06611686126565886, 'y': -0.4332248146252189}. Best is trial 54 with value: 0.02522652662807253.\n",
            "Trial 55 finished with value: 0.036185483447776334 and parameters: {'x': -0.06611686126565886, 'y': -0.4332248146252189}. Best is trial 54 with value: 0.02522652662807253.\n",
            "Trial 55 finished with value: 0.036185483447776334 and parameters: {'x': -0.06611686126565886, 'y': -0.4332248146252189}. Best is trial 54 with value: 0.02522652662807253.\n"
          ]
        },
        {
          "output_type": "stream",
          "name": "stderr",
          "text": [
            "\u001b[32m[I 2022-12-26 15:25:43,406]\u001b[0m Trial 56 finished with value: 0.3357219394577804 and parameters: {'x': 0.8017594533348688, 'y': -0.35359930351763075}. Best is trial 54 with value: 0.02522652662807253.\u001b[0m\n"
          ]
        },
        {
          "output_type": "stream",
          "name": "stdout",
          "text": [
            "Trial 56 finished with value: 0.3357219394577804 and parameters: {'x': 0.8017594533348688, 'y': -0.35359930351763075}. Best is trial 54 with value: 0.02522652662807253.\n",
            "Trial 56 finished with value: 0.3357219394577804 and parameters: {'x': 0.8017594533348688, 'y': -0.35359930351763075}. Best is trial 54 with value: 0.02522652662807253.\n",
            "Trial 56 finished with value: 0.3357219394577804 and parameters: {'x': 0.8017594533348688, 'y': -0.35359930351763075}. Best is trial 54 with value: 0.02522652662807253.\n",
            "Trial 56 finished with value: 0.3357219394577804 and parameters: {'x': 0.8017594533348688, 'y': -0.35359930351763075}. Best is trial 54 with value: 0.02522652662807253.\n",
            "Trial 56 finished with value: 0.3357219394577804 and parameters: {'x': 0.8017594533348688, 'y': -0.35359930351763075}. Best is trial 54 with value: 0.02522652662807253.\n",
            "Trial 56 finished with value: 0.3357219394577804 and parameters: {'x': 0.8017594533348688, 'y': -0.35359930351763075}. Best is trial 54 with value: 0.02522652662807253.\n",
            "Trial 56 finished with value: 0.3357219394577804 and parameters: {'x': 0.8017594533348688, 'y': -0.35359930351763075}. Best is trial 54 with value: 0.02522652662807253.\n"
          ]
        },
        {
          "output_type": "stream",
          "name": "stderr",
          "text": [
            "\u001b[32m[I 2022-12-26 15:25:43,466]\u001b[0m Trial 57 finished with value: 0.0040658675713701985 and parameters: {'x': 0.2667417389722181, 'y': 0.17472046284455067}. Best is trial 57 with value: 0.0040658675713701985.\u001b[0m\n"
          ]
        },
        {
          "output_type": "stream",
          "name": "stdout",
          "text": [
            "Trial 57 finished with value: 0.0040658675713701985 and parameters: {'x': 0.2667417389722181, 'y': 0.17472046284455067}. Best is trial 57 with value: 0.0040658675713701985.\n",
            "Trial 57 finished with value: 0.0040658675713701985 and parameters: {'x': 0.2667417389722181, 'y': 0.17472046284455067}. Best is trial 57 with value: 0.0040658675713701985.\n",
            "Trial 57 finished with value: 0.0040658675713701985 and parameters: {'x': 0.2667417389722181, 'y': 0.17472046284455067}. Best is trial 57 with value: 0.0040658675713701985.\n",
            "Trial 57 finished with value: 0.0040658675713701985 and parameters: {'x': 0.2667417389722181, 'y': 0.17472046284455067}. Best is trial 57 with value: 0.0040658675713701985.\n",
            "Trial 57 finished with value: 0.0040658675713701985 and parameters: {'x': 0.2667417389722181, 'y': 0.17472046284455067}. Best is trial 57 with value: 0.0040658675713701985.\n",
            "Trial 57 finished with value: 0.0040658675713701985 and parameters: {'x': 0.2667417389722181, 'y': 0.17472046284455067}. Best is trial 57 with value: 0.0040658675713701985.\n",
            "Trial 57 finished with value: 0.0040658675713701985 and parameters: {'x': 0.2667417389722181, 'y': 0.17472046284455067}. Best is trial 57 with value: 0.0040658675713701985.\n"
          ]
        },
        {
          "output_type": "stream",
          "name": "stderr",
          "text": [
            "\u001b[32m[I 2022-12-26 15:25:43,502]\u001b[0m Trial 58 finished with value: 0.10558488492338595 and parameters: {'x': -0.009493494217749171, 'y': 0.6284827074162158}. Best is trial 57 with value: 0.0040658675713701985.\u001b[0m\n"
          ]
        },
        {
          "output_type": "stream",
          "name": "stdout",
          "text": [
            "Trial 58 finished with value: 0.10558488492338595 and parameters: {'x': -0.009493494217749171, 'y': 0.6284827074162158}. Best is trial 57 with value: 0.0040658675713701985.\n",
            "Trial 58 finished with value: 0.10558488492338595 and parameters: {'x': -0.009493494217749171, 'y': 0.6284827074162158}. Best is trial 57 with value: 0.0040658675713701985.\n",
            "Trial 58 finished with value: 0.10558488492338595 and parameters: {'x': -0.009493494217749171, 'y': 0.6284827074162158}. Best is trial 57 with value: 0.0040658675713701985.\n",
            "Trial 58 finished with value: 0.10558488492338595 and parameters: {'x': -0.009493494217749171, 'y': 0.6284827074162158}. Best is trial 57 with value: 0.0040658675713701985.\n",
            "Trial 58 finished with value: 0.10558488492338595 and parameters: {'x': -0.009493494217749171, 'y': 0.6284827074162158}. Best is trial 57 with value: 0.0040658675713701985.\n",
            "Trial 58 finished with value: 0.10558488492338595 and parameters: {'x': -0.009493494217749171, 'y': 0.6284827074162158}. Best is trial 57 with value: 0.0040658675713701985.\n",
            "Trial 58 finished with value: 0.10558488492338595 and parameters: {'x': -0.009493494217749171, 'y': 0.6284827074162158}. Best is trial 57 with value: 0.0040658675713701985.\n"
          ]
        },
        {
          "output_type": "stream",
          "name": "stderr",
          "text": [
            "\u001b[32m[I 2022-12-26 15:25:43,540]\u001b[0m Trial 59 finished with value: 0.03713132406442041 and parameters: {'x': 0.29890960623880186, 'y': 0.6359106984817882}. Best is trial 57 with value: 0.0040658675713701985.\u001b[0m\n"
          ]
        },
        {
          "output_type": "stream",
          "name": "stdout",
          "text": [
            "Trial 59 finished with value: 0.03713132406442041 and parameters: {'x': 0.29890960623880186, 'y': 0.6359106984817882}. Best is trial 57 with value: 0.0040658675713701985.\n",
            "Trial 59 finished with value: 0.03713132406442041 and parameters: {'x': 0.29890960623880186, 'y': 0.6359106984817882}. Best is trial 57 with value: 0.0040658675713701985.\n",
            "Trial 59 finished with value: 0.03713132406442041 and parameters: {'x': 0.29890960623880186, 'y': 0.6359106984817882}. Best is trial 57 with value: 0.0040658675713701985.\n",
            "Trial 59 finished with value: 0.03713132406442041 and parameters: {'x': 0.29890960623880186, 'y': 0.6359106984817882}. Best is trial 57 with value: 0.0040658675713701985.\n",
            "Trial 59 finished with value: 0.03713132406442041 and parameters: {'x': 0.29890960623880186, 'y': 0.6359106984817882}. Best is trial 57 with value: 0.0040658675713701985.\n",
            "Trial 59 finished with value: 0.03713132406442041 and parameters: {'x': 0.29890960623880186, 'y': 0.6359106984817882}. Best is trial 57 with value: 0.0040658675713701985.\n",
            "Trial 59 finished with value: 0.03713132406442041 and parameters: {'x': 0.29890960623880186, 'y': 0.6359106984817882}. Best is trial 57 with value: 0.0040658675713701985.\n"
          ]
        },
        {
          "output_type": "stream",
          "name": "stderr",
          "text": [
            "\u001b[32m[I 2022-12-26 15:25:43,594]\u001b[0m Trial 60 finished with value: 0.13945891897453574 and parameters: {'x': -0.05903863720543295, 'y': 0.6775306935094011}. Best is trial 57 with value: 0.0040658675713701985.\u001b[0m\n"
          ]
        },
        {
          "output_type": "stream",
          "name": "stdout",
          "text": [
            "Trial 60 finished with value: 0.13945891897453574 and parameters: {'x': -0.05903863720543295, 'y': 0.6775306935094011}. Best is trial 57 with value: 0.0040658675713701985.\n",
            "Trial 60 finished with value: 0.13945891897453574 and parameters: {'x': -0.05903863720543295, 'y': 0.6775306935094011}. Best is trial 57 with value: 0.0040658675713701985.\n",
            "Trial 60 finished with value: 0.13945891897453574 and parameters: {'x': -0.05903863720543295, 'y': 0.6775306935094011}. Best is trial 57 with value: 0.0040658675713701985.\n",
            "Trial 60 finished with value: 0.13945891897453574 and parameters: {'x': -0.05903863720543295, 'y': 0.6775306935094011}. Best is trial 57 with value: 0.0040658675713701985.\n",
            "Trial 60 finished with value: 0.13945891897453574 and parameters: {'x': -0.05903863720543295, 'y': 0.6775306935094011}. Best is trial 57 with value: 0.0040658675713701985.\n",
            "Trial 60 finished with value: 0.13945891897453574 and parameters: {'x': -0.05903863720543295, 'y': 0.6775306935094011}. Best is trial 57 with value: 0.0040658675713701985.\n",
            "Trial 60 finished with value: 0.13945891897453574 and parameters: {'x': -0.05903863720543295, 'y': 0.6775306935094011}. Best is trial 57 with value: 0.0040658675713701985.\n"
          ]
        },
        {
          "output_type": "stream",
          "name": "stderr",
          "text": [
            "\u001b[32m[I 2022-12-26 15:25:43,628]\u001b[0m Trial 61 finished with value: 1.0231065723338109 and parameters: {'x': 2.4085783239895115, 'y': 0.46920721318684}. Best is trial 57 with value: 0.0040658675713701985.\u001b[0m\n"
          ]
        },
        {
          "output_type": "stream",
          "name": "stdout",
          "text": [
            "Trial 61 finished with value: 1.0231065723338109 and parameters: {'x': 2.4085783239895115, 'y': 0.46920721318684}. Best is trial 57 with value: 0.0040658675713701985.\n",
            "Trial 61 finished with value: 1.0231065723338109 and parameters: {'x': 2.4085783239895115, 'y': 0.46920721318684}. Best is trial 57 with value: 0.0040658675713701985.\n",
            "Trial 61 finished with value: 1.0231065723338109 and parameters: {'x': 2.4085783239895115, 'y': 0.46920721318684}. Best is trial 57 with value: 0.0040658675713701985.\n",
            "Trial 61 finished with value: 1.0231065723338109 and parameters: {'x': 2.4085783239895115, 'y': 0.46920721318684}. Best is trial 57 with value: 0.0040658675713701985.\n",
            "Trial 61 finished with value: 1.0231065723338109 and parameters: {'x': 2.4085783239895115, 'y': 0.46920721318684}. Best is trial 57 with value: 0.0040658675713701985.\n",
            "Trial 61 finished with value: 1.0231065723338109 and parameters: {'x': 2.4085783239895115, 'y': 0.46920721318684}. Best is trial 57 with value: 0.0040658675713701985.\n",
            "Trial 61 finished with value: 1.0231065723338109 and parameters: {'x': 2.4085783239895115, 'y': 0.46920721318684}. Best is trial 57 with value: 0.0040658675713701985.\n"
          ]
        },
        {
          "output_type": "stream",
          "name": "stderr",
          "text": [
            "\u001b[32m[I 2022-12-26 15:25:43,677]\u001b[0m Trial 62 finished with value: 1.5918664056420888 and parameters: {'x': -1.3698282337831318, 'y': 1.1531835032083795}. Best is trial 57 with value: 0.0040658675713701985.\u001b[0m\n"
          ]
        },
        {
          "output_type": "stream",
          "name": "stdout",
          "text": [
            "Trial 62 finished with value: 1.5918664056420888 and parameters: {'x': -1.3698282337831318, 'y': 1.1531835032083795}. Best is trial 57 with value: 0.0040658675713701985.\n",
            "Trial 62 finished with value: 1.5918664056420888 and parameters: {'x': -1.3698282337831318, 'y': 1.1531835032083795}. Best is trial 57 with value: 0.0040658675713701985.\n",
            "Trial 62 finished with value: 1.5918664056420888 and parameters: {'x': -1.3698282337831318, 'y': 1.1531835032083795}. Best is trial 57 with value: 0.0040658675713701985.\n",
            "Trial 62 finished with value: 1.5918664056420888 and parameters: {'x': -1.3698282337831318, 'y': 1.1531835032083795}. Best is trial 57 with value: 0.0040658675713701985.\n",
            "Trial 62 finished with value: 1.5918664056420888 and parameters: {'x': -1.3698282337831318, 'y': 1.1531835032083795}. Best is trial 57 with value: 0.0040658675713701985.\n",
            "Trial 62 finished with value: 1.5918664056420888 and parameters: {'x': -1.3698282337831318, 'y': 1.1531835032083795}. Best is trial 57 with value: 0.0040658675713701985.\n",
            "Trial 62 finished with value: 1.5918664056420888 and parameters: {'x': -1.3698282337831318, 'y': 1.1531835032083795}. Best is trial 57 with value: 0.0040658675713701985.\n"
          ]
        },
        {
          "output_type": "stream",
          "name": "stderr",
          "text": [
            "\u001b[32m[I 2022-12-26 15:25:43,732]\u001b[0m Trial 63 finished with value: 1.453286320315428 and parameters: {'x': 0.22140556568481568, 'y': 2.5670658903720773}. Best is trial 57 with value: 0.0040658675713701985.\u001b[0m\n"
          ]
        },
        {
          "output_type": "stream",
          "name": "stdout",
          "text": [
            "Trial 63 finished with value: 1.453286320315428 and parameters: {'x': 0.22140556568481568, 'y': 2.5670658903720773}. Best is trial 57 with value: 0.0040658675713701985.\n",
            "Trial 63 finished with value: 1.453286320315428 and parameters: {'x': 0.22140556568481568, 'y': 2.5670658903720773}. Best is trial 57 with value: 0.0040658675713701985.\n",
            "Trial 63 finished with value: 1.453286320315428 and parameters: {'x': 0.22140556568481568, 'y': 2.5670658903720773}. Best is trial 57 with value: 0.0040658675713701985.\n",
            "Trial 63 finished with value: 1.453286320315428 and parameters: {'x': 0.22140556568481568, 'y': 2.5670658903720773}. Best is trial 57 with value: 0.0040658675713701985.\n",
            "Trial 63 finished with value: 1.453286320315428 and parameters: {'x': 0.22140556568481568, 'y': 2.5670658903720773}. Best is trial 57 with value: 0.0040658675713701985.\n",
            "Trial 63 finished with value: 1.453286320315428 and parameters: {'x': 0.22140556568481568, 'y': 2.5670658903720773}. Best is trial 57 with value: 0.0040658675713701985.\n",
            "Trial 63 finished with value: 1.453286320315428 and parameters: {'x': 0.22140556568481568, 'y': 2.5670658903720773}. Best is trial 57 with value: 0.0040658675713701985.\n"
          ]
        },
        {
          "output_type": "stream",
          "name": "stderr",
          "text": [
            "\u001b[32m[I 2022-12-26 15:25:43,785]\u001b[0m Trial 64 finished with value: 0.4300698223452133 and parameters: {'x': 0.8087393610169504, 'y': -0.5014138092613871}. Best is trial 57 with value: 0.0040658675713701985.\u001b[0m\n"
          ]
        },
        {
          "output_type": "stream",
          "name": "stdout",
          "text": [
            "Trial 64 finished with value: 0.4300698223452133 and parameters: {'x': 0.8087393610169504, 'y': -0.5014138092613871}. Best is trial 57 with value: 0.0040658675713701985.\n",
            "Trial 64 finished with value: 0.4300698223452133 and parameters: {'x': 0.8087393610169504, 'y': -0.5014138092613871}. Best is trial 57 with value: 0.0040658675713701985.\n",
            "Trial 64 finished with value: 0.4300698223452133 and parameters: {'x': 0.8087393610169504, 'y': -0.5014138092613871}. Best is trial 57 with value: 0.0040658675713701985.\n",
            "Trial 64 finished with value: 0.4300698223452133 and parameters: {'x': 0.8087393610169504, 'y': -0.5014138092613871}. Best is trial 57 with value: 0.0040658675713701985.\n",
            "Trial 64 finished with value: 0.4300698223452133 and parameters: {'x': 0.8087393610169504, 'y': -0.5014138092613871}. Best is trial 57 with value: 0.0040658675713701985.\n",
            "Trial 64 finished with value: 0.4300698223452133 and parameters: {'x': 0.8087393610169504, 'y': -0.5014138092613871}. Best is trial 57 with value: 0.0040658675713701985.\n",
            "Trial 64 finished with value: 0.4300698223452133 and parameters: {'x': 0.8087393610169504, 'y': -0.5014138092613871}. Best is trial 57 with value: 0.0040658675713701985.\n"
          ]
        },
        {
          "output_type": "stream",
          "name": "stderr",
          "text": [
            "\u001b[32m[I 2022-12-26 15:25:43,827]\u001b[0m Trial 65 finished with value: 1.8505626095529686 and parameters: {'x': -0.023042438613905425, 'y': -2.6891286267734156}. Best is trial 57 with value: 0.0040658675713701985.\u001b[0m\n"
          ]
        },
        {
          "output_type": "stream",
          "name": "stdout",
          "text": [
            "Trial 65 finished with value: 1.8505626095529686 and parameters: {'x': -0.023042438613905425, 'y': -2.6891286267734156}. Best is trial 57 with value: 0.0040658675713701985.\n",
            "Trial 65 finished with value: 1.8505626095529686 and parameters: {'x': -0.023042438613905425, 'y': -2.6891286267734156}. Best is trial 57 with value: 0.0040658675713701985.\n",
            "Trial 65 finished with value: 1.8505626095529686 and parameters: {'x': -0.023042438613905425, 'y': -2.6891286267734156}. Best is trial 57 with value: 0.0040658675713701985.\n",
            "Trial 65 finished with value: 1.8505626095529686 and parameters: {'x': -0.023042438613905425, 'y': -2.6891286267734156}. Best is trial 57 with value: 0.0040658675713701985.\n",
            "Trial 65 finished with value: 1.8505626095529686 and parameters: {'x': -0.023042438613905425, 'y': -2.6891286267734156}. Best is trial 57 with value: 0.0040658675713701985.\n",
            "Trial 65 finished with value: 1.8505626095529686 and parameters: {'x': -0.023042438613905425, 'y': -2.6891286267734156}. Best is trial 57 with value: 0.0040658675713701985.\n",
            "Trial 65 finished with value: 1.8505626095529686 and parameters: {'x': -0.023042438613905425, 'y': -2.6891286267734156}. Best is trial 57 with value: 0.0040658675713701985.\n"
          ]
        },
        {
          "output_type": "stream",
          "name": "stderr",
          "text": [
            "\u001b[32m[I 2022-12-26 15:25:43,885]\u001b[0m Trial 66 finished with value: 0.7867944699217405 and parameters: {'x': -1.6437698867037667, 'y': 0.10330082820127695}. Best is trial 57 with value: 0.0040658675713701985.\u001b[0m\n"
          ]
        },
        {
          "output_type": "stream",
          "name": "stdout",
          "text": [
            "Trial 66 finished with value: 0.7867944699217405 and parameters: {'x': -1.6437698867037667, 'y': 0.10330082820127695}. Best is trial 57 with value: 0.0040658675713701985.\n",
            "Trial 66 finished with value: 0.7867944699217405 and parameters: {'x': -1.6437698867037667, 'y': 0.10330082820127695}. Best is trial 57 with value: 0.0040658675713701985.\n",
            "Trial 66 finished with value: 0.7867944699217405 and parameters: {'x': -1.6437698867037667, 'y': 0.10330082820127695}. Best is trial 57 with value: 0.0040658675713701985.\n",
            "Trial 66 finished with value: 0.7867944699217405 and parameters: {'x': -1.6437698867037667, 'y': 0.10330082820127695}. Best is trial 57 with value: 0.0040658675713701985.\n",
            "Trial 66 finished with value: 0.7867944699217405 and parameters: {'x': -1.6437698867037667, 'y': 0.10330082820127695}. Best is trial 57 with value: 0.0040658675713701985.\n",
            "Trial 66 finished with value: 0.7867944699217405 and parameters: {'x': -1.6437698867037667, 'y': 0.10330082820127695}. Best is trial 57 with value: 0.0040658675713701985.\n",
            "Trial 66 finished with value: 0.7867944699217405 and parameters: {'x': -1.6437698867037667, 'y': 0.10330082820127695}. Best is trial 57 with value: 0.0040658675713701985.\n"
          ]
        },
        {
          "output_type": "stream",
          "name": "stderr",
          "text": [
            "\u001b[32m[I 2022-12-26 15:25:43,919]\u001b[0m Trial 67 finished with value: 0.40301018307819403 and parameters: {'x': 2.521387248471679, 'y': 3.1082008765000793}. Best is trial 57 with value: 0.0040658675713701985.\u001b[0m\n"
          ]
        },
        {
          "output_type": "stream",
          "name": "stdout",
          "text": [
            "Trial 67 finished with value: 0.40301018307819403 and parameters: {'x': 2.521387248471679, 'y': 3.1082008765000793}. Best is trial 57 with value: 0.0040658675713701985.\n",
            "Trial 67 finished with value: 0.40301018307819403 and parameters: {'x': 2.521387248471679, 'y': 3.1082008765000793}. Best is trial 57 with value: 0.0040658675713701985.\n",
            "Trial 67 finished with value: 0.40301018307819403 and parameters: {'x': 2.521387248471679, 'y': 3.1082008765000793}. Best is trial 57 with value: 0.0040658675713701985.\n",
            "Trial 67 finished with value: 0.40301018307819403 and parameters: {'x': 2.521387248471679, 'y': 3.1082008765000793}. Best is trial 57 with value: 0.0040658675713701985.\n",
            "Trial 67 finished with value: 0.40301018307819403 and parameters: {'x': 2.521387248471679, 'y': 3.1082008765000793}. Best is trial 57 with value: 0.0040658675713701985.\n",
            "Trial 67 finished with value: 0.40301018307819403 and parameters: {'x': 2.521387248471679, 'y': 3.1082008765000793}. Best is trial 57 with value: 0.0040658675713701985.\n",
            "Trial 67 finished with value: 0.40301018307819403 and parameters: {'x': 2.521387248471679, 'y': 3.1082008765000793}. Best is trial 57 with value: 0.0040658675713701985.\n"
          ]
        },
        {
          "output_type": "stream",
          "name": "stderr",
          "text": [
            "\u001b[32m[I 2022-12-26 15:25:43,973]\u001b[0m Trial 68 finished with value: 1.3500298597195524 and parameters: {'x': -0.9613050907054597, 'y': 1.36113433838333}. Best is trial 57 with value: 0.0040658675713701985.\u001b[0m\n"
          ]
        },
        {
          "output_type": "stream",
          "name": "stdout",
          "text": [
            "Trial 68 finished with value: 1.3500298597195524 and parameters: {'x': -0.9613050907054597, 'y': 1.36113433838333}. Best is trial 57 with value: 0.0040658675713701985.\n",
            "Trial 68 finished with value: 1.3500298597195524 and parameters: {'x': -0.9613050907054597, 'y': 1.36113433838333}. Best is trial 57 with value: 0.0040658675713701985.\n",
            "Trial 68 finished with value: 1.3500298597195524 and parameters: {'x': -0.9613050907054597, 'y': 1.36113433838333}. Best is trial 57 with value: 0.0040658675713701985.\n",
            "Trial 68 finished with value: 1.3500298597195524 and parameters: {'x': -0.9613050907054597, 'y': 1.36113433838333}. Best is trial 57 with value: 0.0040658675713701985.\n",
            "Trial 68 finished with value: 1.3500298597195524 and parameters: {'x': -0.9613050907054597, 'y': 1.36113433838333}. Best is trial 57 with value: 0.0040658675713701985.\n",
            "Trial 68 finished with value: 1.3500298597195524 and parameters: {'x': -0.9613050907054597, 'y': 1.36113433838333}. Best is trial 57 with value: 0.0040658675713701985.\n",
            "Trial 68 finished with value: 1.3500298597195524 and parameters: {'x': -0.9613050907054597, 'y': 1.36113433838333}. Best is trial 57 with value: 0.0040658675713701985.\n"
          ]
        },
        {
          "output_type": "stream",
          "name": "stderr",
          "text": [
            "\u001b[32m[I 2022-12-26 15:25:44,015]\u001b[0m Trial 69 finished with value: 5.4679545402144765 and parameters: {'x': -6.592801388526395, 'y': -2.2645561483115184}. Best is trial 57 with value: 0.0040658675713701985.\u001b[0m\n"
          ]
        },
        {
          "output_type": "stream",
          "name": "stdout",
          "text": [
            "Trial 69 finished with value: 5.4679545402144765 and parameters: {'x': -6.592801388526395, 'y': -2.2645561483115184}. Best is trial 57 with value: 0.0040658675713701985.\n",
            "Trial 69 finished with value: 5.4679545402144765 and parameters: {'x': -6.592801388526395, 'y': -2.2645561483115184}. Best is trial 57 with value: 0.0040658675713701985.\n",
            "Trial 69 finished with value: 5.4679545402144765 and parameters: {'x': -6.592801388526395, 'y': -2.2645561483115184}. Best is trial 57 with value: 0.0040658675713701985.\n",
            "Trial 69 finished with value: 5.4679545402144765 and parameters: {'x': -6.592801388526395, 'y': -2.2645561483115184}. Best is trial 57 with value: 0.0040658675713701985.\n",
            "Trial 69 finished with value: 5.4679545402144765 and parameters: {'x': -6.592801388526395, 'y': -2.2645561483115184}. Best is trial 57 with value: 0.0040658675713701985.\n",
            "Trial 69 finished with value: 5.4679545402144765 and parameters: {'x': -6.592801388526395, 'y': -2.2645561483115184}. Best is trial 57 with value: 0.0040658675713701985.\n",
            "Trial 69 finished with value: 5.4679545402144765 and parameters: {'x': -6.592801388526395, 'y': -2.2645561483115184}. Best is trial 57 with value: 0.0040658675713701985.\n"
          ]
        },
        {
          "output_type": "stream",
          "name": "stderr",
          "text": [
            "\u001b[32m[I 2022-12-26 15:25:44,039]\u001b[0m Trial 70 finished with value: 5.985745767282619 and parameters: {'x': 3.960914787538105, 'y': -0.893635128664306}. Best is trial 57 with value: 0.0040658675713701985.\u001b[0m\n"
          ]
        },
        {
          "output_type": "stream",
          "name": "stdout",
          "text": [
            "Trial 70 finished with value: 5.985745767282619 and parameters: {'x': 3.960914787538105, 'y': -0.893635128664306}. Best is trial 57 with value: 0.0040658675713701985.\n",
            "Trial 70 finished with value: 5.985745767282619 and parameters: {'x': 3.960914787538105, 'y': -0.893635128664306}. Best is trial 57 with value: 0.0040658675713701985.\n",
            "Trial 70 finished with value: 5.985745767282619 and parameters: {'x': 3.960914787538105, 'y': -0.893635128664306}. Best is trial 57 with value: 0.0040658675713701985.\n",
            "Trial 70 finished with value: 5.985745767282619 and parameters: {'x': 3.960914787538105, 'y': -0.893635128664306}. Best is trial 57 with value: 0.0040658675713701985.\n",
            "Trial 70 finished with value: 5.985745767282619 and parameters: {'x': 3.960914787538105, 'y': -0.893635128664306}. Best is trial 57 with value: 0.0040658675713701985.\n",
            "Trial 70 finished with value: 5.985745767282619 and parameters: {'x': 3.960914787538105, 'y': -0.893635128664306}. Best is trial 57 with value: 0.0040658675713701985.\n",
            "Trial 70 finished with value: 5.985745767282619 and parameters: {'x': 3.960914787538105, 'y': -0.893635128664306}. Best is trial 57 with value: 0.0040658675713701985.\n"
          ]
        },
        {
          "output_type": "stream",
          "name": "stderr",
          "text": [
            "\u001b[32m[I 2022-12-26 15:25:44,067]\u001b[0m Trial 71 finished with value: 0.03972001089277627 and parameters: {'x': -0.10797606395088488, 'y': 0.2889743466021176}. Best is trial 57 with value: 0.0040658675713701985.\u001b[0m\n"
          ]
        },
        {
          "output_type": "stream",
          "name": "stdout",
          "text": [
            "Trial 71 finished with value: 0.03972001089277627 and parameters: {'x': -0.10797606395088488, 'y': 0.2889743466021176}. Best is trial 57 with value: 0.0040658675713701985.\n",
            "Trial 71 finished with value: 0.03972001089277627 and parameters: {'x': -0.10797606395088488, 'y': 0.2889743466021176}. Best is trial 57 with value: 0.0040658675713701985.\n",
            "Trial 71 finished with value: 0.03972001089277627 and parameters: {'x': -0.10797606395088488, 'y': 0.2889743466021176}. Best is trial 57 with value: 0.0040658675713701985.\n",
            "Trial 71 finished with value: 0.03972001089277627 and parameters: {'x': -0.10797606395088488, 'y': 0.2889743466021176}. Best is trial 57 with value: 0.0040658675713701985.\n",
            "Trial 71 finished with value: 0.03972001089277627 and parameters: {'x': -0.10797606395088488, 'y': 0.2889743466021176}. Best is trial 57 with value: 0.0040658675713701985.\n",
            "Trial 71 finished with value: 0.03972001089277627 and parameters: {'x': -0.10797606395088488, 'y': 0.2889743466021176}. Best is trial 57 with value: 0.0040658675713701985.\n",
            "Trial 71 finished with value: 0.03972001089277627 and parameters: {'x': -0.10797606395088488, 'y': 0.2889743466021176}. Best is trial 57 with value: 0.0040658675713701985.\n"
          ]
        },
        {
          "output_type": "stream",
          "name": "stderr",
          "text": [
            "\u001b[32m[I 2022-12-26 15:25:44,114]\u001b[0m Trial 72 finished with value: 0.08793166023109483 and parameters: {'x': 1.1599284849122597, 'y': 0.6976482857104105}. Best is trial 57 with value: 0.0040658675713701985.\u001b[0m\n"
          ]
        },
        {
          "output_type": "stream",
          "name": "stdout",
          "text": [
            "Trial 72 finished with value: 0.08793166023109483 and parameters: {'x': 1.1599284849122597, 'y': 0.6976482857104105}. Best is trial 57 with value: 0.0040658675713701985.\n",
            "Trial 72 finished with value: 0.08793166023109483 and parameters: {'x': 1.1599284849122597, 'y': 0.6976482857104105}. Best is trial 57 with value: 0.0040658675713701985.\n",
            "Trial 72 finished with value: 0.08793166023109483 and parameters: {'x': 1.1599284849122597, 'y': 0.6976482857104105}. Best is trial 57 with value: 0.0040658675713701985.\n",
            "Trial 72 finished with value: 0.08793166023109483 and parameters: {'x': 1.1599284849122597, 'y': 0.6976482857104105}. Best is trial 57 with value: 0.0040658675713701985.\n",
            "Trial 72 finished with value: 0.08793166023109483 and parameters: {'x': 1.1599284849122597, 'y': 0.6976482857104105}. Best is trial 57 with value: 0.0040658675713701985.\n",
            "Trial 72 finished with value: 0.08793166023109483 and parameters: {'x': 1.1599284849122597, 'y': 0.6976482857104105}. Best is trial 57 with value: 0.0040658675713701985.\n",
            "Trial 72 finished with value: 0.08793166023109483 and parameters: {'x': 1.1599284849122597, 'y': 0.6976482857104105}. Best is trial 57 with value: 0.0040658675713701985.\n"
          ]
        },
        {
          "output_type": "stream",
          "name": "stderr",
          "text": [
            "\u001b[32m[I 2022-12-26 15:25:44,138]\u001b[0m Trial 73 finished with value: 1.2680140310875505 and parameters: {'x': 2.051922920712312, 'y': -0.16847363762395967}. Best is trial 57 with value: 0.0040658675713701985.\u001b[0m\n"
          ]
        },
        {
          "output_type": "stream",
          "name": "stdout",
          "text": [
            "Trial 73 finished with value: 1.2680140310875505 and parameters: {'x': 2.051922920712312, 'y': -0.16847363762395967}. Best is trial 57 with value: 0.0040658675713701985.\n",
            "Trial 73 finished with value: 1.2680140310875505 and parameters: {'x': 2.051922920712312, 'y': -0.16847363762395967}. Best is trial 57 with value: 0.0040658675713701985.\n",
            "Trial 73 finished with value: 1.2680140310875505 and parameters: {'x': 2.051922920712312, 'y': -0.16847363762395967}. Best is trial 57 with value: 0.0040658675713701985.\n",
            "Trial 73 finished with value: 1.2680140310875505 and parameters: {'x': 2.051922920712312, 'y': -0.16847363762395967}. Best is trial 57 with value: 0.0040658675713701985.\n",
            "Trial 73 finished with value: 1.2680140310875505 and parameters: {'x': 2.051922920712312, 'y': -0.16847363762395967}. Best is trial 57 with value: 0.0040658675713701985.\n",
            "Trial 73 finished with value: 1.2680140310875505 and parameters: {'x': 2.051922920712312, 'y': -0.16847363762395967}. Best is trial 57 with value: 0.0040658675713701985.\n",
            "Trial 73 finished with value: 1.2680140310875505 and parameters: {'x': 2.051922920712312, 'y': -0.16847363762395967}. Best is trial 57 with value: 0.0040658675713701985.\n"
          ]
        },
        {
          "output_type": "stream",
          "name": "stderr",
          "text": [
            "\u001b[32m[I 2022-12-26 15:25:44,177]\u001b[0m Trial 74 finished with value: 3.3369233573340367 and parameters: {'x': -2.9862899127101916, 'y': 0.636815414580427}. Best is trial 57 with value: 0.0040658675713701985.\u001b[0m\n"
          ]
        },
        {
          "output_type": "stream",
          "name": "stdout",
          "text": [
            "Trial 74 finished with value: 3.3369233573340367 and parameters: {'x': -2.9862899127101916, 'y': 0.636815414580427}. Best is trial 57 with value: 0.0040658675713701985.\n",
            "Trial 74 finished with value: 3.3369233573340367 and parameters: {'x': -2.9862899127101916, 'y': 0.636815414580427}. Best is trial 57 with value: 0.0040658675713701985.\n",
            "Trial 74 finished with value: 3.3369233573340367 and parameters: {'x': -2.9862899127101916, 'y': 0.636815414580427}. Best is trial 57 with value: 0.0040658675713701985.\n",
            "Trial 74 finished with value: 3.3369233573340367 and parameters: {'x': -2.9862899127101916, 'y': 0.636815414580427}. Best is trial 57 with value: 0.0040658675713701985.\n",
            "Trial 74 finished with value: 3.3369233573340367 and parameters: {'x': -2.9862899127101916, 'y': 0.636815414580427}. Best is trial 57 with value: 0.0040658675713701985.\n",
            "Trial 74 finished with value: 3.3369233573340367 and parameters: {'x': -2.9862899127101916, 'y': 0.636815414580427}. Best is trial 57 with value: 0.0040658675713701985.\n",
            "Trial 74 finished with value: 3.3369233573340367 and parameters: {'x': -2.9862899127101916, 'y': 0.636815414580427}. Best is trial 57 with value: 0.0040658675713701985.\n"
          ]
        },
        {
          "output_type": "stream",
          "name": "stderr",
          "text": [
            "\u001b[32m[I 2022-12-26 15:25:44,198]\u001b[0m Trial 75 finished with value: 0.11346983381837947 and parameters: {'x': 0.3413423593278446, 'y': 0.9625314295627314}. Best is trial 57 with value: 0.0040658675713701985.\u001b[0m\n"
          ]
        },
        {
          "output_type": "stream",
          "name": "stdout",
          "text": [
            "Trial 75 finished with value: 0.11346983381837947 and parameters: {'x': 0.3413423593278446, 'y': 0.9625314295627314}. Best is trial 57 with value: 0.0040658675713701985.\n",
            "Trial 75 finished with value: 0.11346983381837947 and parameters: {'x': 0.3413423593278446, 'y': 0.9625314295627314}. Best is trial 57 with value: 0.0040658675713701985.\n",
            "Trial 75 finished with value: 0.11346983381837947 and parameters: {'x': 0.3413423593278446, 'y': 0.9625314295627314}. Best is trial 57 with value: 0.0040658675713701985.\n",
            "Trial 75 finished with value: 0.11346983381837947 and parameters: {'x': 0.3413423593278446, 'y': 0.9625314295627314}. Best is trial 57 with value: 0.0040658675713701985.\n",
            "Trial 75 finished with value: 0.11346983381837947 and parameters: {'x': 0.3413423593278446, 'y': 0.9625314295627314}. Best is trial 57 with value: 0.0040658675713701985.\n",
            "Trial 75 finished with value: 0.11346983381837947 and parameters: {'x': 0.3413423593278446, 'y': 0.9625314295627314}. Best is trial 57 with value: 0.0040658675713701985.\n",
            "Trial 75 finished with value: 0.11346983381837947 and parameters: {'x': 0.3413423593278446, 'y': 0.9625314295627314}. Best is trial 57 with value: 0.0040658675713701985.\n"
          ]
        },
        {
          "output_type": "stream",
          "name": "stderr",
          "text": [
            "\u001b[32m[I 2022-12-26 15:25:44,229]\u001b[0m Trial 76 finished with value: 1.4385984461891792 and parameters: {'x': -0.4687375844032782, 'y': 1.9126482852687832}. Best is trial 57 with value: 0.0040658675713701985.\u001b[0m\n"
          ]
        },
        {
          "output_type": "stream",
          "name": "stdout",
          "text": [
            "Trial 76 finished with value: 1.4385984461891792 and parameters: {'x': -0.4687375844032782, 'y': 1.9126482852687832}. Best is trial 57 with value: 0.0040658675713701985.\n",
            "Trial 76 finished with value: 1.4385984461891792 and parameters: {'x': -0.4687375844032782, 'y': 1.9126482852687832}. Best is trial 57 with value: 0.0040658675713701985.\n",
            "Trial 76 finished with value: 1.4385984461891792 and parameters: {'x': -0.4687375844032782, 'y': 1.9126482852687832}. Best is trial 57 with value: 0.0040658675713701985.\n",
            "Trial 76 finished with value: 1.4385984461891792 and parameters: {'x': -0.4687375844032782, 'y': 1.9126482852687832}. Best is trial 57 with value: 0.0040658675713701985.\n",
            "Trial 76 finished with value: 1.4385984461891792 and parameters: {'x': -0.4687375844032782, 'y': 1.9126482852687832}. Best is trial 57 with value: 0.0040658675713701985.\n",
            "Trial 76 finished with value: 1.4385984461891792 and parameters: {'x': -0.4687375844032782, 'y': 1.9126482852687832}. Best is trial 57 with value: 0.0040658675713701985.\n",
            "Trial 76 finished with value: 1.4385984461891792 and parameters: {'x': -0.4687375844032782, 'y': 1.9126482852687832}. Best is trial 57 with value: 0.0040658675713701985.\n"
          ]
        },
        {
          "output_type": "stream",
          "name": "stderr",
          "text": [
            "\u001b[32m[I 2022-12-26 15:25:44,277]\u001b[0m Trial 77 finished with value: 0.5471214740505193 and parameters: {'x': 1.131838225680155, 'y': 2.4285395414832984}. Best is trial 57 with value: 0.0040658675713701985.\u001b[0m\n"
          ]
        },
        {
          "output_type": "stream",
          "name": "stdout",
          "text": [
            "Trial 77 finished with value: 0.5471214740505193 and parameters: {'x': 1.131838225680155, 'y': 2.4285395414832984}. Best is trial 57 with value: 0.0040658675713701985.\n",
            "Trial 77 finished with value: 0.5471214740505193 and parameters: {'x': 1.131838225680155, 'y': 2.4285395414832984}. Best is trial 57 with value: 0.0040658675713701985.\n",
            "Trial 77 finished with value: 0.5471214740505193 and parameters: {'x': 1.131838225680155, 'y': 2.4285395414832984}. Best is trial 57 with value: 0.0040658675713701985.\n",
            "Trial 77 finished with value: 0.5471214740505193 and parameters: {'x': 1.131838225680155, 'y': 2.4285395414832984}. Best is trial 57 with value: 0.0040658675713701985.\n",
            "Trial 77 finished with value: 0.5471214740505193 and parameters: {'x': 1.131838225680155, 'y': 2.4285395414832984}. Best is trial 57 with value: 0.0040658675713701985.\n",
            "Trial 77 finished with value: 0.5471214740505193 and parameters: {'x': 1.131838225680155, 'y': 2.4285395414832984}. Best is trial 57 with value: 0.0040658675713701985.\n",
            "Trial 77 finished with value: 0.5471214740505193 and parameters: {'x': 1.131838225680155, 'y': 2.4285395414832984}. Best is trial 57 with value: 0.0040658675713701985.\n"
          ]
        },
        {
          "output_type": "stream",
          "name": "stderr",
          "text": [
            "\u001b[32m[I 2022-12-26 15:25:44,308]\u001b[0m Trial 78 finished with value: 4.165925591723302 and parameters: {'x': 3.0858746951567246, 'y': -0.9743419927504573}. Best is trial 57 with value: 0.0040658675713701985.\u001b[0m\n"
          ]
        },
        {
          "output_type": "stream",
          "name": "stdout",
          "text": [
            "Trial 78 finished with value: 4.165925591723302 and parameters: {'x': 3.0858746951567246, 'y': -0.9743419927504573}. Best is trial 57 with value: 0.0040658675713701985.\n",
            "Trial 78 finished with value: 4.165925591723302 and parameters: {'x': 3.0858746951567246, 'y': -0.9743419927504573}. Best is trial 57 with value: 0.0040658675713701985.\n",
            "Trial 78 finished with value: 4.165925591723302 and parameters: {'x': 3.0858746951567246, 'y': -0.9743419927504573}. Best is trial 57 with value: 0.0040658675713701985.\n",
            "Trial 78 finished with value: 4.165925591723302 and parameters: {'x': 3.0858746951567246, 'y': -0.9743419927504573}. Best is trial 57 with value: 0.0040658675713701985.\n",
            "Trial 78 finished with value: 4.165925591723302 and parameters: {'x': 3.0858746951567246, 'y': -0.9743419927504573}. Best is trial 57 with value: 0.0040658675713701985.\n",
            "Trial 78 finished with value: 4.165925591723302 and parameters: {'x': 3.0858746951567246, 'y': -0.9743419927504573}. Best is trial 57 with value: 0.0040658675713701985.\n",
            "Trial 78 finished with value: 4.165925591723302 and parameters: {'x': 3.0858746951567246, 'y': -0.9743419927504573}. Best is trial 57 with value: 0.0040658675713701985.\n"
          ]
        },
        {
          "output_type": "stream",
          "name": "stderr",
          "text": [
            "\u001b[32m[I 2022-12-26 15:25:44,342]\u001b[0m Trial 79 finished with value: 1.3173907017925384 and parameters: {'x': -1.9220864159723976, 'y': 0.3518839840281856}. Best is trial 57 with value: 0.0040658675713701985.\u001b[0m\n"
          ]
        },
        {
          "output_type": "stream",
          "name": "stdout",
          "text": [
            "Trial 79 finished with value: 1.3173907017925384 and parameters: {'x': -1.9220864159723976, 'y': 0.3518839840281856}. Best is trial 57 with value: 0.0040658675713701985.\n",
            "Trial 79 finished with value: 1.3173907017925384 and parameters: {'x': -1.9220864159723976, 'y': 0.3518839840281856}. Best is trial 57 with value: 0.0040658675713701985.\n",
            "Trial 79 finished with value: 1.3173907017925384 and parameters: {'x': -1.9220864159723976, 'y': 0.3518839840281856}. Best is trial 57 with value: 0.0040658675713701985.\n",
            "Trial 79 finished with value: 1.3173907017925384 and parameters: {'x': -1.9220864159723976, 'y': 0.3518839840281856}. Best is trial 57 with value: 0.0040658675713701985.\n",
            "Trial 79 finished with value: 1.3173907017925384 and parameters: {'x': -1.9220864159723976, 'y': 0.3518839840281856}. Best is trial 57 with value: 0.0040658675713701985.\n",
            "Trial 79 finished with value: 1.3173907017925384 and parameters: {'x': -1.9220864159723976, 'y': 0.3518839840281856}. Best is trial 57 with value: 0.0040658675713701985.\n",
            "Trial 79 finished with value: 1.3173907017925384 and parameters: {'x': -1.9220864159723976, 'y': 0.3518839840281856}. Best is trial 57 with value: 0.0040658675713701985.\n"
          ]
        },
        {
          "output_type": "stream",
          "name": "stderr",
          "text": [
            "\u001b[32m[I 2022-12-26 15:25:44,374]\u001b[0m Trial 80 finished with value: 0.2843112932022911 and parameters: {'x': -1.1131012295292277, 'y': -1.981533500023083}. Best is trial 57 with value: 0.0040658675713701985.\u001b[0m\n"
          ]
        },
        {
          "output_type": "stream",
          "name": "stdout",
          "text": [
            "Trial 80 finished with value: 0.2843112932022911 and parameters: {'x': -1.1131012295292277, 'y': -1.981533500023083}. Best is trial 57 with value: 0.0040658675713701985.\n",
            "Trial 80 finished with value: 0.2843112932022911 and parameters: {'x': -1.1131012295292277, 'y': -1.981533500023083}. Best is trial 57 with value: 0.0040658675713701985.\n",
            "Trial 80 finished with value: 0.2843112932022911 and parameters: {'x': -1.1131012295292277, 'y': -1.981533500023083}. Best is trial 57 with value: 0.0040658675713701985.\n",
            "Trial 80 finished with value: 0.2843112932022911 and parameters: {'x': -1.1131012295292277, 'y': -1.981533500023083}. Best is trial 57 with value: 0.0040658675713701985.\n",
            "Trial 80 finished with value: 0.2843112932022911 and parameters: {'x': -1.1131012295292277, 'y': -1.981533500023083}. Best is trial 57 with value: 0.0040658675713701985.\n",
            "Trial 80 finished with value: 0.2843112932022911 and parameters: {'x': -1.1131012295292277, 'y': -1.981533500023083}. Best is trial 57 with value: 0.0040658675713701985.\n",
            "Trial 80 finished with value: 0.2843112932022911 and parameters: {'x': -1.1131012295292277, 'y': -1.981533500023083}. Best is trial 57 with value: 0.0040658675713701985.\n"
          ]
        },
        {
          "output_type": "stream",
          "name": "stderr",
          "text": [
            "\u001b[32m[I 2022-12-26 15:25:44,413]\u001b[0m Trial 81 finished with value: 0.10273220381575865 and parameters: {'x': 1.1255546231843228, 'y': 1.4947328441171712}. Best is trial 57 with value: 0.0040658675713701985.\u001b[0m\n"
          ]
        },
        {
          "output_type": "stream",
          "name": "stdout",
          "text": [
            "Trial 81 finished with value: 0.10273220381575865 and parameters: {'x': 1.1255546231843228, 'y': 1.4947328441171712}. Best is trial 57 with value: 0.0040658675713701985.\n",
            "Trial 81 finished with value: 0.10273220381575865 and parameters: {'x': 1.1255546231843228, 'y': 1.4947328441171712}. Best is trial 57 with value: 0.0040658675713701985.\n",
            "Trial 81 finished with value: 0.10273220381575865 and parameters: {'x': 1.1255546231843228, 'y': 1.4947328441171712}. Best is trial 57 with value: 0.0040658675713701985.\n",
            "Trial 81 finished with value: 0.10273220381575865 and parameters: {'x': 1.1255546231843228, 'y': 1.4947328441171712}. Best is trial 57 with value: 0.0040658675713701985.\n",
            "Trial 81 finished with value: 0.10273220381575865 and parameters: {'x': 1.1255546231843228, 'y': 1.4947328441171712}. Best is trial 57 with value: 0.0040658675713701985.\n",
            "Trial 81 finished with value: 0.10273220381575865 and parameters: {'x': 1.1255546231843228, 'y': 1.4947328441171712}. Best is trial 57 with value: 0.0040658675713701985.\n",
            "Trial 81 finished with value: 0.10273220381575865 and parameters: {'x': 1.1255546231843228, 'y': 1.4947328441171712}. Best is trial 57 with value: 0.0040658675713701985.\n"
          ]
        },
        {
          "output_type": "stream",
          "name": "stderr",
          "text": [
            "\u001b[32m[I 2022-12-26 15:25:44,442]\u001b[0m Trial 82 finished with value: 0.7404174479266689 and parameters: {'x': 1.301912145854026, 'y': -0.4097632335439585}. Best is trial 57 with value: 0.0040658675713701985.\u001b[0m\n"
          ]
        },
        {
          "output_type": "stream",
          "name": "stdout",
          "text": [
            "Trial 82 finished with value: 0.7404174479266689 and parameters: {'x': 1.301912145854026, 'y': -0.4097632335439585}. Best is trial 57 with value: 0.0040658675713701985.\n",
            "Trial 82 finished with value: 0.7404174479266689 and parameters: {'x': 1.301912145854026, 'y': -0.4097632335439585}. Best is trial 57 with value: 0.0040658675713701985.\n",
            "Trial 82 finished with value: 0.7404174479266689 and parameters: {'x': 1.301912145854026, 'y': -0.4097632335439585}. Best is trial 57 with value: 0.0040658675713701985.\n",
            "Trial 82 finished with value: 0.7404174479266689 and parameters: {'x': 1.301912145854026, 'y': -0.4097632335439585}. Best is trial 57 with value: 0.0040658675713701985.\n",
            "Trial 82 finished with value: 0.7404174479266689 and parameters: {'x': 1.301912145854026, 'y': -0.4097632335439585}. Best is trial 57 with value: 0.0040658675713701985.\n",
            "Trial 82 finished with value: 0.7404174479266689 and parameters: {'x': 1.301912145854026, 'y': -0.4097632335439585}. Best is trial 57 with value: 0.0040658675713701985.\n",
            "Trial 82 finished with value: 0.7404174479266689 and parameters: {'x': 1.301912145854026, 'y': -0.4097632335439585}. Best is trial 57 with value: 0.0040658675713701985.\n"
          ]
        },
        {
          "output_type": "stream",
          "name": "stderr",
          "text": [
            "\u001b[32m[I 2022-12-26 15:25:44,473]\u001b[0m Trial 83 finished with value: 0.12928990082510233 and parameters: {'x': 0.5113109261092985, 'y': 1.1491753451078672}. Best is trial 57 with value: 0.0040658675713701985.\u001b[0m\n"
          ]
        },
        {
          "output_type": "stream",
          "name": "stdout",
          "text": [
            "Trial 83 finished with value: 0.12928990082510233 and parameters: {'x': 0.5113109261092985, 'y': 1.1491753451078672}. Best is trial 57 with value: 0.0040658675713701985.\n",
            "Trial 83 finished with value: 0.12928990082510233 and parameters: {'x': 0.5113109261092985, 'y': 1.1491753451078672}. Best is trial 57 with value: 0.0040658675713701985.\n",
            "Trial 83 finished with value: 0.12928990082510233 and parameters: {'x': 0.5113109261092985, 'y': 1.1491753451078672}. Best is trial 57 with value: 0.0040658675713701985.\n",
            "Trial 83 finished with value: 0.12928990082510233 and parameters: {'x': 0.5113109261092985, 'y': 1.1491753451078672}. Best is trial 57 with value: 0.0040658675713701985.\n",
            "Trial 83 finished with value: 0.12928990082510233 and parameters: {'x': 0.5113109261092985, 'y': 1.1491753451078672}. Best is trial 57 with value: 0.0040658675713701985.\n",
            "Trial 83 finished with value: 0.12928990082510233 and parameters: {'x': 0.5113109261092985, 'y': 1.1491753451078672}. Best is trial 57 with value: 0.0040658675713701985.\n",
            "Trial 83 finished with value: 0.12928990082510233 and parameters: {'x': 0.5113109261092985, 'y': 1.1491753451078672}. Best is trial 57 with value: 0.0040658675713701985.\n"
          ]
        },
        {
          "output_type": "stream",
          "name": "stderr",
          "text": [
            "\u001b[32m[I 2022-12-26 15:25:44,524]\u001b[0m Trial 84 finished with value: 1.392375723401487 and parameters: {'x': -0.27480562900805017, 'y': 2.0580685276866073}. Best is trial 57 with value: 0.0040658675713701985.\u001b[0m\n"
          ]
        },
        {
          "output_type": "stream",
          "name": "stdout",
          "text": [
            "Trial 84 finished with value: 1.392375723401487 and parameters: {'x': -0.27480562900805017, 'y': 2.0580685276866073}. Best is trial 57 with value: 0.0040658675713701985.\n",
            "Trial 84 finished with value: 1.392375723401487 and parameters: {'x': -0.27480562900805017, 'y': 2.0580685276866073}. Best is trial 57 with value: 0.0040658675713701985.\n",
            "Trial 84 finished with value: 1.392375723401487 and parameters: {'x': -0.27480562900805017, 'y': 2.0580685276866073}. Best is trial 57 with value: 0.0040658675713701985.\n",
            "Trial 84 finished with value: 1.392375723401487 and parameters: {'x': -0.27480562900805017, 'y': 2.0580685276866073}. Best is trial 57 with value: 0.0040658675713701985.\n",
            "Trial 84 finished with value: 1.392375723401487 and parameters: {'x': -0.27480562900805017, 'y': 2.0580685276866073}. Best is trial 57 with value: 0.0040658675713701985.\n",
            "Trial 84 finished with value: 1.392375723401487 and parameters: {'x': -0.27480562900805017, 'y': 2.0580685276866073}. Best is trial 57 with value: 0.0040658675713701985.\n",
            "Trial 84 finished with value: 1.392375723401487 and parameters: {'x': -0.27480562900805017, 'y': 2.0580685276866073}. Best is trial 57 with value: 0.0040658675713701985.\n"
          ]
        },
        {
          "output_type": "stream",
          "name": "stderr",
          "text": [
            "\u001b[32m[I 2022-12-26 15:25:44,559]\u001b[0m Trial 85 finished with value: 0.35679713193378415 and parameters: {'x': 2.0678777985978636, 'y': 2.768888609093791}. Best is trial 57 with value: 0.0040658675713701985.\u001b[0m\n"
          ]
        },
        {
          "output_type": "stream",
          "name": "stdout",
          "text": [
            "Trial 85 finished with value: 0.35679713193378415 and parameters: {'x': 2.0678777985978636, 'y': 2.768888609093791}. Best is trial 57 with value: 0.0040658675713701985.\n",
            "Trial 85 finished with value: 0.35679713193378415 and parameters: {'x': 2.0678777985978636, 'y': 2.768888609093791}. Best is trial 57 with value: 0.0040658675713701985.\n",
            "Trial 85 finished with value: 0.35679713193378415 and parameters: {'x': 2.0678777985978636, 'y': 2.768888609093791}. Best is trial 57 with value: 0.0040658675713701985.\n",
            "Trial 85 finished with value: 0.35679713193378415 and parameters: {'x': 2.0678777985978636, 'y': 2.768888609093791}. Best is trial 57 with value: 0.0040658675713701985.\n",
            "Trial 85 finished with value: 0.35679713193378415 and parameters: {'x': 2.0678777985978636, 'y': 2.768888609093791}. Best is trial 57 with value: 0.0040658675713701985.\n",
            "Trial 85 finished with value: 0.35679713193378415 and parameters: {'x': 2.0678777985978636, 'y': 2.768888609093791}. Best is trial 57 with value: 0.0040658675713701985.\n",
            "Trial 85 finished with value: 0.35679713193378415 and parameters: {'x': 2.0678777985978636, 'y': 2.768888609093791}. Best is trial 57 with value: 0.0040658675713701985.\n"
          ]
        },
        {
          "output_type": "stream",
          "name": "stderr",
          "text": [
            "\u001b[32m[I 2022-12-26 15:25:44,590]\u001b[0m Trial 86 finished with value: 0.26399266977979907 and parameters: {'x': 0.9822756073457173, 'y': -0.027427972363676667}. Best is trial 57 with value: 0.0040658675713701985.\u001b[0m\n"
          ]
        },
        {
          "output_type": "stream",
          "name": "stdout",
          "text": [
            "Trial 86 finished with value: 0.26399266977979907 and parameters: {'x': 0.9822756073457173, 'y': -0.027427972363676667}. Best is trial 57 with value: 0.0040658675713701985.\n",
            "Trial 86 finished with value: 0.26399266977979907 and parameters: {'x': 0.9822756073457173, 'y': -0.027427972363676667}. Best is trial 57 with value: 0.0040658675713701985.\n",
            "Trial 86 finished with value: 0.26399266977979907 and parameters: {'x': 0.9822756073457173, 'y': -0.027427972363676667}. Best is trial 57 with value: 0.0040658675713701985.\n",
            "Trial 86 finished with value: 0.26399266977979907 and parameters: {'x': 0.9822756073457173, 'y': -0.027427972363676667}. Best is trial 57 with value: 0.0040658675713701985.\n",
            "Trial 86 finished with value: 0.26399266977979907 and parameters: {'x': 0.9822756073457173, 'y': -0.027427972363676667}. Best is trial 57 with value: 0.0040658675713701985.\n",
            "Trial 86 finished with value: 0.26399266977979907 and parameters: {'x': 0.9822756073457173, 'y': -0.027427972363676667}. Best is trial 57 with value: 0.0040658675713701985.\n",
            "Trial 86 finished with value: 0.26399266977979907 and parameters: {'x': 0.9822756073457173, 'y': -0.027427972363676667}. Best is trial 57 with value: 0.0040658675713701985.\n"
          ]
        },
        {
          "output_type": "stream",
          "name": "stderr",
          "text": [
            "\u001b[32m[I 2022-12-26 15:25:44,623]\u001b[0m Trial 87 finished with value: 0.10949099760548431 and parameters: {'x': 1.6872347899908429, 'y': 1.5566135668697374}. Best is trial 57 with value: 0.0040658675713701985.\u001b[0m\n"
          ]
        },
        {
          "output_type": "stream",
          "name": "stdout",
          "text": [
            "Trial 87 finished with value: 0.10949099760548431 and parameters: {'x': 1.6872347899908429, 'y': 1.5566135668697374}. Best is trial 57 with value: 0.0040658675713701985.\n",
            "Trial 87 finished with value: 0.10949099760548431 and parameters: {'x': 1.6872347899908429, 'y': 1.5566135668697374}. Best is trial 57 with value: 0.0040658675713701985.\n",
            "Trial 87 finished with value: 0.10949099760548431 and parameters: {'x': 1.6872347899908429, 'y': 1.5566135668697374}. Best is trial 57 with value: 0.0040658675713701985.\n",
            "Trial 87 finished with value: 0.10949099760548431 and parameters: {'x': 1.6872347899908429, 'y': 1.5566135668697374}. Best is trial 57 with value: 0.0040658675713701985.\n",
            "Trial 87 finished with value: 0.10949099760548431 and parameters: {'x': 1.6872347899908429, 'y': 1.5566135668697374}. Best is trial 57 with value: 0.0040658675713701985.\n",
            "Trial 87 finished with value: 0.10949099760548431 and parameters: {'x': 1.6872347899908429, 'y': 1.5566135668697374}. Best is trial 57 with value: 0.0040658675713701985.\n",
            "Trial 87 finished with value: 0.10949099760548431 and parameters: {'x': 1.6872347899908429, 'y': 1.5566135668697374}. Best is trial 57 with value: 0.0040658675713701985.\n"
          ]
        },
        {
          "output_type": "stream",
          "name": "stderr",
          "text": [
            "\u001b[32m[I 2022-12-26 15:25:44,654]\u001b[0m Trial 88 finished with value: 4.832662212045161 and parameters: {'x': 0.1333553306364463, 'y': 4.4340752655030045}. Best is trial 57 with value: 0.0040658675713701985.\u001b[0m\n"
          ]
        },
        {
          "output_type": "stream",
          "name": "stdout",
          "text": [
            "Trial 88 finished with value: 4.832662212045161 and parameters: {'x': 0.1333553306364463, 'y': 4.4340752655030045}. Best is trial 57 with value: 0.0040658675713701985.\n",
            "Trial 88 finished with value: 4.832662212045161 and parameters: {'x': 0.1333553306364463, 'y': 4.4340752655030045}. Best is trial 57 with value: 0.0040658675713701985.\n",
            "Trial 88 finished with value: 4.832662212045161 and parameters: {'x': 0.1333553306364463, 'y': 4.4340752655030045}. Best is trial 57 with value: 0.0040658675713701985.\n",
            "Trial 88 finished with value: 4.832662212045161 and parameters: {'x': 0.1333553306364463, 'y': 4.4340752655030045}. Best is trial 57 with value: 0.0040658675713701985.\n",
            "Trial 88 finished with value: 4.832662212045161 and parameters: {'x': 0.1333553306364463, 'y': 4.4340752655030045}. Best is trial 57 with value: 0.0040658675713701985.\n",
            "Trial 88 finished with value: 4.832662212045161 and parameters: {'x': 0.1333553306364463, 'y': 4.4340752655030045}. Best is trial 57 with value: 0.0040658675713701985.\n",
            "Trial 88 finished with value: 4.832662212045161 and parameters: {'x': 0.1333553306364463, 'y': 4.4340752655030045}. Best is trial 57 with value: 0.0040658675713701985.\n"
          ]
        },
        {
          "output_type": "stream",
          "name": "stderr",
          "text": [
            "\u001b[32m[I 2022-12-26 15:25:44,683]\u001b[0m Trial 89 finished with value: 22.71140292157177 and parameters: {'x': 8.045616872118874, 'y': -1.392336622309183}. Best is trial 57 with value: 0.0040658675713701985.\u001b[0m\n"
          ]
        },
        {
          "output_type": "stream",
          "name": "stdout",
          "text": [
            "Trial 89 finished with value: 22.71140292157177 and parameters: {'x': 8.045616872118874, 'y': -1.392336622309183}. Best is trial 57 with value: 0.0040658675713701985.\n",
            "Trial 89 finished with value: 22.71140292157177 and parameters: {'x': 8.045616872118874, 'y': -1.392336622309183}. Best is trial 57 with value: 0.0040658675713701985.\n",
            "Trial 89 finished with value: 22.71140292157177 and parameters: {'x': 8.045616872118874, 'y': -1.392336622309183}. Best is trial 57 with value: 0.0040658675713701985.\n",
            "Trial 89 finished with value: 22.71140292157177 and parameters: {'x': 8.045616872118874, 'y': -1.392336622309183}. Best is trial 57 with value: 0.0040658675713701985.\n",
            "Trial 89 finished with value: 22.71140292157177 and parameters: {'x': 8.045616872118874, 'y': -1.392336622309183}. Best is trial 57 with value: 0.0040658675713701985.\n",
            "Trial 89 finished with value: 22.71140292157177 and parameters: {'x': 8.045616872118874, 'y': -1.392336622309183}. Best is trial 57 with value: 0.0040658675713701985.\n",
            "Trial 89 finished with value: 22.71140292157177 and parameters: {'x': 8.045616872118874, 'y': -1.392336622309183}. Best is trial 57 with value: 0.0040658675713701985.\n"
          ]
        },
        {
          "output_type": "stream",
          "name": "stderr",
          "text": [
            "\u001b[32m[I 2022-12-26 15:25:44,713]\u001b[0m Trial 90 finished with value: 0.4443965886001769 and parameters: {'x': -0.6622051415164223, 'y': 0.6710552311929807}. Best is trial 57 with value: 0.0040658675713701985.\u001b[0m\n"
          ]
        },
        {
          "output_type": "stream",
          "name": "stdout",
          "text": [
            "Trial 90 finished with value: 0.4443965886001769 and parameters: {'x': -0.6622051415164223, 'y': 0.6710552311929807}. Best is trial 57 with value: 0.0040658675713701985.\n",
            "Trial 90 finished with value: 0.4443965886001769 and parameters: {'x': -0.6622051415164223, 'y': 0.6710552311929807}. Best is trial 57 with value: 0.0040658675713701985.\n",
            "Trial 90 finished with value: 0.4443965886001769 and parameters: {'x': -0.6622051415164223, 'y': 0.6710552311929807}. Best is trial 57 with value: 0.0040658675713701985.\n",
            "Trial 90 finished with value: 0.4443965886001769 and parameters: {'x': -0.6622051415164223, 'y': 0.6710552311929807}. Best is trial 57 with value: 0.0040658675713701985.\n",
            "Trial 90 finished with value: 0.4443965886001769 and parameters: {'x': -0.6622051415164223, 'y': 0.6710552311929807}. Best is trial 57 with value: 0.0040658675713701985.\n",
            "Trial 90 finished with value: 0.4443965886001769 and parameters: {'x': -0.6622051415164223, 'y': 0.6710552311929807}. Best is trial 57 with value: 0.0040658675713701985.\n",
            "Trial 90 finished with value: 0.4443965886001769 and parameters: {'x': -0.6622051415164223, 'y': 0.6710552311929807}. Best is trial 57 with value: 0.0040658675713701985.\n"
          ]
        },
        {
          "output_type": "stream",
          "name": "stderr",
          "text": [
            "\u001b[32m[I 2022-12-26 15:25:44,737]\u001b[0m Trial 91 finished with value: 0.1191073896391035 and parameters: {'x': 1.564693111132186, 'y': 1.7540675304808169}. Best is trial 57 with value: 0.0040658675713701985.\u001b[0m\n"
          ]
        },
        {
          "output_type": "stream",
          "name": "stdout",
          "text": [
            "Trial 91 finished with value: 0.1191073896391035 and parameters: {'x': 1.564693111132186, 'y': 1.7540675304808169}. Best is trial 57 with value: 0.0040658675713701985.\n",
            "Trial 91 finished with value: 0.1191073896391035 and parameters: {'x': 1.564693111132186, 'y': 1.7540675304808169}. Best is trial 57 with value: 0.0040658675713701985.\n",
            "Trial 91 finished with value: 0.1191073896391035 and parameters: {'x': 1.564693111132186, 'y': 1.7540675304808169}. Best is trial 57 with value: 0.0040658675713701985.\n",
            "Trial 91 finished with value: 0.1191073896391035 and parameters: {'x': 1.564693111132186, 'y': 1.7540675304808169}. Best is trial 57 with value: 0.0040658675713701985.\n",
            "Trial 91 finished with value: 0.1191073896391035 and parameters: {'x': 1.564693111132186, 'y': 1.7540675304808169}. Best is trial 57 with value: 0.0040658675713701985.\n",
            "Trial 91 finished with value: 0.1191073896391035 and parameters: {'x': 1.564693111132186, 'y': 1.7540675304808169}. Best is trial 57 with value: 0.0040658675713701985.\n",
            "Trial 91 finished with value: 0.1191073896391035 and parameters: {'x': 1.564693111132186, 'y': 1.7540675304808169}. Best is trial 57 with value: 0.0040658675713701985.\n"
          ]
        },
        {
          "output_type": "stream",
          "name": "stderr",
          "text": [
            "\u001b[32m[I 2022-12-26 15:25:44,775]\u001b[0m Trial 92 finished with value: 0.1483707391572549 and parameters: {'x': 0.5686679339462992, 'y': 1.2479864395923181}. Best is trial 57 with value: 0.0040658675713701985.\u001b[0m\n"
          ]
        },
        {
          "output_type": "stream",
          "name": "stdout",
          "text": [
            "Trial 92 finished with value: 0.1483707391572549 and parameters: {'x': 0.5686679339462992, 'y': 1.2479864395923181}. Best is trial 57 with value: 0.0040658675713701985.\n",
            "Trial 92 finished with value: 0.1483707391572549 and parameters: {'x': 0.5686679339462992, 'y': 1.2479864395923181}. Best is trial 57 with value: 0.0040658675713701985.\n",
            "Trial 92 finished with value: 0.1483707391572549 and parameters: {'x': 0.5686679339462992, 'y': 1.2479864395923181}. Best is trial 57 with value: 0.0040658675713701985.\n",
            "Trial 92 finished with value: 0.1483707391572549 and parameters: {'x': 0.5686679339462992, 'y': 1.2479864395923181}. Best is trial 57 with value: 0.0040658675713701985.\n",
            "Trial 92 finished with value: 0.1483707391572549 and parameters: {'x': 0.5686679339462992, 'y': 1.2479864395923181}. Best is trial 57 with value: 0.0040658675713701985.\n",
            "Trial 92 finished with value: 0.1483707391572549 and parameters: {'x': 0.5686679339462992, 'y': 1.2479864395923181}. Best is trial 57 with value: 0.0040658675713701985.\n",
            "Trial 92 finished with value: 0.1483707391572549 and parameters: {'x': 0.5686679339462992, 'y': 1.2479864395923181}. Best is trial 57 with value: 0.0040658675713701985.\n"
          ]
        },
        {
          "output_type": "stream",
          "name": "stderr",
          "text": [
            "\u001b[32m[I 2022-12-26 15:25:44,809]\u001b[0m Trial 93 finished with value: 1.9297476932867719 and parameters: {'x': 2.8519402251458184, 'y': 0.13878461393913727}. Best is trial 57 with value: 0.0040658675713701985.\u001b[0m\n"
          ]
        },
        {
          "output_type": "stream",
          "name": "stdout",
          "text": [
            "Trial 93 finished with value: 1.9297476932867719 and parameters: {'x': 2.8519402251458184, 'y': 0.13878461393913727}. Best is trial 57 with value: 0.0040658675713701985.\n",
            "Trial 93 finished with value: 1.9297476932867719 and parameters: {'x': 2.8519402251458184, 'y': 0.13878461393913727}. Best is trial 57 with value: 0.0040658675713701985.\n",
            "Trial 93 finished with value: 1.9297476932867719 and parameters: {'x': 2.8519402251458184, 'y': 0.13878461393913727}. Best is trial 57 with value: 0.0040658675713701985.\n",
            "Trial 93 finished with value: 1.9297476932867719 and parameters: {'x': 2.8519402251458184, 'y': 0.13878461393913727}. Best is trial 57 with value: 0.0040658675713701985.\n",
            "Trial 93 finished with value: 1.9297476932867719 and parameters: {'x': 2.8519402251458184, 'y': 0.13878461393913727}. Best is trial 57 with value: 0.0040658675713701985.\n",
            "Trial 93 finished with value: 1.9297476932867719 and parameters: {'x': 2.8519402251458184, 'y': 0.13878461393913727}. Best is trial 57 with value: 0.0040658675713701985.\n",
            "Trial 93 finished with value: 1.9297476932867719 and parameters: {'x': 2.8519402251458184, 'y': 0.13878461393913727}. Best is trial 57 with value: 0.0040658675713701985.\n"
          ]
        },
        {
          "output_type": "stream",
          "name": "stderr",
          "text": [
            "\u001b[32m[I 2022-12-26 15:25:44,847]\u001b[0m Trial 94 finished with value: 1.8576330933080387 and parameters: {'x': 1.8535418538224646, 'y': -0.8651817708006263}. Best is trial 57 with value: 0.0040658675713701985.\u001b[0m\n"
          ]
        },
        {
          "output_type": "stream",
          "name": "stdout",
          "text": [
            "Trial 94 finished with value: 1.8576330933080387 and parameters: {'x': 1.8535418538224646, 'y': -0.8651817708006263}. Best is trial 57 with value: 0.0040658675713701985.\n",
            "Trial 94 finished with value: 1.8576330933080387 and parameters: {'x': 1.8535418538224646, 'y': -0.8651817708006263}. Best is trial 57 with value: 0.0040658675713701985.\n",
            "Trial 94 finished with value: 1.8576330933080387 and parameters: {'x': 1.8535418538224646, 'y': -0.8651817708006263}. Best is trial 57 with value: 0.0040658675713701985.\n",
            "Trial 94 finished with value: 1.8576330933080387 and parameters: {'x': 1.8535418538224646, 'y': -0.8651817708006263}. Best is trial 57 with value: 0.0040658675713701985.\n",
            "Trial 94 finished with value: 1.8576330933080387 and parameters: {'x': 1.8535418538224646, 'y': -0.8651817708006263}. Best is trial 57 with value: 0.0040658675713701985.\n",
            "Trial 94 finished with value: 1.8576330933080387 and parameters: {'x': 1.8535418538224646, 'y': -0.8651817708006263}. Best is trial 57 with value: 0.0040658675713701985.\n",
            "Trial 94 finished with value: 1.8576330933080387 and parameters: {'x': 1.8535418538224646, 'y': -0.8651817708006263}. Best is trial 57 with value: 0.0040658675713701985.\n"
          ]
        },
        {
          "output_type": "stream",
          "name": "stderr",
          "text": [
            "\u001b[32m[I 2022-12-26 15:25:44,879]\u001b[0m Trial 95 finished with value: 3.1862077541365883 and parameters: {'x': -0.23397501282235333, 'y': 3.2835297357489126}. Best is trial 57 with value: 0.0040658675713701985.\u001b[0m\n"
          ]
        },
        {
          "output_type": "stream",
          "name": "stdout",
          "text": [
            "Trial 95 finished with value: 3.1862077541365883 and parameters: {'x': -0.23397501282235333, 'y': 3.2835297357489126}. Best is trial 57 with value: 0.0040658675713701985.\n",
            "Trial 95 finished with value: 3.1862077541365883 and parameters: {'x': -0.23397501282235333, 'y': 3.2835297357489126}. Best is trial 57 with value: 0.0040658675713701985.\n",
            "Trial 95 finished with value: 3.1862077541365883 and parameters: {'x': -0.23397501282235333, 'y': 3.2835297357489126}. Best is trial 57 with value: 0.0040658675713701985.\n",
            "Trial 95 finished with value: 3.1862077541365883 and parameters: {'x': -0.23397501282235333, 'y': 3.2835297357489126}. Best is trial 57 with value: 0.0040658675713701985.\n",
            "Trial 95 finished with value: 3.1862077541365883 and parameters: {'x': -0.23397501282235333, 'y': 3.2835297357489126}. Best is trial 57 with value: 0.0040658675713701985.\n",
            "Trial 95 finished with value: 3.1862077541365883 and parameters: {'x': -0.23397501282235333, 'y': 3.2835297357489126}. Best is trial 57 with value: 0.0040658675713701985.\n",
            "Trial 95 finished with value: 3.1862077541365883 and parameters: {'x': -0.23397501282235333, 'y': 3.2835297357489126}. Best is trial 57 with value: 0.0040658675713701985.\n"
          ]
        },
        {
          "output_type": "stream",
          "name": "stderr",
          "text": [
            "\u001b[32m[I 2022-12-26 15:25:44,909]\u001b[0m Trial 96 finished with value: 1.7747030640748322 and parameters: {'x': -1.0993893276557518, 'y': 1.5633539438028148}. Best is trial 57 with value: 0.0040658675713701985.\u001b[0m\n"
          ]
        },
        {
          "output_type": "stream",
          "name": "stdout",
          "text": [
            "Trial 96 finished with value: 1.7747030640748322 and parameters: {'x': -1.0993893276557518, 'y': 1.5633539438028148}. Best is trial 57 with value: 0.0040658675713701985.\n",
            "Trial 96 finished with value: 1.7747030640748322 and parameters: {'x': -1.0993893276557518, 'y': 1.5633539438028148}. Best is trial 57 with value: 0.0040658675713701985.\n",
            "Trial 96 finished with value: 1.7747030640748322 and parameters: {'x': -1.0993893276557518, 'y': 1.5633539438028148}. Best is trial 57 with value: 0.0040658675713701985.\n",
            "Trial 96 finished with value: 1.7747030640748322 and parameters: {'x': -1.0993893276557518, 'y': 1.5633539438028148}. Best is trial 57 with value: 0.0040658675713701985.\n",
            "Trial 96 finished with value: 1.7747030640748322 and parameters: {'x': -1.0993893276557518, 'y': 1.5633539438028148}. Best is trial 57 with value: 0.0040658675713701985.\n",
            "Trial 96 finished with value: 1.7747030640748322 and parameters: {'x': -1.0993893276557518, 'y': 1.5633539438028148}. Best is trial 57 with value: 0.0040658675713701985.\n",
            "Trial 96 finished with value: 1.7747030640748322 and parameters: {'x': -1.0993893276557518, 'y': 1.5633539438028148}. Best is trial 57 with value: 0.0040658675713701985.\n"
          ]
        },
        {
          "output_type": "stream",
          "name": "stderr",
          "text": [
            "\u001b[32m[I 2022-12-26 15:25:44,944]\u001b[0m Trial 97 finished with value: 36.18585920498205 and parameters: {'x': -9.656588873786308, 'y': 2.283638121892378}. Best is trial 57 with value: 0.0040658675713701985.\u001b[0m\n"
          ]
        },
        {
          "output_type": "stream",
          "name": "stdout",
          "text": [
            "Trial 97 finished with value: 36.18585920498205 and parameters: {'x': -9.656588873786308, 'y': 2.283638121892378}. Best is trial 57 with value: 0.0040658675713701985.\n",
            "Trial 97 finished with value: 36.18585920498205 and parameters: {'x': -9.656588873786308, 'y': 2.283638121892378}. Best is trial 57 with value: 0.0040658675713701985.\n",
            "Trial 97 finished with value: 36.18585920498205 and parameters: {'x': -9.656588873786308, 'y': 2.283638121892378}. Best is trial 57 with value: 0.0040658675713701985.\n",
            "Trial 97 finished with value: 36.18585920498205 and parameters: {'x': -9.656588873786308, 'y': 2.283638121892378}. Best is trial 57 with value: 0.0040658675713701985.\n",
            "Trial 97 finished with value: 36.18585920498205 and parameters: {'x': -9.656588873786308, 'y': 2.283638121892378}. Best is trial 57 with value: 0.0040658675713701985.\n",
            "Trial 97 finished with value: 36.18585920498205 and parameters: {'x': -9.656588873786308, 'y': 2.283638121892378}. Best is trial 57 with value: 0.0040658675713701985.\n",
            "Trial 97 finished with value: 36.18585920498205 and parameters: {'x': -9.656588873786308, 'y': 2.283638121892378}. Best is trial 57 with value: 0.0040658675713701985.\n"
          ]
        },
        {
          "output_type": "stream",
          "name": "stderr",
          "text": [
            "\u001b[32m[I 2022-12-26 15:25:44,969]\u001b[0m Trial 98 finished with value: 0.12465701091191328 and parameters: {'x': 1.356366208898597, 'y': 0.79672743835674}. Best is trial 57 with value: 0.0040658675713701985.\u001b[0m\n"
          ]
        },
        {
          "output_type": "stream",
          "name": "stdout",
          "text": [
            "Trial 98 finished with value: 0.12465701091191328 and parameters: {'x': 1.356366208898597, 'y': 0.79672743835674}. Best is trial 57 with value: 0.0040658675713701985.\n",
            "Trial 98 finished with value: 0.12465701091191328 and parameters: {'x': 1.356366208898597, 'y': 0.79672743835674}. Best is trial 57 with value: 0.0040658675713701985.\n",
            "Trial 98 finished with value: 0.12465701091191328 and parameters: {'x': 1.356366208898597, 'y': 0.79672743835674}. Best is trial 57 with value: 0.0040658675713701985.\n",
            "Trial 98 finished with value: 0.12465701091191328 and parameters: {'x': 1.356366208898597, 'y': 0.79672743835674}. Best is trial 57 with value: 0.0040658675713701985.\n",
            "Trial 98 finished with value: 0.12465701091191328 and parameters: {'x': 1.356366208898597, 'y': 0.79672743835674}. Best is trial 57 with value: 0.0040658675713701985.\n",
            "Trial 98 finished with value: 0.12465701091191328 and parameters: {'x': 1.356366208898597, 'y': 0.79672743835674}. Best is trial 57 with value: 0.0040658675713701985.\n",
            "Trial 98 finished with value: 0.12465701091191328 and parameters: {'x': 1.356366208898597, 'y': 0.79672743835674}. Best is trial 57 with value: 0.0040658675713701985.\n"
          ]
        },
        {
          "output_type": "stream",
          "name": "stderr",
          "text": [
            "\u001b[32m[I 2022-12-26 15:25:45,010]\u001b[0m Trial 99 finished with value: 1.9924045573697833 and parameters: {'x': 2.228971300179862, 'y': -0.5746234561859802}. Best is trial 57 with value: 0.0040658675713701985.\u001b[0m\n"
          ]
        },
        {
          "output_type": "stream",
          "name": "stdout",
          "text": [
            "Trial 99 finished with value: 1.9924045573697833 and parameters: {'x': 2.228971300179862, 'y': -0.5746234561859802}. Best is trial 57 with value: 0.0040658675713701985.\n",
            "Trial 99 finished with value: 1.9924045573697833 and parameters: {'x': 2.228971300179862, 'y': -0.5746234561859802}. Best is trial 57 with value: 0.0040658675713701985.\n",
            "Trial 99 finished with value: 1.9924045573697833 and parameters: {'x': 2.228971300179862, 'y': -0.5746234561859802}. Best is trial 57 with value: 0.0040658675713701985.\n",
            "Trial 99 finished with value: 1.9924045573697833 and parameters: {'x': 2.228971300179862, 'y': -0.5746234561859802}. Best is trial 57 with value: 0.0040658675713701985.\n",
            "Trial 99 finished with value: 1.9924045573697833 and parameters: {'x': 2.228971300179862, 'y': -0.5746234561859802}. Best is trial 57 with value: 0.0040658675713701985.\n",
            "Trial 99 finished with value: 1.9924045573697833 and parameters: {'x': 2.228971300179862, 'y': -0.5746234561859802}. Best is trial 57 with value: 0.0040658675713701985.\n",
            "Trial 99 finished with value: 1.9924045573697833 and parameters: {'x': 2.228971300179862, 'y': -0.5746234561859802}. Best is trial 57 with value: 0.0040658675713701985.\n"
          ]
        },
        {
          "output_type": "stream",
          "name": "stderr",
          "text": [
            "\u001b[32m[I 2022-12-26 15:25:45,050]\u001b[0m A new study created in memory with name: no-name-b771a957-1d70-40d6-aac4-234de354223d\u001b[0m\n"
          ]
        },
        {
          "output_type": "stream",
          "name": "stdout",
          "text": [
            "A new study created in memory with name: no-name-b771a957-1d70-40d6-aac4-234de354223d\n",
            "A new study created in memory with name: no-name-b771a957-1d70-40d6-aac4-234de354223d\n",
            "A new study created in memory with name: no-name-b771a957-1d70-40d6-aac4-234de354223d\n",
            "A new study created in memory with name: no-name-b771a957-1d70-40d6-aac4-234de354223d\n",
            "A new study created in memory with name: no-name-b771a957-1d70-40d6-aac4-234de354223d\n",
            "A new study created in memory with name: no-name-b771a957-1d70-40d6-aac4-234de354223d\n",
            "A new study created in memory with name: no-name-b771a957-1d70-40d6-aac4-234de354223d\n"
          ]
        },
        {
          "output_type": "stream",
          "name": "stderr",
          "text": [
            "\u001b[32m[I 2022-12-26 15:25:45,081]\u001b[0m Trial 0 finished with value: 496.93324429863935 and parameters: {'x': 1.8129040532333924, 'y': -4.857615042557159}. Best is trial 0 with value: 496.93324429863935.\u001b[0m\n"
          ]
        },
        {
          "output_type": "stream",
          "name": "stdout",
          "text": [
            "Trial 0 finished with value: 496.93324429863935 and parameters: {'x': 1.8129040532333924, 'y': -4.857615042557159}. Best is trial 0 with value: 496.93324429863935.\n",
            "Trial 0 finished with value: 496.93324429863935 and parameters: {'x': 1.8129040532333924, 'y': -4.857615042557159}. Best is trial 0 with value: 496.93324429863935.\n",
            "Trial 0 finished with value: 496.93324429863935 and parameters: {'x': 1.8129040532333924, 'y': -4.857615042557159}. Best is trial 0 with value: 496.93324429863935.\n",
            "Trial 0 finished with value: 496.93324429863935 and parameters: {'x': 1.8129040532333924, 'y': -4.857615042557159}. Best is trial 0 with value: 496.93324429863935.\n",
            "Trial 0 finished with value: 496.93324429863935 and parameters: {'x': 1.8129040532333924, 'y': -4.857615042557159}. Best is trial 0 with value: 496.93324429863935.\n",
            "Trial 0 finished with value: 496.93324429863935 and parameters: {'x': 1.8129040532333924, 'y': -4.857615042557159}. Best is trial 0 with value: 496.93324429863935.\n",
            "Trial 0 finished with value: 496.93324429863935 and parameters: {'x': 1.8129040532333924, 'y': -4.857615042557159}. Best is trial 0 with value: 496.93324429863935.\n"
          ]
        },
        {
          "output_type": "stream",
          "name": "stderr",
          "text": [
            "\u001b[32m[I 2022-12-26 15:25:45,114]\u001b[0m Trial 1 finished with value: 95.99275802216252 and parameters: {'x': 1.8661377410343594, 'y': -2.2798513479211966}. Best is trial 1 with value: 95.99275802216252.\u001b[0m\n"
          ]
        },
        {
          "output_type": "stream",
          "name": "stdout",
          "text": [
            "Trial 1 finished with value: 95.99275802216252 and parameters: {'x': 1.8661377410343594, 'y': -2.2798513479211966}. Best is trial 1 with value: 95.99275802216252.\n",
            "Trial 1 finished with value: 95.99275802216252 and parameters: {'x': 1.8661377410343594, 'y': -2.2798513479211966}. Best is trial 1 with value: 95.99275802216252.\n",
            "Trial 1 finished with value: 95.99275802216252 and parameters: {'x': 1.8661377410343594, 'y': -2.2798513479211966}. Best is trial 1 with value: 95.99275802216252.\n",
            "Trial 1 finished with value: 95.99275802216252 and parameters: {'x': 1.8661377410343594, 'y': -2.2798513479211966}. Best is trial 1 with value: 95.99275802216252.\n",
            "Trial 1 finished with value: 95.99275802216252 and parameters: {'x': 1.8661377410343594, 'y': -2.2798513479211966}. Best is trial 1 with value: 95.99275802216252.\n",
            "Trial 1 finished with value: 95.99275802216252 and parameters: {'x': 1.8661377410343594, 'y': -2.2798513479211966}. Best is trial 1 with value: 95.99275802216252.\n",
            "Trial 1 finished with value: 95.99275802216252 and parameters: {'x': 1.8661377410343594, 'y': -2.2798513479211966}. Best is trial 1 with value: 95.99275802216252.\n"
          ]
        },
        {
          "output_type": "stream",
          "name": "stderr",
          "text": [
            "\u001b[32m[I 2022-12-26 15:25:45,139]\u001b[0m Trial 2 finished with value: 142.8479156806792 and parameters: {'x': -4.351548435224862, 'y': -4.783320142951897}. Best is trial 1 with value: 95.99275802216252.\u001b[0m\n"
          ]
        },
        {
          "output_type": "stream",
          "name": "stdout",
          "text": [
            "Trial 2 finished with value: 142.8479156806792 and parameters: {'x': -4.351548435224862, 'y': -4.783320142951897}. Best is trial 1 with value: 95.99275802216252.\n",
            "Trial 2 finished with value: 142.8479156806792 and parameters: {'x': -4.351548435224862, 'y': -4.783320142951897}. Best is trial 1 with value: 95.99275802216252.\n",
            "Trial 2 finished with value: 142.8479156806792 and parameters: {'x': -4.351548435224862, 'y': -4.783320142951897}. Best is trial 1 with value: 95.99275802216252.\n",
            "Trial 2 finished with value: 142.8479156806792 and parameters: {'x': -4.351548435224862, 'y': -4.783320142951897}. Best is trial 1 with value: 95.99275802216252.\n",
            "Trial 2 finished with value: 142.8479156806792 and parameters: {'x': -4.351548435224862, 'y': -4.783320142951897}. Best is trial 1 with value: 95.99275802216252.\n",
            "Trial 2 finished with value: 142.8479156806792 and parameters: {'x': -4.351548435224862, 'y': -4.783320142951897}. Best is trial 1 with value: 95.99275802216252.\n",
            "Trial 2 finished with value: 142.8479156806792 and parameters: {'x': -4.351548435224862, 'y': -4.783320142951897}. Best is trial 1 with value: 95.99275802216252.\n"
          ]
        },
        {
          "output_type": "stream",
          "name": "stderr",
          "text": [
            "\u001b[32m[I 2022-12-26 15:25:45,170]\u001b[0m Trial 3 finished with value: 7.656412649657191 and parameters: {'x': 3.949879947891956, 'y': -1.8721922776655142}. Best is trial 3 with value: 7.656412649657191.\u001b[0m\n"
          ]
        },
        {
          "output_type": "stream",
          "name": "stdout",
          "text": [
            "Trial 3 finished with value: 7.656412649657191 and parameters: {'x': 3.949879947891956, 'y': -1.8721922776655142}. Best is trial 3 with value: 7.656412649657191.\n",
            "Trial 3 finished with value: 7.656412649657191 and parameters: {'x': 3.949879947891956, 'y': -1.8721922776655142}. Best is trial 3 with value: 7.656412649657191.\n",
            "Trial 3 finished with value: 7.656412649657191 and parameters: {'x': 3.949879947891956, 'y': -1.8721922776655142}. Best is trial 3 with value: 7.656412649657191.\n",
            "Trial 3 finished with value: 7.656412649657191 and parameters: {'x': 3.949879947891956, 'y': -1.8721922776655142}. Best is trial 3 with value: 7.656412649657191.\n",
            "Trial 3 finished with value: 7.656412649657191 and parameters: {'x': 3.949879947891956, 'y': -1.8721922776655142}. Best is trial 3 with value: 7.656412649657191.\n",
            "Trial 3 finished with value: 7.656412649657191 and parameters: {'x': 3.949879947891956, 'y': -1.8721922776655142}. Best is trial 3 with value: 7.656412649657191.\n",
            "Trial 3 finished with value: 7.656412649657191 and parameters: {'x': 3.949879947891956, 'y': -1.8721922776655142}. Best is trial 3 with value: 7.656412649657191.\n"
          ]
        },
        {
          "output_type": "stream",
          "name": "stderr",
          "text": [
            "\u001b[32m[I 2022-12-26 15:25:45,193]\u001b[0m Trial 4 finished with value: 83.28247392456234 and parameters: {'x': 1.8188049291578858, 'y': 0.16152016363437838}. Best is trial 3 with value: 7.656412649657191.\u001b[0m\n"
          ]
        },
        {
          "output_type": "stream",
          "name": "stdout",
          "text": [
            "Trial 4 finished with value: 83.28247392456234 and parameters: {'x': 1.8188049291578858, 'y': 0.16152016363437838}. Best is trial 3 with value: 7.656412649657191.\n",
            "Trial 4 finished with value: 83.28247392456234 and parameters: {'x': 1.8188049291578858, 'y': 0.16152016363437838}. Best is trial 3 with value: 7.656412649657191.\n",
            "Trial 4 finished with value: 83.28247392456234 and parameters: {'x': 1.8188049291578858, 'y': 0.16152016363437838}. Best is trial 3 with value: 7.656412649657191.\n",
            "Trial 4 finished with value: 83.28247392456234 and parameters: {'x': 1.8188049291578858, 'y': 0.16152016363437838}. Best is trial 3 with value: 7.656412649657191.\n",
            "Trial 4 finished with value: 83.28247392456234 and parameters: {'x': 1.8188049291578858, 'y': 0.16152016363437838}. Best is trial 3 with value: 7.656412649657191.\n",
            "Trial 4 finished with value: 83.28247392456234 and parameters: {'x': 1.8188049291578858, 'y': 0.16152016363437838}. Best is trial 3 with value: 7.656412649657191.\n",
            "Trial 4 finished with value: 83.28247392456234 and parameters: {'x': 1.8188049291578858, 'y': 0.16152016363437838}. Best is trial 3 with value: 7.656412649657191.\n"
          ]
        },
        {
          "output_type": "stream",
          "name": "stderr",
          "text": [
            "\u001b[32m[I 2022-12-26 15:25:45,211]\u001b[0m Trial 5 finished with value: 329.5151286821634 and parameters: {'x': -1.2309302699534728, 'y': -4.45611981509863}. Best is trial 3 with value: 7.656412649657191.\u001b[0m\n"
          ]
        },
        {
          "output_type": "stream",
          "name": "stdout",
          "text": [
            "Trial 5 finished with value: 329.5151286821634 and parameters: {'x': -1.2309302699534728, 'y': -4.45611981509863}. Best is trial 3 with value: 7.656412649657191.\n",
            "Trial 5 finished with value: 329.5151286821634 and parameters: {'x': -1.2309302699534728, 'y': -4.45611981509863}. Best is trial 3 with value: 7.656412649657191.\n",
            "Trial 5 finished with value: 329.5151286821634 and parameters: {'x': -1.2309302699534728, 'y': -4.45611981509863}. Best is trial 3 with value: 7.656412649657191.\n",
            "Trial 5 finished with value: 329.5151286821634 and parameters: {'x': -1.2309302699534728, 'y': -4.45611981509863}. Best is trial 3 with value: 7.656412649657191.\n",
            "Trial 5 finished with value: 329.5151286821634 and parameters: {'x': -1.2309302699534728, 'y': -4.45611981509863}. Best is trial 3 with value: 7.656412649657191.\n",
            "Trial 5 finished with value: 329.5151286821634 and parameters: {'x': -1.2309302699534728, 'y': -4.45611981509863}. Best is trial 3 with value: 7.656412649657191.\n",
            "Trial 5 finished with value: 329.5151286821634 and parameters: {'x': -1.2309302699534728, 'y': -4.45611981509863}. Best is trial 3 with value: 7.656412649657191.\n"
          ]
        },
        {
          "output_type": "stream",
          "name": "stderr",
          "text": [
            "\u001b[32m[I 2022-12-26 15:25:45,244]\u001b[0m Trial 6 finished with value: 46.52448017329233 and parameters: {'x': -1.5444575459108965, 'y': 2.396191956181318}. Best is trial 3 with value: 7.656412649657191.\u001b[0m\n"
          ]
        },
        {
          "output_type": "stream",
          "name": "stdout",
          "text": [
            "Trial 6 finished with value: 46.52448017329233 and parameters: {'x': -1.5444575459108965, 'y': 2.396191956181318}. Best is trial 3 with value: 7.656412649657191.\n",
            "Trial 6 finished with value: 46.52448017329233 and parameters: {'x': -1.5444575459108965, 'y': 2.396191956181318}. Best is trial 3 with value: 7.656412649657191.\n",
            "Trial 6 finished with value: 46.52448017329233 and parameters: {'x': -1.5444575459108965, 'y': 2.396191956181318}. Best is trial 3 with value: 7.656412649657191.\n",
            "Trial 6 finished with value: 46.52448017329233 and parameters: {'x': -1.5444575459108965, 'y': 2.396191956181318}. Best is trial 3 with value: 7.656412649657191.\n",
            "Trial 6 finished with value: 46.52448017329233 and parameters: {'x': -1.5444575459108965, 'y': 2.396191956181318}. Best is trial 3 with value: 7.656412649657191.\n",
            "Trial 6 finished with value: 46.52448017329233 and parameters: {'x': -1.5444575459108965, 'y': 2.396191956181318}. Best is trial 3 with value: 7.656412649657191.\n",
            "Trial 6 finished with value: 46.52448017329233 and parameters: {'x': -1.5444575459108965, 'y': 2.396191956181318}. Best is trial 3 with value: 7.656412649657191.\n"
          ]
        },
        {
          "output_type": "stream",
          "name": "stderr",
          "text": [
            "\u001b[32m[I 2022-12-26 15:25:45,279]\u001b[0m Trial 7 finished with value: 87.08373357153175 and parameters: {'x': -4.080095901726759, 'y': 2.5859093666995587}. Best is trial 3 with value: 7.656412649657191.\u001b[0m\n"
          ]
        },
        {
          "output_type": "stream",
          "name": "stdout",
          "text": [
            "Trial 7 finished with value: 87.08373357153175 and parameters: {'x': -4.080095901726759, 'y': 2.5859093666995587}. Best is trial 3 with value: 7.656412649657191.\n",
            "Trial 7 finished with value: 87.08373357153175 and parameters: {'x': -4.080095901726759, 'y': 2.5859093666995587}. Best is trial 3 with value: 7.656412649657191.\n",
            "Trial 7 finished with value: 87.08373357153175 and parameters: {'x': -4.080095901726759, 'y': 2.5859093666995587}. Best is trial 3 with value: 7.656412649657191.\n",
            "Trial 7 finished with value: 87.08373357153175 and parameters: {'x': -4.080095901726759, 'y': 2.5859093666995587}. Best is trial 3 with value: 7.656412649657191.\n",
            "Trial 7 finished with value: 87.08373357153175 and parameters: {'x': -4.080095901726759, 'y': 2.5859093666995587}. Best is trial 3 with value: 7.656412649657191.\n",
            "Trial 7 finished with value: 87.08373357153175 and parameters: {'x': -4.080095901726759, 'y': 2.5859093666995587}. Best is trial 3 with value: 7.656412649657191.\n",
            "Trial 7 finished with value: 87.08373357153175 and parameters: {'x': -4.080095901726759, 'y': 2.5859093666995587}. Best is trial 3 with value: 7.656412649657191.\n"
          ]
        },
        {
          "output_type": "stream",
          "name": "stderr",
          "text": [
            "\u001b[32m[I 2022-12-26 15:25:45,305]\u001b[0m Trial 8 finished with value: 17.74406697259634 and parameters: {'x': 3.0442716269398566, 'y': -2.2851530232755546}. Best is trial 3 with value: 7.656412649657191.\u001b[0m\n"
          ]
        },
        {
          "output_type": "stream",
          "name": "stdout",
          "text": [
            "Trial 8 finished with value: 17.74406697259634 and parameters: {'x': 3.0442716269398566, 'y': -2.2851530232755546}. Best is trial 3 with value: 7.656412649657191.\n",
            "Trial 8 finished with value: 17.74406697259634 and parameters: {'x': 3.0442716269398566, 'y': -2.2851530232755546}. Best is trial 3 with value: 7.656412649657191.\n",
            "Trial 8 finished with value: 17.74406697259634 and parameters: {'x': 3.0442716269398566, 'y': -2.2851530232755546}. Best is trial 3 with value: 7.656412649657191.\n",
            "Trial 8 finished with value: 17.74406697259634 and parameters: {'x': 3.0442716269398566, 'y': -2.2851530232755546}. Best is trial 3 with value: 7.656412649657191.\n",
            "Trial 8 finished with value: 17.74406697259634 and parameters: {'x': 3.0442716269398566, 'y': -2.2851530232755546}. Best is trial 3 with value: 7.656412649657191.\n",
            "Trial 8 finished with value: 17.74406697259634 and parameters: {'x': 3.0442716269398566, 'y': -2.2851530232755546}. Best is trial 3 with value: 7.656412649657191.\n",
            "Trial 8 finished with value: 17.74406697259634 and parameters: {'x': 3.0442716269398566, 'y': -2.2851530232755546}. Best is trial 3 with value: 7.656412649657191.\n"
          ]
        },
        {
          "output_type": "stream",
          "name": "stderr",
          "text": [
            "\u001b[32m[I 2022-12-26 15:25:45,352]\u001b[0m Trial 9 finished with value: 156.65227154808974 and parameters: {'x': -1.4094678073116174, 'y': -0.8028819468874273}. Best is trial 3 with value: 7.656412649657191.\u001b[0m\n"
          ]
        },
        {
          "output_type": "stream",
          "name": "stdout",
          "text": [
            "Trial 9 finished with value: 156.65227154808974 and parameters: {'x': -1.4094678073116174, 'y': -0.8028819468874273}. Best is trial 3 with value: 7.656412649657191.\n",
            "Trial 9 finished with value: 156.65227154808974 and parameters: {'x': -1.4094678073116174, 'y': -0.8028819468874273}. Best is trial 3 with value: 7.656412649657191.\n",
            "Trial 9 finished with value: 156.65227154808974 and parameters: {'x': -1.4094678073116174, 'y': -0.8028819468874273}. Best is trial 3 with value: 7.656412649657191.\n",
            "Trial 9 finished with value: 156.65227154808974 and parameters: {'x': -1.4094678073116174, 'y': -0.8028819468874273}. Best is trial 3 with value: 7.656412649657191.\n",
            "Trial 9 finished with value: 156.65227154808974 and parameters: {'x': -1.4094678073116174, 'y': -0.8028819468874273}. Best is trial 3 with value: 7.656412649657191.\n",
            "Trial 9 finished with value: 156.65227154808974 and parameters: {'x': -1.4094678073116174, 'y': -0.8028819468874273}. Best is trial 3 with value: 7.656412649657191.\n",
            "Trial 9 finished with value: 156.65227154808974 and parameters: {'x': -1.4094678073116174, 'y': -0.8028819468874273}. Best is trial 3 with value: 7.656412649657191.\n"
          ]
        },
        {
          "output_type": "stream",
          "name": "stderr",
          "text": [
            "\u001b[32m[I 2022-12-26 15:25:45,408]\u001b[0m Trial 10 finished with value: 805.1148669520156 and parameters: {'x': 4.838435678500866, 'y': 4.9596390731606785}. Best is trial 3 with value: 7.656412649657191.\u001b[0m\n"
          ]
        },
        {
          "output_type": "stream",
          "name": "stdout",
          "text": [
            "Trial 10 finished with value: 805.1148669520156 and parameters: {'x': 4.838435678500866, 'y': 4.9596390731606785}. Best is trial 3 with value: 7.656412649657191.\n",
            "Trial 10 finished with value: 805.1148669520156 and parameters: {'x': 4.838435678500866, 'y': 4.9596390731606785}. Best is trial 3 with value: 7.656412649657191.\n",
            "Trial 10 finished with value: 805.1148669520156 and parameters: {'x': 4.838435678500866, 'y': 4.9596390731606785}. Best is trial 3 with value: 7.656412649657191.\n",
            "Trial 10 finished with value: 805.1148669520156 and parameters: {'x': 4.838435678500866, 'y': 4.9596390731606785}. Best is trial 3 with value: 7.656412649657191.\n",
            "Trial 10 finished with value: 805.1148669520156 and parameters: {'x': 4.838435678500866, 'y': 4.9596390731606785}. Best is trial 3 with value: 7.656412649657191.\n",
            "Trial 10 finished with value: 805.1148669520156 and parameters: {'x': 4.838435678500866, 'y': 4.9596390731606785}. Best is trial 3 with value: 7.656412649657191.\n",
            "Trial 10 finished with value: 805.1148669520156 and parameters: {'x': 4.838435678500866, 'y': 4.9596390731606785}. Best is trial 3 with value: 7.656412649657191.\n"
          ]
        },
        {
          "output_type": "stream",
          "name": "stderr",
          "text": [
            "\u001b[32m[I 2022-12-26 15:25:45,486]\u001b[0m Trial 11 finished with value: 122.91243533453083 and parameters: {'x': 4.889792489753253, 'y': -2.3259405265928086}. Best is trial 3 with value: 7.656412649657191.\u001b[0m\n"
          ]
        },
        {
          "output_type": "stream",
          "name": "stdout",
          "text": [
            "Trial 11 finished with value: 122.91243533453083 and parameters: {'x': 4.889792489753253, 'y': -2.3259405265928086}. Best is trial 3 with value: 7.656412649657191.\n",
            "Trial 11 finished with value: 122.91243533453083 and parameters: {'x': 4.889792489753253, 'y': -2.3259405265928086}. Best is trial 3 with value: 7.656412649657191.\n",
            "Trial 11 finished with value: 122.91243533453083 and parameters: {'x': 4.889792489753253, 'y': -2.3259405265928086}. Best is trial 3 with value: 7.656412649657191.\n",
            "Trial 11 finished with value: 122.91243533453083 and parameters: {'x': 4.889792489753253, 'y': -2.3259405265928086}. Best is trial 3 with value: 7.656412649657191.\n",
            "Trial 11 finished with value: 122.91243533453083 and parameters: {'x': 4.889792489753253, 'y': -2.3259405265928086}. Best is trial 3 with value: 7.656412649657191.\n",
            "Trial 11 finished with value: 122.91243533453083 and parameters: {'x': 4.889792489753253, 'y': -2.3259405265928086}. Best is trial 3 with value: 7.656412649657191.\n",
            "Trial 11 finished with value: 122.91243533453083 and parameters: {'x': 4.889792489753253, 'y': -2.3259405265928086}. Best is trial 3 with value: 7.656412649657191.\n"
          ]
        },
        {
          "output_type": "stream",
          "name": "stderr",
          "text": [
            "\u001b[32m[I 2022-12-26 15:25:45,783]\u001b[0m Trial 12 finished with value: 16.370623985418774 and parameters: {'x': 3.1176563167661415, 'y': -2.371590747498677}. Best is trial 3 with value: 7.656412649657191.\u001b[0m\n"
          ]
        },
        {
          "output_type": "stream",
          "name": "stdout",
          "text": [
            "Trial 12 finished with value: 16.370623985418774 and parameters: {'x': 3.1176563167661415, 'y': -2.371590747498677}. Best is trial 3 with value: 7.656412649657191.\n",
            "Trial 12 finished with value: 16.370623985418774 and parameters: {'x': 3.1176563167661415, 'y': -2.371590747498677}. Best is trial 3 with value: 7.656412649657191.\n",
            "Trial 12 finished with value: 16.370623985418774 and parameters: {'x': 3.1176563167661415, 'y': -2.371590747498677}. Best is trial 3 with value: 7.656412649657191.\n",
            "Trial 12 finished with value: 16.370623985418774 and parameters: {'x': 3.1176563167661415, 'y': -2.371590747498677}. Best is trial 3 with value: 7.656412649657191.\n",
            "Trial 12 finished with value: 16.370623985418774 and parameters: {'x': 3.1176563167661415, 'y': -2.371590747498677}. Best is trial 3 with value: 7.656412649657191.\n",
            "Trial 12 finished with value: 16.370623985418774 and parameters: {'x': 3.1176563167661415, 'y': -2.371590747498677}. Best is trial 3 with value: 7.656412649657191.\n",
            "Trial 12 finished with value: 16.370623985418774 and parameters: {'x': 3.1176563167661415, 'y': -2.371590747498677}. Best is trial 3 with value: 7.656412649657191.\n"
          ]
        },
        {
          "output_type": "stream",
          "name": "stderr",
          "text": [
            "\u001b[32m[I 2022-12-26 15:25:45,851]\u001b[0m Trial 13 finished with value: 12.374984943606053 and parameters: {'x': 3.298808294906121, 'y': -0.4852509391954698}. Best is trial 3 with value: 7.656412649657191.\u001b[0m\n"
          ]
        },
        {
          "output_type": "stream",
          "name": "stdout",
          "text": [
            "Trial 13 finished with value: 12.374984943606053 and parameters: {'x': 3.298808294906121, 'y': -0.4852509391954698}. Best is trial 3 with value: 7.656412649657191.\n",
            "Trial 13 finished with value: 12.374984943606053 and parameters: {'x': 3.298808294906121, 'y': -0.4852509391954698}. Best is trial 3 with value: 7.656412649657191.\n",
            "Trial 13 finished with value: 12.374984943606053 and parameters: {'x': 3.298808294906121, 'y': -0.4852509391954698}. Best is trial 3 with value: 7.656412649657191.\n",
            "Trial 13 finished with value: 12.374984943606053 and parameters: {'x': 3.298808294906121, 'y': -0.4852509391954698}. Best is trial 3 with value: 7.656412649657191.\n",
            "Trial 13 finished with value: 12.374984943606053 and parameters: {'x': 3.298808294906121, 'y': -0.4852509391954698}. Best is trial 3 with value: 7.656412649657191.\n",
            "Trial 13 finished with value: 12.374984943606053 and parameters: {'x': 3.298808294906121, 'y': -0.4852509391954698}. Best is trial 3 with value: 7.656412649657191.\n",
            "Trial 13 finished with value: 12.374984943606053 and parameters: {'x': 3.298808294906121, 'y': -0.4852509391954698}. Best is trial 3 with value: 7.656412649657191.\n"
          ]
        },
        {
          "output_type": "stream",
          "name": "stderr",
          "text": [
            "\u001b[32m[I 2022-12-26 15:25:45,933]\u001b[0m Trial 14 finished with value: 18.53687152609068 and parameters: {'x': 3.739313183102088, 'y': -0.14628740387639194}. Best is trial 3 with value: 7.656412649657191.\u001b[0m\n"
          ]
        },
        {
          "output_type": "stream",
          "name": "stdout",
          "text": [
            "Trial 14 finished with value: 18.53687152609068 and parameters: {'x': 3.739313183102088, 'y': -0.14628740387639194}. Best is trial 3 with value: 7.656412649657191.\n",
            "Trial 14 finished with value: 18.53687152609068 and parameters: {'x': 3.739313183102088, 'y': -0.14628740387639194}. Best is trial 3 with value: 7.656412649657191.\n",
            "Trial 14 finished with value: 18.53687152609068 and parameters: {'x': 3.739313183102088, 'y': -0.14628740387639194}. Best is trial 3 with value: 7.656412649657191.\n",
            "Trial 14 finished with value: 18.53687152609068 and parameters: {'x': 3.739313183102088, 'y': -0.14628740387639194}. Best is trial 3 with value: 7.656412649657191.\n",
            "Trial 14 finished with value: 18.53687152609068 and parameters: {'x': 3.739313183102088, 'y': -0.14628740387639194}. Best is trial 3 with value: 7.656412649657191.\n",
            "Trial 14 finished with value: 18.53687152609068 and parameters: {'x': 3.739313183102088, 'y': -0.14628740387639194}. Best is trial 3 with value: 7.656412649657191.\n",
            "Trial 14 finished with value: 18.53687152609068 and parameters: {'x': 3.739313183102088, 'y': -0.14628740387639194}. Best is trial 3 with value: 7.656412649657191.\n"
          ]
        },
        {
          "output_type": "stream",
          "name": "stderr",
          "text": [
            "\u001b[32m[I 2022-12-26 15:25:46,025]\u001b[0m Trial 15 finished with value: 105.75455013001329 and parameters: {'x': 0.43684532120314623, 'y': 1.488976551706156}. Best is trial 3 with value: 7.656412649657191.\u001b[0m\n"
          ]
        },
        {
          "output_type": "stream",
          "name": "stdout",
          "text": [
            "Trial 15 finished with value: 105.75455013001329 and parameters: {'x': 0.43684532120314623, 'y': 1.488976551706156}. Best is trial 3 with value: 7.656412649657191.\n",
            "Trial 15 finished with value: 105.75455013001329 and parameters: {'x': 0.43684532120314623, 'y': 1.488976551706156}. Best is trial 3 with value: 7.656412649657191.\n",
            "Trial 15 finished with value: 105.75455013001329 and parameters: {'x': 0.43684532120314623, 'y': 1.488976551706156}. Best is trial 3 with value: 7.656412649657191.\n",
            "Trial 15 finished with value: 105.75455013001329 and parameters: {'x': 0.43684532120314623, 'y': 1.488976551706156}. Best is trial 3 with value: 7.656412649657191.\n",
            "Trial 15 finished with value: 105.75455013001329 and parameters: {'x': 0.43684532120314623, 'y': 1.488976551706156}. Best is trial 3 with value: 7.656412649657191.\n",
            "Trial 15 finished with value: 105.75455013001329 and parameters: {'x': 0.43684532120314623, 'y': 1.488976551706156}. Best is trial 3 with value: 7.656412649657191.\n",
            "Trial 15 finished with value: 105.75455013001329 and parameters: {'x': 0.43684532120314623, 'y': 1.488976551706156}. Best is trial 3 with value: 7.656412649657191.\n"
          ]
        },
        {
          "output_type": "stream",
          "name": "stderr",
          "text": [
            "\u001b[32m[I 2022-12-26 15:25:46,115]\u001b[0m Trial 16 finished with value: 163.45282267146004 and parameters: {'x': 0.6278728511473853, 'y': -0.9500214424487273}. Best is trial 3 with value: 7.656412649657191.\u001b[0m\n"
          ]
        },
        {
          "output_type": "stream",
          "name": "stdout",
          "text": [
            "Trial 16 finished with value: 163.45282267146004 and parameters: {'x': 0.6278728511473853, 'y': -0.9500214424487273}. Best is trial 3 with value: 7.656412649657191.\n",
            "Trial 16 finished with value: 163.45282267146004 and parameters: {'x': 0.6278728511473853, 'y': -0.9500214424487273}. Best is trial 3 with value: 7.656412649657191.\n",
            "Trial 16 finished with value: 163.45282267146004 and parameters: {'x': 0.6278728511473853, 'y': -0.9500214424487273}. Best is trial 3 with value: 7.656412649657191.\n",
            "Trial 16 finished with value: 163.45282267146004 and parameters: {'x': 0.6278728511473853, 'y': -0.9500214424487273}. Best is trial 3 with value: 7.656412649657191.\n",
            "Trial 16 finished with value: 163.45282267146004 and parameters: {'x': 0.6278728511473853, 'y': -0.9500214424487273}. Best is trial 3 with value: 7.656412649657191.\n",
            "Trial 16 finished with value: 163.45282267146004 and parameters: {'x': 0.6278728511473853, 'y': -0.9500214424487273}. Best is trial 3 with value: 7.656412649657191.\n",
            "Trial 16 finished with value: 163.45282267146004 and parameters: {'x': 0.6278728511473853, 'y': -0.9500214424487273}. Best is trial 3 with value: 7.656412649657191.\n"
          ]
        },
        {
          "output_type": "stream",
          "name": "stderr",
          "text": [
            "\u001b[32m[I 2022-12-26 15:25:46,179]\u001b[0m Trial 17 finished with value: 62.81477509885716 and parameters: {'x': 3.803486288211958, 'y': -3.3348158577207245}. Best is trial 3 with value: 7.656412649657191.\u001b[0m\n"
          ]
        },
        {
          "output_type": "stream",
          "name": "stdout",
          "text": [
            "Trial 17 finished with value: 62.81477509885716 and parameters: {'x': 3.803486288211958, 'y': -3.3348158577207245}. Best is trial 3 with value: 7.656412649657191.\n",
            "Trial 17 finished with value: 62.81477509885716 and parameters: {'x': 3.803486288211958, 'y': -3.3348158577207245}. Best is trial 3 with value: 7.656412649657191.\n",
            "Trial 17 finished with value: 62.81477509885716 and parameters: {'x': 3.803486288211958, 'y': -3.3348158577207245}. Best is trial 3 with value: 7.656412649657191.\n",
            "Trial 17 finished with value: 62.81477509885716 and parameters: {'x': 3.803486288211958, 'y': -3.3348158577207245}. Best is trial 3 with value: 7.656412649657191.\n",
            "Trial 17 finished with value: 62.81477509885716 and parameters: {'x': 3.803486288211958, 'y': -3.3348158577207245}. Best is trial 3 with value: 7.656412649657191.\n",
            "Trial 17 finished with value: 62.81477509885716 and parameters: {'x': 3.803486288211958, 'y': -3.3348158577207245}. Best is trial 3 with value: 7.656412649657191.\n",
            "Trial 17 finished with value: 62.81477509885716 and parameters: {'x': 3.803486288211958, 'y': -3.3348158577207245}. Best is trial 3 with value: 7.656412649657191.\n"
          ]
        },
        {
          "output_type": "stream",
          "name": "stderr",
          "text": [
            "\u001b[32m[I 2022-12-26 15:25:46,252]\u001b[0m Trial 18 finished with value: 30.952711424864262 and parameters: {'x': 2.3910917833223952, 'y': 1.0179195197726085}. Best is trial 3 with value: 7.656412649657191.\u001b[0m\n"
          ]
        },
        {
          "output_type": "stream",
          "name": "stdout",
          "text": [
            "Trial 18 finished with value: 30.952711424864262 and parameters: {'x': 2.3910917833223952, 'y': 1.0179195197726085}. Best is trial 3 with value: 7.656412649657191.\n",
            "Trial 18 finished with value: 30.952711424864262 and parameters: {'x': 2.3910917833223952, 'y': 1.0179195197726085}. Best is trial 3 with value: 7.656412649657191.\n",
            "Trial 18 finished with value: 30.952711424864262 and parameters: {'x': 2.3910917833223952, 'y': 1.0179195197726085}. Best is trial 3 with value: 7.656412649657191.\n",
            "Trial 18 finished with value: 30.952711424864262 and parameters: {'x': 2.3910917833223952, 'y': 1.0179195197726085}. Best is trial 3 with value: 7.656412649657191.\n",
            "Trial 18 finished with value: 30.952711424864262 and parameters: {'x': 2.3910917833223952, 'y': 1.0179195197726085}. Best is trial 3 with value: 7.656412649657191.\n",
            "Trial 18 finished with value: 30.952711424864262 and parameters: {'x': 2.3910917833223952, 'y': 1.0179195197726085}. Best is trial 3 with value: 7.656412649657191.\n",
            "Trial 18 finished with value: 30.952711424864262 and parameters: {'x': 2.3910917833223952, 'y': 1.0179195197726085}. Best is trial 3 with value: 7.656412649657191.\n"
          ]
        },
        {
          "output_type": "stream",
          "name": "stderr",
          "text": [
            "\u001b[32m[I 2022-12-26 15:25:46,348]\u001b[0m Trial 19 finished with value: 83.34515410668716 and parameters: {'x': -2.9718398177834144, 'y': -1.2229804384270357}. Best is trial 3 with value: 7.656412649657191.\u001b[0m\n"
          ]
        },
        {
          "output_type": "stream",
          "name": "stdout",
          "text": [
            "Trial 19 finished with value: 83.34515410668716 and parameters: {'x': -2.9718398177834144, 'y': -1.2229804384270357}. Best is trial 3 with value: 7.656412649657191.\n",
            "Trial 19 finished with value: 83.34515410668716 and parameters: {'x': -2.9718398177834144, 'y': -1.2229804384270357}. Best is trial 3 with value: 7.656412649657191.\n",
            "Trial 19 finished with value: 83.34515410668716 and parameters: {'x': -2.9718398177834144, 'y': -1.2229804384270357}. Best is trial 3 with value: 7.656412649657191.\n",
            "Trial 19 finished with value: 83.34515410668716 and parameters: {'x': -2.9718398177834144, 'y': -1.2229804384270357}. Best is trial 3 with value: 7.656412649657191.\n",
            "Trial 19 finished with value: 83.34515410668716 and parameters: {'x': -2.9718398177834144, 'y': -1.2229804384270357}. Best is trial 3 with value: 7.656412649657191.\n",
            "Trial 19 finished with value: 83.34515410668716 and parameters: {'x': -2.9718398177834144, 'y': -1.2229804384270357}. Best is trial 3 with value: 7.656412649657191.\n",
            "Trial 19 finished with value: 83.34515410668716 and parameters: {'x': -2.9718398177834144, 'y': -1.2229804384270357}. Best is trial 3 with value: 7.656412649657191.\n"
          ]
        },
        {
          "output_type": "stream",
          "name": "stderr",
          "text": [
            "\u001b[32m[I 2022-12-26 15:25:46,418]\u001b[0m Trial 20 finished with value: 224.99598178375638 and parameters: {'x': 0.9039481638350568, 'y': -3.4991518430141015}. Best is trial 3 with value: 7.656412649657191.\u001b[0m\n"
          ]
        },
        {
          "output_type": "stream",
          "name": "stdout",
          "text": [
            "Trial 20 finished with value: 224.99598178375638 and parameters: {'x': 0.9039481638350568, 'y': -3.4991518430141015}. Best is trial 3 with value: 7.656412649657191.\n",
            "Trial 20 finished with value: 224.99598178375638 and parameters: {'x': 0.9039481638350568, 'y': -3.4991518430141015}. Best is trial 3 with value: 7.656412649657191.\n",
            "Trial 20 finished with value: 224.99598178375638 and parameters: {'x': 0.9039481638350568, 'y': -3.4991518430141015}. Best is trial 3 with value: 7.656412649657191.\n",
            "Trial 20 finished with value: 224.99598178375638 and parameters: {'x': 0.9039481638350568, 'y': -3.4991518430141015}. Best is trial 3 with value: 7.656412649657191.\n",
            "Trial 20 finished with value: 224.99598178375638 and parameters: {'x': 0.9039481638350568, 'y': -3.4991518430141015}. Best is trial 3 with value: 7.656412649657191.\n",
            "Trial 20 finished with value: 224.99598178375638 and parameters: {'x': 0.9039481638350568, 'y': -3.4991518430141015}. Best is trial 3 with value: 7.656412649657191.\n",
            "Trial 20 finished with value: 224.99598178375638 and parameters: {'x': 0.9039481638350568, 'y': -3.4991518430141015}. Best is trial 3 with value: 7.656412649657191.\n"
          ]
        },
        {
          "output_type": "stream",
          "name": "stderr",
          "text": [
            "\u001b[32m[I 2022-12-26 15:25:46,484]\u001b[0m Trial 21 finished with value: 1.550624705520443 and parameters: {'x': 3.6797675901886127, 'y': -1.587223500717774}. Best is trial 21 with value: 1.550624705520443.\u001b[0m\n"
          ]
        },
        {
          "output_type": "stream",
          "name": "stdout",
          "text": [
            "Trial 21 finished with value: 1.550624705520443 and parameters: {'x': 3.6797675901886127, 'y': -1.587223500717774}. Best is trial 21 with value: 1.550624705520443.\n",
            "Trial 21 finished with value: 1.550624705520443 and parameters: {'x': 3.6797675901886127, 'y': -1.587223500717774}. Best is trial 21 with value: 1.550624705520443.\n",
            "Trial 21 finished with value: 1.550624705520443 and parameters: {'x': 3.6797675901886127, 'y': -1.587223500717774}. Best is trial 21 with value: 1.550624705520443.\n",
            "Trial 21 finished with value: 1.550624705520443 and parameters: {'x': 3.6797675901886127, 'y': -1.587223500717774}. Best is trial 21 with value: 1.550624705520443.\n",
            "Trial 21 finished with value: 1.550624705520443 and parameters: {'x': 3.6797675901886127, 'y': -1.587223500717774}. Best is trial 21 with value: 1.550624705520443.\n",
            "Trial 21 finished with value: 1.550624705520443 and parameters: {'x': 3.6797675901886127, 'y': -1.587223500717774}. Best is trial 21 with value: 1.550624705520443.\n",
            "Trial 21 finished with value: 1.550624705520443 and parameters: {'x': 3.6797675901886127, 'y': -1.587223500717774}. Best is trial 21 with value: 1.550624705520443.\n"
          ]
        },
        {
          "output_type": "stream",
          "name": "stderr",
          "text": [
            "\u001b[32m[I 2022-12-26 15:25:46,551]\u001b[0m Trial 22 finished with value: 37.67390079736921 and parameters: {'x': 4.27992739592408, 'y': -1.2772138734506508}. Best is trial 21 with value: 1.550624705520443.\u001b[0m\n"
          ]
        },
        {
          "output_type": "stream",
          "name": "stdout",
          "text": [
            "Trial 22 finished with value: 37.67390079736921 and parameters: {'x': 4.27992739592408, 'y': -1.2772138734506508}. Best is trial 21 with value: 1.550624705520443.\n",
            "Trial 22 finished with value: 37.67390079736921 and parameters: {'x': 4.27992739592408, 'y': -1.2772138734506508}. Best is trial 21 with value: 1.550624705520443.\n",
            "Trial 22 finished with value: 37.67390079736921 and parameters: {'x': 4.27992739592408, 'y': -1.2772138734506508}. Best is trial 21 with value: 1.550624705520443.\n",
            "Trial 22 finished with value: 37.67390079736921 and parameters: {'x': 4.27992739592408, 'y': -1.2772138734506508}. Best is trial 21 with value: 1.550624705520443.\n",
            "Trial 22 finished with value: 37.67390079736921 and parameters: {'x': 4.27992739592408, 'y': -1.2772138734506508}. Best is trial 21 with value: 1.550624705520443.\n",
            "Trial 22 finished with value: 37.67390079736921 and parameters: {'x': 4.27992739592408, 'y': -1.2772138734506508}. Best is trial 21 with value: 1.550624705520443.\n",
            "Trial 22 finished with value: 37.67390079736921 and parameters: {'x': 4.27992739592408, 'y': -1.2772138734506508}. Best is trial 21 with value: 1.550624705520443.\n"
          ]
        },
        {
          "output_type": "stream",
          "name": "stderr",
          "text": [
            "\u001b[32m[I 2022-12-26 15:25:46,607]\u001b[0m Trial 23 finished with value: 14.466552130844587 and parameters: {'x': 2.960711701670372, 'y': 0.7368394469647461}. Best is trial 21 with value: 1.550624705520443.\u001b[0m\n"
          ]
        },
        {
          "output_type": "stream",
          "name": "stdout",
          "text": [
            "Trial 23 finished with value: 14.466552130844587 and parameters: {'x': 2.960711701670372, 'y': 0.7368394469647461}. Best is trial 21 with value: 1.550624705520443.\n",
            "Trial 23 finished with value: 14.466552130844587 and parameters: {'x': 2.960711701670372, 'y': 0.7368394469647461}. Best is trial 21 with value: 1.550624705520443.\n",
            "Trial 23 finished with value: 14.466552130844587 and parameters: {'x': 2.960711701670372, 'y': 0.7368394469647461}. Best is trial 21 with value: 1.550624705520443.\n",
            "Trial 23 finished with value: 14.466552130844587 and parameters: {'x': 2.960711701670372, 'y': 0.7368394469647461}. Best is trial 21 with value: 1.550624705520443.\n",
            "Trial 23 finished with value: 14.466552130844587 and parameters: {'x': 2.960711701670372, 'y': 0.7368394469647461}. Best is trial 21 with value: 1.550624705520443.\n",
            "Trial 23 finished with value: 14.466552130844587 and parameters: {'x': 2.960711701670372, 'y': 0.7368394469647461}. Best is trial 21 with value: 1.550624705520443.\n",
            "Trial 23 finished with value: 14.466552130844587 and parameters: {'x': 2.960711701670372, 'y': 0.7368394469647461}. Best is trial 21 with value: 1.550624705520443.\n"
          ]
        },
        {
          "output_type": "stream",
          "name": "stderr",
          "text": [
            "\u001b[32m[I 2022-12-26 15:25:46,680]\u001b[0m Trial 24 finished with value: 95.60664658943672 and parameters: {'x': 3.997556092735099, 'y': -3.5604276645114457}. Best is trial 21 with value: 1.550624705520443.\u001b[0m\n"
          ]
        },
        {
          "output_type": "stream",
          "name": "stdout",
          "text": [
            "Trial 24 finished with value: 95.60664658943672 and parameters: {'x': 3.997556092735099, 'y': -3.5604276645114457}. Best is trial 21 with value: 1.550624705520443.\n",
            "Trial 24 finished with value: 95.60664658943672 and parameters: {'x': 3.997556092735099, 'y': -3.5604276645114457}. Best is trial 21 with value: 1.550624705520443.\n",
            "Trial 24 finished with value: 95.60664658943672 and parameters: {'x': 3.997556092735099, 'y': -3.5604276645114457}. Best is trial 21 with value: 1.550624705520443.\n",
            "Trial 24 finished with value: 95.60664658943672 and parameters: {'x': 3.997556092735099, 'y': -3.5604276645114457}. Best is trial 21 with value: 1.550624705520443.\n",
            "Trial 24 finished with value: 95.60664658943672 and parameters: {'x': 3.997556092735099, 'y': -3.5604276645114457}. Best is trial 21 with value: 1.550624705520443.\n",
            "Trial 24 finished with value: 95.60664658943672 and parameters: {'x': 3.997556092735099, 'y': -3.5604276645114457}. Best is trial 21 with value: 1.550624705520443.\n",
            "Trial 24 finished with value: 95.60664658943672 and parameters: {'x': 3.997556092735099, 'y': -3.5604276645114457}. Best is trial 21 with value: 1.550624705520443.\n"
          ]
        },
        {
          "output_type": "stream",
          "name": "stderr",
          "text": [
            "\u001b[32m[I 2022-12-26 15:25:46,755]\u001b[0m Trial 25 finished with value: 31.354889730360078 and parameters: {'x': 2.700009136480122, 'y': -1.7553744063597834}. Best is trial 21 with value: 1.550624705520443.\u001b[0m\n"
          ]
        },
        {
          "output_type": "stream",
          "name": "stdout",
          "text": [
            "Trial 25 finished with value: 31.354889730360078 and parameters: {'x': 2.700009136480122, 'y': -1.7553744063597834}. Best is trial 21 with value: 1.550624705520443.\n",
            "Trial 25 finished with value: 31.354889730360078 and parameters: {'x': 2.700009136480122, 'y': -1.7553744063597834}. Best is trial 21 with value: 1.550624705520443.\n",
            "Trial 25 finished with value: 31.354889730360078 and parameters: {'x': 2.700009136480122, 'y': -1.7553744063597834}. Best is trial 21 with value: 1.550624705520443.\n",
            "Trial 25 finished with value: 31.354889730360078 and parameters: {'x': 2.700009136480122, 'y': -1.7553744063597834}. Best is trial 21 with value: 1.550624705520443.\n",
            "Trial 25 finished with value: 31.354889730360078 and parameters: {'x': 2.700009136480122, 'y': -1.7553744063597834}. Best is trial 21 with value: 1.550624705520443.\n",
            "Trial 25 finished with value: 31.354889730360078 and parameters: {'x': 2.700009136480122, 'y': -1.7553744063597834}. Best is trial 21 with value: 1.550624705520443.\n",
            "Trial 25 finished with value: 31.354889730360078 and parameters: {'x': 2.700009136480122, 'y': -1.7553744063597834}. Best is trial 21 with value: 1.550624705520443.\n"
          ]
        },
        {
          "output_type": "stream",
          "name": "stderr",
          "text": [
            "\u001b[32m[I 2022-12-26 15:25:46,839]\u001b[0m Trial 26 finished with value: 176.56427977144213 and parameters: {'x': -0.6403944921819571, 'y': -0.3834049141326752}. Best is trial 21 with value: 1.550624705520443.\u001b[0m\n"
          ]
        },
        {
          "output_type": "stream",
          "name": "stdout",
          "text": [
            "Trial 26 finished with value: 176.56427977144213 and parameters: {'x': -0.6403944921819571, 'y': -0.3834049141326752}. Best is trial 21 with value: 1.550624705520443.\n",
            "Trial 26 finished with value: 176.56427977144213 and parameters: {'x': -0.6403944921819571, 'y': -0.3834049141326752}. Best is trial 21 with value: 1.550624705520443.\n",
            "Trial 26 finished with value: 176.56427977144213 and parameters: {'x': -0.6403944921819571, 'y': -0.3834049141326752}. Best is trial 21 with value: 1.550624705520443.\n",
            "Trial 26 finished with value: 176.56427977144213 and parameters: {'x': -0.6403944921819571, 'y': -0.3834049141326752}. Best is trial 21 with value: 1.550624705520443.\n",
            "Trial 26 finished with value: 176.56427977144213 and parameters: {'x': -0.6403944921819571, 'y': -0.3834049141326752}. Best is trial 21 with value: 1.550624705520443.\n",
            "Trial 26 finished with value: 176.56427977144213 and parameters: {'x': -0.6403944921819571, 'y': -0.3834049141326752}. Best is trial 21 with value: 1.550624705520443.\n",
            "Trial 26 finished with value: 176.56427977144213 and parameters: {'x': -0.6403944921819571, 'y': -0.3834049141326752}. Best is trial 21 with value: 1.550624705520443.\n"
          ]
        },
        {
          "output_type": "stream",
          "name": "stderr",
          "text": [
            "\u001b[32m[I 2022-12-26 15:25:46,930]\u001b[0m Trial 27 finished with value: 73.205199675789 and parameters: {'x': 4.315874185938805, 'y': -3.159299555799329}. Best is trial 21 with value: 1.550624705520443.\u001b[0m\n"
          ]
        },
        {
          "output_type": "stream",
          "name": "stdout",
          "text": [
            "Trial 27 finished with value: 73.205199675789 and parameters: {'x': 4.315874185938805, 'y': -3.159299555799329}. Best is trial 21 with value: 1.550624705520443.\n",
            "Trial 27 finished with value: 73.205199675789 and parameters: {'x': 4.315874185938805, 'y': -3.159299555799329}. Best is trial 21 with value: 1.550624705520443.\n",
            "Trial 27 finished with value: 73.205199675789 and parameters: {'x': 4.315874185938805, 'y': -3.159299555799329}. Best is trial 21 with value: 1.550624705520443.\n",
            "Trial 27 finished with value: 73.205199675789 and parameters: {'x': 4.315874185938805, 'y': -3.159299555799329}. Best is trial 21 with value: 1.550624705520443.\n",
            "Trial 27 finished with value: 73.205199675789 and parameters: {'x': 4.315874185938805, 'y': -3.159299555799329}. Best is trial 21 with value: 1.550624705520443.\n",
            "Trial 27 finished with value: 73.205199675789 and parameters: {'x': 4.315874185938805, 'y': -3.159299555799329}. Best is trial 21 with value: 1.550624705520443.\n",
            "Trial 27 finished with value: 73.205199675789 and parameters: {'x': 4.315874185938805, 'y': -3.159299555799329}. Best is trial 21 with value: 1.550624705520443.\n"
          ]
        },
        {
          "output_type": "stream",
          "name": "stderr",
          "text": [
            "\u001b[32m[I 2022-12-26 15:25:47,008]\u001b[0m Trial 28 finished with value: 102.10801876858322 and parameters: {'x': 1.4632015635114008, 'y': 0.3340643621667114}. Best is trial 21 with value: 1.550624705520443.\u001b[0m\n"
          ]
        },
        {
          "output_type": "stream",
          "name": "stdout",
          "text": [
            "Trial 28 finished with value: 102.10801876858322 and parameters: {'x': 1.4632015635114008, 'y': 0.3340643621667114}. Best is trial 21 with value: 1.550624705520443.\n",
            "Trial 28 finished with value: 102.10801876858322 and parameters: {'x': 1.4632015635114008, 'y': 0.3340643621667114}. Best is trial 21 with value: 1.550624705520443.\n",
            "Trial 28 finished with value: 102.10801876858322 and parameters: {'x': 1.4632015635114008, 'y': 0.3340643621667114}. Best is trial 21 with value: 1.550624705520443.\n",
            "Trial 28 finished with value: 102.10801876858322 and parameters: {'x': 1.4632015635114008, 'y': 0.3340643621667114}. Best is trial 21 with value: 1.550624705520443.\n",
            "Trial 28 finished with value: 102.10801876858322 and parameters: {'x': 1.4632015635114008, 'y': 0.3340643621667114}. Best is trial 21 with value: 1.550624705520443.\n",
            "Trial 28 finished with value: 102.10801876858322 and parameters: {'x': 1.4632015635114008, 'y': 0.3340643621667114}. Best is trial 21 with value: 1.550624705520443.\n",
            "Trial 28 finished with value: 102.10801876858322 and parameters: {'x': 1.4632015635114008, 'y': 0.3340643621667114}. Best is trial 21 with value: 1.550624705520443.\n"
          ]
        },
        {
          "output_type": "stream",
          "name": "stderr",
          "text": [
            "\u001b[32m[I 2022-12-26 15:25:47,067]\u001b[0m Trial 29 finished with value: 6.540317273339797 and parameters: {'x': 3.4206728215480493, 'y': 1.8520419923615064}. Best is trial 21 with value: 1.550624705520443.\u001b[0m\n"
          ]
        },
        {
          "output_type": "stream",
          "name": "stdout",
          "text": [
            "Trial 29 finished with value: 6.540317273339797 and parameters: {'x': 3.4206728215480493, 'y': 1.8520419923615064}. Best is trial 21 with value: 1.550624705520443.\n",
            "Trial 29 finished with value: 6.540317273339797 and parameters: {'x': 3.4206728215480493, 'y': 1.8520419923615064}. Best is trial 21 with value: 1.550624705520443.\n",
            "Trial 29 finished with value: 6.540317273339797 and parameters: {'x': 3.4206728215480493, 'y': 1.8520419923615064}. Best is trial 21 with value: 1.550624705520443.\n",
            "Trial 29 finished with value: 6.540317273339797 and parameters: {'x': 3.4206728215480493, 'y': 1.8520419923615064}. Best is trial 21 with value: 1.550624705520443.\n",
            "Trial 29 finished with value: 6.540317273339797 and parameters: {'x': 3.4206728215480493, 'y': 1.8520419923615064}. Best is trial 21 with value: 1.550624705520443.\n",
            "Trial 29 finished with value: 6.540317273339797 and parameters: {'x': 3.4206728215480493, 'y': 1.8520419923615064}. Best is trial 21 with value: 1.550624705520443.\n",
            "Trial 29 finished with value: 6.540317273339797 and parameters: {'x': 3.4206728215480493, 'y': 1.8520419923615064}. Best is trial 21 with value: 1.550624705520443.\n"
          ]
        },
        {
          "output_type": "stream",
          "name": "stderr",
          "text": [
            "\u001b[32m[I 2022-12-26 15:25:47,153]\u001b[0m Trial 30 finished with value: 199.24102528460705 and parameters: {'x': 2.189272555331961, 'y': 4.33606382095477}. Best is trial 21 with value: 1.550624705520443.\u001b[0m\n"
          ]
        },
        {
          "output_type": "stream",
          "name": "stdout",
          "text": [
            "Trial 30 finished with value: 199.24102528460705 and parameters: {'x': 2.189272555331961, 'y': 4.33606382095477}. Best is trial 21 with value: 1.550624705520443.\n",
            "Trial 30 finished with value: 199.24102528460705 and parameters: {'x': 2.189272555331961, 'y': 4.33606382095477}. Best is trial 21 with value: 1.550624705520443.\n",
            "Trial 30 finished with value: 199.24102528460705 and parameters: {'x': 2.189272555331961, 'y': 4.33606382095477}. Best is trial 21 with value: 1.550624705520443.\n",
            "Trial 30 finished with value: 199.24102528460705 and parameters: {'x': 2.189272555331961, 'y': 4.33606382095477}. Best is trial 21 with value: 1.550624705520443.\n",
            "Trial 30 finished with value: 199.24102528460705 and parameters: {'x': 2.189272555331961, 'y': 4.33606382095477}. Best is trial 21 with value: 1.550624705520443.\n",
            "Trial 30 finished with value: 199.24102528460705 and parameters: {'x': 2.189272555331961, 'y': 4.33606382095477}. Best is trial 21 with value: 1.550624705520443.\n",
            "Trial 30 finished with value: 199.24102528460705 and parameters: {'x': 2.189272555331961, 'y': 4.33606382095477}. Best is trial 21 with value: 1.550624705520443.\n"
          ]
        },
        {
          "output_type": "stream",
          "name": "stderr",
          "text": [
            "\u001b[32m[I 2022-12-26 15:25:47,217]\u001b[0m Trial 31 finished with value: 13.500655939121811 and parameters: {'x': 3.4758883487932395, 'y': 2.251612161213594}. Best is trial 21 with value: 1.550624705520443.\u001b[0m\n"
          ]
        },
        {
          "output_type": "stream",
          "name": "stdout",
          "text": [
            "Trial 31 finished with value: 13.500655939121811 and parameters: {'x': 3.4758883487932395, 'y': 2.251612161213594}. Best is trial 21 with value: 1.550624705520443.\n",
            "Trial 31 finished with value: 13.500655939121811 and parameters: {'x': 3.4758883487932395, 'y': 2.251612161213594}. Best is trial 21 with value: 1.550624705520443.\n",
            "Trial 31 finished with value: 13.500655939121811 and parameters: {'x': 3.4758883487932395, 'y': 2.251612161213594}. Best is trial 21 with value: 1.550624705520443.\n",
            "Trial 31 finished with value: 13.500655939121811 and parameters: {'x': 3.4758883487932395, 'y': 2.251612161213594}. Best is trial 21 with value: 1.550624705520443.\n",
            "Trial 31 finished with value: 13.500655939121811 and parameters: {'x': 3.4758883487932395, 'y': 2.251612161213594}. Best is trial 21 with value: 1.550624705520443.\n",
            "Trial 31 finished with value: 13.500655939121811 and parameters: {'x': 3.4758883487932395, 'y': 2.251612161213594}. Best is trial 21 with value: 1.550624705520443.\n",
            "Trial 31 finished with value: 13.500655939121811 and parameters: {'x': 3.4758883487932395, 'y': 2.251612161213594}. Best is trial 21 with value: 1.550624705520443.\n"
          ]
        },
        {
          "output_type": "stream",
          "name": "stderr",
          "text": [
            "\u001b[32m[I 2022-12-26 15:25:47,280]\u001b[0m Trial 32 finished with value: 295.6649005824271 and parameters: {'x': 4.65607127724881, 'y': 3.47880418767036}. Best is trial 21 with value: 1.550624705520443.\u001b[0m\n"
          ]
        },
        {
          "output_type": "stream",
          "name": "stdout",
          "text": [
            "Trial 32 finished with value: 295.6649005824271 and parameters: {'x': 4.65607127724881, 'y': 3.47880418767036}. Best is trial 21 with value: 1.550624705520443.\n",
            "Trial 32 finished with value: 295.6649005824271 and parameters: {'x': 4.65607127724881, 'y': 3.47880418767036}. Best is trial 21 with value: 1.550624705520443.\n",
            "Trial 32 finished with value: 295.6649005824271 and parameters: {'x': 4.65607127724881, 'y': 3.47880418767036}. Best is trial 21 with value: 1.550624705520443.\n",
            "Trial 32 finished with value: 295.6649005824271 and parameters: {'x': 4.65607127724881, 'y': 3.47880418767036}. Best is trial 21 with value: 1.550624705520443.\n",
            "Trial 32 finished with value: 295.6649005824271 and parameters: {'x': 4.65607127724881, 'y': 3.47880418767036}. Best is trial 21 with value: 1.550624705520443.\n",
            "Trial 32 finished with value: 295.6649005824271 and parameters: {'x': 4.65607127724881, 'y': 3.47880418767036}. Best is trial 21 with value: 1.550624705520443.\n",
            "Trial 32 finished with value: 295.6649005824271 and parameters: {'x': 4.65607127724881, 'y': 3.47880418767036}. Best is trial 21 with value: 1.550624705520443.\n"
          ]
        },
        {
          "output_type": "stream",
          "name": "stderr",
          "text": [
            "\u001b[32m[I 2022-12-26 15:25:47,348]\u001b[0m Trial 33 finished with value: 11.373143304871462 and parameters: {'x': 3.556812607544153, 'y': 1.479110749930761}. Best is trial 21 with value: 1.550624705520443.\u001b[0m\n"
          ]
        },
        {
          "output_type": "stream",
          "name": "stdout",
          "text": [
            "Trial 33 finished with value: 11.373143304871462 and parameters: {'x': 3.556812607544153, 'y': 1.479110749930761}. Best is trial 21 with value: 1.550624705520443.\n",
            "Trial 33 finished with value: 11.373143304871462 and parameters: {'x': 3.556812607544153, 'y': 1.479110749930761}. Best is trial 21 with value: 1.550624705520443.\n",
            "Trial 33 finished with value: 11.373143304871462 and parameters: {'x': 3.556812607544153, 'y': 1.479110749930761}. Best is trial 21 with value: 1.550624705520443.\n",
            "Trial 33 finished with value: 11.373143304871462 and parameters: {'x': 3.556812607544153, 'y': 1.479110749930761}. Best is trial 21 with value: 1.550624705520443.\n",
            "Trial 33 finished with value: 11.373143304871462 and parameters: {'x': 3.556812607544153, 'y': 1.479110749930761}. Best is trial 21 with value: 1.550624705520443.\n",
            "Trial 33 finished with value: 11.373143304871462 and parameters: {'x': 3.556812607544153, 'y': 1.479110749930761}. Best is trial 21 with value: 1.550624705520443.\n",
            "Trial 33 finished with value: 11.373143304871462 and parameters: {'x': 3.556812607544153, 'y': 1.479110749930761}. Best is trial 21 with value: 1.550624705520443.\n"
          ]
        },
        {
          "output_type": "stream",
          "name": "stderr",
          "text": [
            "\u001b[32m[I 2022-12-26 15:25:47,461]\u001b[0m Trial 34 finished with value: 61.112030233650515 and parameters: {'x': 1.41167286904186, 'y': 1.6868047760108835}. Best is trial 21 with value: 1.550624705520443.\u001b[0m\n"
          ]
        },
        {
          "output_type": "stream",
          "name": "stdout",
          "text": [
            "Trial 34 finished with value: 61.112030233650515 and parameters: {'x': 1.41167286904186, 'y': 1.6868047760108835}. Best is trial 21 with value: 1.550624705520443.\n",
            "Trial 34 finished with value: 61.112030233650515 and parameters: {'x': 1.41167286904186, 'y': 1.6868047760108835}. Best is trial 21 with value: 1.550624705520443.\n",
            "Trial 34 finished with value: 61.112030233650515 and parameters: {'x': 1.41167286904186, 'y': 1.6868047760108835}. Best is trial 21 with value: 1.550624705520443.\n",
            "Trial 34 finished with value: 61.112030233650515 and parameters: {'x': 1.41167286904186, 'y': 1.6868047760108835}. Best is trial 21 with value: 1.550624705520443.\n",
            "Trial 34 finished with value: 61.112030233650515 and parameters: {'x': 1.41167286904186, 'y': 1.6868047760108835}. Best is trial 21 with value: 1.550624705520443.\n",
            "Trial 34 finished with value: 61.112030233650515 and parameters: {'x': 1.41167286904186, 'y': 1.6868047760108835}. Best is trial 21 with value: 1.550624705520443.\n",
            "Trial 34 finished with value: 61.112030233650515 and parameters: {'x': 1.41167286904186, 'y': 1.6868047760108835}. Best is trial 21 with value: 1.550624705520443.\n"
          ]
        },
        {
          "output_type": "stream",
          "name": "stderr",
          "text": [
            "\u001b[32m[I 2022-12-26 15:25:47,601]\u001b[0m Trial 35 finished with value: 26.059503164067888 and parameters: {'x': 2.5860085482521002, 'y': 3.0598617625956313}. Best is trial 21 with value: 1.550624705520443.\u001b[0m\n"
          ]
        },
        {
          "output_type": "stream",
          "name": "stdout",
          "text": [
            "Trial 35 finished with value: 26.059503164067888 and parameters: {'x': 2.5860085482521002, 'y': 3.0598617625956313}. Best is trial 21 with value: 1.550624705520443.\n",
            "Trial 35 finished with value: 26.059503164067888 and parameters: {'x': 2.5860085482521002, 'y': 3.0598617625956313}. Best is trial 21 with value: 1.550624705520443.\n",
            "Trial 35 finished with value: 26.059503164067888 and parameters: {'x': 2.5860085482521002, 'y': 3.0598617625956313}. Best is trial 21 with value: 1.550624705520443.\n",
            "Trial 35 finished with value: 26.059503164067888 and parameters: {'x': 2.5860085482521002, 'y': 3.0598617625956313}. Best is trial 21 with value: 1.550624705520443.\n",
            "Trial 35 finished with value: 26.059503164067888 and parameters: {'x': 2.5860085482521002, 'y': 3.0598617625956313}. Best is trial 21 with value: 1.550624705520443.\n",
            "Trial 35 finished with value: 26.059503164067888 and parameters: {'x': 2.5860085482521002, 'y': 3.0598617625956313}. Best is trial 21 with value: 1.550624705520443.\n",
            "Trial 35 finished with value: 26.059503164067888 and parameters: {'x': 2.5860085482521002, 'y': 3.0598617625956313}. Best is trial 21 with value: 1.550624705520443.\n"
          ]
        },
        {
          "output_type": "stream",
          "name": "stderr",
          "text": [
            "\u001b[32m[I 2022-12-26 15:25:47,679]\u001b[0m Trial 36 finished with value: 43.39149991153512 and parameters: {'x': 2.0908417329443223, 'y': 1.1312398657197762}. Best is trial 21 with value: 1.550624705520443.\u001b[0m\n"
          ]
        },
        {
          "output_type": "stream",
          "name": "stdout",
          "text": [
            "Trial 36 finished with value: 43.39149991153512 and parameters: {'x': 2.0908417329443223, 'y': 1.1312398657197762}. Best is trial 21 with value: 1.550624705520443.\n",
            "Trial 36 finished with value: 43.39149991153512 and parameters: {'x': 2.0908417329443223, 'y': 1.1312398657197762}. Best is trial 21 with value: 1.550624705520443.\n",
            "Trial 36 finished with value: 43.39149991153512 and parameters: {'x': 2.0908417329443223, 'y': 1.1312398657197762}. Best is trial 21 with value: 1.550624705520443.\n",
            "Trial 36 finished with value: 43.39149991153512 and parameters: {'x': 2.0908417329443223, 'y': 1.1312398657197762}. Best is trial 21 with value: 1.550624705520443.\n",
            "Trial 36 finished with value: 43.39149991153512 and parameters: {'x': 2.0908417329443223, 'y': 1.1312398657197762}. Best is trial 21 with value: 1.550624705520443.\n",
            "Trial 36 finished with value: 43.39149991153512 and parameters: {'x': 2.0908417329443223, 'y': 1.1312398657197762}. Best is trial 21 with value: 1.550624705520443.\n",
            "Trial 36 finished with value: 43.39149991153512 and parameters: {'x': 2.0908417329443223, 'y': 1.1312398657197762}. Best is trial 21 with value: 1.550624705520443.\n"
          ]
        },
        {
          "output_type": "stream",
          "name": "stderr",
          "text": [
            "\u001b[32m[I 2022-12-26 15:25:47,757]\u001b[0m Trial 37 finished with value: 49.650830056341036 and parameters: {'x': 4.033527029911821, 'y': 1.774622361518399}. Best is trial 21 with value: 1.550624705520443.\u001b[0m\n"
          ]
        },
        {
          "output_type": "stream",
          "name": "stdout",
          "text": [
            "Trial 37 finished with value: 49.650830056341036 and parameters: {'x': 4.033527029911821, 'y': 1.774622361518399}. Best is trial 21 with value: 1.550624705520443.\n",
            "Trial 37 finished with value: 49.650830056341036 and parameters: {'x': 4.033527029911821, 'y': 1.774622361518399}. Best is trial 21 with value: 1.550624705520443.\n",
            "Trial 37 finished with value: 49.650830056341036 and parameters: {'x': 4.033527029911821, 'y': 1.774622361518399}. Best is trial 21 with value: 1.550624705520443.\n",
            "Trial 37 finished with value: 49.650830056341036 and parameters: {'x': 4.033527029911821, 'y': 1.774622361518399}. Best is trial 21 with value: 1.550624705520443.\n",
            "Trial 37 finished with value: 49.650830056341036 and parameters: {'x': 4.033527029911821, 'y': 1.774622361518399}. Best is trial 21 with value: 1.550624705520443.\n",
            "Trial 37 finished with value: 49.650830056341036 and parameters: {'x': 4.033527029911821, 'y': 1.774622361518399}. Best is trial 21 with value: 1.550624705520443.\n",
            "Trial 37 finished with value: 49.650830056341036 and parameters: {'x': 4.033527029911821, 'y': 1.774622361518399}. Best is trial 21 with value: 1.550624705520443.\n"
          ]
        },
        {
          "output_type": "stream",
          "name": "stderr",
          "text": [
            "\u001b[32m[I 2022-12-26 15:25:47,811]\u001b[0m Trial 38 finished with value: 177.52516459803417 and parameters: {'x': -0.42457443865354705, 'y': -1.662979881019311}. Best is trial 21 with value: 1.550624705520443.\u001b[0m\n"
          ]
        },
        {
          "output_type": "stream",
          "name": "stdout",
          "text": [
            "Trial 38 finished with value: 177.52516459803417 and parameters: {'x': -0.42457443865354705, 'y': -1.662979881019311}. Best is trial 21 with value: 1.550624705520443.\n",
            "Trial 38 finished with value: 177.52516459803417 and parameters: {'x': -0.42457443865354705, 'y': -1.662979881019311}. Best is trial 21 with value: 1.550624705520443.\n",
            "Trial 38 finished with value: 177.52516459803417 and parameters: {'x': -0.42457443865354705, 'y': -1.662979881019311}. Best is trial 21 with value: 1.550624705520443.\n",
            "Trial 38 finished with value: 177.52516459803417 and parameters: {'x': -0.42457443865354705, 'y': -1.662979881019311}. Best is trial 21 with value: 1.550624705520443.\n",
            "Trial 38 finished with value: 177.52516459803417 and parameters: {'x': -0.42457443865354705, 'y': -1.662979881019311}. Best is trial 21 with value: 1.550624705520443.\n",
            "Trial 38 finished with value: 177.52516459803417 and parameters: {'x': -0.42457443865354705, 'y': -1.662979881019311}. Best is trial 21 with value: 1.550624705520443.\n",
            "Trial 38 finished with value: 177.52516459803417 and parameters: {'x': -0.42457443865354705, 'y': -1.662979881019311}. Best is trial 21 with value: 1.550624705520443.\n"
          ]
        },
        {
          "output_type": "stream",
          "name": "stderr",
          "text": [
            "\u001b[32m[I 2022-12-26 15:25:47,877]\u001b[0m Trial 39 finished with value: 85.19975564101627 and parameters: {'x': 1.6561874996803208, 'y': 0.5353571826793719}. Best is trial 21 with value: 1.550624705520443.\u001b[0m\n"
          ]
        },
        {
          "output_type": "stream",
          "name": "stdout",
          "text": [
            "Trial 39 finished with value: 85.19975564101627 and parameters: {'x': 1.6561874996803208, 'y': 0.5353571826793719}. Best is trial 21 with value: 1.550624705520443.\n",
            "Trial 39 finished with value: 85.19975564101627 and parameters: {'x': 1.6561874996803208, 'y': 0.5353571826793719}. Best is trial 21 with value: 1.550624705520443.\n",
            "Trial 39 finished with value: 85.19975564101627 and parameters: {'x': 1.6561874996803208, 'y': 0.5353571826793719}. Best is trial 21 with value: 1.550624705520443.\n",
            "Trial 39 finished with value: 85.19975564101627 and parameters: {'x': 1.6561874996803208, 'y': 0.5353571826793719}. Best is trial 21 with value: 1.550624705520443.\n",
            "Trial 39 finished with value: 85.19975564101627 and parameters: {'x': 1.6561874996803208, 'y': 0.5353571826793719}. Best is trial 21 with value: 1.550624705520443.\n",
            "Trial 39 finished with value: 85.19975564101627 and parameters: {'x': 1.6561874996803208, 'y': 0.5353571826793719}. Best is trial 21 with value: 1.550624705520443.\n",
            "Trial 39 finished with value: 85.19975564101627 and parameters: {'x': 1.6561874996803208, 'y': 0.5353571826793719}. Best is trial 21 with value: 1.550624705520443.\n"
          ]
        },
        {
          "output_type": "stream",
          "name": "stderr",
          "text": [
            "\u001b[32m[I 2022-12-26 15:25:47,990]\u001b[0m Trial 40 finished with value: 10.61848496598235 and parameters: {'x': -2.3700102389312474, 'y': 3.4646920698647166}. Best is trial 21 with value: 1.550624705520443.\u001b[0m\n"
          ]
        },
        {
          "output_type": "stream",
          "name": "stdout",
          "text": [
            "Trial 40 finished with value: 10.61848496598235 and parameters: {'x': -2.3700102389312474, 'y': 3.4646920698647166}. Best is trial 21 with value: 1.550624705520443.\n",
            "Trial 40 finished with value: 10.61848496598235 and parameters: {'x': -2.3700102389312474, 'y': 3.4646920698647166}. Best is trial 21 with value: 1.550624705520443.\n",
            "Trial 40 finished with value: 10.61848496598235 and parameters: {'x': -2.3700102389312474, 'y': 3.4646920698647166}. Best is trial 21 with value: 1.550624705520443.\n",
            "Trial 40 finished with value: 10.61848496598235 and parameters: {'x': -2.3700102389312474, 'y': 3.4646920698647166}. Best is trial 21 with value: 1.550624705520443.\n",
            "Trial 40 finished with value: 10.61848496598235 and parameters: {'x': -2.3700102389312474, 'y': 3.4646920698647166}. Best is trial 21 with value: 1.550624705520443.\n",
            "Trial 40 finished with value: 10.61848496598235 and parameters: {'x': -2.3700102389312474, 'y': 3.4646920698647166}. Best is trial 21 with value: 1.550624705520443.\n",
            "Trial 40 finished with value: 10.61848496598235 and parameters: {'x': -2.3700102389312474, 'y': 3.4646920698647166}. Best is trial 21 with value: 1.550624705520443.\n"
          ]
        },
        {
          "output_type": "stream",
          "name": "stderr",
          "text": [
            "\u001b[32m[I 2022-12-26 15:25:48,102]\u001b[0m Trial 41 finished with value: 25.688621928922444 and parameters: {'x': -3.1509082338715206, 'y': 3.797859982893776}. Best is trial 21 with value: 1.550624705520443.\u001b[0m\n"
          ]
        },
        {
          "output_type": "stream",
          "name": "stdout",
          "text": [
            "Trial 41 finished with value: 25.688621928922444 and parameters: {'x': -3.1509082338715206, 'y': 3.797859982893776}. Best is trial 21 with value: 1.550624705520443.\n",
            "Trial 41 finished with value: 25.688621928922444 and parameters: {'x': -3.1509082338715206, 'y': 3.797859982893776}. Best is trial 21 with value: 1.550624705520443.\n",
            "Trial 41 finished with value: 25.688621928922444 and parameters: {'x': -3.1509082338715206, 'y': 3.797859982893776}. Best is trial 21 with value: 1.550624705520443.\n",
            "Trial 41 finished with value: 25.688621928922444 and parameters: {'x': -3.1509082338715206, 'y': 3.797859982893776}. Best is trial 21 with value: 1.550624705520443.\n",
            "Trial 41 finished with value: 25.688621928922444 and parameters: {'x': -3.1509082338715206, 'y': 3.797859982893776}. Best is trial 21 with value: 1.550624705520443.\n",
            "Trial 41 finished with value: 25.688621928922444 and parameters: {'x': -3.1509082338715206, 'y': 3.797859982893776}. Best is trial 21 with value: 1.550624705520443.\n",
            "Trial 41 finished with value: 25.688621928922444 and parameters: {'x': -3.1509082338715206, 'y': 3.797859982893776}. Best is trial 21 with value: 1.550624705520443.\n"
          ]
        },
        {
          "output_type": "stream",
          "name": "stderr",
          "text": [
            "\u001b[32m[I 2022-12-26 15:25:48,184]\u001b[0m Trial 42 finished with value: 258.28330979450095 and parameters: {'x': -4.874401283776795, 'y': 2.807205316628738}. Best is trial 21 with value: 1.550624705520443.\u001b[0m\n"
          ]
        },
        {
          "output_type": "stream",
          "name": "stdout",
          "text": [
            "Trial 42 finished with value: 258.28330979450095 and parameters: {'x': -4.874401283776795, 'y': 2.807205316628738}. Best is trial 21 with value: 1.550624705520443.\n",
            "Trial 42 finished with value: 258.28330979450095 and parameters: {'x': -4.874401283776795, 'y': 2.807205316628738}. Best is trial 21 with value: 1.550624705520443.\n",
            "Trial 42 finished with value: 258.28330979450095 and parameters: {'x': -4.874401283776795, 'y': 2.807205316628738}. Best is trial 21 with value: 1.550624705520443.\n",
            "Trial 42 finished with value: 258.28330979450095 and parameters: {'x': -4.874401283776795, 'y': 2.807205316628738}. Best is trial 21 with value: 1.550624705520443.\n",
            "Trial 42 finished with value: 258.28330979450095 and parameters: {'x': -4.874401283776795, 'y': 2.807205316628738}. Best is trial 21 with value: 1.550624705520443.\n",
            "Trial 42 finished with value: 258.28330979450095 and parameters: {'x': -4.874401283776795, 'y': 2.807205316628738}. Best is trial 21 with value: 1.550624705520443.\n",
            "Trial 42 finished with value: 258.28330979450095 and parameters: {'x': -4.874401283776795, 'y': 2.807205316628738}. Best is trial 21 with value: 1.550624705520443.\n"
          ]
        },
        {
          "output_type": "stream",
          "name": "stderr",
          "text": [
            "\u001b[32m[I 2022-12-26 15:25:48,249]\u001b[0m Trial 43 finished with value: 20.03053613092428 and parameters: {'x': -2.5818362307543, 'y': 2.359155281864103}. Best is trial 21 with value: 1.550624705520443.\u001b[0m\n"
          ]
        },
        {
          "output_type": "stream",
          "name": "stdout",
          "text": [
            "Trial 43 finished with value: 20.03053613092428 and parameters: {'x': -2.5818362307543, 'y': 2.359155281864103}. Best is trial 21 with value: 1.550624705520443.\n",
            "Trial 43 finished with value: 20.03053613092428 and parameters: {'x': -2.5818362307543, 'y': 2.359155281864103}. Best is trial 21 with value: 1.550624705520443.\n",
            "Trial 43 finished with value: 20.03053613092428 and parameters: {'x': -2.5818362307543, 'y': 2.359155281864103}. Best is trial 21 with value: 1.550624705520443.\n",
            "Trial 43 finished with value: 20.03053613092428 and parameters: {'x': -2.5818362307543, 'y': 2.359155281864103}. Best is trial 21 with value: 1.550624705520443.\n",
            "Trial 43 finished with value: 20.03053613092428 and parameters: {'x': -2.5818362307543, 'y': 2.359155281864103}. Best is trial 21 with value: 1.550624705520443.\n",
            "Trial 43 finished with value: 20.03053613092428 and parameters: {'x': -2.5818362307543, 'y': 2.359155281864103}. Best is trial 21 with value: 1.550624705520443.\n",
            "Trial 43 finished with value: 20.03053613092428 and parameters: {'x': -2.5818362307543, 'y': 2.359155281864103}. Best is trial 21 with value: 1.550624705520443.\n"
          ]
        },
        {
          "output_type": "stream",
          "name": "stderr",
          "text": [
            "\u001b[32m[I 2022-12-26 15:25:48,322]\u001b[0m Trial 44 finished with value: 86.41578950687082 and parameters: {'x': -2.1496123611865388, 'y': 4.266421465042339}. Best is trial 21 with value: 1.550624705520443.\u001b[0m\n"
          ]
        },
        {
          "output_type": "stream",
          "name": "stdout",
          "text": [
            "Trial 44 finished with value: 86.41578950687082 and parameters: {'x': -2.1496123611865388, 'y': 4.266421465042339}. Best is trial 21 with value: 1.550624705520443.\n",
            "Trial 44 finished with value: 86.41578950687082 and parameters: {'x': -2.1496123611865388, 'y': 4.266421465042339}. Best is trial 21 with value: 1.550624705520443.\n",
            "Trial 44 finished with value: 86.41578950687082 and parameters: {'x': -2.1496123611865388, 'y': 4.266421465042339}. Best is trial 21 with value: 1.550624705520443.\n",
            "Trial 44 finished with value: 86.41578950687082 and parameters: {'x': -2.1496123611865388, 'y': 4.266421465042339}. Best is trial 21 with value: 1.550624705520443.\n",
            "Trial 44 finished with value: 86.41578950687082 and parameters: {'x': -2.1496123611865388, 'y': 4.266421465042339}. Best is trial 21 with value: 1.550624705520443.\n",
            "Trial 44 finished with value: 86.41578950687082 and parameters: {'x': -2.1496123611865388, 'y': 4.266421465042339}. Best is trial 21 with value: 1.550624705520443.\n",
            "Trial 44 finished with value: 86.41578950687082 and parameters: {'x': -2.1496123611865388, 'y': 4.266421465042339}. Best is trial 21 with value: 1.550624705520443.\n"
          ]
        },
        {
          "output_type": "stream",
          "name": "stderr",
          "text": [
            "\u001b[32m[I 2022-12-26 15:25:48,384]\u001b[0m Trial 45 finished with value: 173.08101421512958 and parameters: {'x': 3.4141827249639505, 'y': -4.037333202766516}. Best is trial 21 with value: 1.550624705520443.\u001b[0m\n"
          ]
        },
        {
          "output_type": "stream",
          "name": "stdout",
          "text": [
            "Trial 45 finished with value: 173.08101421512958 and parameters: {'x': 3.4141827249639505, 'y': -4.037333202766516}. Best is trial 21 with value: 1.550624705520443.\n",
            "Trial 45 finished with value: 173.08101421512958 and parameters: {'x': 3.4141827249639505, 'y': -4.037333202766516}. Best is trial 21 with value: 1.550624705520443.\n",
            "Trial 45 finished with value: 173.08101421512958 and parameters: {'x': 3.4141827249639505, 'y': -4.037333202766516}. Best is trial 21 with value: 1.550624705520443.\n",
            "Trial 45 finished with value: 173.08101421512958 and parameters: {'x': 3.4141827249639505, 'y': -4.037333202766516}. Best is trial 21 with value: 1.550624705520443.\n",
            "Trial 45 finished with value: 173.08101421512958 and parameters: {'x': 3.4141827249639505, 'y': -4.037333202766516}. Best is trial 21 with value: 1.550624705520443.\n",
            "Trial 45 finished with value: 173.08101421512958 and parameters: {'x': 3.4141827249639505, 'y': -4.037333202766516}. Best is trial 21 with value: 1.550624705520443.\n",
            "Trial 45 finished with value: 173.08101421512958 and parameters: {'x': 3.4141827249639505, 'y': -4.037333202766516}. Best is trial 21 with value: 1.550624705520443.\n"
          ]
        },
        {
          "output_type": "stream",
          "name": "stderr",
          "text": [
            "\u001b[32m[I 2022-12-26 15:25:48,416]\u001b[0m Trial 46 finished with value: 51.33152566849794 and parameters: {'x': -3.866695322202775, 'y': 3.1544742109234645}. Best is trial 21 with value: 1.550624705520443.\u001b[0m\n"
          ]
        },
        {
          "output_type": "stream",
          "name": "stdout",
          "text": [
            "Trial 46 finished with value: 51.33152566849794 and parameters: {'x': -3.866695322202775, 'y': 3.1544742109234645}. Best is trial 21 with value: 1.550624705520443.\n",
            "Trial 46 finished with value: 51.33152566849794 and parameters: {'x': -3.866695322202775, 'y': 3.1544742109234645}. Best is trial 21 with value: 1.550624705520443.\n",
            "Trial 46 finished with value: 51.33152566849794 and parameters: {'x': -3.866695322202775, 'y': 3.1544742109234645}. Best is trial 21 with value: 1.550624705520443.\n",
            "Trial 46 finished with value: 51.33152566849794 and parameters: {'x': -3.866695322202775, 'y': 3.1544742109234645}. Best is trial 21 with value: 1.550624705520443.\n",
            "Trial 46 finished with value: 51.33152566849794 and parameters: {'x': -3.866695322202775, 'y': 3.1544742109234645}. Best is trial 21 with value: 1.550624705520443.\n",
            "Trial 46 finished with value: 51.33152566849794 and parameters: {'x': -3.866695322202775, 'y': 3.1544742109234645}. Best is trial 21 with value: 1.550624705520443.\n",
            "Trial 46 finished with value: 51.33152566849794 and parameters: {'x': -3.866695322202775, 'y': 3.1544742109234645}. Best is trial 21 with value: 1.550624705520443.\n"
          ]
        },
        {
          "output_type": "stream",
          "name": "stderr",
          "text": [
            "\u001b[32m[I 2022-12-26 15:25:48,474]\u001b[0m Trial 47 finished with value: 68.95918461309763 and parameters: {'x': 4.5077945956745324, 'y': -2.751957444978096}. Best is trial 21 with value: 1.550624705520443.\u001b[0m\n"
          ]
        },
        {
          "output_type": "stream",
          "name": "stdout",
          "text": [
            "Trial 47 finished with value: 68.95918461309763 and parameters: {'x': 4.5077945956745324, 'y': -2.751957444978096}. Best is trial 21 with value: 1.550624705520443.\n",
            "Trial 47 finished with value: 68.95918461309763 and parameters: {'x': 4.5077945956745324, 'y': -2.751957444978096}. Best is trial 21 with value: 1.550624705520443.\n",
            "Trial 47 finished with value: 68.95918461309763 and parameters: {'x': 4.5077945956745324, 'y': -2.751957444978096}. Best is trial 21 with value: 1.550624705520443.\n",
            "Trial 47 finished with value: 68.95918461309763 and parameters: {'x': 4.5077945956745324, 'y': -2.751957444978096}. Best is trial 21 with value: 1.550624705520443.\n",
            "Trial 47 finished with value: 68.95918461309763 and parameters: {'x': 4.5077945956745324, 'y': -2.751957444978096}. Best is trial 21 with value: 1.550624705520443.\n",
            "Trial 47 finished with value: 68.95918461309763 and parameters: {'x': 4.5077945956745324, 'y': -2.751957444978096}. Best is trial 21 with value: 1.550624705520443.\n",
            "Trial 47 finished with value: 68.95918461309763 and parameters: {'x': 4.5077945956745324, 'y': -2.751957444978096}. Best is trial 21 with value: 1.550624705520443.\n"
          ]
        },
        {
          "output_type": "stream",
          "name": "stderr",
          "text": [
            "\u001b[32m[I 2022-12-26 15:25:48,543]\u001b[0m Trial 48 finished with value: 1.2230237323343884 and parameters: {'x': 2.797462057770743, 'y': 2.0720351945447684}. Best is trial 48 with value: 1.2230237323343884.\u001b[0m\n"
          ]
        },
        {
          "output_type": "stream",
          "name": "stdout",
          "text": [
            "Trial 48 finished with value: 1.2230237323343884 and parameters: {'x': 2.797462057770743, 'y': 2.0720351945447684}. Best is trial 48 with value: 1.2230237323343884.\n",
            "Trial 48 finished with value: 1.2230237323343884 and parameters: {'x': 2.797462057770743, 'y': 2.0720351945447684}. Best is trial 48 with value: 1.2230237323343884.\n",
            "Trial 48 finished with value: 1.2230237323343884 and parameters: {'x': 2.797462057770743, 'y': 2.0720351945447684}. Best is trial 48 with value: 1.2230237323343884.\n",
            "Trial 48 finished with value: 1.2230237323343884 and parameters: {'x': 2.797462057770743, 'y': 2.0720351945447684}. Best is trial 48 with value: 1.2230237323343884.\n",
            "Trial 48 finished with value: 1.2230237323343884 and parameters: {'x': 2.797462057770743, 'y': 2.0720351945447684}. Best is trial 48 with value: 1.2230237323343884.\n",
            "Trial 48 finished with value: 1.2230237323343884 and parameters: {'x': 2.797462057770743, 'y': 2.0720351945447684}. Best is trial 48 with value: 1.2230237323343884.\n",
            "Trial 48 finished with value: 1.2230237323343884 and parameters: {'x': 2.797462057770743, 'y': 2.0720351945447684}. Best is trial 48 with value: 1.2230237323343884.\n"
          ]
        },
        {
          "output_type": "stream",
          "name": "stderr",
          "text": [
            "\u001b[32m[I 2022-12-26 15:25:48,632]\u001b[0m Trial 49 finished with value: 118.80722287425893 and parameters: {'x': -1.820757316022789, 'y': -1.910500281543822}. Best is trial 48 with value: 1.2230237323343884.\u001b[0m\n"
          ]
        },
        {
          "output_type": "stream",
          "name": "stdout",
          "text": [
            "Trial 49 finished with value: 118.80722287425893 and parameters: {'x': -1.820757316022789, 'y': -1.910500281543822}. Best is trial 48 with value: 1.2230237323343884.\n",
            "Trial 49 finished with value: 118.80722287425893 and parameters: {'x': -1.820757316022789, 'y': -1.910500281543822}. Best is trial 48 with value: 1.2230237323343884.\n",
            "Trial 49 finished with value: 118.80722287425893 and parameters: {'x': -1.820757316022789, 'y': -1.910500281543822}. Best is trial 48 with value: 1.2230237323343884.\n",
            "Trial 49 finished with value: 118.80722287425893 and parameters: {'x': -1.820757316022789, 'y': -1.910500281543822}. Best is trial 48 with value: 1.2230237323343884.\n",
            "Trial 49 finished with value: 118.80722287425893 and parameters: {'x': -1.820757316022789, 'y': -1.910500281543822}. Best is trial 48 with value: 1.2230237323343884.\n",
            "Trial 49 finished with value: 118.80722287425893 and parameters: {'x': -1.820757316022789, 'y': -1.910500281543822}. Best is trial 48 with value: 1.2230237323343884.\n",
            "Trial 49 finished with value: 118.80722287425893 and parameters: {'x': -1.820757316022789, 'y': -1.910500281543822}. Best is trial 48 with value: 1.2230237323343884.\n"
          ]
        },
        {
          "output_type": "stream",
          "name": "stderr",
          "text": [
            "\u001b[32m[I 2022-12-26 15:25:48,703]\u001b[0m Trial 50 finished with value: 364.34177808460566 and parameters: {'x': 2.899630597458263, 'y': 4.802056697845978}. Best is trial 48 with value: 1.2230237323343884.\u001b[0m\n"
          ]
        },
        {
          "output_type": "stream",
          "name": "stdout",
          "text": [
            "Trial 50 finished with value: 364.34177808460566 and parameters: {'x': 2.899630597458263, 'y': 4.802056697845978}. Best is trial 48 with value: 1.2230237323343884.\n",
            "Trial 50 finished with value: 364.34177808460566 and parameters: {'x': 2.899630597458263, 'y': 4.802056697845978}. Best is trial 48 with value: 1.2230237323343884.\n",
            "Trial 50 finished with value: 364.34177808460566 and parameters: {'x': 2.899630597458263, 'y': 4.802056697845978}. Best is trial 48 with value: 1.2230237323343884.\n",
            "Trial 50 finished with value: 364.34177808460566 and parameters: {'x': 2.899630597458263, 'y': 4.802056697845978}. Best is trial 48 with value: 1.2230237323343884.\n",
            "Trial 50 finished with value: 364.34177808460566 and parameters: {'x': 2.899630597458263, 'y': 4.802056697845978}. Best is trial 48 with value: 1.2230237323343884.\n",
            "Trial 50 finished with value: 364.34177808460566 and parameters: {'x': 2.899630597458263, 'y': 4.802056697845978}. Best is trial 48 with value: 1.2230237323343884.\n",
            "Trial 50 finished with value: 364.34177808460566 and parameters: {'x': 2.899630597458263, 'y': 4.802056697845978}. Best is trial 48 with value: 1.2230237323343884.\n"
          ]
        },
        {
          "output_type": "stream",
          "name": "stderr",
          "text": [
            "\u001b[32m[I 2022-12-26 15:25:48,813]\u001b[0m Trial 51 finished with value: 7.450079762382452 and parameters: {'x': 3.422454756050064, 'y': 1.989580774141171}. Best is trial 48 with value: 1.2230237323343884.\u001b[0m\n"
          ]
        },
        {
          "output_type": "stream",
          "name": "stdout",
          "text": [
            "Trial 51 finished with value: 7.450079762382452 and parameters: {'x': 3.422454756050064, 'y': 1.989580774141171}. Best is trial 48 with value: 1.2230237323343884.\n",
            "Trial 51 finished with value: 7.450079762382452 and parameters: {'x': 3.422454756050064, 'y': 1.989580774141171}. Best is trial 48 with value: 1.2230237323343884.\n",
            "Trial 51 finished with value: 7.450079762382452 and parameters: {'x': 3.422454756050064, 'y': 1.989580774141171}. Best is trial 48 with value: 1.2230237323343884.\n",
            "Trial 51 finished with value: 7.450079762382452 and parameters: {'x': 3.422454756050064, 'y': 1.989580774141171}. Best is trial 48 with value: 1.2230237323343884.\n",
            "Trial 51 finished with value: 7.450079762382452 and parameters: {'x': 3.422454756050064, 'y': 1.989580774141171}. Best is trial 48 with value: 1.2230237323343884.\n",
            "Trial 51 finished with value: 7.450079762382452 and parameters: {'x': 3.422454756050064, 'y': 1.989580774141171}. Best is trial 48 with value: 1.2230237323343884.\n",
            "Trial 51 finished with value: 7.450079762382452 and parameters: {'x': 3.422454756050064, 'y': 1.989580774141171}. Best is trial 48 with value: 1.2230237323343884.\n"
          ]
        },
        {
          "output_type": "stream",
          "name": "stderr",
          "text": [
            "\u001b[32m[I 2022-12-26 15:25:48,888]\u001b[0m Trial 52 finished with value: 35.46726105232465 and parameters: {'x': 3.8462651708431608, 'y': 2.060627922616708}. Best is trial 48 with value: 1.2230237323343884.\u001b[0m\n"
          ]
        },
        {
          "output_type": "stream",
          "name": "stdout",
          "text": [
            "Trial 52 finished with value: 35.46726105232465 and parameters: {'x': 3.8462651708431608, 'y': 2.060627922616708}. Best is trial 48 with value: 1.2230237323343884.\n",
            "Trial 52 finished with value: 35.46726105232465 and parameters: {'x': 3.8462651708431608, 'y': 2.060627922616708}. Best is trial 48 with value: 1.2230237323343884.\n",
            "Trial 52 finished with value: 35.46726105232465 and parameters: {'x': 3.8462651708431608, 'y': 2.060627922616708}. Best is trial 48 with value: 1.2230237323343884.\n",
            "Trial 52 finished with value: 35.46726105232465 and parameters: {'x': 3.8462651708431608, 'y': 2.060627922616708}. Best is trial 48 with value: 1.2230237323343884.\n",
            "Trial 52 finished with value: 35.46726105232465 and parameters: {'x': 3.8462651708431608, 'y': 2.060627922616708}. Best is trial 48 with value: 1.2230237323343884.\n",
            "Trial 52 finished with value: 35.46726105232465 and parameters: {'x': 3.8462651708431608, 'y': 2.060627922616708}. Best is trial 48 with value: 1.2230237323343884.\n",
            "Trial 52 finished with value: 35.46726105232465 and parameters: {'x': 3.8462651708431608, 'y': 2.060627922616708}. Best is trial 48 with value: 1.2230237323343884.\n"
          ]
        },
        {
          "output_type": "stream",
          "name": "stderr",
          "text": [
            "\u001b[32m[I 2022-12-26 15:25:49,003]\u001b[0m Trial 53 finished with value: 262.7890911321635 and parameters: {'x': 4.881298815913699, 'y': 2.6403330301970467}. Best is trial 48 with value: 1.2230237323343884.\u001b[0m\n"
          ]
        },
        {
          "output_type": "stream",
          "name": "stdout",
          "text": [
            "Trial 53 finished with value: 262.7890911321635 and parameters: {'x': 4.881298815913699, 'y': 2.6403330301970467}. Best is trial 48 with value: 1.2230237323343884.\n",
            "Trial 53 finished with value: 262.7890911321635 and parameters: {'x': 4.881298815913699, 'y': 2.6403330301970467}. Best is trial 48 with value: 1.2230237323343884.\n",
            "Trial 53 finished with value: 262.7890911321635 and parameters: {'x': 4.881298815913699, 'y': 2.6403330301970467}. Best is trial 48 with value: 1.2230237323343884.\n",
            "Trial 53 finished with value: 262.7890911321635 and parameters: {'x': 4.881298815913699, 'y': 2.6403330301970467}. Best is trial 48 with value: 1.2230237323343884.\n",
            "Trial 53 finished with value: 262.7890911321635 and parameters: {'x': 4.881298815913699, 'y': 2.6403330301970467}. Best is trial 48 with value: 1.2230237323343884.\n",
            "Trial 53 finished with value: 262.7890911321635 and parameters: {'x': 4.881298815913699, 'y': 2.6403330301970467}. Best is trial 48 with value: 1.2230237323343884.\n",
            "Trial 53 finished with value: 262.7890911321635 and parameters: {'x': 4.881298815913699, 'y': 2.6403330301970467}. Best is trial 48 with value: 1.2230237323343884.\n"
          ]
        },
        {
          "output_type": "stream",
          "name": "stderr",
          "text": [
            "\u001b[32m[I 2022-12-26 15:25:49,090]\u001b[0m Trial 54 finished with value: 122.03322727015922 and parameters: {'x': 3.261054160882586, 'y': 3.7744762292781395}. Best is trial 48 with value: 1.2230237323343884.\u001b[0m\n"
          ]
        },
        {
          "output_type": "stream",
          "name": "stdout",
          "text": [
            "Trial 54 finished with value: 122.03322727015922 and parameters: {'x': 3.261054160882586, 'y': 3.7744762292781395}. Best is trial 48 with value: 1.2230237323343884.\n",
            "Trial 54 finished with value: 122.03322727015922 and parameters: {'x': 3.261054160882586, 'y': 3.7744762292781395}. Best is trial 48 with value: 1.2230237323343884.\n",
            "Trial 54 finished with value: 122.03322727015922 and parameters: {'x': 3.261054160882586, 'y': 3.7744762292781395}. Best is trial 48 with value: 1.2230237323343884.\n",
            "Trial 54 finished with value: 122.03322727015922 and parameters: {'x': 3.261054160882586, 'y': 3.7744762292781395}. Best is trial 48 with value: 1.2230237323343884.\n",
            "Trial 54 finished with value: 122.03322727015922 and parameters: {'x': 3.261054160882586, 'y': 3.7744762292781395}. Best is trial 48 with value: 1.2230237323343884.\n",
            "Trial 54 finished with value: 122.03322727015922 and parameters: {'x': 3.261054160882586, 'y': 3.7744762292781395}. Best is trial 48 with value: 1.2230237323343884.\n",
            "Trial 54 finished with value: 122.03322727015922 and parameters: {'x': 3.261054160882586, 'y': 3.7744762292781395}. Best is trial 48 with value: 1.2230237323343884.\n"
          ]
        },
        {
          "output_type": "stream",
          "name": "stderr",
          "text": [
            "\u001b[32m[I 2022-12-26 15:25:49,160]\u001b[0m Trial 55 finished with value: 135.1550952662721 and parameters: {'x': 1.0158535944005909, 'y': 0.000840487642836063}. Best is trial 48 with value: 1.2230237323343884.\u001b[0m\n"
          ]
        },
        {
          "output_type": "stream",
          "name": "stdout",
          "text": [
            "Trial 55 finished with value: 135.1550952662721 and parameters: {'x': 1.0158535944005909, 'y': 0.000840487642836063}. Best is trial 48 with value: 1.2230237323343884.\n",
            "Trial 55 finished with value: 135.1550952662721 and parameters: {'x': 1.0158535944005909, 'y': 0.000840487642836063}. Best is trial 48 with value: 1.2230237323343884.\n",
            "Trial 55 finished with value: 135.1550952662721 and parameters: {'x': 1.0158535944005909, 'y': 0.000840487642836063}. Best is trial 48 with value: 1.2230237323343884.\n",
            "Trial 55 finished with value: 135.1550952662721 and parameters: {'x': 1.0158535944005909, 'y': 0.000840487642836063}. Best is trial 48 with value: 1.2230237323343884.\n",
            "Trial 55 finished with value: 135.1550952662721 and parameters: {'x': 1.0158535944005909, 'y': 0.000840487642836063}. Best is trial 48 with value: 1.2230237323343884.\n",
            "Trial 55 finished with value: 135.1550952662721 and parameters: {'x': 1.0158535944005909, 'y': 0.000840487642836063}. Best is trial 48 with value: 1.2230237323343884.\n",
            "Trial 55 finished with value: 135.1550952662721 and parameters: {'x': 1.0158535944005909, 'y': 0.000840487642836063}. Best is trial 48 with value: 1.2230237323343884.\n"
          ]
        },
        {
          "output_type": "stream",
          "name": "stderr",
          "text": [
            "\u001b[32m[I 2022-12-26 15:25:49,237]\u001b[0m Trial 56 finished with value: 38.24471370546368 and parameters: {'x': 4.176005914063487, 'y': -0.707723575247798}. Best is trial 48 with value: 1.2230237323343884.\u001b[0m\n"
          ]
        },
        {
          "output_type": "stream",
          "name": "stdout",
          "text": [
            "Trial 56 finished with value: 38.24471370546368 and parameters: {'x': 4.176005914063487, 'y': -0.707723575247798}. Best is trial 48 with value: 1.2230237323343884.\n",
            "Trial 56 finished with value: 38.24471370546368 and parameters: {'x': 4.176005914063487, 'y': -0.707723575247798}. Best is trial 48 with value: 1.2230237323343884.\n",
            "Trial 56 finished with value: 38.24471370546368 and parameters: {'x': 4.176005914063487, 'y': -0.707723575247798}. Best is trial 48 with value: 1.2230237323343884.\n",
            "Trial 56 finished with value: 38.24471370546368 and parameters: {'x': 4.176005914063487, 'y': -0.707723575247798}. Best is trial 48 with value: 1.2230237323343884.\n",
            "Trial 56 finished with value: 38.24471370546368 and parameters: {'x': 4.176005914063487, 'y': -0.707723575247798}. Best is trial 48 with value: 1.2230237323343884.\n",
            "Trial 56 finished with value: 38.24471370546368 and parameters: {'x': 4.176005914063487, 'y': -0.707723575247798}. Best is trial 48 with value: 1.2230237323343884.\n",
            "Trial 56 finished with value: 38.24471370546368 and parameters: {'x': 4.176005914063487, 'y': -0.707723575247798}. Best is trial 48 with value: 1.2230237323343884.\n"
          ]
        },
        {
          "output_type": "stream",
          "name": "stderr",
          "text": [
            "\u001b[32m[I 2022-12-26 15:25:49,303]\u001b[0m Trial 57 finished with value: 16.87843057450945 and parameters: {'x': 2.5635015268600267, 'y': 1.3220678346138983}. Best is trial 48 with value: 1.2230237323343884.\u001b[0m\n"
          ]
        },
        {
          "output_type": "stream",
          "name": "stdout",
          "text": [
            "Trial 57 finished with value: 16.87843057450945 and parameters: {'x': 2.5635015268600267, 'y': 1.3220678346138983}. Best is trial 48 with value: 1.2230237323343884.\n",
            "Trial 57 finished with value: 16.87843057450945 and parameters: {'x': 2.5635015268600267, 'y': 1.3220678346138983}. Best is trial 48 with value: 1.2230237323343884.\n",
            "Trial 57 finished with value: 16.87843057450945 and parameters: {'x': 2.5635015268600267, 'y': 1.3220678346138983}. Best is trial 48 with value: 1.2230237323343884.\n",
            "Trial 57 finished with value: 16.87843057450945 and parameters: {'x': 2.5635015268600267, 'y': 1.3220678346138983}. Best is trial 48 with value: 1.2230237323343884.\n",
            "Trial 57 finished with value: 16.87843057450945 and parameters: {'x': 2.5635015268600267, 'y': 1.3220678346138983}. Best is trial 48 with value: 1.2230237323343884.\n",
            "Trial 57 finished with value: 16.87843057450945 and parameters: {'x': 2.5635015268600267, 'y': 1.3220678346138983}. Best is trial 48 with value: 1.2230237323343884.\n",
            "Trial 57 finished with value: 16.87843057450945 and parameters: {'x': 2.5635015268600267, 'y': 1.3220678346138983}. Best is trial 48 with value: 1.2230237323343884.\n"
          ]
        },
        {
          "output_type": "stream",
          "name": "stderr",
          "text": [
            "\u001b[32m[I 2022-12-26 15:25:49,387]\u001b[0m Trial 58 finished with value: 86.44604702637997 and parameters: {'x': -0.8319342259632072, 'y': 1.9426261287416}. Best is trial 48 with value: 1.2230237323343884.\u001b[0m\n"
          ]
        },
        {
          "output_type": "stream",
          "name": "stdout",
          "text": [
            "Trial 58 finished with value: 86.44604702637997 and parameters: {'x': -0.8319342259632072, 'y': 1.9426261287416}. Best is trial 48 with value: 1.2230237323343884.\n",
            "Trial 58 finished with value: 86.44604702637997 and parameters: {'x': -0.8319342259632072, 'y': 1.9426261287416}. Best is trial 48 with value: 1.2230237323343884.\n",
            "Trial 58 finished with value: 86.44604702637997 and parameters: {'x': -0.8319342259632072, 'y': 1.9426261287416}. Best is trial 48 with value: 1.2230237323343884.\n",
            "Trial 58 finished with value: 86.44604702637997 and parameters: {'x': -0.8319342259632072, 'y': 1.9426261287416}. Best is trial 48 with value: 1.2230237323343884.\n",
            "Trial 58 finished with value: 86.44604702637997 and parameters: {'x': -0.8319342259632072, 'y': 1.9426261287416}. Best is trial 48 with value: 1.2230237323343884.\n",
            "Trial 58 finished with value: 86.44604702637997 and parameters: {'x': -0.8319342259632072, 'y': 1.9426261287416}. Best is trial 48 with value: 1.2230237323343884.\n",
            "Trial 58 finished with value: 86.44604702637997 and parameters: {'x': -0.8319342259632072, 'y': 1.9426261287416}. Best is trial 48 with value: 1.2230237323343884.\n"
          ]
        },
        {
          "output_type": "stream",
          "name": "stderr",
          "text": [
            "\u001b[32m[I 2022-12-26 15:25:49,433]\u001b[0m Trial 59 finished with value: 184.1405242068587 and parameters: {'x': 0.3576784791662808, 'y': -2.68575552883211}. Best is trial 48 with value: 1.2230237323343884.\u001b[0m\n"
          ]
        },
        {
          "output_type": "stream",
          "name": "stdout",
          "text": [
            "Trial 59 finished with value: 184.1405242068587 and parameters: {'x': 0.3576784791662808, 'y': -2.68575552883211}. Best is trial 48 with value: 1.2230237323343884.\n",
            "Trial 59 finished with value: 184.1405242068587 and parameters: {'x': 0.3576784791662808, 'y': -2.68575552883211}. Best is trial 48 with value: 1.2230237323343884.\n",
            "Trial 59 finished with value: 184.1405242068587 and parameters: {'x': 0.3576784791662808, 'y': -2.68575552883211}. Best is trial 48 with value: 1.2230237323343884.\n",
            "Trial 59 finished with value: 184.1405242068587 and parameters: {'x': 0.3576784791662808, 'y': -2.68575552883211}. Best is trial 48 with value: 1.2230237323343884.\n",
            "Trial 59 finished with value: 184.1405242068587 and parameters: {'x': 0.3576784791662808, 'y': -2.68575552883211}. Best is trial 48 with value: 1.2230237323343884.\n",
            "Trial 59 finished with value: 184.1405242068587 and parameters: {'x': 0.3576784791662808, 'y': -2.68575552883211}. Best is trial 48 with value: 1.2230237323343884.\n",
            "Trial 59 finished with value: 184.1405242068587 and parameters: {'x': 0.3576784791662808, 'y': -2.68575552883211}. Best is trial 48 with value: 1.2230237323343884.\n"
          ]
        },
        {
          "output_type": "stream",
          "name": "stderr",
          "text": [
            "\u001b[32m[I 2022-12-26 15:25:49,494]\u001b[0m Trial 60 finished with value: 474.0754898108545 and parameters: {'x': 3.048232138708129, 'y': -4.967531308943036}. Best is trial 48 with value: 1.2230237323343884.\u001b[0m\n"
          ]
        },
        {
          "output_type": "stream",
          "name": "stdout",
          "text": [
            "Trial 60 finished with value: 474.0754898108545 and parameters: {'x': 3.048232138708129, 'y': -4.967531308943036}. Best is trial 48 with value: 1.2230237323343884.\n",
            "Trial 60 finished with value: 474.0754898108545 and parameters: {'x': 3.048232138708129, 'y': -4.967531308943036}. Best is trial 48 with value: 1.2230237323343884.\n",
            "Trial 60 finished with value: 474.0754898108545 and parameters: {'x': 3.048232138708129, 'y': -4.967531308943036}. Best is trial 48 with value: 1.2230237323343884.\n",
            "Trial 60 finished with value: 474.0754898108545 and parameters: {'x': 3.048232138708129, 'y': -4.967531308943036}. Best is trial 48 with value: 1.2230237323343884.\n",
            "Trial 60 finished with value: 474.0754898108545 and parameters: {'x': 3.048232138708129, 'y': -4.967531308943036}. Best is trial 48 with value: 1.2230237323343884.\n",
            "Trial 60 finished with value: 474.0754898108545 and parameters: {'x': 3.048232138708129, 'y': -4.967531308943036}. Best is trial 48 with value: 1.2230237323343884.\n",
            "Trial 60 finished with value: 474.0754898108545 and parameters: {'x': 3.048232138708129, 'y': -4.967531308943036}. Best is trial 48 with value: 1.2230237323343884.\n"
          ]
        },
        {
          "output_type": "stream",
          "name": "stderr",
          "text": [
            "\u001b[32m[I 2022-12-26 15:25:49,580]\u001b[0m Trial 61 finished with value: 13.088441173868691 and parameters: {'x': 3.5943691779356843, 'y': 1.414944195456761}. Best is trial 48 with value: 1.2230237323343884.\u001b[0m\n"
          ]
        },
        {
          "output_type": "stream",
          "name": "stdout",
          "text": [
            "Trial 61 finished with value: 13.088441173868691 and parameters: {'x': 3.5943691779356843, 'y': 1.414944195456761}. Best is trial 48 with value: 1.2230237323343884.\n",
            "Trial 61 finished with value: 13.088441173868691 and parameters: {'x': 3.5943691779356843, 'y': 1.414944195456761}. Best is trial 48 with value: 1.2230237323343884.\n",
            "Trial 61 finished with value: 13.088441173868691 and parameters: {'x': 3.5943691779356843, 'y': 1.414944195456761}. Best is trial 48 with value: 1.2230237323343884.\n",
            "Trial 61 finished with value: 13.088441173868691 and parameters: {'x': 3.5943691779356843, 'y': 1.414944195456761}. Best is trial 48 with value: 1.2230237323343884.\n",
            "Trial 61 finished with value: 13.088441173868691 and parameters: {'x': 3.5943691779356843, 'y': 1.414944195456761}. Best is trial 48 with value: 1.2230237323343884.\n",
            "Trial 61 finished with value: 13.088441173868691 and parameters: {'x': 3.5943691779356843, 'y': 1.414944195456761}. Best is trial 48 with value: 1.2230237323343884.\n",
            "Trial 61 finished with value: 13.088441173868691 and parameters: {'x': 3.5943691779356843, 'y': 1.414944195456761}. Best is trial 48 with value: 1.2230237323343884.\n"
          ]
        },
        {
          "output_type": "stream",
          "name": "stderr",
          "text": [
            "\u001b[32m[I 2022-12-26 15:25:49,649]\u001b[0m Trial 62 finished with value: 15.24456184356238 and parameters: {'x': 3.5977793762567933, 'y': 0.7742070044995955}. Best is trial 48 with value: 1.2230237323343884.\u001b[0m\n"
          ]
        },
        {
          "output_type": "stream",
          "name": "stdout",
          "text": [
            "Trial 62 finished with value: 15.24456184356238 and parameters: {'x': 3.5977793762567933, 'y': 0.7742070044995955}. Best is trial 48 with value: 1.2230237323343884.\n",
            "Trial 62 finished with value: 15.24456184356238 and parameters: {'x': 3.5977793762567933, 'y': 0.7742070044995955}. Best is trial 48 with value: 1.2230237323343884.\n",
            "Trial 62 finished with value: 15.24456184356238 and parameters: {'x': 3.5977793762567933, 'y': 0.7742070044995955}. Best is trial 48 with value: 1.2230237323343884.\n",
            "Trial 62 finished with value: 15.24456184356238 and parameters: {'x': 3.5977793762567933, 'y': 0.7742070044995955}. Best is trial 48 with value: 1.2230237323343884.\n",
            "Trial 62 finished with value: 15.24456184356238 and parameters: {'x': 3.5977793762567933, 'y': 0.7742070044995955}. Best is trial 48 with value: 1.2230237323343884.\n",
            "Trial 62 finished with value: 15.24456184356238 and parameters: {'x': 3.5977793762567933, 'y': 0.7742070044995955}. Best is trial 48 with value: 1.2230237323343884.\n",
            "Trial 62 finished with value: 15.24456184356238 and parameters: {'x': 3.5977793762567933, 'y': 0.7742070044995955}. Best is trial 48 with value: 1.2230237323343884.\n"
          ]
        },
        {
          "output_type": "stream",
          "name": "stderr",
          "text": [
            "\u001b[32m[I 2022-12-26 15:25:49,731]\u001b[0m Trial 63 finished with value: 65.66912406639457 and parameters: {'x': 4.506431713219324, 'y': -1.256169815884384}. Best is trial 48 with value: 1.2230237323343884.\u001b[0m\n"
          ]
        },
        {
          "output_type": "stream",
          "name": "stdout",
          "text": [
            "Trial 63 finished with value: 65.66912406639457 and parameters: {'x': 4.506431713219324, 'y': -1.256169815884384}. Best is trial 48 with value: 1.2230237323343884.\n",
            "Trial 63 finished with value: 65.66912406639457 and parameters: {'x': 4.506431713219324, 'y': -1.256169815884384}. Best is trial 48 with value: 1.2230237323343884.\n",
            "Trial 63 finished with value: 65.66912406639457 and parameters: {'x': 4.506431713219324, 'y': -1.256169815884384}. Best is trial 48 with value: 1.2230237323343884.\n",
            "Trial 63 finished with value: 65.66912406639457 and parameters: {'x': 4.506431713219324, 'y': -1.256169815884384}. Best is trial 48 with value: 1.2230237323343884.\n",
            "Trial 63 finished with value: 65.66912406639457 and parameters: {'x': 4.506431713219324, 'y': -1.256169815884384}. Best is trial 48 with value: 1.2230237323343884.\n",
            "Trial 63 finished with value: 65.66912406639457 and parameters: {'x': 4.506431713219324, 'y': -1.256169815884384}. Best is trial 48 with value: 1.2230237323343884.\n",
            "Trial 63 finished with value: 65.66912406639457 and parameters: {'x': 4.506431713219324, 'y': -1.256169815884384}. Best is trial 48 with value: 1.2230237323343884.\n"
          ]
        },
        {
          "output_type": "stream",
          "name": "stderr",
          "text": [
            "\u001b[32m[I 2022-12-26 15:25:49,807]\u001b[0m Trial 64 finished with value: 23.972443600546754 and parameters: {'x': 2.0930609059624663, 'y': 2.829746905733468}. Best is trial 48 with value: 1.2230237323343884.\u001b[0m\n"
          ]
        },
        {
          "output_type": "stream",
          "name": "stdout",
          "text": [
            "Trial 64 finished with value: 23.972443600546754 and parameters: {'x': 2.0930609059624663, 'y': 2.829746905733468}. Best is trial 48 with value: 1.2230237323343884.\n",
            "Trial 64 finished with value: 23.972443600546754 and parameters: {'x': 2.0930609059624663, 'y': 2.829746905733468}. Best is trial 48 with value: 1.2230237323343884.\n",
            "Trial 64 finished with value: 23.972443600546754 and parameters: {'x': 2.0930609059624663, 'y': 2.829746905733468}. Best is trial 48 with value: 1.2230237323343884.\n",
            "Trial 64 finished with value: 23.972443600546754 and parameters: {'x': 2.0930609059624663, 'y': 2.829746905733468}. Best is trial 48 with value: 1.2230237323343884.\n",
            "Trial 64 finished with value: 23.972443600546754 and parameters: {'x': 2.0930609059624663, 'y': 2.829746905733468}. Best is trial 48 with value: 1.2230237323343884.\n",
            "Trial 64 finished with value: 23.972443600546754 and parameters: {'x': 2.0930609059624663, 'y': 2.829746905733468}. Best is trial 48 with value: 1.2230237323343884.\n",
            "Trial 64 finished with value: 23.972443600546754 and parameters: {'x': 2.0930609059624663, 'y': 2.829746905733468}. Best is trial 48 with value: 1.2230237323343884.\n"
          ]
        },
        {
          "output_type": "stream",
          "name": "stderr",
          "text": [
            "\u001b[32m[I 2022-12-26 15:25:49,875]\u001b[0m Trial 65 finished with value: 44.6914995094626 and parameters: {'x': 2.8193128523283577, 'y': 3.295663220856163}. Best is trial 48 with value: 1.2230237323343884.\u001b[0m\n"
          ]
        },
        {
          "output_type": "stream",
          "name": "stdout",
          "text": [
            "Trial 65 finished with value: 44.6914995094626 and parameters: {'x': 2.8193128523283577, 'y': 3.295663220856163}. Best is trial 48 with value: 1.2230237323343884.\n",
            "Trial 65 finished with value: 44.6914995094626 and parameters: {'x': 2.8193128523283577, 'y': 3.295663220856163}. Best is trial 48 with value: 1.2230237323343884.\n",
            "Trial 65 finished with value: 44.6914995094626 and parameters: {'x': 2.8193128523283577, 'y': 3.295663220856163}. Best is trial 48 with value: 1.2230237323343884.\n",
            "Trial 65 finished with value: 44.6914995094626 and parameters: {'x': 2.8193128523283577, 'y': 3.295663220856163}. Best is trial 48 with value: 1.2230237323343884.\n",
            "Trial 65 finished with value: 44.6914995094626 and parameters: {'x': 2.8193128523283577, 'y': 3.295663220856163}. Best is trial 48 with value: 1.2230237323343884.\n",
            "Trial 65 finished with value: 44.6914995094626 and parameters: {'x': 2.8193128523283577, 'y': 3.295663220856163}. Best is trial 48 with value: 1.2230237323343884.\n",
            "Trial 65 finished with value: 44.6914995094626 and parameters: {'x': 2.8193128523283577, 'y': 3.295663220856163}. Best is trial 48 with value: 1.2230237323343884.\n"
          ]
        },
        {
          "output_type": "stream",
          "name": "stderr",
          "text": [
            "\u001b[32m[I 2022-12-26 15:25:49,962]\u001b[0m Trial 66 finished with value: 41.6414787694503 and parameters: {'x': 3.892597845261231, 'y': 2.135249273220215}. Best is trial 48 with value: 1.2230237323343884.\u001b[0m\n"
          ]
        },
        {
          "output_type": "stream",
          "name": "stdout",
          "text": [
            "Trial 66 finished with value: 41.6414787694503 and parameters: {'x': 3.892597845261231, 'y': 2.135249273220215}. Best is trial 48 with value: 1.2230237323343884.\n",
            "Trial 66 finished with value: 41.6414787694503 and parameters: {'x': 3.892597845261231, 'y': 2.135249273220215}. Best is trial 48 with value: 1.2230237323343884.\n",
            "Trial 66 finished with value: 41.6414787694503 and parameters: {'x': 3.892597845261231, 'y': 2.135249273220215}. Best is trial 48 with value: 1.2230237323343884.\n",
            "Trial 66 finished with value: 41.6414787694503 and parameters: {'x': 3.892597845261231, 'y': 2.135249273220215}. Best is trial 48 with value: 1.2230237323343884.\n",
            "Trial 66 finished with value: 41.6414787694503 and parameters: {'x': 3.892597845261231, 'y': 2.135249273220215}. Best is trial 48 with value: 1.2230237323343884.\n",
            "Trial 66 finished with value: 41.6414787694503 and parameters: {'x': 3.892597845261231, 'y': 2.135249273220215}. Best is trial 48 with value: 1.2230237323343884.\n",
            "Trial 66 finished with value: 41.6414787694503 and parameters: {'x': 3.892597845261231, 'y': 2.135249273220215}. Best is trial 48 with value: 1.2230237323343884.\n"
          ]
        },
        {
          "output_type": "stream",
          "name": "stderr",
          "text": [
            "\u001b[32m[I 2022-12-26 15:25:50,023]\u001b[0m Trial 67 finished with value: 281.9557738465466 and parameters: {'x': 4.967462350798889, 'y': 2.533245607434882}. Best is trial 48 with value: 1.2230237323343884.\u001b[0m\n"
          ]
        },
        {
          "output_type": "stream",
          "name": "stdout",
          "text": [
            "Trial 67 finished with value: 281.9557738465466 and parameters: {'x': 4.967462350798889, 'y': 2.533245607434882}. Best is trial 48 with value: 1.2230237323343884.\n",
            "Trial 67 finished with value: 281.9557738465466 and parameters: {'x': 4.967462350798889, 'y': 2.533245607434882}. Best is trial 48 with value: 1.2230237323343884.\n",
            "Trial 67 finished with value: 281.9557738465466 and parameters: {'x': 4.967462350798889, 'y': 2.533245607434882}. Best is trial 48 with value: 1.2230237323343884.\n",
            "Trial 67 finished with value: 281.9557738465466 and parameters: {'x': 4.967462350798889, 'y': 2.533245607434882}. Best is trial 48 with value: 1.2230237323343884.\n",
            "Trial 67 finished with value: 281.9557738465466 and parameters: {'x': 4.967462350798889, 'y': 2.533245607434882}. Best is trial 48 with value: 1.2230237323343884.\n",
            "Trial 67 finished with value: 281.9557738465466 and parameters: {'x': 4.967462350798889, 'y': 2.533245607434882}. Best is trial 48 with value: 1.2230237323343884.\n",
            "Trial 67 finished with value: 281.9557738465466 and parameters: {'x': 4.967462350798889, 'y': 2.533245607434882}. Best is trial 48 with value: 1.2230237323343884.\n"
          ]
        },
        {
          "output_type": "stream",
          "name": "stderr",
          "text": [
            "\u001b[32m[I 2022-12-26 15:25:50,079]\u001b[0m Trial 68 finished with value: 2.279472909929299 and parameters: {'x': 3.1764903418692323, 'y': 1.5702867416782416}. Best is trial 48 with value: 1.2230237323343884.\u001b[0m\n"
          ]
        },
        {
          "output_type": "stream",
          "name": "stdout",
          "text": [
            "Trial 68 finished with value: 2.279472909929299 and parameters: {'x': 3.1764903418692323, 'y': 1.5702867416782416}. Best is trial 48 with value: 1.2230237323343884.\n",
            "Trial 68 finished with value: 2.279472909929299 and parameters: {'x': 3.1764903418692323, 'y': 1.5702867416782416}. Best is trial 48 with value: 1.2230237323343884.\n",
            "Trial 68 finished with value: 2.279472909929299 and parameters: {'x': 3.1764903418692323, 'y': 1.5702867416782416}. Best is trial 48 with value: 1.2230237323343884.\n",
            "Trial 68 finished with value: 2.279472909929299 and parameters: {'x': 3.1764903418692323, 'y': 1.5702867416782416}. Best is trial 48 with value: 1.2230237323343884.\n",
            "Trial 68 finished with value: 2.279472909929299 and parameters: {'x': 3.1764903418692323, 'y': 1.5702867416782416}. Best is trial 48 with value: 1.2230237323343884.\n",
            "Trial 68 finished with value: 2.279472909929299 and parameters: {'x': 3.1764903418692323, 'y': 1.5702867416782416}. Best is trial 48 with value: 1.2230237323343884.\n",
            "Trial 68 finished with value: 2.279472909929299 and parameters: {'x': 3.1764903418692323, 'y': 1.5702867416782416}. Best is trial 48 with value: 1.2230237323343884.\n"
          ]
        },
        {
          "output_type": "stream",
          "name": "stderr",
          "text": [
            "\u001b[32m[I 2022-12-26 15:25:50,152]\u001b[0m Trial 69 finished with value: 57.82657568249442 and parameters: {'x': 2.300958634899378, 'y': -0.38915565880424047}. Best is trial 48 with value: 1.2230237323343884.\u001b[0m\n"
          ]
        },
        {
          "output_type": "stream",
          "name": "stdout",
          "text": [
            "Trial 69 finished with value: 57.82657568249442 and parameters: {'x': 2.300958634899378, 'y': -0.38915565880424047}. Best is trial 48 with value: 1.2230237323343884.\n",
            "Trial 69 finished with value: 57.82657568249442 and parameters: {'x': 2.300958634899378, 'y': -0.38915565880424047}. Best is trial 48 with value: 1.2230237323343884.\n",
            "Trial 69 finished with value: 57.82657568249442 and parameters: {'x': 2.300958634899378, 'y': -0.38915565880424047}. Best is trial 48 with value: 1.2230237323343884.\n",
            "Trial 69 finished with value: 57.82657568249442 and parameters: {'x': 2.300958634899378, 'y': -0.38915565880424047}. Best is trial 48 with value: 1.2230237323343884.\n",
            "Trial 69 finished with value: 57.82657568249442 and parameters: {'x': 2.300958634899378, 'y': -0.38915565880424047}. Best is trial 48 with value: 1.2230237323343884.\n",
            "Trial 69 finished with value: 57.82657568249442 and parameters: {'x': 2.300958634899378, 'y': -0.38915565880424047}. Best is trial 48 with value: 1.2230237323343884.\n",
            "Trial 69 finished with value: 57.82657568249442 and parameters: {'x': 2.300958634899378, 'y': -0.38915565880424047}. Best is trial 48 with value: 1.2230237323343884.\n"
          ]
        },
        {
          "output_type": "stream",
          "name": "stderr",
          "text": [
            "\u001b[32m[I 2022-12-26 15:25:50,184]\u001b[0m Trial 70 finished with value: 8.300524438325105 and parameters: {'x': 3.243527870278818, 'y': 0.9566567901714195}. Best is trial 48 with value: 1.2230237323343884.\u001b[0m\n"
          ]
        },
        {
          "output_type": "stream",
          "name": "stdout",
          "text": [
            "Trial 70 finished with value: 8.300524438325105 and parameters: {'x': 3.243527870278818, 'y': 0.9566567901714195}. Best is trial 48 with value: 1.2230237323343884.\n",
            "Trial 70 finished with value: 8.300524438325105 and parameters: {'x': 3.243527870278818, 'y': 0.9566567901714195}. Best is trial 48 with value: 1.2230237323343884.\n",
            "Trial 70 finished with value: 8.300524438325105 and parameters: {'x': 3.243527870278818, 'y': 0.9566567901714195}. Best is trial 48 with value: 1.2230237323343884.\n",
            "Trial 70 finished with value: 8.300524438325105 and parameters: {'x': 3.243527870278818, 'y': 0.9566567901714195}. Best is trial 48 with value: 1.2230237323343884.\n",
            "Trial 70 finished with value: 8.300524438325105 and parameters: {'x': 3.243527870278818, 'y': 0.9566567901714195}. Best is trial 48 with value: 1.2230237323343884.\n",
            "Trial 70 finished with value: 8.300524438325105 and parameters: {'x': 3.243527870278818, 'y': 0.9566567901714195}. Best is trial 48 with value: 1.2230237323343884.\n",
            "Trial 70 finished with value: 8.300524438325105 and parameters: {'x': 3.243527870278818, 'y': 0.9566567901714195}. Best is trial 48 with value: 1.2230237323343884.\n"
          ]
        },
        {
          "output_type": "stream",
          "name": "stderr",
          "text": [
            "\u001b[32m[I 2022-12-26 15:25:50,239]\u001b[0m Trial 71 finished with value: 6.625619757699971 and parameters: {'x': 3.2301196118390245, 'y': 1.1208439275220332}. Best is trial 48 with value: 1.2230237323343884.\u001b[0m\n"
          ]
        },
        {
          "output_type": "stream",
          "name": "stdout",
          "text": [
            "Trial 71 finished with value: 6.625619757699971 and parameters: {'x': 3.2301196118390245, 'y': 1.1208439275220332}. Best is trial 48 with value: 1.2230237323343884.\n",
            "Trial 71 finished with value: 6.625619757699971 and parameters: {'x': 3.2301196118390245, 'y': 1.1208439275220332}. Best is trial 48 with value: 1.2230237323343884.\n",
            "Trial 71 finished with value: 6.625619757699971 and parameters: {'x': 3.2301196118390245, 'y': 1.1208439275220332}. Best is trial 48 with value: 1.2230237323343884.\n",
            "Trial 71 finished with value: 6.625619757699971 and parameters: {'x': 3.2301196118390245, 'y': 1.1208439275220332}. Best is trial 48 with value: 1.2230237323343884.\n",
            "Trial 71 finished with value: 6.625619757699971 and parameters: {'x': 3.2301196118390245, 'y': 1.1208439275220332}. Best is trial 48 with value: 1.2230237323343884.\n",
            "Trial 71 finished with value: 6.625619757699971 and parameters: {'x': 3.2301196118390245, 'y': 1.1208439275220332}. Best is trial 48 with value: 1.2230237323343884.\n",
            "Trial 71 finished with value: 6.625619757699971 and parameters: {'x': 3.2301196118390245, 'y': 1.1208439275220332}. Best is trial 48 with value: 1.2230237323343884.\n"
          ]
        },
        {
          "output_type": "stream",
          "name": "stderr",
          "text": [
            "\u001b[32m[I 2022-12-26 15:25:50,295]\u001b[0m Trial 72 finished with value: 9.197610986167945 and parameters: {'x': 3.087638847875866, 'y': 0.9602856248337626}. Best is trial 48 with value: 1.2230237323343884.\u001b[0m\n"
          ]
        },
        {
          "output_type": "stream",
          "name": "stdout",
          "text": [
            "Trial 72 finished with value: 9.197610986167945 and parameters: {'x': 3.087638847875866, 'y': 0.9602856248337626}. Best is trial 48 with value: 1.2230237323343884.\n",
            "Trial 72 finished with value: 9.197610986167945 and parameters: {'x': 3.087638847875866, 'y': 0.9602856248337626}. Best is trial 48 with value: 1.2230237323343884.\n",
            "Trial 72 finished with value: 9.197610986167945 and parameters: {'x': 3.087638847875866, 'y': 0.9602856248337626}. Best is trial 48 with value: 1.2230237323343884.\n",
            "Trial 72 finished with value: 9.197610986167945 and parameters: {'x': 3.087638847875866, 'y': 0.9602856248337626}. Best is trial 48 with value: 1.2230237323343884.\n",
            "Trial 72 finished with value: 9.197610986167945 and parameters: {'x': 3.087638847875866, 'y': 0.9602856248337626}. Best is trial 48 with value: 1.2230237323343884.\n",
            "Trial 72 finished with value: 9.197610986167945 and parameters: {'x': 3.087638847875866, 'y': 0.9602856248337626}. Best is trial 48 with value: 1.2230237323343884.\n",
            "Trial 72 finished with value: 9.197610986167945 and parameters: {'x': 3.087638847875866, 'y': 0.9602856248337626}. Best is trial 48 with value: 1.2230237323343884.\n"
          ]
        },
        {
          "output_type": "stream",
          "name": "stderr",
          "text": [
            "\u001b[32m[I 2022-12-26 15:25:50,345]\u001b[0m Trial 73 finished with value: 14.296348821000334 and parameters: {'x': 3.221863684865838, 'y': 0.15891576422167997}. Best is trial 48 with value: 1.2230237323343884.\u001b[0m\n"
          ]
        },
        {
          "output_type": "stream",
          "name": "stdout",
          "text": [
            "Trial 73 finished with value: 14.296348821000334 and parameters: {'x': 3.221863684865838, 'y': 0.15891576422167997}. Best is trial 48 with value: 1.2230237323343884.\n",
            "Trial 73 finished with value: 14.296348821000334 and parameters: {'x': 3.221863684865838, 'y': 0.15891576422167997}. Best is trial 48 with value: 1.2230237323343884.\n",
            "Trial 73 finished with value: 14.296348821000334 and parameters: {'x': 3.221863684865838, 'y': 0.15891576422167997}. Best is trial 48 with value: 1.2230237323343884.\n",
            "Trial 73 finished with value: 14.296348821000334 and parameters: {'x': 3.221863684865838, 'y': 0.15891576422167997}. Best is trial 48 with value: 1.2230237323343884.\n",
            "Trial 73 finished with value: 14.296348821000334 and parameters: {'x': 3.221863684865838, 'y': 0.15891576422167997}. Best is trial 48 with value: 1.2230237323343884.\n",
            "Trial 73 finished with value: 14.296348821000334 and parameters: {'x': 3.221863684865838, 'y': 0.15891576422167997}. Best is trial 48 with value: 1.2230237323343884.\n",
            "Trial 73 finished with value: 14.296348821000334 and parameters: {'x': 3.221863684865838, 'y': 0.15891576422167997}. Best is trial 48 with value: 1.2230237323343884.\n"
          ]
        },
        {
          "output_type": "stream",
          "name": "stderr",
          "text": [
            "\u001b[32m[I 2022-12-26 15:25:50,443]\u001b[0m Trial 74 finished with value: 70.84820898780376 and parameters: {'x': 4.195947076167578, 'y': 1.7998895251058509}. Best is trial 48 with value: 1.2230237323343884.\u001b[0m\n"
          ]
        },
        {
          "output_type": "stream",
          "name": "stdout",
          "text": [
            "Trial 74 finished with value: 70.84820898780376 and parameters: {'x': 4.195947076167578, 'y': 1.7998895251058509}. Best is trial 48 with value: 1.2230237323343884.\n",
            "Trial 74 finished with value: 70.84820898780376 and parameters: {'x': 4.195947076167578, 'y': 1.7998895251058509}. Best is trial 48 with value: 1.2230237323343884.\n",
            "Trial 74 finished with value: 70.84820898780376 and parameters: {'x': 4.195947076167578, 'y': 1.7998895251058509}. Best is trial 48 with value: 1.2230237323343884.\n",
            "Trial 74 finished with value: 70.84820898780376 and parameters: {'x': 4.195947076167578, 'y': 1.7998895251058509}. Best is trial 48 with value: 1.2230237323343884.\n",
            "Trial 74 finished with value: 70.84820898780376 and parameters: {'x': 4.195947076167578, 'y': 1.7998895251058509}. Best is trial 48 with value: 1.2230237323343884.\n",
            "Trial 74 finished with value: 70.84820898780376 and parameters: {'x': 4.195947076167578, 'y': 1.7998895251058509}. Best is trial 48 with value: 1.2230237323343884.\n",
            "Trial 74 finished with value: 70.84820898780376 and parameters: {'x': 4.195947076167578, 'y': 1.7998895251058509}. Best is trial 48 with value: 1.2230237323343884.\n"
          ]
        },
        {
          "output_type": "stream",
          "name": "stderr",
          "text": [
            "\u001b[32m[I 2022-12-26 15:25:50,496]\u001b[0m Trial 75 finished with value: 22.347689245929917 and parameters: {'x': 2.508573306842186, 'y': 1.1660014045161944}. Best is trial 48 with value: 1.2230237323343884.\u001b[0m\n"
          ]
        },
        {
          "output_type": "stream",
          "name": "stdout",
          "text": [
            "Trial 75 finished with value: 22.347689245929917 and parameters: {'x': 2.508573306842186, 'y': 1.1660014045161944}. Best is trial 48 with value: 1.2230237323343884.\n",
            "Trial 75 finished with value: 22.347689245929917 and parameters: {'x': 2.508573306842186, 'y': 1.1660014045161944}. Best is trial 48 with value: 1.2230237323343884.\n",
            "Trial 75 finished with value: 22.347689245929917 and parameters: {'x': 2.508573306842186, 'y': 1.1660014045161944}. Best is trial 48 with value: 1.2230237323343884.\n",
            "Trial 75 finished with value: 22.347689245929917 and parameters: {'x': 2.508573306842186, 'y': 1.1660014045161944}. Best is trial 48 with value: 1.2230237323343884.\n",
            "Trial 75 finished with value: 22.347689245929917 and parameters: {'x': 2.508573306842186, 'y': 1.1660014045161944}. Best is trial 48 with value: 1.2230237323343884.\n",
            "Trial 75 finished with value: 22.347689245929917 and parameters: {'x': 2.508573306842186, 'y': 1.1660014045161944}. Best is trial 48 with value: 1.2230237323343884.\n",
            "Trial 75 finished with value: 22.347689245929917 and parameters: {'x': 2.508573306842186, 'y': 1.1660014045161944}. Best is trial 48 with value: 1.2230237323343884.\n"
          ]
        },
        {
          "output_type": "stream",
          "name": "stderr",
          "text": [
            "\u001b[32m[I 2022-12-26 15:25:50,547]\u001b[0m Trial 76 finished with value: 27.043861949598625 and parameters: {'x': 3.8400225525383496, 'y': 0.8299343466342171}. Best is trial 48 with value: 1.2230237323343884.\u001b[0m\n"
          ]
        },
        {
          "output_type": "stream",
          "name": "stdout",
          "text": [
            "Trial 76 finished with value: 27.043861949598625 and parameters: {'x': 3.8400225525383496, 'y': 0.8299343466342171}. Best is trial 48 with value: 1.2230237323343884.\n",
            "Trial 76 finished with value: 27.043861949598625 and parameters: {'x': 3.8400225525383496, 'y': 0.8299343466342171}. Best is trial 48 with value: 1.2230237323343884.\n",
            "Trial 76 finished with value: 27.043861949598625 and parameters: {'x': 3.8400225525383496, 'y': 0.8299343466342171}. Best is trial 48 with value: 1.2230237323343884.\n",
            "Trial 76 finished with value: 27.043861949598625 and parameters: {'x': 3.8400225525383496, 'y': 0.8299343466342171}. Best is trial 48 with value: 1.2230237323343884.\n",
            "Trial 76 finished with value: 27.043861949598625 and parameters: {'x': 3.8400225525383496, 'y': 0.8299343466342171}. Best is trial 48 with value: 1.2230237323343884.\n",
            "Trial 76 finished with value: 27.043861949598625 and parameters: {'x': 3.8400225525383496, 'y': 0.8299343466342171}. Best is trial 48 with value: 1.2230237323343884.\n",
            "Trial 76 finished with value: 27.043861949598625 and parameters: {'x': 3.8400225525383496, 'y': 0.8299343466342171}. Best is trial 48 with value: 1.2230237323343884.\n"
          ]
        },
        {
          "output_type": "stream",
          "name": "stderr",
          "text": [
            "\u001b[32m[I 2022-12-26 15:25:50,643]\u001b[0m Trial 77 finished with value: 79.1810604432993 and parameters: {'x': 1.749871637386662, 'y': 0.5453076337957532}. Best is trial 48 with value: 1.2230237323343884.\u001b[0m\n"
          ]
        },
        {
          "output_type": "stream",
          "name": "stdout",
          "text": [
            "Trial 77 finished with value: 79.1810604432993 and parameters: {'x': 1.749871637386662, 'y': 0.5453076337957532}. Best is trial 48 with value: 1.2230237323343884.\n",
            "Trial 77 finished with value: 79.1810604432993 and parameters: {'x': 1.749871637386662, 'y': 0.5453076337957532}. Best is trial 48 with value: 1.2230237323343884.\n",
            "Trial 77 finished with value: 79.1810604432993 and parameters: {'x': 1.749871637386662, 'y': 0.5453076337957532}. Best is trial 48 with value: 1.2230237323343884.\n",
            "Trial 77 finished with value: 79.1810604432993 and parameters: {'x': 1.749871637386662, 'y': 0.5453076337957532}. Best is trial 48 with value: 1.2230237323343884.\n",
            "Trial 77 finished with value: 79.1810604432993 and parameters: {'x': 1.749871637386662, 'y': 0.5453076337957532}. Best is trial 48 with value: 1.2230237323343884.\n",
            "Trial 77 finished with value: 79.1810604432993 and parameters: {'x': 1.749871637386662, 'y': 0.5453076337957532}. Best is trial 48 with value: 1.2230237323343884.\n",
            "Trial 77 finished with value: 79.1810604432993 and parameters: {'x': 1.749871637386662, 'y': 0.5453076337957532}. Best is trial 48 with value: 1.2230237323343884.\n"
          ]
        },
        {
          "output_type": "stream",
          "name": "stderr",
          "text": [
            "\u001b[32m[I 2022-12-26 15:25:50,704]\u001b[0m Trial 78 finished with value: 5.530677945589331 and parameters: {'x': 3.389063686895694, 'y': 1.5728882404278441}. Best is trial 48 with value: 1.2230237323343884.\u001b[0m\n"
          ]
        },
        {
          "output_type": "stream",
          "name": "stdout",
          "text": [
            "Trial 78 finished with value: 5.530677945589331 and parameters: {'x': 3.389063686895694, 'y': 1.5728882404278441}. Best is trial 48 with value: 1.2230237323343884.\n",
            "Trial 78 finished with value: 5.530677945589331 and parameters: {'x': 3.389063686895694, 'y': 1.5728882404278441}. Best is trial 48 with value: 1.2230237323343884.\n",
            "Trial 78 finished with value: 5.530677945589331 and parameters: {'x': 3.389063686895694, 'y': 1.5728882404278441}. Best is trial 48 with value: 1.2230237323343884.\n",
            "Trial 78 finished with value: 5.530677945589331 and parameters: {'x': 3.389063686895694, 'y': 1.5728882404278441}. Best is trial 48 with value: 1.2230237323343884.\n",
            "Trial 78 finished with value: 5.530677945589331 and parameters: {'x': 3.389063686895694, 'y': 1.5728882404278441}. Best is trial 48 with value: 1.2230237323343884.\n",
            "Trial 78 finished with value: 5.530677945589331 and parameters: {'x': 3.389063686895694, 'y': 1.5728882404278441}. Best is trial 48 with value: 1.2230237323343884.\n",
            "Trial 78 finished with value: 5.530677945589331 and parameters: {'x': 3.389063686895694, 'y': 1.5728882404278441}. Best is trial 48 with value: 1.2230237323343884.\n"
          ]
        },
        {
          "output_type": "stream",
          "name": "stderr",
          "text": [
            "\u001b[32m[I 2022-12-26 15:25:50,759]\u001b[0m Trial 79 finished with value: 100.22121537662267 and parameters: {'x': 4.406682411451358, 'y': 1.5920323914629115}. Best is trial 48 with value: 1.2230237323343884.\u001b[0m\n"
          ]
        },
        {
          "output_type": "stream",
          "name": "stdout",
          "text": [
            "Trial 79 finished with value: 100.22121537662267 and parameters: {'x': 4.406682411451358, 'y': 1.5920323914629115}. Best is trial 48 with value: 1.2230237323343884.\n",
            "Trial 79 finished with value: 100.22121537662267 and parameters: {'x': 4.406682411451358, 'y': 1.5920323914629115}. Best is trial 48 with value: 1.2230237323343884.\n",
            "Trial 79 finished with value: 100.22121537662267 and parameters: {'x': 4.406682411451358, 'y': 1.5920323914629115}. Best is trial 48 with value: 1.2230237323343884.\n",
            "Trial 79 finished with value: 100.22121537662267 and parameters: {'x': 4.406682411451358, 'y': 1.5920323914629115}. Best is trial 48 with value: 1.2230237323343884.\n",
            "Trial 79 finished with value: 100.22121537662267 and parameters: {'x': 4.406682411451358, 'y': 1.5920323914629115}. Best is trial 48 with value: 1.2230237323343884.\n",
            "Trial 79 finished with value: 100.22121537662267 and parameters: {'x': 4.406682411451358, 'y': 1.5920323914629115}. Best is trial 48 with value: 1.2230237323343884.\n",
            "Trial 79 finished with value: 100.22121537662267 and parameters: {'x': 4.406682411451358, 'y': 1.5920323914629115}. Best is trial 48 with value: 1.2230237323343884.\n"
          ]
        },
        {
          "output_type": "stream",
          "name": "stderr",
          "text": [
            "\u001b[32m[I 2022-12-26 15:25:50,813]\u001b[0m Trial 80 finished with value: 1.1322074199656351 and parameters: {'x': 2.8707533603151054, 'y': 2.2503239094922636}. Best is trial 80 with value: 1.1322074199656351.\u001b[0m\n"
          ]
        },
        {
          "output_type": "stream",
          "name": "stdout",
          "text": [
            "Trial 80 finished with value: 1.1322074199656351 and parameters: {'x': 2.8707533603151054, 'y': 2.2503239094922636}. Best is trial 80 with value: 1.1322074199656351.\n",
            "Trial 80 finished with value: 1.1322074199656351 and parameters: {'x': 2.8707533603151054, 'y': 2.2503239094922636}. Best is trial 80 with value: 1.1322074199656351.\n",
            "Trial 80 finished with value: 1.1322074199656351 and parameters: {'x': 2.8707533603151054, 'y': 2.2503239094922636}. Best is trial 80 with value: 1.1322074199656351.\n",
            "Trial 80 finished with value: 1.1322074199656351 and parameters: {'x': 2.8707533603151054, 'y': 2.2503239094922636}. Best is trial 80 with value: 1.1322074199656351.\n",
            "Trial 80 finished with value: 1.1322074199656351 and parameters: {'x': 2.8707533603151054, 'y': 2.2503239094922636}. Best is trial 80 with value: 1.1322074199656351.\n",
            "Trial 80 finished with value: 1.1322074199656351 and parameters: {'x': 2.8707533603151054, 'y': 2.2503239094922636}. Best is trial 80 with value: 1.1322074199656351.\n",
            "Trial 80 finished with value: 1.1322074199656351 and parameters: {'x': 2.8707533603151054, 'y': 2.2503239094922636}. Best is trial 80 with value: 1.1322074199656351.\n"
          ]
        },
        {
          "output_type": "stream",
          "name": "stderr",
          "text": [
            "\u001b[32m[I 2022-12-26 15:25:50,903]\u001b[0m Trial 81 finished with value: 1.082956142511981 and parameters: {'x': 2.8502514365315736, 'y': 1.9285717477036575}. Best is trial 81 with value: 1.082956142511981.\u001b[0m\n"
          ]
        },
        {
          "output_type": "stream",
          "name": "stdout",
          "text": [
            "Trial 81 finished with value: 1.082956142511981 and parameters: {'x': 2.8502514365315736, 'y': 1.9285717477036575}. Best is trial 81 with value: 1.082956142511981.\n",
            "Trial 81 finished with value: 1.082956142511981 and parameters: {'x': 2.8502514365315736, 'y': 1.9285717477036575}. Best is trial 81 with value: 1.082956142511981.\n",
            "Trial 81 finished with value: 1.082956142511981 and parameters: {'x': 2.8502514365315736, 'y': 1.9285717477036575}. Best is trial 81 with value: 1.082956142511981.\n",
            "Trial 81 finished with value: 1.082956142511981 and parameters: {'x': 2.8502514365315736, 'y': 1.9285717477036575}. Best is trial 81 with value: 1.082956142511981.\n",
            "Trial 81 finished with value: 1.082956142511981 and parameters: {'x': 2.8502514365315736, 'y': 1.9285717477036575}. Best is trial 81 with value: 1.082956142511981.\n",
            "Trial 81 finished with value: 1.082956142511981 and parameters: {'x': 2.8502514365315736, 'y': 1.9285717477036575}. Best is trial 81 with value: 1.082956142511981.\n",
            "Trial 81 finished with value: 1.082956142511981 and parameters: {'x': 2.8502514365315736, 'y': 1.9285717477036575}. Best is trial 81 with value: 1.082956142511981.\n"
          ]
        },
        {
          "output_type": "stream",
          "name": "stderr",
          "text": [
            "\u001b[32m[I 2022-12-26 15:25:50,969]\u001b[0m Trial 82 finished with value: 3.206031856872176 and parameters: {'x': 2.7367690741127175, 'y': 2.37687553813419}. Best is trial 81 with value: 1.082956142511981.\u001b[0m\n"
          ]
        },
        {
          "output_type": "stream",
          "name": "stdout",
          "text": [
            "Trial 82 finished with value: 3.206031856872176 and parameters: {'x': 2.7367690741127175, 'y': 2.37687553813419}. Best is trial 81 with value: 1.082956142511981.\n",
            "Trial 82 finished with value: 3.206031856872176 and parameters: {'x': 2.7367690741127175, 'y': 2.37687553813419}. Best is trial 81 with value: 1.082956142511981.\n",
            "Trial 82 finished with value: 3.206031856872176 and parameters: {'x': 2.7367690741127175, 'y': 2.37687553813419}. Best is trial 81 with value: 1.082956142511981.\n",
            "Trial 82 finished with value: 3.206031856872176 and parameters: {'x': 2.7367690741127175, 'y': 2.37687553813419}. Best is trial 81 with value: 1.082956142511981.\n",
            "Trial 82 finished with value: 3.206031856872176 and parameters: {'x': 2.7367690741127175, 'y': 2.37687553813419}. Best is trial 81 with value: 1.082956142511981.\n",
            "Trial 82 finished with value: 3.206031856872176 and parameters: {'x': 2.7367690741127175, 'y': 2.37687553813419}. Best is trial 81 with value: 1.082956142511981.\n",
            "Trial 82 finished with value: 3.206031856872176 and parameters: {'x': 2.7367690741127175, 'y': 2.37687553813419}. Best is trial 81 with value: 1.082956142511981.\n"
          ]
        },
        {
          "output_type": "stream",
          "name": "stderr",
          "text": [
            "\u001b[32m[I 2022-12-26 15:25:51,033]\u001b[0m Trial 83 finished with value: 3.896476759227993 and parameters: {'x': 2.735820129053978, 'y': 2.431927814501681}. Best is trial 81 with value: 1.082956142511981.\u001b[0m\n"
          ]
        },
        {
          "output_type": "stream",
          "name": "stdout",
          "text": [
            "Trial 83 finished with value: 3.896476759227993 and parameters: {'x': 2.735820129053978, 'y': 2.431927814501681}. Best is trial 81 with value: 1.082956142511981.\n",
            "Trial 83 finished with value: 3.896476759227993 and parameters: {'x': 2.735820129053978, 'y': 2.431927814501681}. Best is trial 81 with value: 1.082956142511981.\n",
            "Trial 83 finished with value: 3.896476759227993 and parameters: {'x': 2.735820129053978, 'y': 2.431927814501681}. Best is trial 81 with value: 1.082956142511981.\n",
            "Trial 83 finished with value: 3.896476759227993 and parameters: {'x': 2.735820129053978, 'y': 2.431927814501681}. Best is trial 81 with value: 1.082956142511981.\n",
            "Trial 83 finished with value: 3.896476759227993 and parameters: {'x': 2.735820129053978, 'y': 2.431927814501681}. Best is trial 81 with value: 1.082956142511981.\n",
            "Trial 83 finished with value: 3.896476759227993 and parameters: {'x': 2.735820129053978, 'y': 2.431927814501681}. Best is trial 81 with value: 1.082956142511981.\n",
            "Trial 83 finished with value: 3.896476759227993 and parameters: {'x': 2.735820129053978, 'y': 2.431927814501681}. Best is trial 81 with value: 1.082956142511981.\n"
          ]
        },
        {
          "output_type": "stream",
          "name": "stderr",
          "text": [
            "\u001b[32m[I 2022-12-26 15:25:51,102]\u001b[0m Trial 84 finished with value: 3.7675608643803504 and parameters: {'x': 2.8074647771422585, 'y': 2.452741230180393}. Best is trial 81 with value: 1.082956142511981.\u001b[0m\n"
          ]
        },
        {
          "output_type": "stream",
          "name": "stdout",
          "text": [
            "Trial 84 finished with value: 3.7675608643803504 and parameters: {'x': 2.8074647771422585, 'y': 2.452741230180393}. Best is trial 81 with value: 1.082956142511981.\n",
            "Trial 84 finished with value: 3.7675608643803504 and parameters: {'x': 2.8074647771422585, 'y': 2.452741230180393}. Best is trial 81 with value: 1.082956142511981.\n",
            "Trial 84 finished with value: 3.7675608643803504 and parameters: {'x': 2.8074647771422585, 'y': 2.452741230180393}. Best is trial 81 with value: 1.082956142511981.\n",
            "Trial 84 finished with value: 3.7675608643803504 and parameters: {'x': 2.8074647771422585, 'y': 2.452741230180393}. Best is trial 81 with value: 1.082956142511981.\n",
            "Trial 84 finished with value: 3.7675608643803504 and parameters: {'x': 2.8074647771422585, 'y': 2.452741230180393}. Best is trial 81 with value: 1.082956142511981.\n",
            "Trial 84 finished with value: 3.7675608643803504 and parameters: {'x': 2.8074647771422585, 'y': 2.452741230180393}. Best is trial 81 with value: 1.082956142511981.\n",
            "Trial 84 finished with value: 3.7675608643803504 and parameters: {'x': 2.8074647771422585, 'y': 2.452741230180393}. Best is trial 81 with value: 1.082956142511981.\n"
          ]
        },
        {
          "output_type": "stream",
          "name": "stderr",
          "text": [
            "\u001b[32m[I 2022-12-26 15:25:51,157]\u001b[0m Trial 85 finished with value: 16.312425483378853 and parameters: {'x': 2.7055269821716537, 'y': 2.872592032583894}. Best is trial 81 with value: 1.082956142511981.\u001b[0m\n"
          ]
        },
        {
          "output_type": "stream",
          "name": "stdout",
          "text": [
            "Trial 85 finished with value: 16.312425483378853 and parameters: {'x': 2.7055269821716537, 'y': 2.872592032583894}. Best is trial 81 with value: 1.082956142511981.\n",
            "Trial 85 finished with value: 16.312425483378853 and parameters: {'x': 2.7055269821716537, 'y': 2.872592032583894}. Best is trial 81 with value: 1.082956142511981.\n",
            "Trial 85 finished with value: 16.312425483378853 and parameters: {'x': 2.7055269821716537, 'y': 2.872592032583894}. Best is trial 81 with value: 1.082956142511981.\n",
            "Trial 85 finished with value: 16.312425483378853 and parameters: {'x': 2.7055269821716537, 'y': 2.872592032583894}. Best is trial 81 with value: 1.082956142511981.\n",
            "Trial 85 finished with value: 16.312425483378853 and parameters: {'x': 2.7055269821716537, 'y': 2.872592032583894}. Best is trial 81 with value: 1.082956142511981.\n",
            "Trial 85 finished with value: 16.312425483378853 and parameters: {'x': 2.7055269821716537, 'y': 2.872592032583894}. Best is trial 81 with value: 1.082956142511981.\n",
            "Trial 85 finished with value: 16.312425483378853 and parameters: {'x': 2.7055269821716537, 'y': 2.872592032583894}. Best is trial 81 with value: 1.082956142511981.\n"
          ]
        },
        {
          "output_type": "stream",
          "name": "stderr",
          "text": [
            "\u001b[32m[I 2022-12-26 15:25:51,226]\u001b[0m Trial 86 finished with value: 22.8544095179323 and parameters: {'x': 1.9669299857182834, 'y': 2.4405100647191387}. Best is trial 81 with value: 1.082956142511981.\u001b[0m\n"
          ]
        },
        {
          "output_type": "stream",
          "name": "stdout",
          "text": [
            "Trial 86 finished with value: 22.8544095179323 and parameters: {'x': 1.9669299857182834, 'y': 2.4405100647191387}. Best is trial 81 with value: 1.082956142511981.\n",
            "Trial 86 finished with value: 22.8544095179323 and parameters: {'x': 1.9669299857182834, 'y': 2.4405100647191387}. Best is trial 81 with value: 1.082956142511981.\n",
            "Trial 86 finished with value: 22.8544095179323 and parameters: {'x': 1.9669299857182834, 'y': 2.4405100647191387}. Best is trial 81 with value: 1.082956142511981.\n",
            "Trial 86 finished with value: 22.8544095179323 and parameters: {'x': 1.9669299857182834, 'y': 2.4405100647191387}. Best is trial 81 with value: 1.082956142511981.\n",
            "Trial 86 finished with value: 22.8544095179323 and parameters: {'x': 1.9669299857182834, 'y': 2.4405100647191387}. Best is trial 81 with value: 1.082956142511981.\n",
            "Trial 86 finished with value: 22.8544095179323 and parameters: {'x': 1.9669299857182834, 'y': 2.4405100647191387}. Best is trial 81 with value: 1.082956142511981.\n",
            "Trial 86 finished with value: 22.8544095179323 and parameters: {'x': 1.9669299857182834, 'y': 2.4405100647191387}. Best is trial 81 with value: 1.082956142511981.\n"
          ]
        },
        {
          "output_type": "stream",
          "name": "stderr",
          "text": [
            "\u001b[32m[I 2022-12-26 15:25:51,278]\u001b[0m Trial 87 finished with value: 10.57612149685484 and parameters: {'x': 2.3475937036407086, 'y': 2.3236483963708303}. Best is trial 81 with value: 1.082956142511981.\u001b[0m\n"
          ]
        },
        {
          "output_type": "stream",
          "name": "stdout",
          "text": [
            "Trial 87 finished with value: 10.57612149685484 and parameters: {'x': 2.3475937036407086, 'y': 2.3236483963708303}. Best is trial 81 with value: 1.082956142511981.\n",
            "Trial 87 finished with value: 10.57612149685484 and parameters: {'x': 2.3475937036407086, 'y': 2.3236483963708303}. Best is trial 81 with value: 1.082956142511981.\n",
            "Trial 87 finished with value: 10.57612149685484 and parameters: {'x': 2.3475937036407086, 'y': 2.3236483963708303}. Best is trial 81 with value: 1.082956142511981.\n",
            "Trial 87 finished with value: 10.57612149685484 and parameters: {'x': 2.3475937036407086, 'y': 2.3236483963708303}. Best is trial 81 with value: 1.082956142511981.\n",
            "Trial 87 finished with value: 10.57612149685484 and parameters: {'x': 2.3475937036407086, 'y': 2.3236483963708303}. Best is trial 81 with value: 1.082956142511981.\n",
            "Trial 87 finished with value: 10.57612149685484 and parameters: {'x': 2.3475937036407086, 'y': 2.3236483963708303}. Best is trial 81 with value: 1.082956142511981.\n",
            "Trial 87 finished with value: 10.57612149685484 and parameters: {'x': 2.3475937036407086, 'y': 2.3236483963708303}. Best is trial 81 with value: 1.082956142511981.\n"
          ]
        },
        {
          "output_type": "stream",
          "name": "stderr",
          "text": [
            "\u001b[32m[I 2022-12-26 15:25:51,347]\u001b[0m Trial 88 finished with value: 43.6065973199665 and parameters: {'x': 1.4934315763768928, 'y': 2.199904066791274}. Best is trial 81 with value: 1.082956142511981.\u001b[0m\n"
          ]
        },
        {
          "output_type": "stream",
          "name": "stdout",
          "text": [
            "Trial 88 finished with value: 43.6065973199665 and parameters: {'x': 1.4934315763768928, 'y': 2.199904066791274}. Best is trial 81 with value: 1.082956142511981.\n",
            "Trial 88 finished with value: 43.6065973199665 and parameters: {'x': 1.4934315763768928, 'y': 2.199904066791274}. Best is trial 81 with value: 1.082956142511981.\n",
            "Trial 88 finished with value: 43.6065973199665 and parameters: {'x': 1.4934315763768928, 'y': 2.199904066791274}. Best is trial 81 with value: 1.082956142511981.\n",
            "Trial 88 finished with value: 43.6065973199665 and parameters: {'x': 1.4934315763768928, 'y': 2.199904066791274}. Best is trial 81 with value: 1.082956142511981.\n",
            "Trial 88 finished with value: 43.6065973199665 and parameters: {'x': 1.4934315763768928, 'y': 2.199904066791274}. Best is trial 81 with value: 1.082956142511981.\n",
            "Trial 88 finished with value: 43.6065973199665 and parameters: {'x': 1.4934315763768928, 'y': 2.199904066791274}. Best is trial 81 with value: 1.082956142511981.\n",
            "Trial 88 finished with value: 43.6065973199665 and parameters: {'x': 1.4934315763768928, 'y': 2.199904066791274}. Best is trial 81 with value: 1.082956142511981.\n"
          ]
        },
        {
          "output_type": "stream",
          "name": "stderr",
          "text": [
            "\u001b[32m[I 2022-12-26 15:25:51,413]\u001b[0m Trial 89 finished with value: 11.1573352451774 and parameters: {'x': 2.9418890354248055, 'y': 2.716194758607722}. Best is trial 81 with value: 1.082956142511981.\u001b[0m\n"
          ]
        },
        {
          "output_type": "stream",
          "name": "stdout",
          "text": [
            "Trial 89 finished with value: 11.1573352451774 and parameters: {'x': 2.9418890354248055, 'y': 2.716194758607722}. Best is trial 81 with value: 1.082956142511981.\n",
            "Trial 89 finished with value: 11.1573352451774 and parameters: {'x': 2.9418890354248055, 'y': 2.716194758607722}. Best is trial 81 with value: 1.082956142511981.\n",
            "Trial 89 finished with value: 11.1573352451774 and parameters: {'x': 2.9418890354248055, 'y': 2.716194758607722}. Best is trial 81 with value: 1.082956142511981.\n",
            "Trial 89 finished with value: 11.1573352451774 and parameters: {'x': 2.9418890354248055, 'y': 2.716194758607722}. Best is trial 81 with value: 1.082956142511981.\n",
            "Trial 89 finished with value: 11.1573352451774 and parameters: {'x': 2.9418890354248055, 'y': 2.716194758607722}. Best is trial 81 with value: 1.082956142511981.\n",
            "Trial 89 finished with value: 11.1573352451774 and parameters: {'x': 2.9418890354248055, 'y': 2.716194758607722}. Best is trial 81 with value: 1.082956142511981.\n",
            "Trial 89 finished with value: 11.1573352451774 and parameters: {'x': 2.9418890354248055, 'y': 2.716194758607722}. Best is trial 81 with value: 1.082956142511981.\n"
          ]
        },
        {
          "output_type": "stream",
          "name": "stderr",
          "text": [
            "\u001b[32m[I 2022-12-26 15:25:51,512]\u001b[0m Trial 90 finished with value: 11.431994505215021 and parameters: {'x': 2.5852494115249804, 'y': 1.5651105603222142}. Best is trial 81 with value: 1.082956142511981.\u001b[0m\n"
          ]
        },
        {
          "output_type": "stream",
          "name": "stdout",
          "text": [
            "Trial 90 finished with value: 11.431994505215021 and parameters: {'x': 2.5852494115249804, 'y': 1.5651105603222142}. Best is trial 81 with value: 1.082956142511981.\n",
            "Trial 90 finished with value: 11.431994505215021 and parameters: {'x': 2.5852494115249804, 'y': 1.5651105603222142}. Best is trial 81 with value: 1.082956142511981.\n",
            "Trial 90 finished with value: 11.431994505215021 and parameters: {'x': 2.5852494115249804, 'y': 1.5651105603222142}. Best is trial 81 with value: 1.082956142511981.\n",
            "Trial 90 finished with value: 11.431994505215021 and parameters: {'x': 2.5852494115249804, 'y': 1.5651105603222142}. Best is trial 81 with value: 1.082956142511981.\n",
            "Trial 90 finished with value: 11.431994505215021 and parameters: {'x': 2.5852494115249804, 'y': 1.5651105603222142}. Best is trial 81 with value: 1.082956142511981.\n",
            "Trial 90 finished with value: 11.431994505215021 and parameters: {'x': 2.5852494115249804, 'y': 1.5651105603222142}. Best is trial 81 with value: 1.082956142511981.\n",
            "Trial 90 finished with value: 11.431994505215021 and parameters: {'x': 2.5852494115249804, 'y': 1.5651105603222142}. Best is trial 81 with value: 1.082956142511981.\n"
          ]
        },
        {
          "output_type": "stream",
          "name": "stderr",
          "text": [
            "\u001b[32m[I 2022-12-26 15:25:51,589]\u001b[0m Trial 91 finished with value: 1.7833845938173067 and parameters: {'x': 2.852213083744253, 'y': 1.820767242133055}. Best is trial 81 with value: 1.082956142511981.\u001b[0m\n"
          ]
        },
        {
          "output_type": "stream",
          "name": "stdout",
          "text": [
            "Trial 91 finished with value: 1.7833845938173067 and parameters: {'x': 2.852213083744253, 'y': 1.820767242133055}. Best is trial 81 with value: 1.082956142511981.\n",
            "Trial 91 finished with value: 1.7833845938173067 and parameters: {'x': 2.852213083744253, 'y': 1.820767242133055}. Best is trial 81 with value: 1.082956142511981.\n",
            "Trial 91 finished with value: 1.7833845938173067 and parameters: {'x': 2.852213083744253, 'y': 1.820767242133055}. Best is trial 81 with value: 1.082956142511981.\n",
            "Trial 91 finished with value: 1.7833845938173067 and parameters: {'x': 2.852213083744253, 'y': 1.820767242133055}. Best is trial 81 with value: 1.082956142511981.\n",
            "Trial 91 finished with value: 1.7833845938173067 and parameters: {'x': 2.852213083744253, 'y': 1.820767242133055}. Best is trial 81 with value: 1.082956142511981.\n",
            "Trial 91 finished with value: 1.7833845938173067 and parameters: {'x': 2.852213083744253, 'y': 1.820767242133055}. Best is trial 81 with value: 1.082956142511981.\n",
            "Trial 91 finished with value: 1.7833845938173067 and parameters: {'x': 2.852213083744253, 'y': 1.820767242133055}. Best is trial 81 with value: 1.082956142511981.\n"
          ]
        },
        {
          "output_type": "stream",
          "name": "stderr",
          "text": [
            "\u001b[32m[I 2022-12-26 15:25:51,680]\u001b[0m Trial 92 finished with value: 2.5089621761687186 and parameters: {'x': 2.80941953967251, 'y': 1.8110803431969371}. Best is trial 81 with value: 1.082956142511981.\u001b[0m\n"
          ]
        },
        {
          "output_type": "stream",
          "name": "stdout",
          "text": [
            "Trial 92 finished with value: 2.5089621761687186 and parameters: {'x': 2.80941953967251, 'y': 1.8110803431969371}. Best is trial 81 with value: 1.082956142511981.\n",
            "Trial 92 finished with value: 2.5089621761687186 and parameters: {'x': 2.80941953967251, 'y': 1.8110803431969371}. Best is trial 81 with value: 1.082956142511981.\n",
            "Trial 92 finished with value: 2.5089621761687186 and parameters: {'x': 2.80941953967251, 'y': 1.8110803431969371}. Best is trial 81 with value: 1.082956142511981.\n",
            "Trial 92 finished with value: 2.5089621761687186 and parameters: {'x': 2.80941953967251, 'y': 1.8110803431969371}. Best is trial 81 with value: 1.082956142511981.\n",
            "Trial 92 finished with value: 2.5089621761687186 and parameters: {'x': 2.80941953967251, 'y': 1.8110803431969371}. Best is trial 81 with value: 1.082956142511981.\n",
            "Trial 92 finished with value: 2.5089621761687186 and parameters: {'x': 2.80941953967251, 'y': 1.8110803431969371}. Best is trial 81 with value: 1.082956142511981.\n",
            "Trial 92 finished with value: 2.5089621761687186 and parameters: {'x': 2.80941953967251, 'y': 1.8110803431969371}. Best is trial 81 with value: 1.082956142511981.\n"
          ]
        },
        {
          "output_type": "stream",
          "name": "stderr",
          "text": [
            "\u001b[32m[I 2022-12-26 15:25:51,722]\u001b[0m Trial 93 finished with value: 30.256742595430843 and parameters: {'x': 2.3017988244523933, 'y': 3.088428593824627}. Best is trial 81 with value: 1.082956142511981.\u001b[0m\n"
          ]
        },
        {
          "output_type": "stream",
          "name": "stdout",
          "text": [
            "Trial 93 finished with value: 30.256742595430843 and parameters: {'x': 2.3017988244523933, 'y': 3.088428593824627}. Best is trial 81 with value: 1.082956142511981.\n",
            "Trial 93 finished with value: 30.256742595430843 and parameters: {'x': 2.3017988244523933, 'y': 3.088428593824627}. Best is trial 81 with value: 1.082956142511981.\n",
            "Trial 93 finished with value: 30.256742595430843 and parameters: {'x': 2.3017988244523933, 'y': 3.088428593824627}. Best is trial 81 with value: 1.082956142511981.\n",
            "Trial 93 finished with value: 30.256742595430843 and parameters: {'x': 2.3017988244523933, 'y': 3.088428593824627}. Best is trial 81 with value: 1.082956142511981.\n",
            "Trial 93 finished with value: 30.256742595430843 and parameters: {'x': 2.3017988244523933, 'y': 3.088428593824627}. Best is trial 81 with value: 1.082956142511981.\n",
            "Trial 93 finished with value: 30.256742595430843 and parameters: {'x': 2.3017988244523933, 'y': 3.088428593824627}. Best is trial 81 with value: 1.082956142511981.\n",
            "Trial 93 finished with value: 30.256742595430843 and parameters: {'x': 2.3017988244523933, 'y': 3.088428593824627}. Best is trial 81 with value: 1.082956142511981.\n"
          ]
        },
        {
          "output_type": "stream",
          "name": "stderr",
          "text": [
            "\u001b[32m[I 2022-12-26 15:25:51,791]\u001b[0m Trial 94 finished with value: 4.781634260338861 and parameters: {'x': 2.8101348894457976, 'y': 2.508834244097171}. Best is trial 81 with value: 1.082956142511981.\u001b[0m\n"
          ]
        },
        {
          "output_type": "stream",
          "name": "stdout",
          "text": [
            "Trial 94 finished with value: 4.781634260338861 and parameters: {'x': 2.8101348894457976, 'y': 2.508834244097171}. Best is trial 81 with value: 1.082956142511981.\n",
            "Trial 94 finished with value: 4.781634260338861 and parameters: {'x': 2.8101348894457976, 'y': 2.508834244097171}. Best is trial 81 with value: 1.082956142511981.\n",
            "Trial 94 finished with value: 4.781634260338861 and parameters: {'x': 2.8101348894457976, 'y': 2.508834244097171}. Best is trial 81 with value: 1.082956142511981.\n",
            "Trial 94 finished with value: 4.781634260338861 and parameters: {'x': 2.8101348894457976, 'y': 2.508834244097171}. Best is trial 81 with value: 1.082956142511981.\n",
            "Trial 94 finished with value: 4.781634260338861 and parameters: {'x': 2.8101348894457976, 'y': 2.508834244097171}. Best is trial 81 with value: 1.082956142511981.\n",
            "Trial 94 finished with value: 4.781634260338861 and parameters: {'x': 2.8101348894457976, 'y': 2.508834244097171}. Best is trial 81 with value: 1.082956142511981.\n",
            "Trial 94 finished with value: 4.781634260338861 and parameters: {'x': 2.8101348894457976, 'y': 2.508834244097171}. Best is trial 81 with value: 1.082956142511981.\n"
          ]
        },
        {
          "output_type": "stream",
          "name": "stderr",
          "text": [
            "\u001b[32m[I 2022-12-26 15:25:51,850]\u001b[0m Trial 95 finished with value: 22.507011434870353 and parameters: {'x': 2.0578948583034524, 'y': 2.0678864885920927}. Best is trial 81 with value: 1.082956142511981.\u001b[0m\n"
          ]
        },
        {
          "output_type": "stream",
          "name": "stdout",
          "text": [
            "Trial 95 finished with value: 22.507011434870353 and parameters: {'x': 2.0578948583034524, 'y': 2.0678864885920927}. Best is trial 81 with value: 1.082956142511981.\n",
            "Trial 95 finished with value: 22.507011434870353 and parameters: {'x': 2.0578948583034524, 'y': 2.0678864885920927}. Best is trial 81 with value: 1.082956142511981.\n",
            "Trial 95 finished with value: 22.507011434870353 and parameters: {'x': 2.0578948583034524, 'y': 2.0678864885920927}. Best is trial 81 with value: 1.082956142511981.\n",
            "Trial 95 finished with value: 22.507011434870353 and parameters: {'x': 2.0578948583034524, 'y': 2.0678864885920927}. Best is trial 81 with value: 1.082956142511981.\n",
            "Trial 95 finished with value: 22.507011434870353 and parameters: {'x': 2.0578948583034524, 'y': 2.0678864885920927}. Best is trial 81 with value: 1.082956142511981.\n",
            "Trial 95 finished with value: 22.507011434870353 and parameters: {'x': 2.0578948583034524, 'y': 2.0678864885920927}. Best is trial 81 with value: 1.082956142511981.\n",
            "Trial 95 finished with value: 22.507011434870353 and parameters: {'x': 2.0578948583034524, 'y': 2.0678864885920927}. Best is trial 81 with value: 1.082956142511981.\n"
          ]
        },
        {
          "output_type": "stream",
          "name": "stderr",
          "text": [
            "\u001b[32m[I 2022-12-26 15:25:51,943]\u001b[0m Trial 96 finished with value: 82.41730538478834 and parameters: {'x': 1.2465373586079085, 'y': 1.3121331578574604}. Best is trial 81 with value: 1.082956142511981.\u001b[0m\n"
          ]
        },
        {
          "output_type": "stream",
          "name": "stdout",
          "text": [
            "Trial 96 finished with value: 82.41730538478834 and parameters: {'x': 1.2465373586079085, 'y': 1.3121331578574604}. Best is trial 81 with value: 1.082956142511981.\n",
            "Trial 96 finished with value: 82.41730538478834 and parameters: {'x': 1.2465373586079085, 'y': 1.3121331578574604}. Best is trial 81 with value: 1.082956142511981.\n",
            "Trial 96 finished with value: 82.41730538478834 and parameters: {'x': 1.2465373586079085, 'y': 1.3121331578574604}. Best is trial 81 with value: 1.082956142511981.\n",
            "Trial 96 finished with value: 82.41730538478834 and parameters: {'x': 1.2465373586079085, 'y': 1.3121331578574604}. Best is trial 81 with value: 1.082956142511981.\n",
            "Trial 96 finished with value: 82.41730538478834 and parameters: {'x': 1.2465373586079085, 'y': 1.3121331578574604}. Best is trial 81 with value: 1.082956142511981.\n",
            "Trial 96 finished with value: 82.41730538478834 and parameters: {'x': 1.2465373586079085, 'y': 1.3121331578574604}. Best is trial 81 with value: 1.082956142511981.\n",
            "Trial 96 finished with value: 82.41730538478834 and parameters: {'x': 1.2465373586079085, 'y': 1.3121331578574604}. Best is trial 81 with value: 1.082956142511981.\n"
          ]
        },
        {
          "output_type": "stream",
          "name": "stderr",
          "text": [
            "\u001b[32m[I 2022-12-26 15:25:51,991]\u001b[0m Trial 97 finished with value: 26.765611220671026 and parameters: {'x': 1.8834480581844066, 'y': 2.2797002560616813}. Best is trial 81 with value: 1.082956142511981.\u001b[0m\n"
          ]
        },
        {
          "output_type": "stream",
          "name": "stdout",
          "text": [
            "Trial 97 finished with value: 26.765611220671026 and parameters: {'x': 1.8834480581844066, 'y': 2.2797002560616813}. Best is trial 81 with value: 1.082956142511981.\n",
            "Trial 97 finished with value: 26.765611220671026 and parameters: {'x': 1.8834480581844066, 'y': 2.2797002560616813}. Best is trial 81 with value: 1.082956142511981.\n",
            "Trial 97 finished with value: 26.765611220671026 and parameters: {'x': 1.8834480581844066, 'y': 2.2797002560616813}. Best is trial 81 with value: 1.082956142511981.\n",
            "Trial 97 finished with value: 26.765611220671026 and parameters: {'x': 1.8834480581844066, 'y': 2.2797002560616813}. Best is trial 81 with value: 1.082956142511981.\n",
            "Trial 97 finished with value: 26.765611220671026 and parameters: {'x': 1.8834480581844066, 'y': 2.2797002560616813}. Best is trial 81 with value: 1.082956142511981.\n",
            "Trial 97 finished with value: 26.765611220671026 and parameters: {'x': 1.8834480581844066, 'y': 2.2797002560616813}. Best is trial 81 with value: 1.082956142511981.\n",
            "Trial 97 finished with value: 26.765611220671026 and parameters: {'x': 1.8834480581844066, 'y': 2.2797002560616813}. Best is trial 81 with value: 1.082956142511981.\n"
          ]
        },
        {
          "output_type": "stream",
          "name": "stderr",
          "text": [
            "\u001b[32m[I 2022-12-26 15:25:52,051]\u001b[0m Trial 98 finished with value: 23.835997131462832 and parameters: {'x': 2.9410150748223076, 'y': 2.9832878433914702}. Best is trial 81 with value: 1.082956142511981.\u001b[0m\n"
          ]
        },
        {
          "output_type": "stream",
          "name": "stdout",
          "text": [
            "Trial 98 finished with value: 23.835997131462832 and parameters: {'x': 2.9410150748223076, 'y': 2.9832878433914702}. Best is trial 81 with value: 1.082956142511981.\n",
            "Trial 98 finished with value: 23.835997131462832 and parameters: {'x': 2.9410150748223076, 'y': 2.9832878433914702}. Best is trial 81 with value: 1.082956142511981.\n",
            "Trial 98 finished with value: 23.835997131462832 and parameters: {'x': 2.9410150748223076, 'y': 2.9832878433914702}. Best is trial 81 with value: 1.082956142511981.\n",
            "Trial 98 finished with value: 23.835997131462832 and parameters: {'x': 2.9410150748223076, 'y': 2.9832878433914702}. Best is trial 81 with value: 1.082956142511981.\n",
            "Trial 98 finished with value: 23.835997131462832 and parameters: {'x': 2.9410150748223076, 'y': 2.9832878433914702}. Best is trial 81 with value: 1.082956142511981.\n",
            "Trial 98 finished with value: 23.835997131462832 and parameters: {'x': 2.9410150748223076, 'y': 2.9832878433914702}. Best is trial 81 with value: 1.082956142511981.\n",
            "Trial 98 finished with value: 23.835997131462832 and parameters: {'x': 2.9410150748223076, 'y': 2.9832878433914702}. Best is trial 81 with value: 1.082956142511981.\n"
          ]
        },
        {
          "output_type": "stream",
          "name": "stderr",
          "text": [
            "\u001b[32m[I 2022-12-26 15:25:52,105]\u001b[0m Trial 99 finished with value: 15.455980011546542 and parameters: {'x': 3.6205029391263617, 'y': 1.82296479235731}. Best is trial 81 with value: 1.082956142511981.\u001b[0m\n"
          ]
        },
        {
          "output_type": "stream",
          "name": "stdout",
          "text": [
            "Trial 99 finished with value: 15.455980011546542 and parameters: {'x': 3.6205029391263617, 'y': 1.82296479235731}. Best is trial 81 with value: 1.082956142511981.\n",
            "Trial 99 finished with value: 15.455980011546542 and parameters: {'x': 3.6205029391263617, 'y': 1.82296479235731}. Best is trial 81 with value: 1.082956142511981.\n",
            "Trial 99 finished with value: 15.455980011546542 and parameters: {'x': 3.6205029391263617, 'y': 1.82296479235731}. Best is trial 81 with value: 1.082956142511981.\n",
            "Trial 99 finished with value: 15.455980011546542 and parameters: {'x': 3.6205029391263617, 'y': 1.82296479235731}. Best is trial 81 with value: 1.082956142511981.\n",
            "Trial 99 finished with value: 15.455980011546542 and parameters: {'x': 3.6205029391263617, 'y': 1.82296479235731}. Best is trial 81 with value: 1.082956142511981.\n",
            "Trial 99 finished with value: 15.455980011546542 and parameters: {'x': 3.6205029391263617, 'y': 1.82296479235731}. Best is trial 81 with value: 1.082956142511981.\n",
            "Trial 99 finished with value: 15.455980011546542 and parameters: {'x': 3.6205029391263617, 'y': 1.82296479235731}. Best is trial 81 with value: 1.082956142511981.\n"
          ]
        }
      ]
    },
    {
      "cell_type": "markdown",
      "source": [
        "Выводим результат"
      ],
      "metadata": {
        "id": "kkJ28ZYxCRSY"
      }
    },
    {
      "cell_type": "code",
      "source": [
        "best_params_Matias = study_Matias.best_params\n",
        "found_x = best_params_Matias[\"x\"]\n",
        "found_y = best_params_Matias[\"y\"]\n",
        "print(\"Функция Матьяса:\")\n",
        "print(f\"x: {found_x}, y: {found_y}, E: {Matias_E(found_x, found_y)}\")\n",
        "best_params_H = study_H.best_params\n",
        "found_x = best_params_H[\"x\"]\n",
        "found_y = best_params_H[\"y\"]\n",
        "print(\"Функция Химмельблау:\")\n",
        "print(f\"x: {found_x}, y: {found_y}, E: {H_E(found_x, found_y)}\")"
      ],
      "metadata": {
        "colab": {
          "base_uri": "https://localhost:8080/"
        },
        "id": "6xxUwnX2ALHx",
        "outputId": "b8e97419-ee7b-4977-f903-aa6ca9233e30"
      },
      "execution_count": 37,
      "outputs": [
        {
          "output_type": "stream",
          "name": "stdout",
          "text": [
            "Функция Матьяса:\n",
            "x: 0.2667417389722181, y: 0.17472046284455067, E: 0.0040658675713701985\n",
            "Функция Химмельблау:\n",
            "x: 2.8502514365315736, y: 1.9285717477036575, E: 1.082956142511981\n"
          ]
        }
      ]
    },
    {
      "cell_type": "markdown",
      "source": [
        "##Часть 2\n",
        "Проведем оптимизацию градиентного спуска на датасете"
      ],
      "metadata": {
        "id": "_EOewlRkDXRX"
      }
    },
    {
      "cell_type": "code",
      "source": [
        "def objective(trial):\n",
        "    BC = sklearn.datasets.load_diabetes()\n",
        "    classes = list(set(BC.target))\n",
        "    train_x, valid_x, train_y, valid_y = sklearn.model_selection.train_test_split(\n",
        "        BC.data, BC.target, test_size=0.25, random_state=0)\n",
        "    alpha = trial.suggest_float(\"alpha\", 1e-5, 1e-1, log=True)\n",
        "    clf = sklearn.linear_model.SGDClassifier(alpha=alpha)\n",
        "    for step in range(100):\n",
        "        clf.partial_fit(train_x, train_y, classes=classes)\n",
        "        intermediate_value = 1.0 - clf.score(valid_x, valid_y)\n",
        "        trial.report(intermediate_value, step)\n",
        "        if trial.should_prune():\n",
        "            raise optuna.TrialPruned()\n",
        "    return 1.0 - clf.score(valid_x, valid_y)"
      ],
      "metadata": {
        "id": "pzzr01kdDeT2"
      },
      "execution_count": 47,
      "outputs": []
    },
    {
      "cell_type": "code",
      "source": [
        "optuna.logging.get_logger(\"optuna\").addHandler(logging.StreamHandler(sys.stdout))\n",
        "study = optuna.create_study(pruner=optuna.pruners.MedianPruner())\n",
        "study.optimize(objective, n_trials=20)"
      ],
      "metadata": {
        "colab": {
          "base_uri": "https://localhost:8080/"
        },
        "id": "e1MSA40MFPVr",
        "outputId": "3c15f745-a803-4853-9839-8a003cd2985e"
      },
      "execution_count": 48,
      "outputs": [
        {
          "output_type": "stream",
          "name": "stderr",
          "text": [
            "\u001b[32m[I 2022-12-26 15:31:10,582]\u001b[0m A new study created in memory with name: no-name-aab02432-2c0f-474a-9f60-ac7913171122\u001b[0m\n"
          ]
        },
        {
          "output_type": "stream",
          "name": "stdout",
          "text": [
            "A new study created in memory with name: no-name-aab02432-2c0f-474a-9f60-ac7913171122\n",
            "A new study created in memory with name: no-name-aab02432-2c0f-474a-9f60-ac7913171122\n",
            "A new study created in memory with name: no-name-aab02432-2c0f-474a-9f60-ac7913171122\n",
            "A new study created in memory with name: no-name-aab02432-2c0f-474a-9f60-ac7913171122\n",
            "A new study created in memory with name: no-name-aab02432-2c0f-474a-9f60-ac7913171122\n",
            "A new study created in memory with name: no-name-aab02432-2c0f-474a-9f60-ac7913171122\n",
            "A new study created in memory with name: no-name-aab02432-2c0f-474a-9f60-ac7913171122\n",
            "A new study created in memory with name: no-name-aab02432-2c0f-474a-9f60-ac7913171122\n",
            "A new study created in memory with name: no-name-aab02432-2c0f-474a-9f60-ac7913171122\n",
            "A new study created in memory with name: no-name-aab02432-2c0f-474a-9f60-ac7913171122\n",
            "A new study created in memory with name: no-name-aab02432-2c0f-474a-9f60-ac7913171122\n",
            "A new study created in memory with name: no-name-aab02432-2c0f-474a-9f60-ac7913171122\n",
            "A new study created in memory with name: no-name-aab02432-2c0f-474a-9f60-ac7913171122\n",
            "A new study created in memory with name: no-name-aab02432-2c0f-474a-9f60-ac7913171122\n",
            "A new study created in memory with name: no-name-aab02432-2c0f-474a-9f60-ac7913171122\n",
            "A new study created in memory with name: no-name-aab02432-2c0f-474a-9f60-ac7913171122\n"
          ]
        },
        {
          "output_type": "stream",
          "name": "stderr",
          "text": [
            "\u001b[32m[I 2022-12-26 15:31:19,187]\u001b[0m Trial 0 finished with value: 1.0 and parameters: {'alpha': 0.00015149113264500117}. Best is trial 0 with value: 1.0.\u001b[0m\n"
          ]
        },
        {
          "output_type": "stream",
          "name": "stdout",
          "text": [
            "Trial 0 finished with value: 1.0 and parameters: {'alpha': 0.00015149113264500117}. Best is trial 0 with value: 1.0.\n",
            "Trial 0 finished with value: 1.0 and parameters: {'alpha': 0.00015149113264500117}. Best is trial 0 with value: 1.0.\n",
            "Trial 0 finished with value: 1.0 and parameters: {'alpha': 0.00015149113264500117}. Best is trial 0 with value: 1.0.\n",
            "Trial 0 finished with value: 1.0 and parameters: {'alpha': 0.00015149113264500117}. Best is trial 0 with value: 1.0.\n",
            "Trial 0 finished with value: 1.0 and parameters: {'alpha': 0.00015149113264500117}. Best is trial 0 with value: 1.0.\n",
            "Trial 0 finished with value: 1.0 and parameters: {'alpha': 0.00015149113264500117}. Best is trial 0 with value: 1.0.\n",
            "Trial 0 finished with value: 1.0 and parameters: {'alpha': 0.00015149113264500117}. Best is trial 0 with value: 1.0.\n",
            "Trial 0 finished with value: 1.0 and parameters: {'alpha': 0.00015149113264500117}. Best is trial 0 with value: 1.0.\n",
            "Trial 0 finished with value: 1.0 and parameters: {'alpha': 0.00015149113264500117}. Best is trial 0 with value: 1.0.\n",
            "Trial 0 finished with value: 1.0 and parameters: {'alpha': 0.00015149113264500117}. Best is trial 0 with value: 1.0.\n",
            "Trial 0 finished with value: 1.0 and parameters: {'alpha': 0.00015149113264500117}. Best is trial 0 with value: 1.0.\n",
            "Trial 0 finished with value: 1.0 and parameters: {'alpha': 0.00015149113264500117}. Best is trial 0 with value: 1.0.\n",
            "Trial 0 finished with value: 1.0 and parameters: {'alpha': 0.00015149113264500117}. Best is trial 0 with value: 1.0.\n",
            "Trial 0 finished with value: 1.0 and parameters: {'alpha': 0.00015149113264500117}. Best is trial 0 with value: 1.0.\n",
            "Trial 0 finished with value: 1.0 and parameters: {'alpha': 0.00015149113264500117}. Best is trial 0 with value: 1.0.\n",
            "Trial 0 finished with value: 1.0 and parameters: {'alpha': 0.00015149113264500117}. Best is trial 0 with value: 1.0.\n"
          ]
        },
        {
          "output_type": "stream",
          "name": "stderr",
          "text": [
            "\u001b[32m[I 2022-12-26 15:31:27,539]\u001b[0m Trial 1 finished with value: 0.990990990990991 and parameters: {'alpha': 0.019454539221095118}. Best is trial 1 with value: 0.990990990990991.\u001b[0m\n"
          ]
        },
        {
          "output_type": "stream",
          "name": "stdout",
          "text": [
            "Trial 1 finished with value: 0.990990990990991 and parameters: {'alpha': 0.019454539221095118}. Best is trial 1 with value: 0.990990990990991.\n",
            "Trial 1 finished with value: 0.990990990990991 and parameters: {'alpha': 0.019454539221095118}. Best is trial 1 with value: 0.990990990990991.\n",
            "Trial 1 finished with value: 0.990990990990991 and parameters: {'alpha': 0.019454539221095118}. Best is trial 1 with value: 0.990990990990991.\n",
            "Trial 1 finished with value: 0.990990990990991 and parameters: {'alpha': 0.019454539221095118}. Best is trial 1 with value: 0.990990990990991.\n",
            "Trial 1 finished with value: 0.990990990990991 and parameters: {'alpha': 0.019454539221095118}. Best is trial 1 with value: 0.990990990990991.\n",
            "Trial 1 finished with value: 0.990990990990991 and parameters: {'alpha': 0.019454539221095118}. Best is trial 1 with value: 0.990990990990991.\n",
            "Trial 1 finished with value: 0.990990990990991 and parameters: {'alpha': 0.019454539221095118}. Best is trial 1 with value: 0.990990990990991.\n",
            "Trial 1 finished with value: 0.990990990990991 and parameters: {'alpha': 0.019454539221095118}. Best is trial 1 with value: 0.990990990990991.\n",
            "Trial 1 finished with value: 0.990990990990991 and parameters: {'alpha': 0.019454539221095118}. Best is trial 1 with value: 0.990990990990991.\n",
            "Trial 1 finished with value: 0.990990990990991 and parameters: {'alpha': 0.019454539221095118}. Best is trial 1 with value: 0.990990990990991.\n",
            "Trial 1 finished with value: 0.990990990990991 and parameters: {'alpha': 0.019454539221095118}. Best is trial 1 with value: 0.990990990990991.\n",
            "Trial 1 finished with value: 0.990990990990991 and parameters: {'alpha': 0.019454539221095118}. Best is trial 1 with value: 0.990990990990991.\n",
            "Trial 1 finished with value: 0.990990990990991 and parameters: {'alpha': 0.019454539221095118}. Best is trial 1 with value: 0.990990990990991.\n",
            "Trial 1 finished with value: 0.990990990990991 and parameters: {'alpha': 0.019454539221095118}. Best is trial 1 with value: 0.990990990990991.\n",
            "Trial 1 finished with value: 0.990990990990991 and parameters: {'alpha': 0.019454539221095118}. Best is trial 1 with value: 0.990990990990991.\n",
            "Trial 1 finished with value: 0.990990990990991 and parameters: {'alpha': 0.019454539221095118}. Best is trial 1 with value: 0.990990990990991.\n"
          ]
        },
        {
          "output_type": "stream",
          "name": "stderr",
          "text": [
            "\u001b[32m[I 2022-12-26 15:31:35,926]\u001b[0m Trial 2 finished with value: 1.0 and parameters: {'alpha': 0.007508476359914243}. Best is trial 1 with value: 0.990990990990991.\u001b[0m\n"
          ]
        },
        {
          "output_type": "stream",
          "name": "stdout",
          "text": [
            "Trial 2 finished with value: 1.0 and parameters: {'alpha': 0.007508476359914243}. Best is trial 1 with value: 0.990990990990991.\n",
            "Trial 2 finished with value: 1.0 and parameters: {'alpha': 0.007508476359914243}. Best is trial 1 with value: 0.990990990990991.\n",
            "Trial 2 finished with value: 1.0 and parameters: {'alpha': 0.007508476359914243}. Best is trial 1 with value: 0.990990990990991.\n",
            "Trial 2 finished with value: 1.0 and parameters: {'alpha': 0.007508476359914243}. Best is trial 1 with value: 0.990990990990991.\n",
            "Trial 2 finished with value: 1.0 and parameters: {'alpha': 0.007508476359914243}. Best is trial 1 with value: 0.990990990990991.\n",
            "Trial 2 finished with value: 1.0 and parameters: {'alpha': 0.007508476359914243}. Best is trial 1 with value: 0.990990990990991.\n",
            "Trial 2 finished with value: 1.0 and parameters: {'alpha': 0.007508476359914243}. Best is trial 1 with value: 0.990990990990991.\n",
            "Trial 2 finished with value: 1.0 and parameters: {'alpha': 0.007508476359914243}. Best is trial 1 with value: 0.990990990990991.\n",
            "Trial 2 finished with value: 1.0 and parameters: {'alpha': 0.007508476359914243}. Best is trial 1 with value: 0.990990990990991.\n",
            "Trial 2 finished with value: 1.0 and parameters: {'alpha': 0.007508476359914243}. Best is trial 1 with value: 0.990990990990991.\n",
            "Trial 2 finished with value: 1.0 and parameters: {'alpha': 0.007508476359914243}. Best is trial 1 with value: 0.990990990990991.\n",
            "Trial 2 finished with value: 1.0 and parameters: {'alpha': 0.007508476359914243}. Best is trial 1 with value: 0.990990990990991.\n",
            "Trial 2 finished with value: 1.0 and parameters: {'alpha': 0.007508476359914243}. Best is trial 1 with value: 0.990990990990991.\n",
            "Trial 2 finished with value: 1.0 and parameters: {'alpha': 0.007508476359914243}. Best is trial 1 with value: 0.990990990990991.\n",
            "Trial 2 finished with value: 1.0 and parameters: {'alpha': 0.007508476359914243}. Best is trial 1 with value: 0.990990990990991.\n",
            "Trial 2 finished with value: 1.0 and parameters: {'alpha': 0.007508476359914243}. Best is trial 1 with value: 0.990990990990991.\n"
          ]
        },
        {
          "output_type": "stream",
          "name": "stderr",
          "text": [
            "\u001b[32m[I 2022-12-26 15:31:44,292]\u001b[0m Trial 3 finished with value: 1.0 and parameters: {'alpha': 0.001361957736892893}. Best is trial 1 with value: 0.990990990990991.\u001b[0m\n"
          ]
        },
        {
          "output_type": "stream",
          "name": "stdout",
          "text": [
            "Trial 3 finished with value: 1.0 and parameters: {'alpha': 0.001361957736892893}. Best is trial 1 with value: 0.990990990990991.\n",
            "Trial 3 finished with value: 1.0 and parameters: {'alpha': 0.001361957736892893}. Best is trial 1 with value: 0.990990990990991.\n",
            "Trial 3 finished with value: 1.0 and parameters: {'alpha': 0.001361957736892893}. Best is trial 1 with value: 0.990990990990991.\n",
            "Trial 3 finished with value: 1.0 and parameters: {'alpha': 0.001361957736892893}. Best is trial 1 with value: 0.990990990990991.\n",
            "Trial 3 finished with value: 1.0 and parameters: {'alpha': 0.001361957736892893}. Best is trial 1 with value: 0.990990990990991.\n",
            "Trial 3 finished with value: 1.0 and parameters: {'alpha': 0.001361957736892893}. Best is trial 1 with value: 0.990990990990991.\n",
            "Trial 3 finished with value: 1.0 and parameters: {'alpha': 0.001361957736892893}. Best is trial 1 with value: 0.990990990990991.\n",
            "Trial 3 finished with value: 1.0 and parameters: {'alpha': 0.001361957736892893}. Best is trial 1 with value: 0.990990990990991.\n",
            "Trial 3 finished with value: 1.0 and parameters: {'alpha': 0.001361957736892893}. Best is trial 1 with value: 0.990990990990991.\n",
            "Trial 3 finished with value: 1.0 and parameters: {'alpha': 0.001361957736892893}. Best is trial 1 with value: 0.990990990990991.\n",
            "Trial 3 finished with value: 1.0 and parameters: {'alpha': 0.001361957736892893}. Best is trial 1 with value: 0.990990990990991.\n",
            "Trial 3 finished with value: 1.0 and parameters: {'alpha': 0.001361957736892893}. Best is trial 1 with value: 0.990990990990991.\n",
            "Trial 3 finished with value: 1.0 and parameters: {'alpha': 0.001361957736892893}. Best is trial 1 with value: 0.990990990990991.\n",
            "Trial 3 finished with value: 1.0 and parameters: {'alpha': 0.001361957736892893}. Best is trial 1 with value: 0.990990990990991.\n",
            "Trial 3 finished with value: 1.0 and parameters: {'alpha': 0.001361957736892893}. Best is trial 1 with value: 0.990990990990991.\n",
            "Trial 3 finished with value: 1.0 and parameters: {'alpha': 0.001361957736892893}. Best is trial 1 with value: 0.990990990990991.\n"
          ]
        },
        {
          "output_type": "stream",
          "name": "stderr",
          "text": [
            "\u001b[32m[I 2022-12-26 15:31:53,954]\u001b[0m Trial 4 finished with value: 1.0 and parameters: {'alpha': 0.04075514388585923}. Best is trial 1 with value: 0.990990990990991.\u001b[0m\n"
          ]
        },
        {
          "output_type": "stream",
          "name": "stdout",
          "text": [
            "Trial 4 finished with value: 1.0 and parameters: {'alpha': 0.04075514388585923}. Best is trial 1 with value: 0.990990990990991.\n",
            "Trial 4 finished with value: 1.0 and parameters: {'alpha': 0.04075514388585923}. Best is trial 1 with value: 0.990990990990991.\n",
            "Trial 4 finished with value: 1.0 and parameters: {'alpha': 0.04075514388585923}. Best is trial 1 with value: 0.990990990990991.\n",
            "Trial 4 finished with value: 1.0 and parameters: {'alpha': 0.04075514388585923}. Best is trial 1 with value: 0.990990990990991.\n",
            "Trial 4 finished with value: 1.0 and parameters: {'alpha': 0.04075514388585923}. Best is trial 1 with value: 0.990990990990991.\n",
            "Trial 4 finished with value: 1.0 and parameters: {'alpha': 0.04075514388585923}. Best is trial 1 with value: 0.990990990990991.\n",
            "Trial 4 finished with value: 1.0 and parameters: {'alpha': 0.04075514388585923}. Best is trial 1 with value: 0.990990990990991.\n",
            "Trial 4 finished with value: 1.0 and parameters: {'alpha': 0.04075514388585923}. Best is trial 1 with value: 0.990990990990991.\n",
            "Trial 4 finished with value: 1.0 and parameters: {'alpha': 0.04075514388585923}. Best is trial 1 with value: 0.990990990990991.\n",
            "Trial 4 finished with value: 1.0 and parameters: {'alpha': 0.04075514388585923}. Best is trial 1 with value: 0.990990990990991.\n",
            "Trial 4 finished with value: 1.0 and parameters: {'alpha': 0.04075514388585923}. Best is trial 1 with value: 0.990990990990991.\n",
            "Trial 4 finished with value: 1.0 and parameters: {'alpha': 0.04075514388585923}. Best is trial 1 with value: 0.990990990990991.\n",
            "Trial 4 finished with value: 1.0 and parameters: {'alpha': 0.04075514388585923}. Best is trial 1 with value: 0.990990990990991.\n",
            "Trial 4 finished with value: 1.0 and parameters: {'alpha': 0.04075514388585923}. Best is trial 1 with value: 0.990990990990991.\n",
            "Trial 4 finished with value: 1.0 and parameters: {'alpha': 0.04075514388585923}. Best is trial 1 with value: 0.990990990990991.\n",
            "Trial 4 finished with value: 1.0 and parameters: {'alpha': 0.04075514388585923}. Best is trial 1 with value: 0.990990990990991.\n"
          ]
        },
        {
          "output_type": "stream",
          "name": "stderr",
          "text": [
            "\u001b[32m[I 2022-12-26 15:32:02,269]\u001b[0m Trial 5 finished with value: 0.990990990990991 and parameters: {'alpha': 0.0043738195964448294}. Best is trial 1 with value: 0.990990990990991.\u001b[0m\n"
          ]
        },
        {
          "output_type": "stream",
          "name": "stdout",
          "text": [
            "Trial 5 finished with value: 0.990990990990991 and parameters: {'alpha': 0.0043738195964448294}. Best is trial 1 with value: 0.990990990990991.\n",
            "Trial 5 finished with value: 0.990990990990991 and parameters: {'alpha': 0.0043738195964448294}. Best is trial 1 with value: 0.990990990990991.\n",
            "Trial 5 finished with value: 0.990990990990991 and parameters: {'alpha': 0.0043738195964448294}. Best is trial 1 with value: 0.990990990990991.\n",
            "Trial 5 finished with value: 0.990990990990991 and parameters: {'alpha': 0.0043738195964448294}. Best is trial 1 with value: 0.990990990990991.\n",
            "Trial 5 finished with value: 0.990990990990991 and parameters: {'alpha': 0.0043738195964448294}. Best is trial 1 with value: 0.990990990990991.\n",
            "Trial 5 finished with value: 0.990990990990991 and parameters: {'alpha': 0.0043738195964448294}. Best is trial 1 with value: 0.990990990990991.\n",
            "Trial 5 finished with value: 0.990990990990991 and parameters: {'alpha': 0.0043738195964448294}. Best is trial 1 with value: 0.990990990990991.\n",
            "Trial 5 finished with value: 0.990990990990991 and parameters: {'alpha': 0.0043738195964448294}. Best is trial 1 with value: 0.990990990990991.\n",
            "Trial 5 finished with value: 0.990990990990991 and parameters: {'alpha': 0.0043738195964448294}. Best is trial 1 with value: 0.990990990990991.\n",
            "Trial 5 finished with value: 0.990990990990991 and parameters: {'alpha': 0.0043738195964448294}. Best is trial 1 with value: 0.990990990990991.\n",
            "Trial 5 finished with value: 0.990990990990991 and parameters: {'alpha': 0.0043738195964448294}. Best is trial 1 with value: 0.990990990990991.\n",
            "Trial 5 finished with value: 0.990990990990991 and parameters: {'alpha': 0.0043738195964448294}. Best is trial 1 with value: 0.990990990990991.\n",
            "Trial 5 finished with value: 0.990990990990991 and parameters: {'alpha': 0.0043738195964448294}. Best is trial 1 with value: 0.990990990990991.\n",
            "Trial 5 finished with value: 0.990990990990991 and parameters: {'alpha': 0.0043738195964448294}. Best is trial 1 with value: 0.990990990990991.\n",
            "Trial 5 finished with value: 0.990990990990991 and parameters: {'alpha': 0.0043738195964448294}. Best is trial 1 with value: 0.990990990990991.\n",
            "Trial 5 finished with value: 0.990990990990991 and parameters: {'alpha': 0.0043738195964448294}. Best is trial 1 with value: 0.990990990990991.\n"
          ]
        },
        {
          "output_type": "stream",
          "name": "stderr",
          "text": [
            "\u001b[32m[I 2022-12-26 15:32:10,618]\u001b[0m Trial 6 finished with value: 0.990990990990991 and parameters: {'alpha': 0.031022557492135033}. Best is trial 1 with value: 0.990990990990991.\u001b[0m\n"
          ]
        },
        {
          "output_type": "stream",
          "name": "stdout",
          "text": [
            "Trial 6 finished with value: 0.990990990990991 and parameters: {'alpha': 0.031022557492135033}. Best is trial 1 with value: 0.990990990990991.\n",
            "Trial 6 finished with value: 0.990990990990991 and parameters: {'alpha': 0.031022557492135033}. Best is trial 1 with value: 0.990990990990991.\n",
            "Trial 6 finished with value: 0.990990990990991 and parameters: {'alpha': 0.031022557492135033}. Best is trial 1 with value: 0.990990990990991.\n",
            "Trial 6 finished with value: 0.990990990990991 and parameters: {'alpha': 0.031022557492135033}. Best is trial 1 with value: 0.990990990990991.\n",
            "Trial 6 finished with value: 0.990990990990991 and parameters: {'alpha': 0.031022557492135033}. Best is trial 1 with value: 0.990990990990991.\n",
            "Trial 6 finished with value: 0.990990990990991 and parameters: {'alpha': 0.031022557492135033}. Best is trial 1 with value: 0.990990990990991.\n",
            "Trial 6 finished with value: 0.990990990990991 and parameters: {'alpha': 0.031022557492135033}. Best is trial 1 with value: 0.990990990990991.\n",
            "Trial 6 finished with value: 0.990990990990991 and parameters: {'alpha': 0.031022557492135033}. Best is trial 1 with value: 0.990990990990991.\n",
            "Trial 6 finished with value: 0.990990990990991 and parameters: {'alpha': 0.031022557492135033}. Best is trial 1 with value: 0.990990990990991.\n",
            "Trial 6 finished with value: 0.990990990990991 and parameters: {'alpha': 0.031022557492135033}. Best is trial 1 with value: 0.990990990990991.\n",
            "Trial 6 finished with value: 0.990990990990991 and parameters: {'alpha': 0.031022557492135033}. Best is trial 1 with value: 0.990990990990991.\n",
            "Trial 6 finished with value: 0.990990990990991 and parameters: {'alpha': 0.031022557492135033}. Best is trial 1 with value: 0.990990990990991.\n",
            "Trial 6 finished with value: 0.990990990990991 and parameters: {'alpha': 0.031022557492135033}. Best is trial 1 with value: 0.990990990990991.\n",
            "Trial 6 finished with value: 0.990990990990991 and parameters: {'alpha': 0.031022557492135033}. Best is trial 1 with value: 0.990990990990991.\n",
            "Trial 6 finished with value: 0.990990990990991 and parameters: {'alpha': 0.031022557492135033}. Best is trial 1 with value: 0.990990990990991.\n",
            "Trial 6 finished with value: 0.990990990990991 and parameters: {'alpha': 0.031022557492135033}. Best is trial 1 with value: 0.990990990990991.\n"
          ]
        },
        {
          "output_type": "stream",
          "name": "stderr",
          "text": [
            "\u001b[32m[I 2022-12-26 15:32:19,945]\u001b[0m Trial 7 finished with value: 0.9819819819819819 and parameters: {'alpha': 0.0035791138290151557}. Best is trial 7 with value: 0.9819819819819819.\u001b[0m\n"
          ]
        },
        {
          "output_type": "stream",
          "name": "stdout",
          "text": [
            "Trial 7 finished with value: 0.9819819819819819 and parameters: {'alpha': 0.0035791138290151557}. Best is trial 7 with value: 0.9819819819819819.\n",
            "Trial 7 finished with value: 0.9819819819819819 and parameters: {'alpha': 0.0035791138290151557}. Best is trial 7 with value: 0.9819819819819819.\n",
            "Trial 7 finished with value: 0.9819819819819819 and parameters: {'alpha': 0.0035791138290151557}. Best is trial 7 with value: 0.9819819819819819.\n",
            "Trial 7 finished with value: 0.9819819819819819 and parameters: {'alpha': 0.0035791138290151557}. Best is trial 7 with value: 0.9819819819819819.\n",
            "Trial 7 finished with value: 0.9819819819819819 and parameters: {'alpha': 0.0035791138290151557}. Best is trial 7 with value: 0.9819819819819819.\n",
            "Trial 7 finished with value: 0.9819819819819819 and parameters: {'alpha': 0.0035791138290151557}. Best is trial 7 with value: 0.9819819819819819.\n",
            "Trial 7 finished with value: 0.9819819819819819 and parameters: {'alpha': 0.0035791138290151557}. Best is trial 7 with value: 0.9819819819819819.\n",
            "Trial 7 finished with value: 0.9819819819819819 and parameters: {'alpha': 0.0035791138290151557}. Best is trial 7 with value: 0.9819819819819819.\n",
            "Trial 7 finished with value: 0.9819819819819819 and parameters: {'alpha': 0.0035791138290151557}. Best is trial 7 with value: 0.9819819819819819.\n",
            "Trial 7 finished with value: 0.9819819819819819 and parameters: {'alpha': 0.0035791138290151557}. Best is trial 7 with value: 0.9819819819819819.\n",
            "Trial 7 finished with value: 0.9819819819819819 and parameters: {'alpha': 0.0035791138290151557}. Best is trial 7 with value: 0.9819819819819819.\n",
            "Trial 7 finished with value: 0.9819819819819819 and parameters: {'alpha': 0.0035791138290151557}. Best is trial 7 with value: 0.9819819819819819.\n",
            "Trial 7 finished with value: 0.9819819819819819 and parameters: {'alpha': 0.0035791138290151557}. Best is trial 7 with value: 0.9819819819819819.\n",
            "Trial 7 finished with value: 0.9819819819819819 and parameters: {'alpha': 0.0035791138290151557}. Best is trial 7 with value: 0.9819819819819819.\n",
            "Trial 7 finished with value: 0.9819819819819819 and parameters: {'alpha': 0.0035791138290151557}. Best is trial 7 with value: 0.9819819819819819.\n",
            "Trial 7 finished with value: 0.9819819819819819 and parameters: {'alpha': 0.0035791138290151557}. Best is trial 7 with value: 0.9819819819819819.\n"
          ]
        },
        {
          "output_type": "stream",
          "name": "stderr",
          "text": [
            "\u001b[32m[I 2022-12-26 15:32:28,277]\u001b[0m Trial 8 finished with value: 1.0 and parameters: {'alpha': 0.00011949066130860707}. Best is trial 7 with value: 0.9819819819819819.\u001b[0m\n"
          ]
        },
        {
          "output_type": "stream",
          "name": "stdout",
          "text": [
            "Trial 8 finished with value: 1.0 and parameters: {'alpha': 0.00011949066130860707}. Best is trial 7 with value: 0.9819819819819819.\n",
            "Trial 8 finished with value: 1.0 and parameters: {'alpha': 0.00011949066130860707}. Best is trial 7 with value: 0.9819819819819819.\n",
            "Trial 8 finished with value: 1.0 and parameters: {'alpha': 0.00011949066130860707}. Best is trial 7 with value: 0.9819819819819819.\n",
            "Trial 8 finished with value: 1.0 and parameters: {'alpha': 0.00011949066130860707}. Best is trial 7 with value: 0.9819819819819819.\n",
            "Trial 8 finished with value: 1.0 and parameters: {'alpha': 0.00011949066130860707}. Best is trial 7 with value: 0.9819819819819819.\n",
            "Trial 8 finished with value: 1.0 and parameters: {'alpha': 0.00011949066130860707}. Best is trial 7 with value: 0.9819819819819819.\n",
            "Trial 8 finished with value: 1.0 and parameters: {'alpha': 0.00011949066130860707}. Best is trial 7 with value: 0.9819819819819819.\n",
            "Trial 8 finished with value: 1.0 and parameters: {'alpha': 0.00011949066130860707}. Best is trial 7 with value: 0.9819819819819819.\n",
            "Trial 8 finished with value: 1.0 and parameters: {'alpha': 0.00011949066130860707}. Best is trial 7 with value: 0.9819819819819819.\n",
            "Trial 8 finished with value: 1.0 and parameters: {'alpha': 0.00011949066130860707}. Best is trial 7 with value: 0.9819819819819819.\n",
            "Trial 8 finished with value: 1.0 and parameters: {'alpha': 0.00011949066130860707}. Best is trial 7 with value: 0.9819819819819819.\n",
            "Trial 8 finished with value: 1.0 and parameters: {'alpha': 0.00011949066130860707}. Best is trial 7 with value: 0.9819819819819819.\n",
            "Trial 8 finished with value: 1.0 and parameters: {'alpha': 0.00011949066130860707}. Best is trial 7 with value: 0.9819819819819819.\n",
            "Trial 8 finished with value: 1.0 and parameters: {'alpha': 0.00011949066130860707}. Best is trial 7 with value: 0.9819819819819819.\n",
            "Trial 8 finished with value: 1.0 and parameters: {'alpha': 0.00011949066130860707}. Best is trial 7 with value: 0.9819819819819819.\n",
            "Trial 8 finished with value: 1.0 and parameters: {'alpha': 0.00011949066130860707}. Best is trial 7 with value: 0.9819819819819819.\n"
          ]
        },
        {
          "output_type": "stream",
          "name": "stderr",
          "text": [
            "\u001b[32m[I 2022-12-26 15:32:28,512]\u001b[0m Trial 9 pruned. \u001b[0m\n"
          ]
        },
        {
          "output_type": "stream",
          "name": "stdout",
          "text": [
            "Trial 9 pruned. \n",
            "Trial 9 pruned. \n",
            "Trial 9 pruned. \n",
            "Trial 9 pruned. \n",
            "Trial 9 pruned. \n",
            "Trial 9 pruned. \n",
            "Trial 9 pruned. \n",
            "Trial 9 pruned. \n",
            "Trial 9 pruned. \n",
            "Trial 9 pruned. \n",
            "Trial 9 pruned. \n",
            "Trial 9 pruned. \n",
            "Trial 9 pruned. \n",
            "Trial 9 pruned. \n",
            "Trial 9 pruned. \n",
            "Trial 9 pruned. \n"
          ]
        },
        {
          "output_type": "stream",
          "name": "stderr",
          "text": [
            "\u001b[32m[I 2022-12-26 15:32:37,012]\u001b[0m Trial 10 finished with value: 1.0 and parameters: {'alpha': 1.2828274465424912e-05}. Best is trial 7 with value: 0.9819819819819819.\u001b[0m\n"
          ]
        },
        {
          "output_type": "stream",
          "name": "stdout",
          "text": [
            "Trial 10 finished with value: 1.0 and parameters: {'alpha': 1.2828274465424912e-05}. Best is trial 7 with value: 0.9819819819819819.\n",
            "Trial 10 finished with value: 1.0 and parameters: {'alpha': 1.2828274465424912e-05}. Best is trial 7 with value: 0.9819819819819819.\n",
            "Trial 10 finished with value: 1.0 and parameters: {'alpha': 1.2828274465424912e-05}. Best is trial 7 with value: 0.9819819819819819.\n",
            "Trial 10 finished with value: 1.0 and parameters: {'alpha': 1.2828274465424912e-05}. Best is trial 7 with value: 0.9819819819819819.\n",
            "Trial 10 finished with value: 1.0 and parameters: {'alpha': 1.2828274465424912e-05}. Best is trial 7 with value: 0.9819819819819819.\n",
            "Trial 10 finished with value: 1.0 and parameters: {'alpha': 1.2828274465424912e-05}. Best is trial 7 with value: 0.9819819819819819.\n",
            "Trial 10 finished with value: 1.0 and parameters: {'alpha': 1.2828274465424912e-05}. Best is trial 7 with value: 0.9819819819819819.\n",
            "Trial 10 finished with value: 1.0 and parameters: {'alpha': 1.2828274465424912e-05}. Best is trial 7 with value: 0.9819819819819819.\n",
            "Trial 10 finished with value: 1.0 and parameters: {'alpha': 1.2828274465424912e-05}. Best is trial 7 with value: 0.9819819819819819.\n",
            "Trial 10 finished with value: 1.0 and parameters: {'alpha': 1.2828274465424912e-05}. Best is trial 7 with value: 0.9819819819819819.\n",
            "Trial 10 finished with value: 1.0 and parameters: {'alpha': 1.2828274465424912e-05}. Best is trial 7 with value: 0.9819819819819819.\n",
            "Trial 10 finished with value: 1.0 and parameters: {'alpha': 1.2828274465424912e-05}. Best is trial 7 with value: 0.9819819819819819.\n",
            "Trial 10 finished with value: 1.0 and parameters: {'alpha': 1.2828274465424912e-05}. Best is trial 7 with value: 0.9819819819819819.\n",
            "Trial 10 finished with value: 1.0 and parameters: {'alpha': 1.2828274465424912e-05}. Best is trial 7 with value: 0.9819819819819819.\n",
            "Trial 10 finished with value: 1.0 and parameters: {'alpha': 1.2828274465424912e-05}. Best is trial 7 with value: 0.9819819819819819.\n",
            "Trial 10 finished with value: 1.0 and parameters: {'alpha': 1.2828274465424912e-05}. Best is trial 7 with value: 0.9819819819819819.\n"
          ]
        },
        {
          "output_type": "stream",
          "name": "stderr",
          "text": [
            "\u001b[32m[I 2022-12-26 15:32:45,380]\u001b[0m Trial 11 finished with value: 1.0 and parameters: {'alpha': 0.00996350871396744}. Best is trial 7 with value: 0.9819819819819819.\u001b[0m\n"
          ]
        },
        {
          "output_type": "stream",
          "name": "stdout",
          "text": [
            "Trial 11 finished with value: 1.0 and parameters: {'alpha': 0.00996350871396744}. Best is trial 7 with value: 0.9819819819819819.\n",
            "Trial 11 finished with value: 1.0 and parameters: {'alpha': 0.00996350871396744}. Best is trial 7 with value: 0.9819819819819819.\n",
            "Trial 11 finished with value: 1.0 and parameters: {'alpha': 0.00996350871396744}. Best is trial 7 with value: 0.9819819819819819.\n",
            "Trial 11 finished with value: 1.0 and parameters: {'alpha': 0.00996350871396744}. Best is trial 7 with value: 0.9819819819819819.\n",
            "Trial 11 finished with value: 1.0 and parameters: {'alpha': 0.00996350871396744}. Best is trial 7 with value: 0.9819819819819819.\n",
            "Trial 11 finished with value: 1.0 and parameters: {'alpha': 0.00996350871396744}. Best is trial 7 with value: 0.9819819819819819.\n",
            "Trial 11 finished with value: 1.0 and parameters: {'alpha': 0.00996350871396744}. Best is trial 7 with value: 0.9819819819819819.\n",
            "Trial 11 finished with value: 1.0 and parameters: {'alpha': 0.00996350871396744}. Best is trial 7 with value: 0.9819819819819819.\n",
            "Trial 11 finished with value: 1.0 and parameters: {'alpha': 0.00996350871396744}. Best is trial 7 with value: 0.9819819819819819.\n",
            "Trial 11 finished with value: 1.0 and parameters: {'alpha': 0.00996350871396744}. Best is trial 7 with value: 0.9819819819819819.\n",
            "Trial 11 finished with value: 1.0 and parameters: {'alpha': 0.00996350871396744}. Best is trial 7 with value: 0.9819819819819819.\n",
            "Trial 11 finished with value: 1.0 and parameters: {'alpha': 0.00996350871396744}. Best is trial 7 with value: 0.9819819819819819.\n",
            "Trial 11 finished with value: 1.0 and parameters: {'alpha': 0.00996350871396744}. Best is trial 7 with value: 0.9819819819819819.\n",
            "Trial 11 finished with value: 1.0 and parameters: {'alpha': 0.00996350871396744}. Best is trial 7 with value: 0.9819819819819819.\n",
            "Trial 11 finished with value: 1.0 and parameters: {'alpha': 0.00996350871396744}. Best is trial 7 with value: 0.9819819819819819.\n",
            "Trial 11 finished with value: 1.0 and parameters: {'alpha': 0.00996350871396744}. Best is trial 7 with value: 0.9819819819819819.\n"
          ]
        },
        {
          "output_type": "stream",
          "name": "stderr",
          "text": [
            "\u001b[32m[I 2022-12-26 15:32:45,628]\u001b[0m Trial 12 pruned. \u001b[0m\n"
          ]
        },
        {
          "output_type": "stream",
          "name": "stdout",
          "text": [
            "Trial 12 pruned. \n",
            "Trial 12 pruned. \n",
            "Trial 12 pruned. \n",
            "Trial 12 pruned. \n",
            "Trial 12 pruned. \n",
            "Trial 12 pruned. \n",
            "Trial 12 pruned. \n",
            "Trial 12 pruned. \n",
            "Trial 12 pruned. \n",
            "Trial 12 pruned. \n",
            "Trial 12 pruned. \n",
            "Trial 12 pruned. \n",
            "Trial 12 pruned. \n",
            "Trial 12 pruned. \n",
            "Trial 12 pruned. \n",
            "Trial 12 pruned. \n"
          ]
        },
        {
          "output_type": "stream",
          "name": "stderr",
          "text": [
            "\u001b[32m[I 2022-12-26 15:32:53,985]\u001b[0m Trial 13 finished with value: 1.0 and parameters: {'alpha': 0.001894791497271026}. Best is trial 7 with value: 0.9819819819819819.\u001b[0m\n"
          ]
        },
        {
          "output_type": "stream",
          "name": "stdout",
          "text": [
            "Trial 13 finished with value: 1.0 and parameters: {'alpha': 0.001894791497271026}. Best is trial 7 with value: 0.9819819819819819.\n",
            "Trial 13 finished with value: 1.0 and parameters: {'alpha': 0.001894791497271026}. Best is trial 7 with value: 0.9819819819819819.\n",
            "Trial 13 finished with value: 1.0 and parameters: {'alpha': 0.001894791497271026}. Best is trial 7 with value: 0.9819819819819819.\n",
            "Trial 13 finished with value: 1.0 and parameters: {'alpha': 0.001894791497271026}. Best is trial 7 with value: 0.9819819819819819.\n",
            "Trial 13 finished with value: 1.0 and parameters: {'alpha': 0.001894791497271026}. Best is trial 7 with value: 0.9819819819819819.\n",
            "Trial 13 finished with value: 1.0 and parameters: {'alpha': 0.001894791497271026}. Best is trial 7 with value: 0.9819819819819819.\n",
            "Trial 13 finished with value: 1.0 and parameters: {'alpha': 0.001894791497271026}. Best is trial 7 with value: 0.9819819819819819.\n",
            "Trial 13 finished with value: 1.0 and parameters: {'alpha': 0.001894791497271026}. Best is trial 7 with value: 0.9819819819819819.\n",
            "Trial 13 finished with value: 1.0 and parameters: {'alpha': 0.001894791497271026}. Best is trial 7 with value: 0.9819819819819819.\n",
            "Trial 13 finished with value: 1.0 and parameters: {'alpha': 0.001894791497271026}. Best is trial 7 with value: 0.9819819819819819.\n",
            "Trial 13 finished with value: 1.0 and parameters: {'alpha': 0.001894791497271026}. Best is trial 7 with value: 0.9819819819819819.\n",
            "Trial 13 finished with value: 1.0 and parameters: {'alpha': 0.001894791497271026}. Best is trial 7 with value: 0.9819819819819819.\n",
            "Trial 13 finished with value: 1.0 and parameters: {'alpha': 0.001894791497271026}. Best is trial 7 with value: 0.9819819819819819.\n",
            "Trial 13 finished with value: 1.0 and parameters: {'alpha': 0.001894791497271026}. Best is trial 7 with value: 0.9819819819819819.\n",
            "Trial 13 finished with value: 1.0 and parameters: {'alpha': 0.001894791497271026}. Best is trial 7 with value: 0.9819819819819819.\n",
            "Trial 13 finished with value: 1.0 and parameters: {'alpha': 0.001894791497271026}. Best is trial 7 with value: 0.9819819819819819.\n"
          ]
        },
        {
          "output_type": "stream",
          "name": "stderr",
          "text": [
            "\u001b[32m[I 2022-12-26 15:33:02,367]\u001b[0m Trial 14 finished with value: 1.0 and parameters: {'alpha': 0.01639112100063387}. Best is trial 7 with value: 0.9819819819819819.\u001b[0m\n"
          ]
        },
        {
          "output_type": "stream",
          "name": "stdout",
          "text": [
            "Trial 14 finished with value: 1.0 and parameters: {'alpha': 0.01639112100063387}. Best is trial 7 with value: 0.9819819819819819.\n",
            "Trial 14 finished with value: 1.0 and parameters: {'alpha': 0.01639112100063387}. Best is trial 7 with value: 0.9819819819819819.\n",
            "Trial 14 finished with value: 1.0 and parameters: {'alpha': 0.01639112100063387}. Best is trial 7 with value: 0.9819819819819819.\n",
            "Trial 14 finished with value: 1.0 and parameters: {'alpha': 0.01639112100063387}. Best is trial 7 with value: 0.9819819819819819.\n",
            "Trial 14 finished with value: 1.0 and parameters: {'alpha': 0.01639112100063387}. Best is trial 7 with value: 0.9819819819819819.\n",
            "Trial 14 finished with value: 1.0 and parameters: {'alpha': 0.01639112100063387}. Best is trial 7 with value: 0.9819819819819819.\n",
            "Trial 14 finished with value: 1.0 and parameters: {'alpha': 0.01639112100063387}. Best is trial 7 with value: 0.9819819819819819.\n",
            "Trial 14 finished with value: 1.0 and parameters: {'alpha': 0.01639112100063387}. Best is trial 7 with value: 0.9819819819819819.\n",
            "Trial 14 finished with value: 1.0 and parameters: {'alpha': 0.01639112100063387}. Best is trial 7 with value: 0.9819819819819819.\n",
            "Trial 14 finished with value: 1.0 and parameters: {'alpha': 0.01639112100063387}. Best is trial 7 with value: 0.9819819819819819.\n",
            "Trial 14 finished with value: 1.0 and parameters: {'alpha': 0.01639112100063387}. Best is trial 7 with value: 0.9819819819819819.\n",
            "Trial 14 finished with value: 1.0 and parameters: {'alpha': 0.01639112100063387}. Best is trial 7 with value: 0.9819819819819819.\n",
            "Trial 14 finished with value: 1.0 and parameters: {'alpha': 0.01639112100063387}. Best is trial 7 with value: 0.9819819819819819.\n",
            "Trial 14 finished with value: 1.0 and parameters: {'alpha': 0.01639112100063387}. Best is trial 7 with value: 0.9819819819819819.\n",
            "Trial 14 finished with value: 1.0 and parameters: {'alpha': 0.01639112100063387}. Best is trial 7 with value: 0.9819819819819819.\n",
            "Trial 14 finished with value: 1.0 and parameters: {'alpha': 0.01639112100063387}. Best is trial 7 with value: 0.9819819819819819.\n"
          ]
        },
        {
          "output_type": "stream",
          "name": "stderr",
          "text": [
            "\u001b[32m[I 2022-12-26 15:33:10,768]\u001b[0m Trial 15 finished with value: 1.0 and parameters: {'alpha': 0.0892696735814812}. Best is trial 7 with value: 0.9819819819819819.\u001b[0m\n"
          ]
        },
        {
          "output_type": "stream",
          "name": "stdout",
          "text": [
            "Trial 15 finished with value: 1.0 and parameters: {'alpha': 0.0892696735814812}. Best is trial 7 with value: 0.9819819819819819.\n",
            "Trial 15 finished with value: 1.0 and parameters: {'alpha': 0.0892696735814812}. Best is trial 7 with value: 0.9819819819819819.\n",
            "Trial 15 finished with value: 1.0 and parameters: {'alpha': 0.0892696735814812}. Best is trial 7 with value: 0.9819819819819819.\n",
            "Trial 15 finished with value: 1.0 and parameters: {'alpha': 0.0892696735814812}. Best is trial 7 with value: 0.9819819819819819.\n",
            "Trial 15 finished with value: 1.0 and parameters: {'alpha': 0.0892696735814812}. Best is trial 7 with value: 0.9819819819819819.\n",
            "Trial 15 finished with value: 1.0 and parameters: {'alpha': 0.0892696735814812}. Best is trial 7 with value: 0.9819819819819819.\n",
            "Trial 15 finished with value: 1.0 and parameters: {'alpha': 0.0892696735814812}. Best is trial 7 with value: 0.9819819819819819.\n",
            "Trial 15 finished with value: 1.0 and parameters: {'alpha': 0.0892696735814812}. Best is trial 7 with value: 0.9819819819819819.\n",
            "Trial 15 finished with value: 1.0 and parameters: {'alpha': 0.0892696735814812}. Best is trial 7 with value: 0.9819819819819819.\n",
            "Trial 15 finished with value: 1.0 and parameters: {'alpha': 0.0892696735814812}. Best is trial 7 with value: 0.9819819819819819.\n",
            "Trial 15 finished with value: 1.0 and parameters: {'alpha': 0.0892696735814812}. Best is trial 7 with value: 0.9819819819819819.\n",
            "Trial 15 finished with value: 1.0 and parameters: {'alpha': 0.0892696735814812}. Best is trial 7 with value: 0.9819819819819819.\n",
            "Trial 15 finished with value: 1.0 and parameters: {'alpha': 0.0892696735814812}. Best is trial 7 with value: 0.9819819819819819.\n",
            "Trial 15 finished with value: 1.0 and parameters: {'alpha': 0.0892696735814812}. Best is trial 7 with value: 0.9819819819819819.\n",
            "Trial 15 finished with value: 1.0 and parameters: {'alpha': 0.0892696735814812}. Best is trial 7 with value: 0.9819819819819819.\n",
            "Trial 15 finished with value: 1.0 and parameters: {'alpha': 0.0892696735814812}. Best is trial 7 with value: 0.9819819819819819.\n"
          ]
        },
        {
          "output_type": "stream",
          "name": "stderr",
          "text": [
            "\u001b[32m[I 2022-12-26 15:33:10,930]\u001b[0m Trial 16 pruned. \u001b[0m\n"
          ]
        },
        {
          "output_type": "stream",
          "name": "stdout",
          "text": [
            "Trial 16 pruned. \n",
            "Trial 16 pruned. \n",
            "Trial 16 pruned. \n",
            "Trial 16 pruned. \n",
            "Trial 16 pruned. \n",
            "Trial 16 pruned. \n",
            "Trial 16 pruned. \n",
            "Trial 16 pruned. \n",
            "Trial 16 pruned. \n",
            "Trial 16 pruned. \n",
            "Trial 16 pruned. \n",
            "Trial 16 pruned. \n",
            "Trial 16 pruned. \n",
            "Trial 16 pruned. \n",
            "Trial 16 pruned. \n",
            "Trial 16 pruned. \n"
          ]
        },
        {
          "output_type": "stream",
          "name": "stderr",
          "text": [
            "\u001b[32m[I 2022-12-26 15:33:11,089]\u001b[0m Trial 17 pruned. \u001b[0m\n"
          ]
        },
        {
          "output_type": "stream",
          "name": "stdout",
          "text": [
            "Trial 17 pruned. \n",
            "Trial 17 pruned. \n",
            "Trial 17 pruned. \n",
            "Trial 17 pruned. \n",
            "Trial 17 pruned. \n",
            "Trial 17 pruned. \n",
            "Trial 17 pruned. \n",
            "Trial 17 pruned. \n",
            "Trial 17 pruned. \n",
            "Trial 17 pruned. \n",
            "Trial 17 pruned. \n",
            "Trial 17 pruned. \n",
            "Trial 17 pruned. \n",
            "Trial 17 pruned. \n",
            "Trial 17 pruned. \n",
            "Trial 17 pruned. \n"
          ]
        },
        {
          "output_type": "stream",
          "name": "stderr",
          "text": [
            "\u001b[32m[I 2022-12-26 15:33:19,487]\u001b[0m Trial 18 finished with value: 0.990990990990991 and parameters: {'alpha': 0.018050090508396642}. Best is trial 7 with value: 0.9819819819819819.\u001b[0m\n"
          ]
        },
        {
          "output_type": "stream",
          "name": "stdout",
          "text": [
            "Trial 18 finished with value: 0.990990990990991 and parameters: {'alpha': 0.018050090508396642}. Best is trial 7 with value: 0.9819819819819819.\n",
            "Trial 18 finished with value: 0.990990990990991 and parameters: {'alpha': 0.018050090508396642}. Best is trial 7 with value: 0.9819819819819819.\n",
            "Trial 18 finished with value: 0.990990990990991 and parameters: {'alpha': 0.018050090508396642}. Best is trial 7 with value: 0.9819819819819819.\n",
            "Trial 18 finished with value: 0.990990990990991 and parameters: {'alpha': 0.018050090508396642}. Best is trial 7 with value: 0.9819819819819819.\n",
            "Trial 18 finished with value: 0.990990990990991 and parameters: {'alpha': 0.018050090508396642}. Best is trial 7 with value: 0.9819819819819819.\n",
            "Trial 18 finished with value: 0.990990990990991 and parameters: {'alpha': 0.018050090508396642}. Best is trial 7 with value: 0.9819819819819819.\n",
            "Trial 18 finished with value: 0.990990990990991 and parameters: {'alpha': 0.018050090508396642}. Best is trial 7 with value: 0.9819819819819819.\n",
            "Trial 18 finished with value: 0.990990990990991 and parameters: {'alpha': 0.018050090508396642}. Best is trial 7 with value: 0.9819819819819819.\n",
            "Trial 18 finished with value: 0.990990990990991 and parameters: {'alpha': 0.018050090508396642}. Best is trial 7 with value: 0.9819819819819819.\n",
            "Trial 18 finished with value: 0.990990990990991 and parameters: {'alpha': 0.018050090508396642}. Best is trial 7 with value: 0.9819819819819819.\n",
            "Trial 18 finished with value: 0.990990990990991 and parameters: {'alpha': 0.018050090508396642}. Best is trial 7 with value: 0.9819819819819819.\n",
            "Trial 18 finished with value: 0.990990990990991 and parameters: {'alpha': 0.018050090508396642}. Best is trial 7 with value: 0.9819819819819819.\n",
            "Trial 18 finished with value: 0.990990990990991 and parameters: {'alpha': 0.018050090508396642}. Best is trial 7 with value: 0.9819819819819819.\n",
            "Trial 18 finished with value: 0.990990990990991 and parameters: {'alpha': 0.018050090508396642}. Best is trial 7 with value: 0.9819819819819819.\n",
            "Trial 18 finished with value: 0.990990990990991 and parameters: {'alpha': 0.018050090508396642}. Best is trial 7 with value: 0.9819819819819819.\n",
            "Trial 18 finished with value: 0.990990990990991 and parameters: {'alpha': 0.018050090508396642}. Best is trial 7 with value: 0.9819819819819819.\n"
          ]
        },
        {
          "output_type": "stream",
          "name": "stderr",
          "text": [
            "\u001b[32m[I 2022-12-26 15:33:19,654]\u001b[0m Trial 19 pruned. \u001b[0m\n"
          ]
        },
        {
          "output_type": "stream",
          "name": "stdout",
          "text": [
            "Trial 19 pruned. \n",
            "Trial 19 pruned. \n",
            "Trial 19 pruned. \n",
            "Trial 19 pruned. \n",
            "Trial 19 pruned. \n",
            "Trial 19 pruned. \n",
            "Trial 19 pruned. \n",
            "Trial 19 pruned. \n",
            "Trial 19 pruned. \n",
            "Trial 19 pruned. \n",
            "Trial 19 pruned. \n",
            "Trial 19 pruned. \n",
            "Trial 19 pruned. \n",
            "Trial 19 pruned. \n",
            "Trial 19 pruned. \n",
            "Trial 19 pruned. \n"
          ]
        }
      ]
    },
    {
      "cell_type": "code",
      "source": [
        "plot_optimization_history(study)"
      ],
      "metadata": {
        "colab": {
          "base_uri": "https://localhost:8080/",
          "height": 542
        },
        "id": "wuWzO5EgFX9p",
        "outputId": "d1c8e157-af0e-4bcb-bd66-abbf072f04af"
      },
      "execution_count": 49,
      "outputs": [
        {
          "output_type": "display_data",
          "data": {
            "text/html": [
              "<html>\n",
              "<head><meta charset=\"utf-8\" /></head>\n",
              "<body>\n",
              "    <div>            <script src=\"https://cdnjs.cloudflare.com/ajax/libs/mathjax/2.7.5/MathJax.js?config=TeX-AMS-MML_SVG\"></script><script type=\"text/javascript\">if (window.MathJax) {MathJax.Hub.Config({SVG: {font: \"STIX-Web\"}});}</script>                <script type=\"text/javascript\">window.PlotlyConfig = {MathJaxConfig: 'local'};</script>\n",
              "        <script src=\"https://cdn.plot.ly/plotly-2.8.3.min.js\"></script>                <div id=\"b24529a0-8d3c-421d-927a-65d5a94eecbf\" class=\"plotly-graph-div\" style=\"height:525px; width:100%;\"></div>            <script type=\"text/javascript\">                                    window.PLOTLYENV=window.PLOTLYENV || {};                                    if (document.getElementById(\"b24529a0-8d3c-421d-927a-65d5a94eecbf\")) {                    Plotly.newPlot(                        \"b24529a0-8d3c-421d-927a-65d5a94eecbf\",                        [{\"mode\":\"markers\",\"name\":\"Objective Value\",\"x\":[0,1,2,3,4,5,6,7,8,10,11,13,14,15,18],\"y\":[1.0,0.990990990990991,1.0,1.0,1.0,0.990990990990991,0.990990990990991,0.9819819819819819,1.0,1.0,1.0,1.0,1.0,1.0,0.990990990990991],\"type\":\"scatter\"},{\"name\":\"Best Value\",\"x\":[0,1,2,3,4,5,6,7,8,10,11,13,14,15,18],\"y\":[1.0,0.990990990990991,0.990990990990991,0.990990990990991,0.990990990990991,0.990990990990991,0.990990990990991,0.9819819819819819,0.9819819819819819,0.9819819819819819,0.9819819819819819,0.9819819819819819,0.9819819819819819,0.9819819819819819,0.9819819819819819],\"type\":\"scatter\"}],                        {\"title\":{\"text\":\"Optimization History Plot\"},\"xaxis\":{\"title\":{\"text\":\"Trial\"}},\"yaxis\":{\"title\":{\"text\":\"Objective Value\"}},\"template\":{\"data\":{\"bar\":[{\"error_x\":{\"color\":\"#2a3f5f\"},\"error_y\":{\"color\":\"#2a3f5f\"},\"marker\":{\"line\":{\"color\":\"#E5ECF6\",\"width\":0.5},\"pattern\":{\"fillmode\":\"overlay\",\"size\":10,\"solidity\":0.2}},\"type\":\"bar\"}],\"barpolar\":[{\"marker\":{\"line\":{\"color\":\"#E5ECF6\",\"width\":0.5},\"pattern\":{\"fillmode\":\"overlay\",\"size\":10,\"solidity\":0.2}},\"type\":\"barpolar\"}],\"carpet\":[{\"aaxis\":{\"endlinecolor\":\"#2a3f5f\",\"gridcolor\":\"white\",\"linecolor\":\"white\",\"minorgridcolor\":\"white\",\"startlinecolor\":\"#2a3f5f\"},\"baxis\":{\"endlinecolor\":\"#2a3f5f\",\"gridcolor\":\"white\",\"linecolor\":\"white\",\"minorgridcolor\":\"white\",\"startlinecolor\":\"#2a3f5f\"},\"type\":\"carpet\"}],\"choropleth\":[{\"colorbar\":{\"outlinewidth\":0,\"ticks\":\"\"},\"type\":\"choropleth\"}],\"contour\":[{\"colorbar\":{\"outlinewidth\":0,\"ticks\":\"\"},\"colorscale\":[[0.0,\"#0d0887\"],[0.1111111111111111,\"#46039f\"],[0.2222222222222222,\"#7201a8\"],[0.3333333333333333,\"#9c179e\"],[0.4444444444444444,\"#bd3786\"],[0.5555555555555556,\"#d8576b\"],[0.6666666666666666,\"#ed7953\"],[0.7777777777777778,\"#fb9f3a\"],[0.8888888888888888,\"#fdca26\"],[1.0,\"#f0f921\"]],\"type\":\"contour\"}],\"contourcarpet\":[{\"colorbar\":{\"outlinewidth\":0,\"ticks\":\"\"},\"type\":\"contourcarpet\"}],\"heatmap\":[{\"colorbar\":{\"outlinewidth\":0,\"ticks\":\"\"},\"colorscale\":[[0.0,\"#0d0887\"],[0.1111111111111111,\"#46039f\"],[0.2222222222222222,\"#7201a8\"],[0.3333333333333333,\"#9c179e\"],[0.4444444444444444,\"#bd3786\"],[0.5555555555555556,\"#d8576b\"],[0.6666666666666666,\"#ed7953\"],[0.7777777777777778,\"#fb9f3a\"],[0.8888888888888888,\"#fdca26\"],[1.0,\"#f0f921\"]],\"type\":\"heatmap\"}],\"heatmapgl\":[{\"colorbar\":{\"outlinewidth\":0,\"ticks\":\"\"},\"colorscale\":[[0.0,\"#0d0887\"],[0.1111111111111111,\"#46039f\"],[0.2222222222222222,\"#7201a8\"],[0.3333333333333333,\"#9c179e\"],[0.4444444444444444,\"#bd3786\"],[0.5555555555555556,\"#d8576b\"],[0.6666666666666666,\"#ed7953\"],[0.7777777777777778,\"#fb9f3a\"],[0.8888888888888888,\"#fdca26\"],[1.0,\"#f0f921\"]],\"type\":\"heatmapgl\"}],\"histogram\":[{\"marker\":{\"pattern\":{\"fillmode\":\"overlay\",\"size\":10,\"solidity\":0.2}},\"type\":\"histogram\"}],\"histogram2d\":[{\"colorbar\":{\"outlinewidth\":0,\"ticks\":\"\"},\"colorscale\":[[0.0,\"#0d0887\"],[0.1111111111111111,\"#46039f\"],[0.2222222222222222,\"#7201a8\"],[0.3333333333333333,\"#9c179e\"],[0.4444444444444444,\"#bd3786\"],[0.5555555555555556,\"#d8576b\"],[0.6666666666666666,\"#ed7953\"],[0.7777777777777778,\"#fb9f3a\"],[0.8888888888888888,\"#fdca26\"],[1.0,\"#f0f921\"]],\"type\":\"histogram2d\"}],\"histogram2dcontour\":[{\"colorbar\":{\"outlinewidth\":0,\"ticks\":\"\"},\"colorscale\":[[0.0,\"#0d0887\"],[0.1111111111111111,\"#46039f\"],[0.2222222222222222,\"#7201a8\"],[0.3333333333333333,\"#9c179e\"],[0.4444444444444444,\"#bd3786\"],[0.5555555555555556,\"#d8576b\"],[0.6666666666666666,\"#ed7953\"],[0.7777777777777778,\"#fb9f3a\"],[0.8888888888888888,\"#fdca26\"],[1.0,\"#f0f921\"]],\"type\":\"histogram2dcontour\"}],\"mesh3d\":[{\"colorbar\":{\"outlinewidth\":0,\"ticks\":\"\"},\"type\":\"mesh3d\"}],\"parcoords\":[{\"line\":{\"colorbar\":{\"outlinewidth\":0,\"ticks\":\"\"}},\"type\":\"parcoords\"}],\"pie\":[{\"automargin\":true,\"type\":\"pie\"}],\"scatter\":[{\"marker\":{\"colorbar\":{\"outlinewidth\":0,\"ticks\":\"\"}},\"type\":\"scatter\"}],\"scatter3d\":[{\"line\":{\"colorbar\":{\"outlinewidth\":0,\"ticks\":\"\"}},\"marker\":{\"colorbar\":{\"outlinewidth\":0,\"ticks\":\"\"}},\"type\":\"scatter3d\"}],\"scattercarpet\":[{\"marker\":{\"colorbar\":{\"outlinewidth\":0,\"ticks\":\"\"}},\"type\":\"scattercarpet\"}],\"scattergeo\":[{\"marker\":{\"colorbar\":{\"outlinewidth\":0,\"ticks\":\"\"}},\"type\":\"scattergeo\"}],\"scattergl\":[{\"marker\":{\"colorbar\":{\"outlinewidth\":0,\"ticks\":\"\"}},\"type\":\"scattergl\"}],\"scattermapbox\":[{\"marker\":{\"colorbar\":{\"outlinewidth\":0,\"ticks\":\"\"}},\"type\":\"scattermapbox\"}],\"scatterpolar\":[{\"marker\":{\"colorbar\":{\"outlinewidth\":0,\"ticks\":\"\"}},\"type\":\"scatterpolar\"}],\"scatterpolargl\":[{\"marker\":{\"colorbar\":{\"outlinewidth\":0,\"ticks\":\"\"}},\"type\":\"scatterpolargl\"}],\"scatterternary\":[{\"marker\":{\"colorbar\":{\"outlinewidth\":0,\"ticks\":\"\"}},\"type\":\"scatterternary\"}],\"surface\":[{\"colorbar\":{\"outlinewidth\":0,\"ticks\":\"\"},\"colorscale\":[[0.0,\"#0d0887\"],[0.1111111111111111,\"#46039f\"],[0.2222222222222222,\"#7201a8\"],[0.3333333333333333,\"#9c179e\"],[0.4444444444444444,\"#bd3786\"],[0.5555555555555556,\"#d8576b\"],[0.6666666666666666,\"#ed7953\"],[0.7777777777777778,\"#fb9f3a\"],[0.8888888888888888,\"#fdca26\"],[1.0,\"#f0f921\"]],\"type\":\"surface\"}],\"table\":[{\"cells\":{\"fill\":{\"color\":\"#EBF0F8\"},\"line\":{\"color\":\"white\"}},\"header\":{\"fill\":{\"color\":\"#C8D4E3\"},\"line\":{\"color\":\"white\"}},\"type\":\"table\"}]},\"layout\":{\"annotationdefaults\":{\"arrowcolor\":\"#2a3f5f\",\"arrowhead\":0,\"arrowwidth\":1},\"autotypenumbers\":\"strict\",\"coloraxis\":{\"colorbar\":{\"outlinewidth\":0,\"ticks\":\"\"}},\"colorscale\":{\"diverging\":[[0,\"#8e0152\"],[0.1,\"#c51b7d\"],[0.2,\"#de77ae\"],[0.3,\"#f1b6da\"],[0.4,\"#fde0ef\"],[0.5,\"#f7f7f7\"],[0.6,\"#e6f5d0\"],[0.7,\"#b8e186\"],[0.8,\"#7fbc41\"],[0.9,\"#4d9221\"],[1,\"#276419\"]],\"sequential\":[[0.0,\"#0d0887\"],[0.1111111111111111,\"#46039f\"],[0.2222222222222222,\"#7201a8\"],[0.3333333333333333,\"#9c179e\"],[0.4444444444444444,\"#bd3786\"],[0.5555555555555556,\"#d8576b\"],[0.6666666666666666,\"#ed7953\"],[0.7777777777777778,\"#fb9f3a\"],[0.8888888888888888,\"#fdca26\"],[1.0,\"#f0f921\"]],\"sequentialminus\":[[0.0,\"#0d0887\"],[0.1111111111111111,\"#46039f\"],[0.2222222222222222,\"#7201a8\"],[0.3333333333333333,\"#9c179e\"],[0.4444444444444444,\"#bd3786\"],[0.5555555555555556,\"#d8576b\"],[0.6666666666666666,\"#ed7953\"],[0.7777777777777778,\"#fb9f3a\"],[0.8888888888888888,\"#fdca26\"],[1.0,\"#f0f921\"]]},\"colorway\":[\"#636efa\",\"#EF553B\",\"#00cc96\",\"#ab63fa\",\"#FFA15A\",\"#19d3f3\",\"#FF6692\",\"#B6E880\",\"#FF97FF\",\"#FECB52\"],\"font\":{\"color\":\"#2a3f5f\"},\"geo\":{\"bgcolor\":\"white\",\"lakecolor\":\"white\",\"landcolor\":\"#E5ECF6\",\"showlakes\":true,\"showland\":true,\"subunitcolor\":\"white\"},\"hoverlabel\":{\"align\":\"left\"},\"hovermode\":\"closest\",\"mapbox\":{\"style\":\"light\"},\"paper_bgcolor\":\"white\",\"plot_bgcolor\":\"#E5ECF6\",\"polar\":{\"angularaxis\":{\"gridcolor\":\"white\",\"linecolor\":\"white\",\"ticks\":\"\"},\"bgcolor\":\"#E5ECF6\",\"radialaxis\":{\"gridcolor\":\"white\",\"linecolor\":\"white\",\"ticks\":\"\"}},\"scene\":{\"xaxis\":{\"backgroundcolor\":\"#E5ECF6\",\"gridcolor\":\"white\",\"gridwidth\":2,\"linecolor\":\"white\",\"showbackground\":true,\"ticks\":\"\",\"zerolinecolor\":\"white\"},\"yaxis\":{\"backgroundcolor\":\"#E5ECF6\",\"gridcolor\":\"white\",\"gridwidth\":2,\"linecolor\":\"white\",\"showbackground\":true,\"ticks\":\"\",\"zerolinecolor\":\"white\"},\"zaxis\":{\"backgroundcolor\":\"#E5ECF6\",\"gridcolor\":\"white\",\"gridwidth\":2,\"linecolor\":\"white\",\"showbackground\":true,\"ticks\":\"\",\"zerolinecolor\":\"white\"}},\"shapedefaults\":{\"line\":{\"color\":\"#2a3f5f\"}},\"ternary\":{\"aaxis\":{\"gridcolor\":\"white\",\"linecolor\":\"white\",\"ticks\":\"\"},\"baxis\":{\"gridcolor\":\"white\",\"linecolor\":\"white\",\"ticks\":\"\"},\"bgcolor\":\"#E5ECF6\",\"caxis\":{\"gridcolor\":\"white\",\"linecolor\":\"white\",\"ticks\":\"\"}},\"title\":{\"x\":0.05},\"xaxis\":{\"automargin\":true,\"gridcolor\":\"white\",\"linecolor\":\"white\",\"ticks\":\"\",\"title\":{\"standoff\":15},\"zerolinecolor\":\"white\",\"zerolinewidth\":2},\"yaxis\":{\"automargin\":true,\"gridcolor\":\"white\",\"linecolor\":\"white\",\"ticks\":\"\",\"title\":{\"standoff\":15},\"zerolinecolor\":\"white\",\"zerolinewidth\":2}}}},                        {\"responsive\": true}                    ).then(function(){\n",
              "                            \n",
              "var gd = document.getElementById('b24529a0-8d3c-421d-927a-65d5a94eecbf');\n",
              "var x = new MutationObserver(function (mutations, observer) {{\n",
              "        var display = window.getComputedStyle(gd).display;\n",
              "        if (!display || display === 'none') {{\n",
              "            console.log([gd, 'removed!']);\n",
              "            Plotly.purge(gd);\n",
              "            observer.disconnect();\n",
              "        }}\n",
              "}});\n",
              "\n",
              "// Listen for the removal of the full notebook cells\n",
              "var notebookContainer = gd.closest('#notebook-container');\n",
              "if (notebookContainer) {{\n",
              "    x.observe(notebookContainer, {childList: true});\n",
              "}}\n",
              "\n",
              "// Listen for the clearing of the current output cell\n",
              "var outputEl = gd.closest('.output');\n",
              "if (outputEl) {{\n",
              "    x.observe(outputEl, {childList: true});\n",
              "}}\n",
              "\n",
              "                        })                };                            </script>        </div>\n",
              "</body>\n",
              "</html>"
            ]
          },
          "metadata": {}
        }
      ]
    },
    {
      "cell_type": "code",
      "source": [
        "plot_intermediate_values(study)"
      ],
      "metadata": {
        "colab": {
          "base_uri": "https://localhost:8080/",
          "height": 542
        },
        "id": "m377KxZiFY5V",
        "outputId": "2b41b744-09f2-4dfc-f063-20d2cf134dda"
      },
      "execution_count": 50,
      "outputs": [
        {
          "output_type": "display_data",
          "data": {
            "text/html": [
              "<html>\n",
              "<head><meta charset=\"utf-8\" /></head>\n",
              "<body>\n",
              "    <div>            <script src=\"https://cdnjs.cloudflare.com/ajax/libs/mathjax/2.7.5/MathJax.js?config=TeX-AMS-MML_SVG\"></script><script type=\"text/javascript\">if (window.MathJax) {MathJax.Hub.Config({SVG: {font: \"STIX-Web\"}});}</script>                <script type=\"text/javascript\">window.PlotlyConfig = {MathJaxConfig: 'local'};</script>\n",
              "        <script src=\"https://cdn.plot.ly/plotly-2.8.3.min.js\"></script>                <div id=\"a8890b84-a08a-481d-99a2-c7866878c093\" class=\"plotly-graph-div\" style=\"height:525px; width:100%;\"></div>            <script type=\"text/javascript\">                                    window.PLOTLYENV=window.PLOTLYENV || {};                                    if (document.getElementById(\"a8890b84-a08a-481d-99a2-c7866878c093\")) {                    Plotly.newPlot(                        \"a8890b84-a08a-481d-99a2-c7866878c093\",                        [{\"marker\":{\"maxdisplayed\":10},\"mode\":\"lines+markers\",\"name\":\"Trial0\",\"x\":[0,1,2,3,4,5,6,7,8,9,10,11,12,13,14,15,16,17,18,19,20,21,22,23,24,25,26,27,28,29,30,31,32,33,34,35,36,37,38,39,40,41,42,43,44,45,46,47,48,49,50,51,52,53,54,55,56,57,58,59,60,61,62,63,64,65,66,67,68,69,70,71,72,73,74,75,76,77,78,79,80,81,82,83,84,85,86,87,88,89,90,91,92,93,94,95,96,97,98,99],\"y\":[1.0,0.990990990990991,0.990990990990991,1.0,0.990990990990991,0.990990990990991,1.0,0.990990990990991,1.0,1.0,1.0,1.0,1.0,0.990990990990991,1.0,0.990990990990991,1.0,1.0,0.990990990990991,0.990990990990991,0.990990990990991,1.0,0.990990990990991,1.0,1.0,1.0,0.990990990990991,0.990990990990991,1.0,1.0,1.0,0.990990990990991,0.990990990990991,1.0,1.0,0.990990990990991,1.0,1.0,0.990990990990991,1.0,1.0,1.0,1.0,0.990990990990991,0.990990990990991,1.0,0.990990990990991,0.990990990990991,1.0,1.0,1.0,0.990990990990991,1.0,0.990990990990991,1.0,0.990990990990991,0.990990990990991,1.0,1.0,0.990990990990991,0.990990990990991,1.0,1.0,0.990990990990991,1.0,0.990990990990991,1.0,1.0,1.0,1.0,0.990990990990991,0.990990990990991,1.0,1.0,1.0,1.0,0.990990990990991,1.0,0.990990990990991,0.990990990990991,1.0,1.0,0.990990990990991,1.0,0.990990990990991,1.0,1.0,0.990990990990991,0.990990990990991,1.0,1.0,1.0,1.0,0.9819819819819819,0.990990990990991,1.0,0.990990990990991,1.0,1.0,1.0],\"type\":\"scatter\"},{\"marker\":{\"maxdisplayed\":10},\"mode\":\"lines+markers\",\"name\":\"Trial1\",\"x\":[0,1,2,3,4,5,6,7,8,9,10,11,12,13,14,15,16,17,18,19,20,21,22,23,24,25,26,27,28,29,30,31,32,33,34,35,36,37,38,39,40,41,42,43,44,45,46,47,48,49,50,51,52,53,54,55,56,57,58,59,60,61,62,63,64,65,66,67,68,69,70,71,72,73,74,75,76,77,78,79,80,81,82,83,84,85,86,87,88,89,90,91,92,93,94,95,96,97,98,99],\"y\":[1.0,0.990990990990991,0.990990990990991,0.990990990990991,0.990990990990991,0.990990990990991,1.0,0.9819819819819819,0.990990990990991,0.990990990990991,1.0,0.990990990990991,0.9819819819819819,1.0,0.990990990990991,0.990990990990991,1.0,0.990990990990991,0.990990990990991,0.990990990990991,1.0,0.990990990990991,1.0,1.0,0.990990990990991,1.0,0.990990990990991,1.0,0.990990990990991,0.990990990990991,1.0,0.990990990990991,0.990990990990991,1.0,0.9819819819819819,1.0,0.990990990990991,1.0,1.0,0.990990990990991,0.990990990990991,0.990990990990991,0.990990990990991,0.990990990990991,0.9819819819819819,0.990990990990991,0.990990990990991,0.990990990990991,0.990990990990991,0.990990990990991,1.0,1.0,1.0,0.990990990990991,0.990990990990991,0.9819819819819819,0.972972972972973,0.990990990990991,1.0,1.0,0.990990990990991,1.0,1.0,0.990990990990991,0.990990990990991,0.990990990990991,1.0,1.0,0.990990990990991,0.990990990990991,1.0,1.0,1.0,1.0,1.0,1.0,0.990990990990991,1.0,0.990990990990991,0.9819819819819819,1.0,1.0,0.990990990990991,0.9819819819819819,1.0,1.0,0.9819819819819819,0.990990990990991,0.9819819819819819,0.990990990990991,0.990990990990991,1.0,1.0,0.990990990990991,0.990990990990991,0.990990990990991,1.0,1.0,1.0,0.990990990990991],\"type\":\"scatter\"},{\"marker\":{\"maxdisplayed\":10},\"mode\":\"lines+markers\",\"name\":\"Trial2\",\"x\":[0,1,2,3,4,5,6,7,8,9,10,11,12,13,14,15,16,17,18,19,20,21,22,23,24,25,26,27,28,29,30,31,32,33,34,35,36,37,38,39,40,41,42,43,44,45,46,47,48,49,50,51,52,53,54,55,56,57,58,59,60,61,62,63,64,65,66,67,68,69,70,71,72,73,74,75,76,77,78,79,80,81,82,83,84,85,86,87,88,89,90,91,92,93,94,95,96,97,98,99],\"y\":[0.990990990990991,0.990990990990991,1.0,1.0,0.9819819819819819,1.0,1.0,0.990990990990991,0.990990990990991,1.0,1.0,1.0,1.0,1.0,0.990990990990991,0.990990990990991,1.0,1.0,0.990990990990991,1.0,0.990990990990991,1.0,1.0,0.9819819819819819,0.990990990990991,1.0,1.0,0.990990990990991,1.0,1.0,1.0,1.0,1.0,1.0,0.990990990990991,0.990990990990991,0.990990990990991,1.0,0.990990990990991,0.9819819819819819,1.0,1.0,1.0,0.990990990990991,1.0,1.0,0.990990990990991,1.0,0.990990990990991,1.0,0.990990990990991,0.990990990990991,1.0,1.0,1.0,0.990990990990991,0.990990990990991,0.990990990990991,0.990990990990991,0.990990990990991,1.0,1.0,0.990990990990991,1.0,0.9819819819819819,1.0,0.9819819819819819,0.990990990990991,1.0,1.0,1.0,1.0,0.990990990990991,1.0,1.0,0.990990990990991,1.0,0.990990990990991,1.0,1.0,1.0,1.0,1.0,0.990990990990991,0.990990990990991,1.0,1.0,1.0,1.0,1.0,0.990990990990991,1.0,0.990990990990991,1.0,0.990990990990991,1.0,1.0,1.0,0.990990990990991,1.0],\"type\":\"scatter\"},{\"marker\":{\"maxdisplayed\":10},\"mode\":\"lines+markers\",\"name\":\"Trial3\",\"x\":[0,1,2,3,4,5,6,7,8,9,10,11,12,13,14,15,16,17,18,19,20,21,22,23,24,25,26,27,28,29,30,31,32,33,34,35,36,37,38,39,40,41,42,43,44,45,46,47,48,49,50,51,52,53,54,55,56,57,58,59,60,61,62,63,64,65,66,67,68,69,70,71,72,73,74,75,76,77,78,79,80,81,82,83,84,85,86,87,88,89,90,91,92,93,94,95,96,97,98,99],\"y\":[1.0,1.0,0.990990990990991,0.990990990990991,0.990990990990991,0.9819819819819819,0.9819819819819819,0.990990990990991,1.0,1.0,0.990990990990991,1.0,1.0,1.0,0.9819819819819819,0.990990990990991,0.990990990990991,1.0,1.0,0.990990990990991,1.0,1.0,1.0,0.990990990990991,0.990990990990991,1.0,1.0,0.990990990990991,1.0,1.0,1.0,1.0,1.0,1.0,0.990990990990991,1.0,1.0,0.9819819819819819,1.0,0.990990990990991,1.0,0.990990990990991,1.0,0.990990990990991,1.0,1.0,0.990990990990991,1.0,1.0,1.0,1.0,1.0,0.990990990990991,1.0,0.990990990990991,1.0,0.990990990990991,1.0,1.0,1.0,1.0,1.0,1.0,1.0,0.990990990990991,1.0,1.0,1.0,0.990990990990991,1.0,1.0,0.9819819819819819,1.0,1.0,0.990990990990991,0.990990990990991,1.0,1.0,1.0,0.990990990990991,1.0,0.990990990990991,0.9819819819819819,1.0,0.9819819819819819,0.990990990990991,1.0,1.0,0.990990990990991,0.990990990990991,1.0,1.0,1.0,1.0,0.9819819819819819,0.990990990990991,1.0,1.0,0.990990990990991,1.0],\"type\":\"scatter\"},{\"marker\":{\"maxdisplayed\":10},\"mode\":\"lines+markers\",\"name\":\"Trial4\",\"x\":[0,1,2,3,4,5,6,7,8,9,10,11,12,13,14,15,16,17,18,19,20,21,22,23,24,25,26,27,28,29,30,31,32,33,34,35,36,37,38,39,40,41,42,43,44,45,46,47,48,49,50,51,52,53,54,55,56,57,58,59,60,61,62,63,64,65,66,67,68,69,70,71,72,73,74,75,76,77,78,79,80,81,82,83,84,85,86,87,88,89,90,91,92,93,94,95,96,97,98,99],\"y\":[1.0,1.0,1.0,0.990990990990991,1.0,0.9819819819819819,1.0,1.0,1.0,0.990990990990991,0.990990990990991,0.990990990990991,1.0,1.0,1.0,1.0,1.0,1.0,1.0,1.0,0.990990990990991,1.0,1.0,1.0,0.990990990990991,1.0,0.9819819819819819,0.990990990990991,1.0,1.0,0.9819819819819819,0.9819819819819819,0.990990990990991,1.0,1.0,0.990990990990991,0.990990990990991,0.990990990990991,0.990990990990991,0.972972972972973,0.990990990990991,0.990990990990991,0.990990990990991,0.990990990990991,0.990990990990991,0.990990990990991,1.0,0.990990990990991,0.990990990990991,0.990990990990991,0.990990990990991,1.0,1.0,1.0,1.0,1.0,1.0,1.0,1.0,1.0,0.9819819819819819,1.0,1.0,0.990990990990991,1.0,1.0,1.0,0.990990990990991,1.0,0.990990990990991,0.990990990990991,0.990990990990991,0.990990990990991,0.990990990990991,0.990990990990991,1.0,1.0,1.0,1.0,0.990990990990991,1.0,1.0,1.0,1.0,0.990990990990991,1.0,1.0,0.990990990990991,1.0,1.0,0.9819819819819819,0.9819819819819819,0.990990990990991,0.990990990990991,0.990990990990991,1.0,0.990990990990991,0.990990990990991,1.0,1.0],\"type\":\"scatter\"},{\"marker\":{\"maxdisplayed\":10},\"mode\":\"lines+markers\",\"name\":\"Trial5\",\"x\":[0,1,2,3,4,5,6,7,8,9,10,11,12,13,14,15,16,17,18,19,20,21,22,23,24,25,26,27,28,29,30,31,32,33,34,35,36,37,38,39,40,41,42,43,44,45,46,47,48,49,50,51,52,53,54,55,56,57,58,59,60,61,62,63,64,65,66,67,68,69,70,71,72,73,74,75,76,77,78,79,80,81,82,83,84,85,86,87,88,89,90,91,92,93,94,95,96,97,98,99],\"y\":[1.0,0.990990990990991,0.990990990990991,1.0,1.0,0.990990990990991,1.0,1.0,1.0,1.0,1.0,0.990990990990991,1.0,0.990990990990991,1.0,1.0,0.990990990990991,1.0,1.0,1.0,0.990990990990991,0.990990990990991,1.0,0.990990990990991,1.0,0.990990990990991,1.0,1.0,0.990990990990991,1.0,1.0,1.0,1.0,1.0,1.0,1.0,1.0,0.990990990990991,0.990990990990991,0.990990990990991,1.0,1.0,0.990990990990991,1.0,1.0,0.990990990990991,0.990990990990991,1.0,0.990990990990991,0.9819819819819819,1.0,0.990990990990991,0.990990990990991,1.0,1.0,0.9819819819819819,1.0,1.0,1.0,1.0,1.0,1.0,1.0,1.0,1.0,0.990990990990991,0.990990990990991,1.0,0.990990990990991,1.0,0.9819819819819819,1.0,1.0,0.990990990990991,1.0,1.0,1.0,1.0,0.9819819819819819,0.990990990990991,1.0,1.0,0.990990990990991,1.0,1.0,1.0,1.0,0.9819819819819819,0.990990990990991,0.990990990990991,1.0,1.0,1.0,1.0,0.990990990990991,1.0,0.990990990990991,1.0,0.990990990990991,0.990990990990991],\"type\":\"scatter\"},{\"marker\":{\"maxdisplayed\":10},\"mode\":\"lines+markers\",\"name\":\"Trial6\",\"x\":[0,1,2,3,4,5,6,7,8,9,10,11,12,13,14,15,16,17,18,19,20,21,22,23,24,25,26,27,28,29,30,31,32,33,34,35,36,37,38,39,40,41,42,43,44,45,46,47,48,49,50,51,52,53,54,55,56,57,58,59,60,61,62,63,64,65,66,67,68,69,70,71,72,73,74,75,76,77,78,79,80,81,82,83,84,85,86,87,88,89,90,91,92,93,94,95,96,97,98,99],\"y\":[0.990990990990991,1.0,0.990990990990991,0.990990990990991,0.990990990990991,0.990990990990991,0.990990990990991,1.0,0.990990990990991,0.990990990990991,0.990990990990991,0.990990990990991,1.0,1.0,1.0,1.0,0.9819819819819819,1.0,1.0,1.0,0.990990990990991,0.990990990990991,0.9819819819819819,1.0,1.0,1.0,1.0,1.0,0.990990990990991,1.0,0.9819819819819819,1.0,1.0,0.990990990990991,1.0,1.0,1.0,1.0,1.0,1.0,1.0,1.0,0.990990990990991,0.990990990990991,1.0,1.0,1.0,1.0,1.0,1.0,1.0,1.0,1.0,1.0,0.990990990990991,0.990990990990991,1.0,0.990990990990991,1.0,1.0,1.0,0.990990990990991,1.0,1.0,0.990990990990991,1.0,1.0,1.0,1.0,1.0,0.990990990990991,1.0,1.0,1.0,0.990990990990991,0.990990990990991,1.0,0.990990990990991,1.0,1.0,1.0,1.0,0.990990990990991,0.990990990990991,1.0,1.0,1.0,0.9819819819819819,1.0,1.0,0.990990990990991,1.0,1.0,0.990990990990991,1.0,1.0,1.0,0.990990990990991,1.0,0.990990990990991],\"type\":\"scatter\"},{\"marker\":{\"maxdisplayed\":10},\"mode\":\"lines+markers\",\"name\":\"Trial7\",\"x\":[0,1,2,3,4,5,6,7,8,9,10,11,12,13,14,15,16,17,18,19,20,21,22,23,24,25,26,27,28,29,30,31,32,33,34,35,36,37,38,39,40,41,42,43,44,45,46,47,48,49,50,51,52,53,54,55,56,57,58,59,60,61,62,63,64,65,66,67,68,69,70,71,72,73,74,75,76,77,78,79,80,81,82,83,84,85,86,87,88,89,90,91,92,93,94,95,96,97,98,99],\"y\":[1.0,0.990990990990991,0.9819819819819819,0.9819819819819819,0.990990990990991,0.9819819819819819,0.9819819819819819,0.990990990990991,0.990990990990991,1.0,1.0,0.990990990990991,0.9819819819819819,1.0,1.0,1.0,0.990990990990991,1.0,0.990990990990991,0.990990990990991,1.0,0.990990990990991,1.0,0.990990990990991,0.990990990990991,0.990990990990991,0.990990990990991,1.0,0.990990990990991,1.0,0.990990990990991,1.0,0.990990990990991,0.990990990990991,1.0,1.0,1.0,1.0,0.990990990990991,0.990990990990991,1.0,1.0,0.9819819819819819,1.0,1.0,0.9819819819819819,0.990990990990991,1.0,0.990990990990991,1.0,1.0,0.9819819819819819,1.0,1.0,0.990990990990991,1.0,1.0,1.0,0.990990990990991,1.0,0.990990990990991,0.990990990990991,1.0,0.990990990990991,0.990990990990991,0.990990990990991,1.0,1.0,0.990990990990991,0.990990990990991,1.0,1.0,1.0,0.990990990990991,1.0,1.0,0.9819819819819819,0.990990990990991,1.0,1.0,1.0,1.0,0.990990990990991,1.0,1.0,0.990990990990991,1.0,1.0,1.0,1.0,1.0,0.990990990990991,1.0,1.0,1.0,0.990990990990991,0.9819819819819819,0.990990990990991,1.0,0.9819819819819819],\"type\":\"scatter\"},{\"marker\":{\"maxdisplayed\":10},\"mode\":\"lines+markers\",\"name\":\"Trial8\",\"x\":[0,1,2,3,4,5,6,7,8,9,10,11,12,13,14,15,16,17,18,19,20,21,22,23,24,25,26,27,28,29,30,31,32,33,34,35,36,37,38,39,40,41,42,43,44,45,46,47,48,49,50,51,52,53,54,55,56,57,58,59,60,61,62,63,64,65,66,67,68,69,70,71,72,73,74,75,76,77,78,79,80,81,82,83,84,85,86,87,88,89,90,91,92,93,94,95,96,97,98,99],\"y\":[0.990990990990991,0.990990990990991,1.0,0.990990990990991,1.0,1.0,0.990990990990991,0.990990990990991,1.0,1.0,0.990990990990991,1.0,1.0,0.990990990990991,1.0,0.990990990990991,0.990990990990991,1.0,0.990990990990991,1.0,1.0,1.0,0.990990990990991,1.0,0.990990990990991,1.0,0.990990990990991,0.990990990990991,1.0,0.9819819819819819,0.990990990990991,1.0,1.0,1.0,1.0,1.0,1.0,1.0,1.0,0.990990990990991,1.0,1.0,1.0,1.0,0.9819819819819819,0.9819819819819819,0.990990990990991,1.0,0.990990990990991,1.0,1.0,1.0,1.0,0.990990990990991,1.0,1.0,0.990990990990991,1.0,1.0,1.0,1.0,1.0,1.0,0.990990990990991,1.0,0.990990990990991,1.0,1.0,0.990990990990991,1.0,1.0,1.0,0.990990990990991,1.0,1.0,1.0,1.0,1.0,1.0,0.990990990990991,1.0,0.990990990990991,1.0,1.0,0.990990990990991,1.0,0.9819819819819819,1.0,1.0,1.0,1.0,1.0,1.0,1.0,1.0,1.0,0.990990990990991,0.990990990990991,1.0,1.0],\"type\":\"scatter\"},{\"marker\":{\"maxdisplayed\":10},\"mode\":\"lines+markers\",\"name\":\"Trial9\",\"x\":[0,1],\"y\":[1.0,1.0],\"type\":\"scatter\"},{\"marker\":{\"maxdisplayed\":10},\"mode\":\"lines+markers\",\"name\":\"Trial10\",\"x\":[0,1,2,3,4,5,6,7,8,9,10,11,12,13,14,15,16,17,18,19,20,21,22,23,24,25,26,27,28,29,30,31,32,33,34,35,36,37,38,39,40,41,42,43,44,45,46,47,48,49,50,51,52,53,54,55,56,57,58,59,60,61,62,63,64,65,66,67,68,69,70,71,72,73,74,75,76,77,78,79,80,81,82,83,84,85,86,87,88,89,90,91,92,93,94,95,96,97,98,99],\"y\":[1.0,0.9819819819819819,0.990990990990991,0.990990990990991,1.0,1.0,1.0,1.0,0.990990990990991,0.9819819819819819,1.0,1.0,1.0,0.990990990990991,1.0,1.0,1.0,0.990990990990991,1.0,1.0,1.0,1.0,0.9819819819819819,1.0,1.0,0.990990990990991,0.990990990990991,1.0,0.990990990990991,1.0,1.0,1.0,1.0,1.0,1.0,1.0,0.990990990990991,1.0,0.9819819819819819,0.990990990990991,0.990990990990991,1.0,1.0,0.990990990990991,1.0,0.990990990990991,1.0,1.0,0.990990990990991,1.0,0.9819819819819819,1.0,0.990990990990991,1.0,0.9819819819819819,1.0,0.990990990990991,1.0,1.0,1.0,1.0,0.9819819819819819,1.0,1.0,1.0,1.0,1.0,1.0,1.0,0.990990990990991,1.0,1.0,0.990990990990991,0.990990990990991,0.990990990990991,0.990990990990991,1.0,1.0,1.0,0.990990990990991,1.0,0.990990990990991,0.990990990990991,1.0,0.972972972972973,1.0,1.0,1.0,1.0,0.972972972972973,1.0,0.9819819819819819,1.0,1.0,0.990990990990991,0.990990990990991,1.0,1.0,1.0,1.0],\"type\":\"scatter\"},{\"marker\":{\"maxdisplayed\":10},\"mode\":\"lines+markers\",\"name\":\"Trial11\",\"x\":[0,1,2,3,4,5,6,7,8,9,10,11,12,13,14,15,16,17,18,19,20,21,22,23,24,25,26,27,28,29,30,31,32,33,34,35,36,37,38,39,40,41,42,43,44,45,46,47,48,49,50,51,52,53,54,55,56,57,58,59,60,61,62,63,64,65,66,67,68,69,70,71,72,73,74,75,76,77,78,79,80,81,82,83,84,85,86,87,88,89,90,91,92,93,94,95,96,97,98,99],\"y\":[0.990990990990991,0.990990990990991,0.990990990990991,1.0,0.990990990990991,1.0,0.9819819819819819,1.0,1.0,1.0,1.0,1.0,1.0,1.0,0.990990990990991,1.0,1.0,0.990990990990991,1.0,1.0,1.0,1.0,0.9819819819819819,1.0,1.0,1.0,1.0,1.0,1.0,1.0,0.990990990990991,1.0,0.990990990990991,0.990990990990991,1.0,0.990990990990991,1.0,0.990990990990991,1.0,0.990990990990991,0.990990990990991,1.0,0.9819819819819819,1.0,1.0,1.0,0.9819819819819819,0.990990990990991,0.990990990990991,1.0,0.990990990990991,1.0,1.0,0.990990990990991,1.0,1.0,1.0,0.990990990990991,1.0,1.0,1.0,1.0,1.0,1.0,0.990990990990991,1.0,0.9819819819819819,0.990990990990991,0.990990990990991,1.0,1.0,1.0,1.0,1.0,1.0,0.990990990990991,0.990990990990991,0.990990990990991,1.0,1.0,1.0,1.0,1.0,0.990990990990991,1.0,0.990990990990991,0.9819819819819819,0.990990990990991,0.990990990990991,1.0,1.0,1.0,1.0,1.0,1.0,1.0,1.0,1.0,0.990990990990991,1.0],\"type\":\"scatter\"},{\"marker\":{\"maxdisplayed\":10},\"mode\":\"lines+markers\",\"name\":\"Trial12\",\"x\":[0,1],\"y\":[1.0,1.0],\"type\":\"scatter\"},{\"marker\":{\"maxdisplayed\":10},\"mode\":\"lines+markers\",\"name\":\"Trial13\",\"x\":[0,1,2,3,4,5,6,7,8,9,10,11,12,13,14,15,16,17,18,19,20,21,22,23,24,25,26,27,28,29,30,31,32,33,34,35,36,37,38,39,40,41,42,43,44,45,46,47,48,49,50,51,52,53,54,55,56,57,58,59,60,61,62,63,64,65,66,67,68,69,70,71,72,73,74,75,76,77,78,79,80,81,82,83,84,85,86,87,88,89,90,91,92,93,94,95,96,97,98,99],\"y\":[0.990990990990991,0.990990990990991,0.990990990990991,1.0,1.0,0.990990990990991,1.0,0.990990990990991,1.0,0.990990990990991,1.0,1.0,1.0,1.0,1.0,1.0,1.0,1.0,1.0,1.0,1.0,1.0,0.990990990990991,0.990990990990991,1.0,0.990990990990991,1.0,0.990990990990991,1.0,0.990990990990991,1.0,1.0,0.9819819819819819,0.990990990990991,0.990990990990991,1.0,0.990990990990991,1.0,1.0,1.0,1.0,0.990990990990991,1.0,0.990990990990991,1.0,0.990990990990991,1.0,0.990990990990991,0.972972972972973,0.990990990990991,0.990990990990991,1.0,1.0,1.0,1.0,0.990990990990991,1.0,0.990990990990991,1.0,1.0,1.0,1.0,1.0,1.0,0.990990990990991,1.0,0.990990990990991,1.0,1.0,1.0,1.0,1.0,1.0,0.990990990990991,1.0,1.0,1.0,1.0,0.9819819819819819,1.0,0.990990990990991,1.0,1.0,1.0,1.0,0.990990990990991,0.990990990990991,1.0,0.990990990990991,1.0,0.990990990990991,0.9819819819819819,1.0,1.0,1.0,0.990990990990991,0.990990990990991,0.990990990990991,0.990990990990991,1.0],\"type\":\"scatter\"},{\"marker\":{\"maxdisplayed\":10},\"mode\":\"lines+markers\",\"name\":\"Trial14\",\"x\":[0,1,2,3,4,5,6,7,8,9,10,11,12,13,14,15,16,17,18,19,20,21,22,23,24,25,26,27,28,29,30,31,32,33,34,35,36,37,38,39,40,41,42,43,44,45,46,47,48,49,50,51,52,53,54,55,56,57,58,59,60,61,62,63,64,65,66,67,68,69,70,71,72,73,74,75,76,77,78,79,80,81,82,83,84,85,86,87,88,89,90,91,92,93,94,95,96,97,98,99],\"y\":[0.990990990990991,1.0,1.0,0.9819819819819819,0.990990990990991,0.9819819819819819,0.990990990990991,1.0,0.990990990990991,0.990990990990991,0.990990990990991,0.990990990990991,0.990990990990991,1.0,1.0,1.0,1.0,1.0,0.990990990990991,1.0,1.0,1.0,1.0,1.0,1.0,1.0,1.0,1.0,0.990990990990991,1.0,1.0,1.0,1.0,1.0,1.0,1.0,1.0,1.0,1.0,1.0,1.0,1.0,0.9819819819819819,0.990990990990991,1.0,1.0,1.0,1.0,1.0,1.0,1.0,1.0,1.0,0.990990990990991,1.0,1.0,1.0,1.0,0.990990990990991,1.0,0.9819819819819819,0.990990990990991,0.990990990990991,0.990990990990991,0.990990990990991,0.9819819819819819,0.990990990990991,0.990990990990991,1.0,0.990990990990991,1.0,0.990990990990991,0.9819819819819819,1.0,1.0,0.990990990990991,0.9819819819819819,1.0,1.0,0.990990990990991,1.0,0.9819819819819819,0.990990990990991,1.0,1.0,1.0,1.0,1.0,1.0,0.990990990990991,0.9819819819819819,1.0,1.0,1.0,1.0,0.990990990990991,1.0,1.0,1.0,1.0],\"type\":\"scatter\"},{\"marker\":{\"maxdisplayed\":10},\"mode\":\"lines+markers\",\"name\":\"Trial15\",\"x\":[0,1,2,3,4,5,6,7,8,9,10,11,12,13,14,15,16,17,18,19,20,21,22,23,24,25,26,27,28,29,30,31,32,33,34,35,36,37,38,39,40,41,42,43,44,45,46,47,48,49,50,51,52,53,54,55,56,57,58,59,60,61,62,63,64,65,66,67,68,69,70,71,72,73,74,75,76,77,78,79,80,81,82,83,84,85,86,87,88,89,90,91,92,93,94,95,96,97,98,99],\"y\":[0.990990990990991,0.990990990990991,0.990990990990991,0.990990990990991,0.9819819819819819,0.990990990990991,0.990990990990991,1.0,1.0,1.0,1.0,1.0,1.0,1.0,0.990990990990991,1.0,1.0,0.990990990990991,1.0,1.0,1.0,1.0,1.0,1.0,1.0,1.0,1.0,1.0,1.0,1.0,1.0,1.0,1.0,1.0,0.990990990990991,0.990990990990991,1.0,1.0,1.0,1.0,1.0,1.0,1.0,1.0,1.0,1.0,1.0,1.0,1.0,1.0,1.0,1.0,1.0,1.0,1.0,0.990990990990991,1.0,1.0,1.0,1.0,1.0,1.0,1.0,1.0,0.990990990990991,0.990990990990991,1.0,1.0,1.0,1.0,1.0,0.990990990990991,1.0,0.990990990990991,1.0,0.990990990990991,1.0,1.0,1.0,1.0,0.990990990990991,1.0,0.9819819819819819,0.9819819819819819,1.0,1.0,0.990990990990991,1.0,1.0,1.0,1.0,1.0,1.0,1.0,1.0,1.0,1.0,1.0,1.0,1.0],\"type\":\"scatter\"},{\"marker\":{\"maxdisplayed\":10},\"mode\":\"lines+markers\",\"name\":\"Trial16\",\"x\":[0],\"y\":[1.0],\"type\":\"scatter\"},{\"marker\":{\"maxdisplayed\":10},\"mode\":\"lines+markers\",\"name\":\"Trial17\",\"x\":[0],\"y\":[1.0],\"type\":\"scatter\"},{\"marker\":{\"maxdisplayed\":10},\"mode\":\"lines+markers\",\"name\":\"Trial18\",\"x\":[0,1,2,3,4,5,6,7,8,9,10,11,12,13,14,15,16,17,18,19,20,21,22,23,24,25,26,27,28,29,30,31,32,33,34,35,36,37,38,39,40,41,42,43,44,45,46,47,48,49,50,51,52,53,54,55,56,57,58,59,60,61,62,63,64,65,66,67,68,69,70,71,72,73,74,75,76,77,78,79,80,81,82,83,84,85,86,87,88,89,90,91,92,93,94,95,96,97,98,99],\"y\":[0.990990990990991,0.990990990990991,0.990990990990991,0.990990990990991,1.0,0.990990990990991,0.990990990990991,1.0,0.990990990990991,1.0,0.990990990990991,0.990990990990991,1.0,1.0,0.990990990990991,1.0,1.0,1.0,0.990990990990991,1.0,0.990990990990991,1.0,0.990990990990991,0.990990990990991,1.0,1.0,1.0,1.0,0.990990990990991,1.0,1.0,1.0,1.0,0.990990990990991,1.0,1.0,1.0,1.0,1.0,0.990990990990991,0.990990990990991,1.0,1.0,0.990990990990991,1.0,0.990990990990991,1.0,1.0,0.9819819819819819,0.990990990990991,1.0,0.990990990990991,1.0,1.0,0.990990990990991,1.0,0.990990990990991,0.990990990990991,1.0,0.990990990990991,1.0,1.0,1.0,0.990990990990991,0.990990990990991,1.0,1.0,1.0,1.0,1.0,1.0,1.0,0.990990990990991,0.990990990990991,1.0,0.990990990990991,0.9819819819819819,0.990990990990991,0.990990990990991,1.0,0.990990990990991,0.990990990990991,0.990990990990991,0.990990990990991,1.0,0.990990990990991,1.0,0.990990990990991,1.0,0.990990990990991,0.990990990990991,0.9819819819819819,0.990990990990991,1.0,1.0,1.0,0.990990990990991,1.0,0.990990990990991,0.990990990990991],\"type\":\"scatter\"},{\"marker\":{\"maxdisplayed\":10},\"mode\":\"lines+markers\",\"name\":\"Trial19\",\"x\":[0],\"y\":[1.0],\"type\":\"scatter\"}],                        {\"showlegend\":false,\"title\":{\"text\":\"Intermediate Values Plot\"},\"xaxis\":{\"title\":{\"text\":\"Step\"}},\"yaxis\":{\"title\":{\"text\":\"Intermediate Value\"}},\"template\":{\"data\":{\"bar\":[{\"error_x\":{\"color\":\"#2a3f5f\"},\"error_y\":{\"color\":\"#2a3f5f\"},\"marker\":{\"line\":{\"color\":\"#E5ECF6\",\"width\":0.5},\"pattern\":{\"fillmode\":\"overlay\",\"size\":10,\"solidity\":0.2}},\"type\":\"bar\"}],\"barpolar\":[{\"marker\":{\"line\":{\"color\":\"#E5ECF6\",\"width\":0.5},\"pattern\":{\"fillmode\":\"overlay\",\"size\":10,\"solidity\":0.2}},\"type\":\"barpolar\"}],\"carpet\":[{\"aaxis\":{\"endlinecolor\":\"#2a3f5f\",\"gridcolor\":\"white\",\"linecolor\":\"white\",\"minorgridcolor\":\"white\",\"startlinecolor\":\"#2a3f5f\"},\"baxis\":{\"endlinecolor\":\"#2a3f5f\",\"gridcolor\":\"white\",\"linecolor\":\"white\",\"minorgridcolor\":\"white\",\"startlinecolor\":\"#2a3f5f\"},\"type\":\"carpet\"}],\"choropleth\":[{\"colorbar\":{\"outlinewidth\":0,\"ticks\":\"\"},\"type\":\"choropleth\"}],\"contour\":[{\"colorbar\":{\"outlinewidth\":0,\"ticks\":\"\"},\"colorscale\":[[0.0,\"#0d0887\"],[0.1111111111111111,\"#46039f\"],[0.2222222222222222,\"#7201a8\"],[0.3333333333333333,\"#9c179e\"],[0.4444444444444444,\"#bd3786\"],[0.5555555555555556,\"#d8576b\"],[0.6666666666666666,\"#ed7953\"],[0.7777777777777778,\"#fb9f3a\"],[0.8888888888888888,\"#fdca26\"],[1.0,\"#f0f921\"]],\"type\":\"contour\"}],\"contourcarpet\":[{\"colorbar\":{\"outlinewidth\":0,\"ticks\":\"\"},\"type\":\"contourcarpet\"}],\"heatmap\":[{\"colorbar\":{\"outlinewidth\":0,\"ticks\":\"\"},\"colorscale\":[[0.0,\"#0d0887\"],[0.1111111111111111,\"#46039f\"],[0.2222222222222222,\"#7201a8\"],[0.3333333333333333,\"#9c179e\"],[0.4444444444444444,\"#bd3786\"],[0.5555555555555556,\"#d8576b\"],[0.6666666666666666,\"#ed7953\"],[0.7777777777777778,\"#fb9f3a\"],[0.8888888888888888,\"#fdca26\"],[1.0,\"#f0f921\"]],\"type\":\"heatmap\"}],\"heatmapgl\":[{\"colorbar\":{\"outlinewidth\":0,\"ticks\":\"\"},\"colorscale\":[[0.0,\"#0d0887\"],[0.1111111111111111,\"#46039f\"],[0.2222222222222222,\"#7201a8\"],[0.3333333333333333,\"#9c179e\"],[0.4444444444444444,\"#bd3786\"],[0.5555555555555556,\"#d8576b\"],[0.6666666666666666,\"#ed7953\"],[0.7777777777777778,\"#fb9f3a\"],[0.8888888888888888,\"#fdca26\"],[1.0,\"#f0f921\"]],\"type\":\"heatmapgl\"}],\"histogram\":[{\"marker\":{\"pattern\":{\"fillmode\":\"overlay\",\"size\":10,\"solidity\":0.2}},\"type\":\"histogram\"}],\"histogram2d\":[{\"colorbar\":{\"outlinewidth\":0,\"ticks\":\"\"},\"colorscale\":[[0.0,\"#0d0887\"],[0.1111111111111111,\"#46039f\"],[0.2222222222222222,\"#7201a8\"],[0.3333333333333333,\"#9c179e\"],[0.4444444444444444,\"#bd3786\"],[0.5555555555555556,\"#d8576b\"],[0.6666666666666666,\"#ed7953\"],[0.7777777777777778,\"#fb9f3a\"],[0.8888888888888888,\"#fdca26\"],[1.0,\"#f0f921\"]],\"type\":\"histogram2d\"}],\"histogram2dcontour\":[{\"colorbar\":{\"outlinewidth\":0,\"ticks\":\"\"},\"colorscale\":[[0.0,\"#0d0887\"],[0.1111111111111111,\"#46039f\"],[0.2222222222222222,\"#7201a8\"],[0.3333333333333333,\"#9c179e\"],[0.4444444444444444,\"#bd3786\"],[0.5555555555555556,\"#d8576b\"],[0.6666666666666666,\"#ed7953\"],[0.7777777777777778,\"#fb9f3a\"],[0.8888888888888888,\"#fdca26\"],[1.0,\"#f0f921\"]],\"type\":\"histogram2dcontour\"}],\"mesh3d\":[{\"colorbar\":{\"outlinewidth\":0,\"ticks\":\"\"},\"type\":\"mesh3d\"}],\"parcoords\":[{\"line\":{\"colorbar\":{\"outlinewidth\":0,\"ticks\":\"\"}},\"type\":\"parcoords\"}],\"pie\":[{\"automargin\":true,\"type\":\"pie\"}],\"scatter\":[{\"marker\":{\"colorbar\":{\"outlinewidth\":0,\"ticks\":\"\"}},\"type\":\"scatter\"}],\"scatter3d\":[{\"line\":{\"colorbar\":{\"outlinewidth\":0,\"ticks\":\"\"}},\"marker\":{\"colorbar\":{\"outlinewidth\":0,\"ticks\":\"\"}},\"type\":\"scatter3d\"}],\"scattercarpet\":[{\"marker\":{\"colorbar\":{\"outlinewidth\":0,\"ticks\":\"\"}},\"type\":\"scattercarpet\"}],\"scattergeo\":[{\"marker\":{\"colorbar\":{\"outlinewidth\":0,\"ticks\":\"\"}},\"type\":\"scattergeo\"}],\"scattergl\":[{\"marker\":{\"colorbar\":{\"outlinewidth\":0,\"ticks\":\"\"}},\"type\":\"scattergl\"}],\"scattermapbox\":[{\"marker\":{\"colorbar\":{\"outlinewidth\":0,\"ticks\":\"\"}},\"type\":\"scattermapbox\"}],\"scatterpolar\":[{\"marker\":{\"colorbar\":{\"outlinewidth\":0,\"ticks\":\"\"}},\"type\":\"scatterpolar\"}],\"scatterpolargl\":[{\"marker\":{\"colorbar\":{\"outlinewidth\":0,\"ticks\":\"\"}},\"type\":\"scatterpolargl\"}],\"scatterternary\":[{\"marker\":{\"colorbar\":{\"outlinewidth\":0,\"ticks\":\"\"}},\"type\":\"scatterternary\"}],\"surface\":[{\"colorbar\":{\"outlinewidth\":0,\"ticks\":\"\"},\"colorscale\":[[0.0,\"#0d0887\"],[0.1111111111111111,\"#46039f\"],[0.2222222222222222,\"#7201a8\"],[0.3333333333333333,\"#9c179e\"],[0.4444444444444444,\"#bd3786\"],[0.5555555555555556,\"#d8576b\"],[0.6666666666666666,\"#ed7953\"],[0.7777777777777778,\"#fb9f3a\"],[0.8888888888888888,\"#fdca26\"],[1.0,\"#f0f921\"]],\"type\":\"surface\"}],\"table\":[{\"cells\":{\"fill\":{\"color\":\"#EBF0F8\"},\"line\":{\"color\":\"white\"}},\"header\":{\"fill\":{\"color\":\"#C8D4E3\"},\"line\":{\"color\":\"white\"}},\"type\":\"table\"}]},\"layout\":{\"annotationdefaults\":{\"arrowcolor\":\"#2a3f5f\",\"arrowhead\":0,\"arrowwidth\":1},\"autotypenumbers\":\"strict\",\"coloraxis\":{\"colorbar\":{\"outlinewidth\":0,\"ticks\":\"\"}},\"colorscale\":{\"diverging\":[[0,\"#8e0152\"],[0.1,\"#c51b7d\"],[0.2,\"#de77ae\"],[0.3,\"#f1b6da\"],[0.4,\"#fde0ef\"],[0.5,\"#f7f7f7\"],[0.6,\"#e6f5d0\"],[0.7,\"#b8e186\"],[0.8,\"#7fbc41\"],[0.9,\"#4d9221\"],[1,\"#276419\"]],\"sequential\":[[0.0,\"#0d0887\"],[0.1111111111111111,\"#46039f\"],[0.2222222222222222,\"#7201a8\"],[0.3333333333333333,\"#9c179e\"],[0.4444444444444444,\"#bd3786\"],[0.5555555555555556,\"#d8576b\"],[0.6666666666666666,\"#ed7953\"],[0.7777777777777778,\"#fb9f3a\"],[0.8888888888888888,\"#fdca26\"],[1.0,\"#f0f921\"]],\"sequentialminus\":[[0.0,\"#0d0887\"],[0.1111111111111111,\"#46039f\"],[0.2222222222222222,\"#7201a8\"],[0.3333333333333333,\"#9c179e\"],[0.4444444444444444,\"#bd3786\"],[0.5555555555555556,\"#d8576b\"],[0.6666666666666666,\"#ed7953\"],[0.7777777777777778,\"#fb9f3a\"],[0.8888888888888888,\"#fdca26\"],[1.0,\"#f0f921\"]]},\"colorway\":[\"#636efa\",\"#EF553B\",\"#00cc96\",\"#ab63fa\",\"#FFA15A\",\"#19d3f3\",\"#FF6692\",\"#B6E880\",\"#FF97FF\",\"#FECB52\"],\"font\":{\"color\":\"#2a3f5f\"},\"geo\":{\"bgcolor\":\"white\",\"lakecolor\":\"white\",\"landcolor\":\"#E5ECF6\",\"showlakes\":true,\"showland\":true,\"subunitcolor\":\"white\"},\"hoverlabel\":{\"align\":\"left\"},\"hovermode\":\"closest\",\"mapbox\":{\"style\":\"light\"},\"paper_bgcolor\":\"white\",\"plot_bgcolor\":\"#E5ECF6\",\"polar\":{\"angularaxis\":{\"gridcolor\":\"white\",\"linecolor\":\"white\",\"ticks\":\"\"},\"bgcolor\":\"#E5ECF6\",\"radialaxis\":{\"gridcolor\":\"white\",\"linecolor\":\"white\",\"ticks\":\"\"}},\"scene\":{\"xaxis\":{\"backgroundcolor\":\"#E5ECF6\",\"gridcolor\":\"white\",\"gridwidth\":2,\"linecolor\":\"white\",\"showbackground\":true,\"ticks\":\"\",\"zerolinecolor\":\"white\"},\"yaxis\":{\"backgroundcolor\":\"#E5ECF6\",\"gridcolor\":\"white\",\"gridwidth\":2,\"linecolor\":\"white\",\"showbackground\":true,\"ticks\":\"\",\"zerolinecolor\":\"white\"},\"zaxis\":{\"backgroundcolor\":\"#E5ECF6\",\"gridcolor\":\"white\",\"gridwidth\":2,\"linecolor\":\"white\",\"showbackground\":true,\"ticks\":\"\",\"zerolinecolor\":\"white\"}},\"shapedefaults\":{\"line\":{\"color\":\"#2a3f5f\"}},\"ternary\":{\"aaxis\":{\"gridcolor\":\"white\",\"linecolor\":\"white\",\"ticks\":\"\"},\"baxis\":{\"gridcolor\":\"white\",\"linecolor\":\"white\",\"ticks\":\"\"},\"bgcolor\":\"#E5ECF6\",\"caxis\":{\"gridcolor\":\"white\",\"linecolor\":\"white\",\"ticks\":\"\"}},\"title\":{\"x\":0.05},\"xaxis\":{\"automargin\":true,\"gridcolor\":\"white\",\"linecolor\":\"white\",\"ticks\":\"\",\"title\":{\"standoff\":15},\"zerolinecolor\":\"white\",\"zerolinewidth\":2},\"yaxis\":{\"automargin\":true,\"gridcolor\":\"white\",\"linecolor\":\"white\",\"ticks\":\"\",\"title\":{\"standoff\":15},\"zerolinecolor\":\"white\",\"zerolinewidth\":2}}}},                        {\"responsive\": true}                    ).then(function(){\n",
              "                            \n",
              "var gd = document.getElementById('a8890b84-a08a-481d-99a2-c7866878c093');\n",
              "var x = new MutationObserver(function (mutations, observer) {{\n",
              "        var display = window.getComputedStyle(gd).display;\n",
              "        if (!display || display === 'none') {{\n",
              "            console.log([gd, 'removed!']);\n",
              "            Plotly.purge(gd);\n",
              "            observer.disconnect();\n",
              "        }}\n",
              "}});\n",
              "\n",
              "// Listen for the removal of the full notebook cells\n",
              "var notebookContainer = gd.closest('#notebook-container');\n",
              "if (notebookContainer) {{\n",
              "    x.observe(notebookContainer, {childList: true});\n",
              "}}\n",
              "\n",
              "// Listen for the clearing of the current output cell\n",
              "var outputEl = gd.closest('.output');\n",
              "if (outputEl) {{\n",
              "    x.observe(outputEl, {childList: true});\n",
              "}}\n",
              "\n",
              "                        })                };                            </script>        </div>\n",
              "</body>\n",
              "</html>"
            ]
          },
          "metadata": {}
        }
      ]
    },
    {
      "cell_type": "code",
      "source": [
        "plot_parallel_coordinate(study)"
      ],
      "metadata": {
        "colab": {
          "base_uri": "https://localhost:8080/",
          "height": 542
        },
        "id": "LDE-pHolFZcP",
        "outputId": "872cf97f-f763-4471-c131-e72add75a59b"
      },
      "execution_count": 51,
      "outputs": [
        {
          "output_type": "display_data",
          "data": {
            "text/html": [
              "<html>\n",
              "<head><meta charset=\"utf-8\" /></head>\n",
              "<body>\n",
              "    <div>            <script src=\"https://cdnjs.cloudflare.com/ajax/libs/mathjax/2.7.5/MathJax.js?config=TeX-AMS-MML_SVG\"></script><script type=\"text/javascript\">if (window.MathJax) {MathJax.Hub.Config({SVG: {font: \"STIX-Web\"}});}</script>                <script type=\"text/javascript\">window.PlotlyConfig = {MathJaxConfig: 'local'};</script>\n",
              "        <script src=\"https://cdn.plot.ly/plotly-2.8.3.min.js\"></script>                <div id=\"aea48ad9-ea3d-4492-a969-ecaaee9fde0a\" class=\"plotly-graph-div\" style=\"height:525px; width:100%;\"></div>            <script type=\"text/javascript\">                                    window.PLOTLYENV=window.PLOTLYENV || {};                                    if (document.getElementById(\"aea48ad9-ea3d-4492-a969-ecaaee9fde0a\")) {                    Plotly.newPlot(                        \"aea48ad9-ea3d-4492-a969-ecaaee9fde0a\",                        [{\"dimensions\":[{\"label\":\"Objective Value\",\"range\":[0.9819819819819819,1.0],\"values\":[1.0,0.990990990990991,1.0,1.0,1.0,0.990990990990991,0.990990990990991,0.9819819819819819,1.0,1.0,1.0,1.0,1.0,1.0,0.990990990990991]},{\"label\":\"alpha\",\"range\":[-4.891831756761655,-1.049296053240261],\"ticktext\":[\"1.28e-05\",\"0.0001\",\"0.001\",\"0.01\",\"0.0893\"],\"tickvals\":[-4.891831756761655,-4,-3,-2,-1.049296053240261],\"values\":[-3.81961278733363,-1.710979050961785,-2.124448182252148,-2.8658363688688904,-1.3898175692489314,-2.3591391339376795,-1.5083224019145034,-2.4462244892246807,-3.9226660353068272,-4.891831756761655,-2.001587695032881,-2.7224385728023033,-1.7853913436997084,-1.049296053240261,-1.743520616074186]}],\"labelangle\":30,\"labelside\":\"bottom\",\"line\":{\"color\":[1.0,0.990990990990991,1.0,1.0,1.0,0.990990990990991,0.990990990990991,0.9819819819819819,1.0,1.0,1.0,1.0,1.0,1.0,0.990990990990991],\"colorbar\":{\"title\":{\"text\":\"Objective Value\"}},\"colorscale\":[[0.0,\"rgb(247,251,255)\"],[0.125,\"rgb(222,235,247)\"],[0.25,\"rgb(198,219,239)\"],[0.375,\"rgb(158,202,225)\"],[0.5,\"rgb(107,174,214)\"],[0.625,\"rgb(66,146,198)\"],[0.75,\"rgb(33,113,181)\"],[0.875,\"rgb(8,81,156)\"],[1.0,\"rgb(8,48,107)\"]],\"reversescale\":true,\"showscale\":true},\"type\":\"parcoords\"}],                        {\"title\":{\"text\":\"Parallel Coordinate Plot\"},\"template\":{\"data\":{\"bar\":[{\"error_x\":{\"color\":\"#2a3f5f\"},\"error_y\":{\"color\":\"#2a3f5f\"},\"marker\":{\"line\":{\"color\":\"#E5ECF6\",\"width\":0.5},\"pattern\":{\"fillmode\":\"overlay\",\"size\":10,\"solidity\":0.2}},\"type\":\"bar\"}],\"barpolar\":[{\"marker\":{\"line\":{\"color\":\"#E5ECF6\",\"width\":0.5},\"pattern\":{\"fillmode\":\"overlay\",\"size\":10,\"solidity\":0.2}},\"type\":\"barpolar\"}],\"carpet\":[{\"aaxis\":{\"endlinecolor\":\"#2a3f5f\",\"gridcolor\":\"white\",\"linecolor\":\"white\",\"minorgridcolor\":\"white\",\"startlinecolor\":\"#2a3f5f\"},\"baxis\":{\"endlinecolor\":\"#2a3f5f\",\"gridcolor\":\"white\",\"linecolor\":\"white\",\"minorgridcolor\":\"white\",\"startlinecolor\":\"#2a3f5f\"},\"type\":\"carpet\"}],\"choropleth\":[{\"colorbar\":{\"outlinewidth\":0,\"ticks\":\"\"},\"type\":\"choropleth\"}],\"contour\":[{\"colorbar\":{\"outlinewidth\":0,\"ticks\":\"\"},\"colorscale\":[[0.0,\"#0d0887\"],[0.1111111111111111,\"#46039f\"],[0.2222222222222222,\"#7201a8\"],[0.3333333333333333,\"#9c179e\"],[0.4444444444444444,\"#bd3786\"],[0.5555555555555556,\"#d8576b\"],[0.6666666666666666,\"#ed7953\"],[0.7777777777777778,\"#fb9f3a\"],[0.8888888888888888,\"#fdca26\"],[1.0,\"#f0f921\"]],\"type\":\"contour\"}],\"contourcarpet\":[{\"colorbar\":{\"outlinewidth\":0,\"ticks\":\"\"},\"type\":\"contourcarpet\"}],\"heatmap\":[{\"colorbar\":{\"outlinewidth\":0,\"ticks\":\"\"},\"colorscale\":[[0.0,\"#0d0887\"],[0.1111111111111111,\"#46039f\"],[0.2222222222222222,\"#7201a8\"],[0.3333333333333333,\"#9c179e\"],[0.4444444444444444,\"#bd3786\"],[0.5555555555555556,\"#d8576b\"],[0.6666666666666666,\"#ed7953\"],[0.7777777777777778,\"#fb9f3a\"],[0.8888888888888888,\"#fdca26\"],[1.0,\"#f0f921\"]],\"type\":\"heatmap\"}],\"heatmapgl\":[{\"colorbar\":{\"outlinewidth\":0,\"ticks\":\"\"},\"colorscale\":[[0.0,\"#0d0887\"],[0.1111111111111111,\"#46039f\"],[0.2222222222222222,\"#7201a8\"],[0.3333333333333333,\"#9c179e\"],[0.4444444444444444,\"#bd3786\"],[0.5555555555555556,\"#d8576b\"],[0.6666666666666666,\"#ed7953\"],[0.7777777777777778,\"#fb9f3a\"],[0.8888888888888888,\"#fdca26\"],[1.0,\"#f0f921\"]],\"type\":\"heatmapgl\"}],\"histogram\":[{\"marker\":{\"pattern\":{\"fillmode\":\"overlay\",\"size\":10,\"solidity\":0.2}},\"type\":\"histogram\"}],\"histogram2d\":[{\"colorbar\":{\"outlinewidth\":0,\"ticks\":\"\"},\"colorscale\":[[0.0,\"#0d0887\"],[0.1111111111111111,\"#46039f\"],[0.2222222222222222,\"#7201a8\"],[0.3333333333333333,\"#9c179e\"],[0.4444444444444444,\"#bd3786\"],[0.5555555555555556,\"#d8576b\"],[0.6666666666666666,\"#ed7953\"],[0.7777777777777778,\"#fb9f3a\"],[0.8888888888888888,\"#fdca26\"],[1.0,\"#f0f921\"]],\"type\":\"histogram2d\"}],\"histogram2dcontour\":[{\"colorbar\":{\"outlinewidth\":0,\"ticks\":\"\"},\"colorscale\":[[0.0,\"#0d0887\"],[0.1111111111111111,\"#46039f\"],[0.2222222222222222,\"#7201a8\"],[0.3333333333333333,\"#9c179e\"],[0.4444444444444444,\"#bd3786\"],[0.5555555555555556,\"#d8576b\"],[0.6666666666666666,\"#ed7953\"],[0.7777777777777778,\"#fb9f3a\"],[0.8888888888888888,\"#fdca26\"],[1.0,\"#f0f921\"]],\"type\":\"histogram2dcontour\"}],\"mesh3d\":[{\"colorbar\":{\"outlinewidth\":0,\"ticks\":\"\"},\"type\":\"mesh3d\"}],\"parcoords\":[{\"line\":{\"colorbar\":{\"outlinewidth\":0,\"ticks\":\"\"}},\"type\":\"parcoords\"}],\"pie\":[{\"automargin\":true,\"type\":\"pie\"}],\"scatter\":[{\"marker\":{\"colorbar\":{\"outlinewidth\":0,\"ticks\":\"\"}},\"type\":\"scatter\"}],\"scatter3d\":[{\"line\":{\"colorbar\":{\"outlinewidth\":0,\"ticks\":\"\"}},\"marker\":{\"colorbar\":{\"outlinewidth\":0,\"ticks\":\"\"}},\"type\":\"scatter3d\"}],\"scattercarpet\":[{\"marker\":{\"colorbar\":{\"outlinewidth\":0,\"ticks\":\"\"}},\"type\":\"scattercarpet\"}],\"scattergeo\":[{\"marker\":{\"colorbar\":{\"outlinewidth\":0,\"ticks\":\"\"}},\"type\":\"scattergeo\"}],\"scattergl\":[{\"marker\":{\"colorbar\":{\"outlinewidth\":0,\"ticks\":\"\"}},\"type\":\"scattergl\"}],\"scattermapbox\":[{\"marker\":{\"colorbar\":{\"outlinewidth\":0,\"ticks\":\"\"}},\"type\":\"scattermapbox\"}],\"scatterpolar\":[{\"marker\":{\"colorbar\":{\"outlinewidth\":0,\"ticks\":\"\"}},\"type\":\"scatterpolar\"}],\"scatterpolargl\":[{\"marker\":{\"colorbar\":{\"outlinewidth\":0,\"ticks\":\"\"}},\"type\":\"scatterpolargl\"}],\"scatterternary\":[{\"marker\":{\"colorbar\":{\"outlinewidth\":0,\"ticks\":\"\"}},\"type\":\"scatterternary\"}],\"surface\":[{\"colorbar\":{\"outlinewidth\":0,\"ticks\":\"\"},\"colorscale\":[[0.0,\"#0d0887\"],[0.1111111111111111,\"#46039f\"],[0.2222222222222222,\"#7201a8\"],[0.3333333333333333,\"#9c179e\"],[0.4444444444444444,\"#bd3786\"],[0.5555555555555556,\"#d8576b\"],[0.6666666666666666,\"#ed7953\"],[0.7777777777777778,\"#fb9f3a\"],[0.8888888888888888,\"#fdca26\"],[1.0,\"#f0f921\"]],\"type\":\"surface\"}],\"table\":[{\"cells\":{\"fill\":{\"color\":\"#EBF0F8\"},\"line\":{\"color\":\"white\"}},\"header\":{\"fill\":{\"color\":\"#C8D4E3\"},\"line\":{\"color\":\"white\"}},\"type\":\"table\"}]},\"layout\":{\"annotationdefaults\":{\"arrowcolor\":\"#2a3f5f\",\"arrowhead\":0,\"arrowwidth\":1},\"autotypenumbers\":\"strict\",\"coloraxis\":{\"colorbar\":{\"outlinewidth\":0,\"ticks\":\"\"}},\"colorscale\":{\"diverging\":[[0,\"#8e0152\"],[0.1,\"#c51b7d\"],[0.2,\"#de77ae\"],[0.3,\"#f1b6da\"],[0.4,\"#fde0ef\"],[0.5,\"#f7f7f7\"],[0.6,\"#e6f5d0\"],[0.7,\"#b8e186\"],[0.8,\"#7fbc41\"],[0.9,\"#4d9221\"],[1,\"#276419\"]],\"sequential\":[[0.0,\"#0d0887\"],[0.1111111111111111,\"#46039f\"],[0.2222222222222222,\"#7201a8\"],[0.3333333333333333,\"#9c179e\"],[0.4444444444444444,\"#bd3786\"],[0.5555555555555556,\"#d8576b\"],[0.6666666666666666,\"#ed7953\"],[0.7777777777777778,\"#fb9f3a\"],[0.8888888888888888,\"#fdca26\"],[1.0,\"#f0f921\"]],\"sequentialminus\":[[0.0,\"#0d0887\"],[0.1111111111111111,\"#46039f\"],[0.2222222222222222,\"#7201a8\"],[0.3333333333333333,\"#9c179e\"],[0.4444444444444444,\"#bd3786\"],[0.5555555555555556,\"#d8576b\"],[0.6666666666666666,\"#ed7953\"],[0.7777777777777778,\"#fb9f3a\"],[0.8888888888888888,\"#fdca26\"],[1.0,\"#f0f921\"]]},\"colorway\":[\"#636efa\",\"#EF553B\",\"#00cc96\",\"#ab63fa\",\"#FFA15A\",\"#19d3f3\",\"#FF6692\",\"#B6E880\",\"#FF97FF\",\"#FECB52\"],\"font\":{\"color\":\"#2a3f5f\"},\"geo\":{\"bgcolor\":\"white\",\"lakecolor\":\"white\",\"landcolor\":\"#E5ECF6\",\"showlakes\":true,\"showland\":true,\"subunitcolor\":\"white\"},\"hoverlabel\":{\"align\":\"left\"},\"hovermode\":\"closest\",\"mapbox\":{\"style\":\"light\"},\"paper_bgcolor\":\"white\",\"plot_bgcolor\":\"#E5ECF6\",\"polar\":{\"angularaxis\":{\"gridcolor\":\"white\",\"linecolor\":\"white\",\"ticks\":\"\"},\"bgcolor\":\"#E5ECF6\",\"radialaxis\":{\"gridcolor\":\"white\",\"linecolor\":\"white\",\"ticks\":\"\"}},\"scene\":{\"xaxis\":{\"backgroundcolor\":\"#E5ECF6\",\"gridcolor\":\"white\",\"gridwidth\":2,\"linecolor\":\"white\",\"showbackground\":true,\"ticks\":\"\",\"zerolinecolor\":\"white\"},\"yaxis\":{\"backgroundcolor\":\"#E5ECF6\",\"gridcolor\":\"white\",\"gridwidth\":2,\"linecolor\":\"white\",\"showbackground\":true,\"ticks\":\"\",\"zerolinecolor\":\"white\"},\"zaxis\":{\"backgroundcolor\":\"#E5ECF6\",\"gridcolor\":\"white\",\"gridwidth\":2,\"linecolor\":\"white\",\"showbackground\":true,\"ticks\":\"\",\"zerolinecolor\":\"white\"}},\"shapedefaults\":{\"line\":{\"color\":\"#2a3f5f\"}},\"ternary\":{\"aaxis\":{\"gridcolor\":\"white\",\"linecolor\":\"white\",\"ticks\":\"\"},\"baxis\":{\"gridcolor\":\"white\",\"linecolor\":\"white\",\"ticks\":\"\"},\"bgcolor\":\"#E5ECF6\",\"caxis\":{\"gridcolor\":\"white\",\"linecolor\":\"white\",\"ticks\":\"\"}},\"title\":{\"x\":0.05},\"xaxis\":{\"automargin\":true,\"gridcolor\":\"white\",\"linecolor\":\"white\",\"ticks\":\"\",\"title\":{\"standoff\":15},\"zerolinecolor\":\"white\",\"zerolinewidth\":2},\"yaxis\":{\"automargin\":true,\"gridcolor\":\"white\",\"linecolor\":\"white\",\"ticks\":\"\",\"title\":{\"standoff\":15},\"zerolinecolor\":\"white\",\"zerolinewidth\":2}}}},                        {\"responsive\": true}                    ).then(function(){\n",
              "                            \n",
              "var gd = document.getElementById('aea48ad9-ea3d-4492-a969-ecaaee9fde0a');\n",
              "var x = new MutationObserver(function (mutations, observer) {{\n",
              "        var display = window.getComputedStyle(gd).display;\n",
              "        if (!display || display === 'none') {{\n",
              "            console.log([gd, 'removed!']);\n",
              "            Plotly.purge(gd);\n",
              "            observer.disconnect();\n",
              "        }}\n",
              "}});\n",
              "\n",
              "// Listen for the removal of the full notebook cells\n",
              "var notebookContainer = gd.closest('#notebook-container');\n",
              "if (notebookContainer) {{\n",
              "    x.observe(notebookContainer, {childList: true});\n",
              "}}\n",
              "\n",
              "// Listen for the clearing of the current output cell\n",
              "var outputEl = gd.closest('.output');\n",
              "if (outputEl) {{\n",
              "    x.observe(outputEl, {childList: true});\n",
              "}}\n",
              "\n",
              "                        })                };                            </script>        </div>\n",
              "</body>\n",
              "</html>"
            ]
          },
          "metadata": {}
        }
      ]
    },
    {
      "cell_type": "code",
      "source": [
        "plot_slice(study)"
      ],
      "metadata": {
        "colab": {
          "base_uri": "https://localhost:8080/",
          "height": 542
        },
        "id": "SJLv78IqFaJm",
        "outputId": "a5a268f2-647f-41d9-c795-94aee0d8d96c"
      },
      "execution_count": 52,
      "outputs": [
        {
          "output_type": "display_data",
          "data": {
            "text/html": [
              "<html>\n",
              "<head><meta charset=\"utf-8\" /></head>\n",
              "<body>\n",
              "    <div>            <script src=\"https://cdnjs.cloudflare.com/ajax/libs/mathjax/2.7.5/MathJax.js?config=TeX-AMS-MML_SVG\"></script><script type=\"text/javascript\">if (window.MathJax) {MathJax.Hub.Config({SVG: {font: \"STIX-Web\"}});}</script>                <script type=\"text/javascript\">window.PlotlyConfig = {MathJaxConfig: 'local'};</script>\n",
              "        <script src=\"https://cdn.plot.ly/plotly-2.8.3.min.js\"></script>                <div id=\"24d1d7e0-2f52-4d85-8850-5553673f9ab1\" class=\"plotly-graph-div\" style=\"height:525px; width:100%;\"></div>            <script type=\"text/javascript\">                                    window.PLOTLYENV=window.PLOTLYENV || {};                                    if (document.getElementById(\"24d1d7e0-2f52-4d85-8850-5553673f9ab1\")) {                    Plotly.newPlot(                        \"24d1d7e0-2f52-4d85-8850-5553673f9ab1\",                        [{\"marker\":{\"color\":[0,1,2,3,4,5,6,7,8,10,11,13,14,15,18],\"colorbar\":{\"title\":{\"text\":\"Trial\"},\"x\":1.0,\"xpad\":40},\"colorscale\":[[0.0,\"rgb(247,251,255)\"],[0.125,\"rgb(222,235,247)\"],[0.25,\"rgb(198,219,239)\"],[0.375,\"rgb(158,202,225)\"],[0.5,\"rgb(107,174,214)\"],[0.625,\"rgb(66,146,198)\"],[0.75,\"rgb(33,113,181)\"],[0.875,\"rgb(8,81,156)\"],[1.0,\"rgb(8,48,107)\"]],\"line\":{\"color\":\"Grey\",\"width\":0.5}},\"mode\":\"markers\",\"showlegend\":false,\"x\":[0.00015149113264500117,0.019454539221095118,0.007508476359914243,0.001361957736892893,0.04075514388585923,0.0043738195964448294,0.031022557492135033,0.0035791138290151557,0.00011949066130860707,1.2828274465424912e-05,0.00996350871396744,0.001894791497271026,0.01639112100063387,0.0892696735814812,0.018050090508396642],\"y\":[1.0,0.990990990990991,1.0,1.0,1.0,0.990990990990991,0.990990990990991,0.9819819819819819,1.0,1.0,1.0,1.0,1.0,1.0,0.990990990990991],\"type\":\"scatter\"}],                        {\"title\":{\"text\":\"Slice Plot\"},\"template\":{\"data\":{\"bar\":[{\"error_x\":{\"color\":\"#2a3f5f\"},\"error_y\":{\"color\":\"#2a3f5f\"},\"marker\":{\"line\":{\"color\":\"#E5ECF6\",\"width\":0.5},\"pattern\":{\"fillmode\":\"overlay\",\"size\":10,\"solidity\":0.2}},\"type\":\"bar\"}],\"barpolar\":[{\"marker\":{\"line\":{\"color\":\"#E5ECF6\",\"width\":0.5},\"pattern\":{\"fillmode\":\"overlay\",\"size\":10,\"solidity\":0.2}},\"type\":\"barpolar\"}],\"carpet\":[{\"aaxis\":{\"endlinecolor\":\"#2a3f5f\",\"gridcolor\":\"white\",\"linecolor\":\"white\",\"minorgridcolor\":\"white\",\"startlinecolor\":\"#2a3f5f\"},\"baxis\":{\"endlinecolor\":\"#2a3f5f\",\"gridcolor\":\"white\",\"linecolor\":\"white\",\"minorgridcolor\":\"white\",\"startlinecolor\":\"#2a3f5f\"},\"type\":\"carpet\"}],\"choropleth\":[{\"colorbar\":{\"outlinewidth\":0,\"ticks\":\"\"},\"type\":\"choropleth\"}],\"contour\":[{\"colorbar\":{\"outlinewidth\":0,\"ticks\":\"\"},\"colorscale\":[[0.0,\"#0d0887\"],[0.1111111111111111,\"#46039f\"],[0.2222222222222222,\"#7201a8\"],[0.3333333333333333,\"#9c179e\"],[0.4444444444444444,\"#bd3786\"],[0.5555555555555556,\"#d8576b\"],[0.6666666666666666,\"#ed7953\"],[0.7777777777777778,\"#fb9f3a\"],[0.8888888888888888,\"#fdca26\"],[1.0,\"#f0f921\"]],\"type\":\"contour\"}],\"contourcarpet\":[{\"colorbar\":{\"outlinewidth\":0,\"ticks\":\"\"},\"type\":\"contourcarpet\"}],\"heatmap\":[{\"colorbar\":{\"outlinewidth\":0,\"ticks\":\"\"},\"colorscale\":[[0.0,\"#0d0887\"],[0.1111111111111111,\"#46039f\"],[0.2222222222222222,\"#7201a8\"],[0.3333333333333333,\"#9c179e\"],[0.4444444444444444,\"#bd3786\"],[0.5555555555555556,\"#d8576b\"],[0.6666666666666666,\"#ed7953\"],[0.7777777777777778,\"#fb9f3a\"],[0.8888888888888888,\"#fdca26\"],[1.0,\"#f0f921\"]],\"type\":\"heatmap\"}],\"heatmapgl\":[{\"colorbar\":{\"outlinewidth\":0,\"ticks\":\"\"},\"colorscale\":[[0.0,\"#0d0887\"],[0.1111111111111111,\"#46039f\"],[0.2222222222222222,\"#7201a8\"],[0.3333333333333333,\"#9c179e\"],[0.4444444444444444,\"#bd3786\"],[0.5555555555555556,\"#d8576b\"],[0.6666666666666666,\"#ed7953\"],[0.7777777777777778,\"#fb9f3a\"],[0.8888888888888888,\"#fdca26\"],[1.0,\"#f0f921\"]],\"type\":\"heatmapgl\"}],\"histogram\":[{\"marker\":{\"pattern\":{\"fillmode\":\"overlay\",\"size\":10,\"solidity\":0.2}},\"type\":\"histogram\"}],\"histogram2d\":[{\"colorbar\":{\"outlinewidth\":0,\"ticks\":\"\"},\"colorscale\":[[0.0,\"#0d0887\"],[0.1111111111111111,\"#46039f\"],[0.2222222222222222,\"#7201a8\"],[0.3333333333333333,\"#9c179e\"],[0.4444444444444444,\"#bd3786\"],[0.5555555555555556,\"#d8576b\"],[0.6666666666666666,\"#ed7953\"],[0.7777777777777778,\"#fb9f3a\"],[0.8888888888888888,\"#fdca26\"],[1.0,\"#f0f921\"]],\"type\":\"histogram2d\"}],\"histogram2dcontour\":[{\"colorbar\":{\"outlinewidth\":0,\"ticks\":\"\"},\"colorscale\":[[0.0,\"#0d0887\"],[0.1111111111111111,\"#46039f\"],[0.2222222222222222,\"#7201a8\"],[0.3333333333333333,\"#9c179e\"],[0.4444444444444444,\"#bd3786\"],[0.5555555555555556,\"#d8576b\"],[0.6666666666666666,\"#ed7953\"],[0.7777777777777778,\"#fb9f3a\"],[0.8888888888888888,\"#fdca26\"],[1.0,\"#f0f921\"]],\"type\":\"histogram2dcontour\"}],\"mesh3d\":[{\"colorbar\":{\"outlinewidth\":0,\"ticks\":\"\"},\"type\":\"mesh3d\"}],\"parcoords\":[{\"line\":{\"colorbar\":{\"outlinewidth\":0,\"ticks\":\"\"}},\"type\":\"parcoords\"}],\"pie\":[{\"automargin\":true,\"type\":\"pie\"}],\"scatter\":[{\"marker\":{\"colorbar\":{\"outlinewidth\":0,\"ticks\":\"\"}},\"type\":\"scatter\"}],\"scatter3d\":[{\"line\":{\"colorbar\":{\"outlinewidth\":0,\"ticks\":\"\"}},\"marker\":{\"colorbar\":{\"outlinewidth\":0,\"ticks\":\"\"}},\"type\":\"scatter3d\"}],\"scattercarpet\":[{\"marker\":{\"colorbar\":{\"outlinewidth\":0,\"ticks\":\"\"}},\"type\":\"scattercarpet\"}],\"scattergeo\":[{\"marker\":{\"colorbar\":{\"outlinewidth\":0,\"ticks\":\"\"}},\"type\":\"scattergeo\"}],\"scattergl\":[{\"marker\":{\"colorbar\":{\"outlinewidth\":0,\"ticks\":\"\"}},\"type\":\"scattergl\"}],\"scattermapbox\":[{\"marker\":{\"colorbar\":{\"outlinewidth\":0,\"ticks\":\"\"}},\"type\":\"scattermapbox\"}],\"scatterpolar\":[{\"marker\":{\"colorbar\":{\"outlinewidth\":0,\"ticks\":\"\"}},\"type\":\"scatterpolar\"}],\"scatterpolargl\":[{\"marker\":{\"colorbar\":{\"outlinewidth\":0,\"ticks\":\"\"}},\"type\":\"scatterpolargl\"}],\"scatterternary\":[{\"marker\":{\"colorbar\":{\"outlinewidth\":0,\"ticks\":\"\"}},\"type\":\"scatterternary\"}],\"surface\":[{\"colorbar\":{\"outlinewidth\":0,\"ticks\":\"\"},\"colorscale\":[[0.0,\"#0d0887\"],[0.1111111111111111,\"#46039f\"],[0.2222222222222222,\"#7201a8\"],[0.3333333333333333,\"#9c179e\"],[0.4444444444444444,\"#bd3786\"],[0.5555555555555556,\"#d8576b\"],[0.6666666666666666,\"#ed7953\"],[0.7777777777777778,\"#fb9f3a\"],[0.8888888888888888,\"#fdca26\"],[1.0,\"#f0f921\"]],\"type\":\"surface\"}],\"table\":[{\"cells\":{\"fill\":{\"color\":\"#EBF0F8\"},\"line\":{\"color\":\"white\"}},\"header\":{\"fill\":{\"color\":\"#C8D4E3\"},\"line\":{\"color\":\"white\"}},\"type\":\"table\"}]},\"layout\":{\"annotationdefaults\":{\"arrowcolor\":\"#2a3f5f\",\"arrowhead\":0,\"arrowwidth\":1},\"autotypenumbers\":\"strict\",\"coloraxis\":{\"colorbar\":{\"outlinewidth\":0,\"ticks\":\"\"}},\"colorscale\":{\"diverging\":[[0,\"#8e0152\"],[0.1,\"#c51b7d\"],[0.2,\"#de77ae\"],[0.3,\"#f1b6da\"],[0.4,\"#fde0ef\"],[0.5,\"#f7f7f7\"],[0.6,\"#e6f5d0\"],[0.7,\"#b8e186\"],[0.8,\"#7fbc41\"],[0.9,\"#4d9221\"],[1,\"#276419\"]],\"sequential\":[[0.0,\"#0d0887\"],[0.1111111111111111,\"#46039f\"],[0.2222222222222222,\"#7201a8\"],[0.3333333333333333,\"#9c179e\"],[0.4444444444444444,\"#bd3786\"],[0.5555555555555556,\"#d8576b\"],[0.6666666666666666,\"#ed7953\"],[0.7777777777777778,\"#fb9f3a\"],[0.8888888888888888,\"#fdca26\"],[1.0,\"#f0f921\"]],\"sequentialminus\":[[0.0,\"#0d0887\"],[0.1111111111111111,\"#46039f\"],[0.2222222222222222,\"#7201a8\"],[0.3333333333333333,\"#9c179e\"],[0.4444444444444444,\"#bd3786\"],[0.5555555555555556,\"#d8576b\"],[0.6666666666666666,\"#ed7953\"],[0.7777777777777778,\"#fb9f3a\"],[0.8888888888888888,\"#fdca26\"],[1.0,\"#f0f921\"]]},\"colorway\":[\"#636efa\",\"#EF553B\",\"#00cc96\",\"#ab63fa\",\"#FFA15A\",\"#19d3f3\",\"#FF6692\",\"#B6E880\",\"#FF97FF\",\"#FECB52\"],\"font\":{\"color\":\"#2a3f5f\"},\"geo\":{\"bgcolor\":\"white\",\"lakecolor\":\"white\",\"landcolor\":\"#E5ECF6\",\"showlakes\":true,\"showland\":true,\"subunitcolor\":\"white\"},\"hoverlabel\":{\"align\":\"left\"},\"hovermode\":\"closest\",\"mapbox\":{\"style\":\"light\"},\"paper_bgcolor\":\"white\",\"plot_bgcolor\":\"#E5ECF6\",\"polar\":{\"angularaxis\":{\"gridcolor\":\"white\",\"linecolor\":\"white\",\"ticks\":\"\"},\"bgcolor\":\"#E5ECF6\",\"radialaxis\":{\"gridcolor\":\"white\",\"linecolor\":\"white\",\"ticks\":\"\"}},\"scene\":{\"xaxis\":{\"backgroundcolor\":\"#E5ECF6\",\"gridcolor\":\"white\",\"gridwidth\":2,\"linecolor\":\"white\",\"showbackground\":true,\"ticks\":\"\",\"zerolinecolor\":\"white\"},\"yaxis\":{\"backgroundcolor\":\"#E5ECF6\",\"gridcolor\":\"white\",\"gridwidth\":2,\"linecolor\":\"white\",\"showbackground\":true,\"ticks\":\"\",\"zerolinecolor\":\"white\"},\"zaxis\":{\"backgroundcolor\":\"#E5ECF6\",\"gridcolor\":\"white\",\"gridwidth\":2,\"linecolor\":\"white\",\"showbackground\":true,\"ticks\":\"\",\"zerolinecolor\":\"white\"}},\"shapedefaults\":{\"line\":{\"color\":\"#2a3f5f\"}},\"ternary\":{\"aaxis\":{\"gridcolor\":\"white\",\"linecolor\":\"white\",\"ticks\":\"\"},\"baxis\":{\"gridcolor\":\"white\",\"linecolor\":\"white\",\"ticks\":\"\"},\"bgcolor\":\"#E5ECF6\",\"caxis\":{\"gridcolor\":\"white\",\"linecolor\":\"white\",\"ticks\":\"\"}},\"title\":{\"x\":0.05},\"xaxis\":{\"automargin\":true,\"gridcolor\":\"white\",\"linecolor\":\"white\",\"ticks\":\"\",\"title\":{\"standoff\":15},\"zerolinecolor\":\"white\",\"zerolinewidth\":2},\"yaxis\":{\"automargin\":true,\"gridcolor\":\"white\",\"linecolor\":\"white\",\"ticks\":\"\",\"title\":{\"standoff\":15},\"zerolinecolor\":\"white\",\"zerolinewidth\":2}}},\"xaxis\":{\"title\":{\"text\":\"alpha\"},\"type\":\"log\"},\"yaxis\":{\"title\":{\"text\":\"Objective Value\"}}},                        {\"responsive\": true}                    ).then(function(){\n",
              "                            \n",
              "var gd = document.getElementById('24d1d7e0-2f52-4d85-8850-5553673f9ab1');\n",
              "var x = new MutationObserver(function (mutations, observer) {{\n",
              "        var display = window.getComputedStyle(gd).display;\n",
              "        if (!display || display === 'none') {{\n",
              "            console.log([gd, 'removed!']);\n",
              "            Plotly.purge(gd);\n",
              "            observer.disconnect();\n",
              "        }}\n",
              "}});\n",
              "\n",
              "// Listen for the removal of the full notebook cells\n",
              "var notebookContainer = gd.closest('#notebook-container');\n",
              "if (notebookContainer) {{\n",
              "    x.observe(notebookContainer, {childList: true});\n",
              "}}\n",
              "\n",
              "// Listen for the clearing of the current output cell\n",
              "var outputEl = gd.closest('.output');\n",
              "if (outputEl) {{\n",
              "    x.observe(outputEl, {childList: true});\n",
              "}}\n",
              "\n",
              "                        })                };                            </script>        </div>\n",
              "</body>\n",
              "</html>"
            ]
          },
          "metadata": {}
        }
      ]
    },
    {
      "cell_type": "code",
      "source": [
        "plot_param_importances(study)"
      ],
      "metadata": {
        "colab": {
          "base_uri": "https://localhost:8080/",
          "height": 542
        },
        "id": "S-NQJhihFaOh",
        "outputId": "1346f869-0d11-4915-95ad-f76c93d83155"
      },
      "execution_count": 53,
      "outputs": [
        {
          "output_type": "display_data",
          "data": {
            "text/html": [
              "<html>\n",
              "<head><meta charset=\"utf-8\" /></head>\n",
              "<body>\n",
              "    <div>            <script src=\"https://cdnjs.cloudflare.com/ajax/libs/mathjax/2.7.5/MathJax.js?config=TeX-AMS-MML_SVG\"></script><script type=\"text/javascript\">if (window.MathJax) {MathJax.Hub.Config({SVG: {font: \"STIX-Web\"}});}</script>                <script type=\"text/javascript\">window.PlotlyConfig = {MathJaxConfig: 'local'};</script>\n",
              "        <script src=\"https://cdn.plot.ly/plotly-2.8.3.min.js\"></script>                <div id=\"a52a2cdd-781a-4cec-92c4-52f8366fe67f\" class=\"plotly-graph-div\" style=\"height:525px; width:100%;\"></div>            <script type=\"text/javascript\">                                    window.PLOTLYENV=window.PLOTLYENV || {};                                    if (document.getElementById(\"a52a2cdd-781a-4cec-92c4-52f8366fe67f\")) {                    Plotly.newPlot(                        \"a52a2cdd-781a-4cec-92c4-52f8366fe67f\",                        [{\"cliponaxis\":false,\"hovertemplate\":[\"alpha (FloatDistribution): 1.0<extra></extra>\"],\"marker\":{\"color\":\"rgb(66,146,198)\"},\"orientation\":\"h\",\"text\":[\"1.00\"],\"textposition\":\"outside\",\"x\":[1.0],\"y\":[\"alpha\"],\"type\":\"bar\"}],                        {\"showlegend\":false,\"title\":{\"text\":\"Hyperparameter Importances\"},\"xaxis\":{\"title\":{\"text\":\"Importance for Objective Value\"}},\"yaxis\":{\"title\":{\"text\":\"Hyperparameter\"}},\"template\":{\"data\":{\"bar\":[{\"error_x\":{\"color\":\"#2a3f5f\"},\"error_y\":{\"color\":\"#2a3f5f\"},\"marker\":{\"line\":{\"color\":\"#E5ECF6\",\"width\":0.5},\"pattern\":{\"fillmode\":\"overlay\",\"size\":10,\"solidity\":0.2}},\"type\":\"bar\"}],\"barpolar\":[{\"marker\":{\"line\":{\"color\":\"#E5ECF6\",\"width\":0.5},\"pattern\":{\"fillmode\":\"overlay\",\"size\":10,\"solidity\":0.2}},\"type\":\"barpolar\"}],\"carpet\":[{\"aaxis\":{\"endlinecolor\":\"#2a3f5f\",\"gridcolor\":\"white\",\"linecolor\":\"white\",\"minorgridcolor\":\"white\",\"startlinecolor\":\"#2a3f5f\"},\"baxis\":{\"endlinecolor\":\"#2a3f5f\",\"gridcolor\":\"white\",\"linecolor\":\"white\",\"minorgridcolor\":\"white\",\"startlinecolor\":\"#2a3f5f\"},\"type\":\"carpet\"}],\"choropleth\":[{\"colorbar\":{\"outlinewidth\":0,\"ticks\":\"\"},\"type\":\"choropleth\"}],\"contour\":[{\"colorbar\":{\"outlinewidth\":0,\"ticks\":\"\"},\"colorscale\":[[0.0,\"#0d0887\"],[0.1111111111111111,\"#46039f\"],[0.2222222222222222,\"#7201a8\"],[0.3333333333333333,\"#9c179e\"],[0.4444444444444444,\"#bd3786\"],[0.5555555555555556,\"#d8576b\"],[0.6666666666666666,\"#ed7953\"],[0.7777777777777778,\"#fb9f3a\"],[0.8888888888888888,\"#fdca26\"],[1.0,\"#f0f921\"]],\"type\":\"contour\"}],\"contourcarpet\":[{\"colorbar\":{\"outlinewidth\":0,\"ticks\":\"\"},\"type\":\"contourcarpet\"}],\"heatmap\":[{\"colorbar\":{\"outlinewidth\":0,\"ticks\":\"\"},\"colorscale\":[[0.0,\"#0d0887\"],[0.1111111111111111,\"#46039f\"],[0.2222222222222222,\"#7201a8\"],[0.3333333333333333,\"#9c179e\"],[0.4444444444444444,\"#bd3786\"],[0.5555555555555556,\"#d8576b\"],[0.6666666666666666,\"#ed7953\"],[0.7777777777777778,\"#fb9f3a\"],[0.8888888888888888,\"#fdca26\"],[1.0,\"#f0f921\"]],\"type\":\"heatmap\"}],\"heatmapgl\":[{\"colorbar\":{\"outlinewidth\":0,\"ticks\":\"\"},\"colorscale\":[[0.0,\"#0d0887\"],[0.1111111111111111,\"#46039f\"],[0.2222222222222222,\"#7201a8\"],[0.3333333333333333,\"#9c179e\"],[0.4444444444444444,\"#bd3786\"],[0.5555555555555556,\"#d8576b\"],[0.6666666666666666,\"#ed7953\"],[0.7777777777777778,\"#fb9f3a\"],[0.8888888888888888,\"#fdca26\"],[1.0,\"#f0f921\"]],\"type\":\"heatmapgl\"}],\"histogram\":[{\"marker\":{\"pattern\":{\"fillmode\":\"overlay\",\"size\":10,\"solidity\":0.2}},\"type\":\"histogram\"}],\"histogram2d\":[{\"colorbar\":{\"outlinewidth\":0,\"ticks\":\"\"},\"colorscale\":[[0.0,\"#0d0887\"],[0.1111111111111111,\"#46039f\"],[0.2222222222222222,\"#7201a8\"],[0.3333333333333333,\"#9c179e\"],[0.4444444444444444,\"#bd3786\"],[0.5555555555555556,\"#d8576b\"],[0.6666666666666666,\"#ed7953\"],[0.7777777777777778,\"#fb9f3a\"],[0.8888888888888888,\"#fdca26\"],[1.0,\"#f0f921\"]],\"type\":\"histogram2d\"}],\"histogram2dcontour\":[{\"colorbar\":{\"outlinewidth\":0,\"ticks\":\"\"},\"colorscale\":[[0.0,\"#0d0887\"],[0.1111111111111111,\"#46039f\"],[0.2222222222222222,\"#7201a8\"],[0.3333333333333333,\"#9c179e\"],[0.4444444444444444,\"#bd3786\"],[0.5555555555555556,\"#d8576b\"],[0.6666666666666666,\"#ed7953\"],[0.7777777777777778,\"#fb9f3a\"],[0.8888888888888888,\"#fdca26\"],[1.0,\"#f0f921\"]],\"type\":\"histogram2dcontour\"}],\"mesh3d\":[{\"colorbar\":{\"outlinewidth\":0,\"ticks\":\"\"},\"type\":\"mesh3d\"}],\"parcoords\":[{\"line\":{\"colorbar\":{\"outlinewidth\":0,\"ticks\":\"\"}},\"type\":\"parcoords\"}],\"pie\":[{\"automargin\":true,\"type\":\"pie\"}],\"scatter\":[{\"marker\":{\"colorbar\":{\"outlinewidth\":0,\"ticks\":\"\"}},\"type\":\"scatter\"}],\"scatter3d\":[{\"line\":{\"colorbar\":{\"outlinewidth\":0,\"ticks\":\"\"}},\"marker\":{\"colorbar\":{\"outlinewidth\":0,\"ticks\":\"\"}},\"type\":\"scatter3d\"}],\"scattercarpet\":[{\"marker\":{\"colorbar\":{\"outlinewidth\":0,\"ticks\":\"\"}},\"type\":\"scattercarpet\"}],\"scattergeo\":[{\"marker\":{\"colorbar\":{\"outlinewidth\":0,\"ticks\":\"\"}},\"type\":\"scattergeo\"}],\"scattergl\":[{\"marker\":{\"colorbar\":{\"outlinewidth\":0,\"ticks\":\"\"}},\"type\":\"scattergl\"}],\"scattermapbox\":[{\"marker\":{\"colorbar\":{\"outlinewidth\":0,\"ticks\":\"\"}},\"type\":\"scattermapbox\"}],\"scatterpolar\":[{\"marker\":{\"colorbar\":{\"outlinewidth\":0,\"ticks\":\"\"}},\"type\":\"scatterpolar\"}],\"scatterpolargl\":[{\"marker\":{\"colorbar\":{\"outlinewidth\":0,\"ticks\":\"\"}},\"type\":\"scatterpolargl\"}],\"scatterternary\":[{\"marker\":{\"colorbar\":{\"outlinewidth\":0,\"ticks\":\"\"}},\"type\":\"scatterternary\"}],\"surface\":[{\"colorbar\":{\"outlinewidth\":0,\"ticks\":\"\"},\"colorscale\":[[0.0,\"#0d0887\"],[0.1111111111111111,\"#46039f\"],[0.2222222222222222,\"#7201a8\"],[0.3333333333333333,\"#9c179e\"],[0.4444444444444444,\"#bd3786\"],[0.5555555555555556,\"#d8576b\"],[0.6666666666666666,\"#ed7953\"],[0.7777777777777778,\"#fb9f3a\"],[0.8888888888888888,\"#fdca26\"],[1.0,\"#f0f921\"]],\"type\":\"surface\"}],\"table\":[{\"cells\":{\"fill\":{\"color\":\"#EBF0F8\"},\"line\":{\"color\":\"white\"}},\"header\":{\"fill\":{\"color\":\"#C8D4E3\"},\"line\":{\"color\":\"white\"}},\"type\":\"table\"}]},\"layout\":{\"annotationdefaults\":{\"arrowcolor\":\"#2a3f5f\",\"arrowhead\":0,\"arrowwidth\":1},\"autotypenumbers\":\"strict\",\"coloraxis\":{\"colorbar\":{\"outlinewidth\":0,\"ticks\":\"\"}},\"colorscale\":{\"diverging\":[[0,\"#8e0152\"],[0.1,\"#c51b7d\"],[0.2,\"#de77ae\"],[0.3,\"#f1b6da\"],[0.4,\"#fde0ef\"],[0.5,\"#f7f7f7\"],[0.6,\"#e6f5d0\"],[0.7,\"#b8e186\"],[0.8,\"#7fbc41\"],[0.9,\"#4d9221\"],[1,\"#276419\"]],\"sequential\":[[0.0,\"#0d0887\"],[0.1111111111111111,\"#46039f\"],[0.2222222222222222,\"#7201a8\"],[0.3333333333333333,\"#9c179e\"],[0.4444444444444444,\"#bd3786\"],[0.5555555555555556,\"#d8576b\"],[0.6666666666666666,\"#ed7953\"],[0.7777777777777778,\"#fb9f3a\"],[0.8888888888888888,\"#fdca26\"],[1.0,\"#f0f921\"]],\"sequentialminus\":[[0.0,\"#0d0887\"],[0.1111111111111111,\"#46039f\"],[0.2222222222222222,\"#7201a8\"],[0.3333333333333333,\"#9c179e\"],[0.4444444444444444,\"#bd3786\"],[0.5555555555555556,\"#d8576b\"],[0.6666666666666666,\"#ed7953\"],[0.7777777777777778,\"#fb9f3a\"],[0.8888888888888888,\"#fdca26\"],[1.0,\"#f0f921\"]]},\"colorway\":[\"#636efa\",\"#EF553B\",\"#00cc96\",\"#ab63fa\",\"#FFA15A\",\"#19d3f3\",\"#FF6692\",\"#B6E880\",\"#FF97FF\",\"#FECB52\"],\"font\":{\"color\":\"#2a3f5f\"},\"geo\":{\"bgcolor\":\"white\",\"lakecolor\":\"white\",\"landcolor\":\"#E5ECF6\",\"showlakes\":true,\"showland\":true,\"subunitcolor\":\"white\"},\"hoverlabel\":{\"align\":\"left\"},\"hovermode\":\"closest\",\"mapbox\":{\"style\":\"light\"},\"paper_bgcolor\":\"white\",\"plot_bgcolor\":\"#E5ECF6\",\"polar\":{\"angularaxis\":{\"gridcolor\":\"white\",\"linecolor\":\"white\",\"ticks\":\"\"},\"bgcolor\":\"#E5ECF6\",\"radialaxis\":{\"gridcolor\":\"white\",\"linecolor\":\"white\",\"ticks\":\"\"}},\"scene\":{\"xaxis\":{\"backgroundcolor\":\"#E5ECF6\",\"gridcolor\":\"white\",\"gridwidth\":2,\"linecolor\":\"white\",\"showbackground\":true,\"ticks\":\"\",\"zerolinecolor\":\"white\"},\"yaxis\":{\"backgroundcolor\":\"#E5ECF6\",\"gridcolor\":\"white\",\"gridwidth\":2,\"linecolor\":\"white\",\"showbackground\":true,\"ticks\":\"\",\"zerolinecolor\":\"white\"},\"zaxis\":{\"backgroundcolor\":\"#E5ECF6\",\"gridcolor\":\"white\",\"gridwidth\":2,\"linecolor\":\"white\",\"showbackground\":true,\"ticks\":\"\",\"zerolinecolor\":\"white\"}},\"shapedefaults\":{\"line\":{\"color\":\"#2a3f5f\"}},\"ternary\":{\"aaxis\":{\"gridcolor\":\"white\",\"linecolor\":\"white\",\"ticks\":\"\"},\"baxis\":{\"gridcolor\":\"white\",\"linecolor\":\"white\",\"ticks\":\"\"},\"bgcolor\":\"#E5ECF6\",\"caxis\":{\"gridcolor\":\"white\",\"linecolor\":\"white\",\"ticks\":\"\"}},\"title\":{\"x\":0.05},\"xaxis\":{\"automargin\":true,\"gridcolor\":\"white\",\"linecolor\":\"white\",\"ticks\":\"\",\"title\":{\"standoff\":15},\"zerolinecolor\":\"white\",\"zerolinewidth\":2},\"yaxis\":{\"automargin\":true,\"gridcolor\":\"white\",\"linecolor\":\"white\",\"ticks\":\"\",\"title\":{\"standoff\":15},\"zerolinecolor\":\"white\",\"zerolinewidth\":2}}}},                        {\"responsive\": true}                    ).then(function(){\n",
              "                            \n",
              "var gd = document.getElementById('a52a2cdd-781a-4cec-92c4-52f8366fe67f');\n",
              "var x = new MutationObserver(function (mutations, observer) {{\n",
              "        var display = window.getComputedStyle(gd).display;\n",
              "        if (!display || display === 'none') {{\n",
              "            console.log([gd, 'removed!']);\n",
              "            Plotly.purge(gd);\n",
              "            observer.disconnect();\n",
              "        }}\n",
              "}});\n",
              "\n",
              "// Listen for the removal of the full notebook cells\n",
              "var notebookContainer = gd.closest('#notebook-container');\n",
              "if (notebookContainer) {{\n",
              "    x.observe(notebookContainer, {childList: true});\n",
              "}}\n",
              "\n",
              "// Listen for the clearing of the current output cell\n",
              "var outputEl = gd.closest('.output');\n",
              "if (outputEl) {{\n",
              "    x.observe(outputEl, {childList: true});\n",
              "}}\n",
              "\n",
              "                        })                };                            </script>        </div>\n",
              "</body>\n",
              "</html>"
            ]
          },
          "metadata": {}
        }
      ]
    },
    {
      "cell_type": "code",
      "source": [
        "plot_edf(study)"
      ],
      "metadata": {
        "colab": {
          "base_uri": "https://localhost:8080/",
          "height": 542
        },
        "id": "sg3RjvFSFbt_",
        "outputId": "48c04e92-2cf6-480f-f5f3-2bcd8a2a19ca"
      },
      "execution_count": 54,
      "outputs": [
        {
          "output_type": "display_data",
          "data": {
            "text/html": [
              "<html>\n",
              "<head><meta charset=\"utf-8\" /></head>\n",
              "<body>\n",
              "    <div>            <script src=\"https://cdnjs.cloudflare.com/ajax/libs/mathjax/2.7.5/MathJax.js?config=TeX-AMS-MML_SVG\"></script><script type=\"text/javascript\">if (window.MathJax) {MathJax.Hub.Config({SVG: {font: \"STIX-Web\"}});}</script>                <script type=\"text/javascript\">window.PlotlyConfig = {MathJaxConfig: 'local'};</script>\n",
              "        <script src=\"https://cdn.plot.ly/plotly-2.8.3.min.js\"></script>                <div id=\"b0f38436-ad6e-4e9a-a52f-7db0ef041800\" class=\"plotly-graph-div\" style=\"height:525px; width:100%;\"></div>            <script type=\"text/javascript\">                                    window.PLOTLYENV=window.PLOTLYENV || {};                                    if (document.getElementById(\"b0f38436-ad6e-4e9a-a52f-7db0ef041800\")) {                    Plotly.newPlot(                        \"b0f38436-ad6e-4e9a-a52f-7db0ef041800\",                        [{\"mode\":\"lines\",\"name\":\"no-name-aab02432-2c0f-474a-9f60-ac7913171122\",\"x\":[0.9819819819819819,0.9821639821639822,0.9823459823459824,0.9825279825279825,0.9827099827099827,0.9828919828919829,0.9830739830739831,0.9832559832559832,0.9834379834379834,0.9836199836199836,0.9838019838019838,0.9839839839839839,0.9841659841659841,0.9843479843479843,0.9845299845299845,0.9847119847119847,0.9848939848939848,0.985075985075985,0.9852579852579852,0.9854399854399855,0.9856219856219856,0.9858039858039858,0.985985985985986,0.9861679861679862,0.9863499863499863,0.9865319865319865,0.9867139867139867,0.9868959868959869,0.987077987077987,0.9872599872599872,0.9874419874419874,0.9876239876239876,0.9878059878059878,0.9879879879879879,0.9881699881699881,0.9883519883519883,0.9885339885339886,0.9887159887159886,0.9888979888979889,0.9890799890799891,0.9892619892619893,0.9894439894439894,0.9896259896259896,0.9898079898079898,0.98998998998999,0.9901719901719902,0.9903539903539903,0.9905359905359905,0.9907179907179907,0.9908999908999909,0.991081991081991,0.9912639912639912,0.9914459914459914,0.9916279916279916,0.9918099918099917,0.991991991991992,0.9921739921739922,0.9923559923559924,0.9925379925379926,0.9927199927199927,0.9929019929019929,0.9930839930839931,0.9932659932659933,0.9934479934479934,0.9936299936299936,0.9938119938119938,0.993993993993994,0.9941759941759941,0.9943579943579943,0.9945399945399945,0.9947219947219947,0.9949039949039948,0.995085995085995,0.9952679952679953,0.9954499954499955,0.9956319956319957,0.9958139958139958,0.995995995995996,0.9961779961779962,0.9963599963599964,0.9965419965419965,0.9967239967239967,0.9969059969059969,0.9970879970879971,0.9972699972699972,0.9974519974519974,0.9976339976339976,0.9978159978159978,0.997997997997998,0.9981799981799981,0.9983619983619983,0.9985439985439986,0.9987259987259988,0.9989079989079989,0.9990899990899991,0.9992719992719993,0.9994539994539995,0.9996359996359996,0.9998179998179998,1.0],\"y\":[0.06666666666666667,0.06666666666666667,0.06666666666666667,0.06666666666666667,0.06666666666666667,0.06666666666666667,0.06666666666666667,0.06666666666666667,0.06666666666666667,0.06666666666666667,0.06666666666666667,0.06666666666666667,0.06666666666666667,0.06666666666666667,0.06666666666666667,0.06666666666666667,0.06666666666666667,0.06666666666666667,0.06666666666666667,0.06666666666666667,0.06666666666666667,0.06666666666666667,0.06666666666666667,0.06666666666666667,0.06666666666666667,0.06666666666666667,0.06666666666666667,0.06666666666666667,0.06666666666666667,0.06666666666666667,0.06666666666666667,0.06666666666666667,0.06666666666666667,0.06666666666666667,0.06666666666666667,0.06666666666666667,0.06666666666666667,0.06666666666666667,0.06666666666666667,0.06666666666666667,0.06666666666666667,0.06666666666666667,0.06666666666666667,0.06666666666666667,0.06666666666666667,0.06666666666666667,0.06666666666666667,0.06666666666666667,0.06666666666666667,0.06666666666666667,0.3333333333333333,0.3333333333333333,0.3333333333333333,0.3333333333333333,0.3333333333333333,0.3333333333333333,0.3333333333333333,0.3333333333333333,0.3333333333333333,0.3333333333333333,0.3333333333333333,0.3333333333333333,0.3333333333333333,0.3333333333333333,0.3333333333333333,0.3333333333333333,0.3333333333333333,0.3333333333333333,0.3333333333333333,0.3333333333333333,0.3333333333333333,0.3333333333333333,0.3333333333333333,0.3333333333333333,0.3333333333333333,0.3333333333333333,0.3333333333333333,0.3333333333333333,0.3333333333333333,0.3333333333333333,0.3333333333333333,0.3333333333333333,0.3333333333333333,0.3333333333333333,0.3333333333333333,0.3333333333333333,0.3333333333333333,0.3333333333333333,0.3333333333333333,0.3333333333333333,0.3333333333333333,0.3333333333333333,0.3333333333333333,0.3333333333333333,0.3333333333333333,0.3333333333333333,0.3333333333333333,0.3333333333333333,0.3333333333333333,1.0],\"type\":\"scatter\"}],                        {\"title\":{\"text\":\"Empirical Distribution Function Plot\"},\"xaxis\":{\"title\":{\"text\":\"Objective Value\"}},\"yaxis\":{\"title\":{\"text\":\"Cumulative Probability\"},\"range\":[0,1]},\"template\":{\"data\":{\"bar\":[{\"error_x\":{\"color\":\"#2a3f5f\"},\"error_y\":{\"color\":\"#2a3f5f\"},\"marker\":{\"line\":{\"color\":\"#E5ECF6\",\"width\":0.5},\"pattern\":{\"fillmode\":\"overlay\",\"size\":10,\"solidity\":0.2}},\"type\":\"bar\"}],\"barpolar\":[{\"marker\":{\"line\":{\"color\":\"#E5ECF6\",\"width\":0.5},\"pattern\":{\"fillmode\":\"overlay\",\"size\":10,\"solidity\":0.2}},\"type\":\"barpolar\"}],\"carpet\":[{\"aaxis\":{\"endlinecolor\":\"#2a3f5f\",\"gridcolor\":\"white\",\"linecolor\":\"white\",\"minorgridcolor\":\"white\",\"startlinecolor\":\"#2a3f5f\"},\"baxis\":{\"endlinecolor\":\"#2a3f5f\",\"gridcolor\":\"white\",\"linecolor\":\"white\",\"minorgridcolor\":\"white\",\"startlinecolor\":\"#2a3f5f\"},\"type\":\"carpet\"}],\"choropleth\":[{\"colorbar\":{\"outlinewidth\":0,\"ticks\":\"\"},\"type\":\"choropleth\"}],\"contour\":[{\"colorbar\":{\"outlinewidth\":0,\"ticks\":\"\"},\"colorscale\":[[0.0,\"#0d0887\"],[0.1111111111111111,\"#46039f\"],[0.2222222222222222,\"#7201a8\"],[0.3333333333333333,\"#9c179e\"],[0.4444444444444444,\"#bd3786\"],[0.5555555555555556,\"#d8576b\"],[0.6666666666666666,\"#ed7953\"],[0.7777777777777778,\"#fb9f3a\"],[0.8888888888888888,\"#fdca26\"],[1.0,\"#f0f921\"]],\"type\":\"contour\"}],\"contourcarpet\":[{\"colorbar\":{\"outlinewidth\":0,\"ticks\":\"\"},\"type\":\"contourcarpet\"}],\"heatmap\":[{\"colorbar\":{\"outlinewidth\":0,\"ticks\":\"\"},\"colorscale\":[[0.0,\"#0d0887\"],[0.1111111111111111,\"#46039f\"],[0.2222222222222222,\"#7201a8\"],[0.3333333333333333,\"#9c179e\"],[0.4444444444444444,\"#bd3786\"],[0.5555555555555556,\"#d8576b\"],[0.6666666666666666,\"#ed7953\"],[0.7777777777777778,\"#fb9f3a\"],[0.8888888888888888,\"#fdca26\"],[1.0,\"#f0f921\"]],\"type\":\"heatmap\"}],\"heatmapgl\":[{\"colorbar\":{\"outlinewidth\":0,\"ticks\":\"\"},\"colorscale\":[[0.0,\"#0d0887\"],[0.1111111111111111,\"#46039f\"],[0.2222222222222222,\"#7201a8\"],[0.3333333333333333,\"#9c179e\"],[0.4444444444444444,\"#bd3786\"],[0.5555555555555556,\"#d8576b\"],[0.6666666666666666,\"#ed7953\"],[0.7777777777777778,\"#fb9f3a\"],[0.8888888888888888,\"#fdca26\"],[1.0,\"#f0f921\"]],\"type\":\"heatmapgl\"}],\"histogram\":[{\"marker\":{\"pattern\":{\"fillmode\":\"overlay\",\"size\":10,\"solidity\":0.2}},\"type\":\"histogram\"}],\"histogram2d\":[{\"colorbar\":{\"outlinewidth\":0,\"ticks\":\"\"},\"colorscale\":[[0.0,\"#0d0887\"],[0.1111111111111111,\"#46039f\"],[0.2222222222222222,\"#7201a8\"],[0.3333333333333333,\"#9c179e\"],[0.4444444444444444,\"#bd3786\"],[0.5555555555555556,\"#d8576b\"],[0.6666666666666666,\"#ed7953\"],[0.7777777777777778,\"#fb9f3a\"],[0.8888888888888888,\"#fdca26\"],[1.0,\"#f0f921\"]],\"type\":\"histogram2d\"}],\"histogram2dcontour\":[{\"colorbar\":{\"outlinewidth\":0,\"ticks\":\"\"},\"colorscale\":[[0.0,\"#0d0887\"],[0.1111111111111111,\"#46039f\"],[0.2222222222222222,\"#7201a8\"],[0.3333333333333333,\"#9c179e\"],[0.4444444444444444,\"#bd3786\"],[0.5555555555555556,\"#d8576b\"],[0.6666666666666666,\"#ed7953\"],[0.7777777777777778,\"#fb9f3a\"],[0.8888888888888888,\"#fdca26\"],[1.0,\"#f0f921\"]],\"type\":\"histogram2dcontour\"}],\"mesh3d\":[{\"colorbar\":{\"outlinewidth\":0,\"ticks\":\"\"},\"type\":\"mesh3d\"}],\"parcoords\":[{\"line\":{\"colorbar\":{\"outlinewidth\":0,\"ticks\":\"\"}},\"type\":\"parcoords\"}],\"pie\":[{\"automargin\":true,\"type\":\"pie\"}],\"scatter\":[{\"marker\":{\"colorbar\":{\"outlinewidth\":0,\"ticks\":\"\"}},\"type\":\"scatter\"}],\"scatter3d\":[{\"line\":{\"colorbar\":{\"outlinewidth\":0,\"ticks\":\"\"}},\"marker\":{\"colorbar\":{\"outlinewidth\":0,\"ticks\":\"\"}},\"type\":\"scatter3d\"}],\"scattercarpet\":[{\"marker\":{\"colorbar\":{\"outlinewidth\":0,\"ticks\":\"\"}},\"type\":\"scattercarpet\"}],\"scattergeo\":[{\"marker\":{\"colorbar\":{\"outlinewidth\":0,\"ticks\":\"\"}},\"type\":\"scattergeo\"}],\"scattergl\":[{\"marker\":{\"colorbar\":{\"outlinewidth\":0,\"ticks\":\"\"}},\"type\":\"scattergl\"}],\"scattermapbox\":[{\"marker\":{\"colorbar\":{\"outlinewidth\":0,\"ticks\":\"\"}},\"type\":\"scattermapbox\"}],\"scatterpolar\":[{\"marker\":{\"colorbar\":{\"outlinewidth\":0,\"ticks\":\"\"}},\"type\":\"scatterpolar\"}],\"scatterpolargl\":[{\"marker\":{\"colorbar\":{\"outlinewidth\":0,\"ticks\":\"\"}},\"type\":\"scatterpolargl\"}],\"scatterternary\":[{\"marker\":{\"colorbar\":{\"outlinewidth\":0,\"ticks\":\"\"}},\"type\":\"scatterternary\"}],\"surface\":[{\"colorbar\":{\"outlinewidth\":0,\"ticks\":\"\"},\"colorscale\":[[0.0,\"#0d0887\"],[0.1111111111111111,\"#46039f\"],[0.2222222222222222,\"#7201a8\"],[0.3333333333333333,\"#9c179e\"],[0.4444444444444444,\"#bd3786\"],[0.5555555555555556,\"#d8576b\"],[0.6666666666666666,\"#ed7953\"],[0.7777777777777778,\"#fb9f3a\"],[0.8888888888888888,\"#fdca26\"],[1.0,\"#f0f921\"]],\"type\":\"surface\"}],\"table\":[{\"cells\":{\"fill\":{\"color\":\"#EBF0F8\"},\"line\":{\"color\":\"white\"}},\"header\":{\"fill\":{\"color\":\"#C8D4E3\"},\"line\":{\"color\":\"white\"}},\"type\":\"table\"}]},\"layout\":{\"annotationdefaults\":{\"arrowcolor\":\"#2a3f5f\",\"arrowhead\":0,\"arrowwidth\":1},\"autotypenumbers\":\"strict\",\"coloraxis\":{\"colorbar\":{\"outlinewidth\":0,\"ticks\":\"\"}},\"colorscale\":{\"diverging\":[[0,\"#8e0152\"],[0.1,\"#c51b7d\"],[0.2,\"#de77ae\"],[0.3,\"#f1b6da\"],[0.4,\"#fde0ef\"],[0.5,\"#f7f7f7\"],[0.6,\"#e6f5d0\"],[0.7,\"#b8e186\"],[0.8,\"#7fbc41\"],[0.9,\"#4d9221\"],[1,\"#276419\"]],\"sequential\":[[0.0,\"#0d0887\"],[0.1111111111111111,\"#46039f\"],[0.2222222222222222,\"#7201a8\"],[0.3333333333333333,\"#9c179e\"],[0.4444444444444444,\"#bd3786\"],[0.5555555555555556,\"#d8576b\"],[0.6666666666666666,\"#ed7953\"],[0.7777777777777778,\"#fb9f3a\"],[0.8888888888888888,\"#fdca26\"],[1.0,\"#f0f921\"]],\"sequentialminus\":[[0.0,\"#0d0887\"],[0.1111111111111111,\"#46039f\"],[0.2222222222222222,\"#7201a8\"],[0.3333333333333333,\"#9c179e\"],[0.4444444444444444,\"#bd3786\"],[0.5555555555555556,\"#d8576b\"],[0.6666666666666666,\"#ed7953\"],[0.7777777777777778,\"#fb9f3a\"],[0.8888888888888888,\"#fdca26\"],[1.0,\"#f0f921\"]]},\"colorway\":[\"#636efa\",\"#EF553B\",\"#00cc96\",\"#ab63fa\",\"#FFA15A\",\"#19d3f3\",\"#FF6692\",\"#B6E880\",\"#FF97FF\",\"#FECB52\"],\"font\":{\"color\":\"#2a3f5f\"},\"geo\":{\"bgcolor\":\"white\",\"lakecolor\":\"white\",\"landcolor\":\"#E5ECF6\",\"showlakes\":true,\"showland\":true,\"subunitcolor\":\"white\"},\"hoverlabel\":{\"align\":\"left\"},\"hovermode\":\"closest\",\"mapbox\":{\"style\":\"light\"},\"paper_bgcolor\":\"white\",\"plot_bgcolor\":\"#E5ECF6\",\"polar\":{\"angularaxis\":{\"gridcolor\":\"white\",\"linecolor\":\"white\",\"ticks\":\"\"},\"bgcolor\":\"#E5ECF6\",\"radialaxis\":{\"gridcolor\":\"white\",\"linecolor\":\"white\",\"ticks\":\"\"}},\"scene\":{\"xaxis\":{\"backgroundcolor\":\"#E5ECF6\",\"gridcolor\":\"white\",\"gridwidth\":2,\"linecolor\":\"white\",\"showbackground\":true,\"ticks\":\"\",\"zerolinecolor\":\"white\"},\"yaxis\":{\"backgroundcolor\":\"#E5ECF6\",\"gridcolor\":\"white\",\"gridwidth\":2,\"linecolor\":\"white\",\"showbackground\":true,\"ticks\":\"\",\"zerolinecolor\":\"white\"},\"zaxis\":{\"backgroundcolor\":\"#E5ECF6\",\"gridcolor\":\"white\",\"gridwidth\":2,\"linecolor\":\"white\",\"showbackground\":true,\"ticks\":\"\",\"zerolinecolor\":\"white\"}},\"shapedefaults\":{\"line\":{\"color\":\"#2a3f5f\"}},\"ternary\":{\"aaxis\":{\"gridcolor\":\"white\",\"linecolor\":\"white\",\"ticks\":\"\"},\"baxis\":{\"gridcolor\":\"white\",\"linecolor\":\"white\",\"ticks\":\"\"},\"bgcolor\":\"#E5ECF6\",\"caxis\":{\"gridcolor\":\"white\",\"linecolor\":\"white\",\"ticks\":\"\"}},\"title\":{\"x\":0.05},\"xaxis\":{\"automargin\":true,\"gridcolor\":\"white\",\"linecolor\":\"white\",\"ticks\":\"\",\"title\":{\"standoff\":15},\"zerolinecolor\":\"white\",\"zerolinewidth\":2},\"yaxis\":{\"automargin\":true,\"gridcolor\":\"white\",\"linecolor\":\"white\",\"ticks\":\"\",\"title\":{\"standoff\":15},\"zerolinecolor\":\"white\",\"zerolinewidth\":2}}}},                        {\"responsive\": true}                    ).then(function(){\n",
              "                            \n",
              "var gd = document.getElementById('b0f38436-ad6e-4e9a-a52f-7db0ef041800');\n",
              "var x = new MutationObserver(function (mutations, observer) {{\n",
              "        var display = window.getComputedStyle(gd).display;\n",
              "        if (!display || display === 'none') {{\n",
              "            console.log([gd, 'removed!']);\n",
              "            Plotly.purge(gd);\n",
              "            observer.disconnect();\n",
              "        }}\n",
              "}});\n",
              "\n",
              "// Listen for the removal of the full notebook cells\n",
              "var notebookContainer = gd.closest('#notebook-container');\n",
              "if (notebookContainer) {{\n",
              "    x.observe(notebookContainer, {childList: true});\n",
              "}}\n",
              "\n",
              "// Listen for the clearing of the current output cell\n",
              "var outputEl = gd.closest('.output');\n",
              "if (outputEl) {{\n",
              "    x.observe(outputEl, {childList: true});\n",
              "}}\n",
              "\n",
              "                        })                };                            </script>        </div>\n",
              "</body>\n",
              "</html>"
            ]
          },
          "metadata": {}
        }
      ]
    }
  ]
}